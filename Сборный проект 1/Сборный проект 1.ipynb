{
 "cells": [
  {
   "cell_type": "markdown",
   "id": "918ceeac",
   "metadata": {},
   "source": [
    "# Сборный проект №1"
   ]
  },
  {
   "cell_type": "markdown",
   "id": "e9221011",
   "metadata": {},
   "source": [
    "Задача:\n",
    "- необходимо проанализировать данные по проданным компьютерным играм по всему миру\n",
    "- выявить критерии и закономерности, определяющие успешность игры "
   ]
  },
  {
   "cell_type": "code",
   "execution_count": 1,
   "id": "29fa54d7",
   "metadata": {},
   "outputs": [],
   "source": [
    "# импортируем библиотеки, которые будут использованы в дальнейшем анализе\n",
    "import pandas as pd\n",
    "import numpy as np\n",
    "import matplotlib.pyplot as plt\n",
    "import seaborn as sns\n",
    "from scipy import stats as st"
   ]
  },
  {
   "cell_type": "markdown",
   "id": "991a5f54",
   "metadata": {},
   "source": [
    "##  1. Откроем файл с данными и изучим общую информацию"
   ]
  },
  {
   "cell_type": "code",
   "execution_count": 2,
   "id": "ab562559",
   "metadata": {
    "scrolled": true
   },
   "outputs": [
    {
     "data": {
      "text/html": [
       "<div>\n",
       "<style scoped>\n",
       "    .dataframe tbody tr th:only-of-type {\n",
       "        vertical-align: middle;\n",
       "    }\n",
       "\n",
       "    .dataframe tbody tr th {\n",
       "        vertical-align: top;\n",
       "    }\n",
       "\n",
       "    .dataframe thead th {\n",
       "        text-align: right;\n",
       "    }\n",
       "</style>\n",
       "<table border=\"1\" class=\"dataframe\">\n",
       "  <thead>\n",
       "    <tr style=\"text-align: right;\">\n",
       "      <th></th>\n",
       "      <th>Name</th>\n",
       "      <th>Platform</th>\n",
       "      <th>Year_of_Release</th>\n",
       "      <th>Genre</th>\n",
       "      <th>NA_sales</th>\n",
       "      <th>EU_sales</th>\n",
       "      <th>JP_sales</th>\n",
       "      <th>Other_sales</th>\n",
       "      <th>Critic_Score</th>\n",
       "      <th>User_Score</th>\n",
       "      <th>Rating</th>\n",
       "    </tr>\n",
       "  </thead>\n",
       "  <tbody>\n",
       "    <tr>\n",
       "      <th>0</th>\n",
       "      <td>Wii Sports</td>\n",
       "      <td>Wii</td>\n",
       "      <td>2006.0</td>\n",
       "      <td>Sports</td>\n",
       "      <td>41.36</td>\n",
       "      <td>28.96</td>\n",
       "      <td>3.77</td>\n",
       "      <td>8.45</td>\n",
       "      <td>76.0</td>\n",
       "      <td>8</td>\n",
       "      <td>E</td>\n",
       "    </tr>\n",
       "    <tr>\n",
       "      <th>1</th>\n",
       "      <td>Super Mario Bros.</td>\n",
       "      <td>NES</td>\n",
       "      <td>1985.0</td>\n",
       "      <td>Platform</td>\n",
       "      <td>29.08</td>\n",
       "      <td>3.58</td>\n",
       "      <td>6.81</td>\n",
       "      <td>0.77</td>\n",
       "      <td>NaN</td>\n",
       "      <td>NaN</td>\n",
       "      <td>NaN</td>\n",
       "    </tr>\n",
       "    <tr>\n",
       "      <th>2</th>\n",
       "      <td>Mario Kart Wii</td>\n",
       "      <td>Wii</td>\n",
       "      <td>2008.0</td>\n",
       "      <td>Racing</td>\n",
       "      <td>15.68</td>\n",
       "      <td>12.76</td>\n",
       "      <td>3.79</td>\n",
       "      <td>3.29</td>\n",
       "      <td>82.0</td>\n",
       "      <td>8.3</td>\n",
       "      <td>E</td>\n",
       "    </tr>\n",
       "    <tr>\n",
       "      <th>3</th>\n",
       "      <td>Wii Sports Resort</td>\n",
       "      <td>Wii</td>\n",
       "      <td>2009.0</td>\n",
       "      <td>Sports</td>\n",
       "      <td>15.61</td>\n",
       "      <td>10.93</td>\n",
       "      <td>3.28</td>\n",
       "      <td>2.95</td>\n",
       "      <td>80.0</td>\n",
       "      <td>8</td>\n",
       "      <td>E</td>\n",
       "    </tr>\n",
       "    <tr>\n",
       "      <th>4</th>\n",
       "      <td>Pokemon Red/Pokemon Blue</td>\n",
       "      <td>GB</td>\n",
       "      <td>1996.0</td>\n",
       "      <td>Role-Playing</td>\n",
       "      <td>11.27</td>\n",
       "      <td>8.89</td>\n",
       "      <td>10.22</td>\n",
       "      <td>1.00</td>\n",
       "      <td>NaN</td>\n",
       "      <td>NaN</td>\n",
       "      <td>NaN</td>\n",
       "    </tr>\n",
       "  </tbody>\n",
       "</table>\n",
       "</div>"
      ],
      "text/plain": [
       "                       Name Platform  Year_of_Release         Genre  NA_sales  \\\n",
       "0                Wii Sports      Wii           2006.0        Sports     41.36   \n",
       "1         Super Mario Bros.      NES           1985.0      Platform     29.08   \n",
       "2            Mario Kart Wii      Wii           2008.0        Racing     15.68   \n",
       "3         Wii Sports Resort      Wii           2009.0        Sports     15.61   \n",
       "4  Pokemon Red/Pokemon Blue       GB           1996.0  Role-Playing     11.27   \n",
       "\n",
       "   EU_sales  JP_sales  Other_sales  Critic_Score User_Score Rating  \n",
       "0     28.96      3.77         8.45          76.0          8      E  \n",
       "1      3.58      6.81         0.77           NaN        NaN    NaN  \n",
       "2     12.76      3.79         3.29          82.0        8.3      E  \n",
       "3     10.93      3.28         2.95          80.0          8      E  \n",
       "4      8.89     10.22         1.00           NaN        NaN    NaN  "
      ]
     },
     "metadata": {},
     "output_type": "display_data"
    }
   ],
   "source": [
    "data = pd.read_csv('/Users/uliabubnova/Downloads/games.csv')\n",
    "display(data.head())"
   ]
  },
  {
   "cell_type": "code",
   "execution_count": 3,
   "id": "de9188df",
   "metadata": {
    "scrolled": true
   },
   "outputs": [
    {
     "data": {
      "text/plain": [
       "Index(['name', 'platform', 'year_of_release', 'genre', 'na_sales', 'eu_sales',\n",
       "       'jp_sales', 'other_sales', 'critic_score', 'user_score', 'rating'],\n",
       "      dtype='object')"
      ]
     },
     "execution_count": 3,
     "metadata": {},
     "output_type": "execute_result"
    }
   ],
   "source": [
    "# приведем все названия колонок к нижнему регистру\n",
    "data.columns = data.columns.str.lower()\n",
    "data.columns"
   ]
  },
  {
   "cell_type": "code",
   "execution_count": 4,
   "id": "8f18968f",
   "metadata": {
    "scrolled": false
   },
   "outputs": [
    {
     "name": "stdout",
     "output_type": "stream",
     "text": [
      "<class 'pandas.core.frame.DataFrame'>\n",
      "RangeIndex: 16715 entries, 0 to 16714\n",
      "Data columns (total 11 columns):\n",
      " #   Column           Non-Null Count  Dtype  \n",
      "---  ------           --------------  -----  \n",
      " 0   name             16713 non-null  object \n",
      " 1   platform         16715 non-null  object \n",
      " 2   year_of_release  16446 non-null  float64\n",
      " 3   genre            16713 non-null  object \n",
      " 4   na_sales         16715 non-null  float64\n",
      " 5   eu_sales         16715 non-null  float64\n",
      " 6   jp_sales         16715 non-null  float64\n",
      " 7   other_sales      16715 non-null  float64\n",
      " 8   critic_score     8137 non-null   float64\n",
      " 9   user_score       10014 non-null  object \n",
      " 10  rating           9949 non-null   object \n",
      "dtypes: float64(6), object(5)\n",
      "memory usage: 1.4+ MB\n"
     ]
    },
    {
     "data": {
      "text/plain": [
       "None"
      ]
     },
     "metadata": {},
     "output_type": "display_data"
    },
    {
     "data": {
      "text/html": [
       "<div>\n",
       "<style scoped>\n",
       "    .dataframe tbody tr th:only-of-type {\n",
       "        vertical-align: middle;\n",
       "    }\n",
       "\n",
       "    .dataframe tbody tr th {\n",
       "        vertical-align: top;\n",
       "    }\n",
       "\n",
       "    .dataframe thead th {\n",
       "        text-align: right;\n",
       "    }\n",
       "</style>\n",
       "<table border=\"1\" class=\"dataframe\">\n",
       "  <thead>\n",
       "    <tr style=\"text-align: right;\">\n",
       "      <th></th>\n",
       "      <th>year_of_release</th>\n",
       "      <th>na_sales</th>\n",
       "      <th>eu_sales</th>\n",
       "      <th>jp_sales</th>\n",
       "      <th>other_sales</th>\n",
       "      <th>critic_score</th>\n",
       "    </tr>\n",
       "  </thead>\n",
       "  <tbody>\n",
       "    <tr>\n",
       "      <th>count</th>\n",
       "      <td>16446.000000</td>\n",
       "      <td>16715.000000</td>\n",
       "      <td>16715.000000</td>\n",
       "      <td>16715.000000</td>\n",
       "      <td>16715.000000</td>\n",
       "      <td>8137.000000</td>\n",
       "    </tr>\n",
       "    <tr>\n",
       "      <th>mean</th>\n",
       "      <td>2006.484616</td>\n",
       "      <td>0.263377</td>\n",
       "      <td>0.145060</td>\n",
       "      <td>0.077617</td>\n",
       "      <td>0.047342</td>\n",
       "      <td>68.967679</td>\n",
       "    </tr>\n",
       "    <tr>\n",
       "      <th>std</th>\n",
       "      <td>5.877050</td>\n",
       "      <td>0.813604</td>\n",
       "      <td>0.503339</td>\n",
       "      <td>0.308853</td>\n",
       "      <td>0.186731</td>\n",
       "      <td>13.938165</td>\n",
       "    </tr>\n",
       "    <tr>\n",
       "      <th>min</th>\n",
       "      <td>1980.000000</td>\n",
       "      <td>0.000000</td>\n",
       "      <td>0.000000</td>\n",
       "      <td>0.000000</td>\n",
       "      <td>0.000000</td>\n",
       "      <td>13.000000</td>\n",
       "    </tr>\n",
       "    <tr>\n",
       "      <th>25%</th>\n",
       "      <td>2003.000000</td>\n",
       "      <td>0.000000</td>\n",
       "      <td>0.000000</td>\n",
       "      <td>0.000000</td>\n",
       "      <td>0.000000</td>\n",
       "      <td>60.000000</td>\n",
       "    </tr>\n",
       "    <tr>\n",
       "      <th>50%</th>\n",
       "      <td>2007.000000</td>\n",
       "      <td>0.080000</td>\n",
       "      <td>0.020000</td>\n",
       "      <td>0.000000</td>\n",
       "      <td>0.010000</td>\n",
       "      <td>71.000000</td>\n",
       "    </tr>\n",
       "    <tr>\n",
       "      <th>75%</th>\n",
       "      <td>2010.000000</td>\n",
       "      <td>0.240000</td>\n",
       "      <td>0.110000</td>\n",
       "      <td>0.040000</td>\n",
       "      <td>0.030000</td>\n",
       "      <td>79.000000</td>\n",
       "    </tr>\n",
       "    <tr>\n",
       "      <th>max</th>\n",
       "      <td>2016.000000</td>\n",
       "      <td>41.360000</td>\n",
       "      <td>28.960000</td>\n",
       "      <td>10.220000</td>\n",
       "      <td>10.570000</td>\n",
       "      <td>98.000000</td>\n",
       "    </tr>\n",
       "  </tbody>\n",
       "</table>\n",
       "</div>"
      ],
      "text/plain": [
       "       year_of_release      na_sales      eu_sales      jp_sales  \\\n",
       "count     16446.000000  16715.000000  16715.000000  16715.000000   \n",
       "mean       2006.484616      0.263377      0.145060      0.077617   \n",
       "std           5.877050      0.813604      0.503339      0.308853   \n",
       "min        1980.000000      0.000000      0.000000      0.000000   \n",
       "25%        2003.000000      0.000000      0.000000      0.000000   \n",
       "50%        2007.000000      0.080000      0.020000      0.000000   \n",
       "75%        2010.000000      0.240000      0.110000      0.040000   \n",
       "max        2016.000000     41.360000     28.960000     10.220000   \n",
       "\n",
       "        other_sales  critic_score  \n",
       "count  16715.000000   8137.000000  \n",
       "mean       0.047342     68.967679  \n",
       "std        0.186731     13.938165  \n",
       "min        0.000000     13.000000  \n",
       "25%        0.000000     60.000000  \n",
       "50%        0.010000     71.000000  \n",
       "75%        0.030000     79.000000  \n",
       "max       10.570000     98.000000  "
      ]
     },
     "metadata": {},
     "output_type": "display_data"
    },
    {
     "data": {
      "text/plain": [
       "name                  2\n",
       "platform              0\n",
       "year_of_release     269\n",
       "genre                 2\n",
       "na_sales              0\n",
       "eu_sales              0\n",
       "jp_sales              0\n",
       "other_sales           0\n",
       "critic_score       8578\n",
       "user_score         6701\n",
       "rating             6766\n",
       "dtype: int64"
      ]
     },
     "metadata": {},
     "output_type": "display_data"
    },
    {
     "data": {
      "text/plain": [
       "0"
      ]
     },
     "metadata": {},
     "output_type": "display_data"
    },
    {
     "data": {
      "text/plain": [
       "5"
      ]
     },
     "metadata": {},
     "output_type": "display_data"
    }
   ],
   "source": [
    "# функция, которая выдает основную информацию о датафрейме\n",
    "def info_df(data):\n",
    "    display(data.info(), \n",
    "          data.describe(), \n",
    "          data.isna().sum(), \n",
    "          data.duplicated().sum(),\n",
    "          data.duplicated(subset = ['name', 'platform']).sum())\n",
    "    \n",
    "info_df(data)    "
   ]
  },
  {
   "cell_type": "markdown",
   "id": "de836ff0",
   "metadata": {},
   "source": [
    "Первые выводы о имеющихся данных: \n",
    "- в имеющемся датафрейме 16715 строк\n",
    "- пропуски в названиях, жанре и годе выпуска игр можно удалить, так как в сумме их менее 2% - это не повлияет на дальнейший анализ\n",
    "- большое количество пропусков в столбцах с оценками пользователей/критиков и рейтингом - их необходимо проанализировать детальнее, чтобы принять решение, как с ними поступить\n",
    "- явных дубликатов в датафрейме нет\n",
    "- в пяти строках игры и платформы дублируются - это незначительное дублирование, поэтому можем это оставить как есть\n",
    "- в столбцах с годом выпуска, оценками критиков и пользователей необходимо изменить тип данных\n"
   ]
  },
  {
   "cell_type": "markdown",
   "id": "3c0eafbd",
   "metadata": {},
   "source": [
    "# 2. Предобработка данных"
   ]
  },
  {
   "cell_type": "code",
   "execution_count": 5,
   "id": "4f6df21e",
   "metadata": {
    "scrolled": false
   },
   "outputs": [
    {
     "data": {
      "text/plain": [
       "183    5.24\n",
       "377    3.50\n",
       "456    3.06\n",
       "475    3.00\n",
       "609    2.53\n",
       "627    2.47\n",
       "657    2.40\n",
       "659    2.39\n",
       "678    2.33\n",
       "719    2.24\n",
       "dtype: float64"
      ]
     },
     "execution_count": 5,
     "metadata": {},
     "output_type": "execute_result"
    }
   ],
   "source": [
    "\n",
    "data_nan = data.query('year_of_release.isna() or genre.isna() or name.isna()')\n",
    "data_nan_sales = data_nan[['na_sales','eu_sales','jp_sales', 'other_sales']].sum(axis = 1)\n",
    "data_nan_sales.sort_values(ascending=False).head(10)"
   ]
  },
  {
   "cell_type": "code",
   "execution_count": 6,
   "id": "fa30a18c",
   "metadata": {
    "scrolled": true
   },
   "outputs": [
    {
     "data": {
      "text/plain": [
       "year_of_release    0\n",
       "genre              0\n",
       "name               0\n",
       "dtype: int64"
      ]
     },
     "execution_count": 6,
     "metadata": {},
     "output_type": "execute_result"
    }
   ],
   "source": [
    "#удалим пропуски в трех столбцах\n",
    "data = data.dropna(subset=['year_of_release', 'genre', 'name'])\n",
    "\n",
    "#проверим, что пропуски исчезли, как нужно\n",
    "data[['year_of_release', 'genre', 'name']].isna().sum()"
   ]
  },
  {
   "cell_type": "code",
   "execution_count": 7,
   "id": "c2436f65",
   "metadata": {
    "scrolled": true
   },
   "outputs": [
    {
     "data": {
      "text/plain": [
       "array([76., nan, 82., 80., 89., 58., 87., 91., 61., 97., 95., 77., 88.,\n",
       "       83., 94., 93., 85., 86., 98., 96., 90., 84., 73., 74., 78., 92.,\n",
       "       71., 72., 68., 62., 49., 67., 81., 66., 56., 79., 70., 59., 64.,\n",
       "       75., 60., 63., 69., 50., 25., 42., 44., 55., 48., 57., 29., 47.,\n",
       "       65., 54., 20., 53., 37., 38., 33., 52., 30., 32., 43., 45., 51.,\n",
       "       40., 46., 39., 34., 41., 36., 31., 27., 35., 26., 19., 28., 23.,\n",
       "       24., 21., 17., 13.])"
      ]
     },
     "execution_count": 7,
     "metadata": {},
     "output_type": "execute_result"
    }
   ],
   "source": [
    "# рассммотрим, какие сущетсвуют оценки критиков\n",
    "data['critic_score'].unique()"
   ]
  },
  {
   "cell_type": "markdown",
   "id": "e0a46d59",
   "metadata": {},
   "source": [
    "- оценки критиков  - это целые числа в диапазоне [0,100]\n",
    "- половина игр не имеют оценки. Этом может быть связано, что игра мало известна, недавно вышла на рынок или наоборот очень давно и про нее все забыли,  также с крайне низкой популярностью игры\n",
    "- так как пропусков около 50% - удалить их мы не можем, т.к. это может сильно повлиять на дальнейшие выводы, поэтому пропущенные значения заменим на `-5` "
   ]
  },
  {
   "cell_type": "code",
   "execution_count": 8,
   "id": "b8cd84b0",
   "metadata": {
    "scrolled": true
   },
   "outputs": [],
   "source": [
    "data['critic_score'] = data['critic_score'].fillna(-5)"
   ]
  },
  {
   "cell_type": "code",
   "execution_count": 9,
   "id": "81102d7a",
   "metadata": {
    "scrolled": true
   },
   "outputs": [
    {
     "data": {
      "text/plain": [
       "array(['8', nan, '8.3', '8.5', '6.6', '8.4', '8.6', '7.7', '6.3', '7.4',\n",
       "       '8.2', '9', '7.9', '8.1', '8.7', '7.1', '3.4', '5.3', '4.8', '3.2',\n",
       "       '8.9', '6.4', '7.8', '7.5', '2.6', '7.2', '9.2', '7', '7.3', '4.3',\n",
       "       '7.6', '5.7', '5', '9.1', '6.5', 'tbd', '8.8', '6.9', '9.4', '6.8',\n",
       "       '6.1', '6.7', '5.4', '4', '4.9', '4.5', '9.3', '6.2', '4.2', '6',\n",
       "       '3.7', '4.1', '5.8', '5.6', '5.5', '4.4', '4.6', '5.9', '3.9',\n",
       "       '3.1', '2.9', '5.2', '3.3', '4.7', '5.1', '3.5', '2.5', '1.9', '3',\n",
       "       '2.7', '2.2', '2', '9.5', '2.1', '3.6', '2.8', '1.8', '3.8', '0',\n",
       "       '1.6', '9.6', '2.4', '1.7', '1.1', '0.3', '1.5', '0.7', '1.2',\n",
       "       '2.3', '0.5', '1.3', '0.2', '0.6', '1.4', '0.9', '1', '9.7'],\n",
       "      dtype=object)"
      ]
     },
     "execution_count": 9,
     "metadata": {},
     "output_type": "execute_result"
    }
   ],
   "source": [
    "# рассммотрим, какие сущетсвуют оценки пользователей\n",
    "data['user_score'].unique()"
   ]
  },
  {
   "cell_type": "code",
   "execution_count": 10,
   "id": "51c30108",
   "metadata": {
    "scrolled": true
   },
   "outputs": [
    {
     "data": {
      "text/plain": [
       "2376"
      ]
     },
     "execution_count": 10,
     "metadata": {},
     "output_type": "execute_result"
    }
   ],
   "source": [
    "data.query('user_score ==\"tbd\"')['name'].count()"
   ]
  },
  {
   "cell_type": "markdown",
   "id": "d842dfcd",
   "metadata": {},
   "source": [
    "- пользователи оценивают игру в диапазоне [0,10]\n",
    "- около 40% - это пропущенные значения. Причины могут быть аналогичными, как с оценками критиков: малоизвестная игра, непопулярная, устаревшая и тп\n",
    "- значение tbd - указывает на то, что рейтинг еще не определен или расчитывается\n",
    "- так как пропущеных и неопределенных значений более 50% - их удалять тоже не станем, а заменим на \"заглушки\""
   ]
  },
  {
   "cell_type": "code",
   "execution_count": 11,
   "id": "ca4c35e1",
   "metadata": {},
   "outputs": [],
   "source": [
    "data['user_score'] = data['user_score'].fillna(-5.)\n",
    "data['user_score'] = data['user_score'].replace('tbd', -10.)"
   ]
  },
  {
   "cell_type": "code",
   "execution_count": 12,
   "id": "5a6b622f",
   "metadata": {
    "scrolled": false
   },
   "outputs": [],
   "source": [
    "# заменим пропуске рейтингов на строку 'without_rating'\n",
    "data['rating'] = data['rating'].fillna('without_rating')"
   ]
  },
  {
   "cell_type": "markdown",
   "id": "440f0cde",
   "metadata": {},
   "source": [
    "### Изменим тип данных"
   ]
  },
  {
   "cell_type": "markdown",
   "id": "b5ac3c16",
   "metadata": {},
   "source": [
    "Приведем столбцы с годом выпуcка и оценками критиков и пользователей к минимально допустимым типам"
   ]
  },
  {
   "cell_type": "code",
   "execution_count": 13,
   "id": "67812582",
   "metadata": {
    "scrolled": false
   },
   "outputs": [],
   "source": [
    "data['year_of_release'] = data['year_of_release'].astype('int16')\n",
    "data['critic_score'] = data['critic_score'].astype('int8')\n",
    "data['user_score'] = data['user_score'].astype('float16')"
   ]
  },
  {
   "cell_type": "code",
   "execution_count": 14,
   "id": "3ea1f067",
   "metadata": {
    "scrolled": true
   },
   "outputs": [
    {
     "name": "stdout",
     "output_type": "stream",
     "text": [
      "<class 'pandas.core.frame.DataFrame'>\n",
      "Int64Index: 16444 entries, 0 to 16714\n",
      "Data columns (total 11 columns):\n",
      " #   Column           Non-Null Count  Dtype  \n",
      "---  ------           --------------  -----  \n",
      " 0   name             16444 non-null  object \n",
      " 1   platform         16444 non-null  object \n",
      " 2   year_of_release  16444 non-null  int16  \n",
      " 3   genre            16444 non-null  object \n",
      " 4   na_sales         16444 non-null  float64\n",
      " 5   eu_sales         16444 non-null  float64\n",
      " 6   jp_sales         16444 non-null  float64\n",
      " 7   other_sales      16444 non-null  float64\n",
      " 8   critic_score     16444 non-null  int8   \n",
      " 9   user_score       16444 non-null  float16\n",
      " 10  rating           16444 non-null  object \n",
      "dtypes: float16(1), float64(4), int16(1), int8(1), object(4)\n",
      "memory usage: 1.2+ MB\n"
     ]
    },
    {
     "data": {
      "text/plain": [
       "None"
      ]
     },
     "metadata": {},
     "output_type": "display_data"
    },
    {
     "data": {
      "text/html": [
       "<div>\n",
       "<style scoped>\n",
       "    .dataframe tbody tr th:only-of-type {\n",
       "        vertical-align: middle;\n",
       "    }\n",
       "\n",
       "    .dataframe tbody tr th {\n",
       "        vertical-align: top;\n",
       "    }\n",
       "\n",
       "    .dataframe thead th {\n",
       "        text-align: right;\n",
       "    }\n",
       "</style>\n",
       "<table border=\"1\" class=\"dataframe\">\n",
       "  <thead>\n",
       "    <tr style=\"text-align: right;\">\n",
       "      <th></th>\n",
       "      <th>year_of_release</th>\n",
       "      <th>na_sales</th>\n",
       "      <th>eu_sales</th>\n",
       "      <th>jp_sales</th>\n",
       "      <th>other_sales</th>\n",
       "      <th>critic_score</th>\n",
       "      <th>user_score</th>\n",
       "    </tr>\n",
       "  </thead>\n",
       "  <tbody>\n",
       "    <tr>\n",
       "      <th>count</th>\n",
       "      <td>16444.000000</td>\n",
       "      <td>16444.000000</td>\n",
       "      <td>16444.000000</td>\n",
       "      <td>16444.000000</td>\n",
       "      <td>16444.000000</td>\n",
       "      <td>16444.000000</td>\n",
       "      <td>16444.000000</td>\n",
       "    </tr>\n",
       "    <tr>\n",
       "      <th>mean</th>\n",
       "      <td>2006.486256</td>\n",
       "      <td>0.264012</td>\n",
       "      <td>0.145930</td>\n",
       "      <td>0.078487</td>\n",
       "      <td>0.047594</td>\n",
       "      <td>30.921734</td>\n",
       "      <td>-0.218872</td>\n",
       "    </tr>\n",
       "    <tr>\n",
       "      <th>std</th>\n",
       "      <td>5.875525</td>\n",
       "      <td>0.818378</td>\n",
       "      <td>0.506716</td>\n",
       "      <td>0.311100</td>\n",
       "      <td>0.188005</td>\n",
       "      <td>38.233228</td>\n",
       "      <td>6.964844</td>\n",
       "    </tr>\n",
       "    <tr>\n",
       "      <th>min</th>\n",
       "      <td>1980.000000</td>\n",
       "      <td>0.000000</td>\n",
       "      <td>0.000000</td>\n",
       "      <td>0.000000</td>\n",
       "      <td>0.000000</td>\n",
       "      <td>-5.000000</td>\n",
       "      <td>-10.000000</td>\n",
       "    </tr>\n",
       "    <tr>\n",
       "      <th>25%</th>\n",
       "      <td>2003.000000</td>\n",
       "      <td>0.000000</td>\n",
       "      <td>0.000000</td>\n",
       "      <td>0.000000</td>\n",
       "      <td>0.000000</td>\n",
       "      <td>-5.000000</td>\n",
       "      <td>-5.000000</td>\n",
       "    </tr>\n",
       "    <tr>\n",
       "      <th>50%</th>\n",
       "      <td>2007.000000</td>\n",
       "      <td>0.080000</td>\n",
       "      <td>0.020000</td>\n",
       "      <td>0.000000</td>\n",
       "      <td>0.010000</td>\n",
       "      <td>-5.000000</td>\n",
       "      <td>-5.000000</td>\n",
       "    </tr>\n",
       "    <tr>\n",
       "      <th>75%</th>\n",
       "      <td>2010.000000</td>\n",
       "      <td>0.240000</td>\n",
       "      <td>0.110000</td>\n",
       "      <td>0.040000</td>\n",
       "      <td>0.030000</td>\n",
       "      <td>70.000000</td>\n",
       "      <td>7.300781</td>\n",
       "    </tr>\n",
       "    <tr>\n",
       "      <th>max</th>\n",
       "      <td>2016.000000</td>\n",
       "      <td>41.360000</td>\n",
       "      <td>28.960000</td>\n",
       "      <td>10.220000</td>\n",
       "      <td>10.570000</td>\n",
       "      <td>98.000000</td>\n",
       "      <td>9.703125</td>\n",
       "    </tr>\n",
       "  </tbody>\n",
       "</table>\n",
       "</div>"
      ],
      "text/plain": [
       "       year_of_release      na_sales      eu_sales      jp_sales  \\\n",
       "count     16444.000000  16444.000000  16444.000000  16444.000000   \n",
       "mean       2006.486256      0.264012      0.145930      0.078487   \n",
       "std           5.875525      0.818378      0.506716      0.311100   \n",
       "min        1980.000000      0.000000      0.000000      0.000000   \n",
       "25%        2003.000000      0.000000      0.000000      0.000000   \n",
       "50%        2007.000000      0.080000      0.020000      0.000000   \n",
       "75%        2010.000000      0.240000      0.110000      0.040000   \n",
       "max        2016.000000     41.360000     28.960000     10.220000   \n",
       "\n",
       "        other_sales  critic_score    user_score  \n",
       "count  16444.000000  16444.000000  16444.000000  \n",
       "mean       0.047594     30.921734     -0.218872  \n",
       "std        0.188005     38.233228      6.964844  \n",
       "min        0.000000     -5.000000    -10.000000  \n",
       "25%        0.000000     -5.000000     -5.000000  \n",
       "50%        0.010000     -5.000000     -5.000000  \n",
       "75%        0.030000     70.000000      7.300781  \n",
       "max       10.570000     98.000000      9.703125  "
      ]
     },
     "metadata": {},
     "output_type": "display_data"
    },
    {
     "data": {
      "text/plain": [
       "name               0\n",
       "platform           0\n",
       "year_of_release    0\n",
       "genre              0\n",
       "na_sales           0\n",
       "eu_sales           0\n",
       "jp_sales           0\n",
       "other_sales        0\n",
       "critic_score       0\n",
       "user_score         0\n",
       "rating             0\n",
       "dtype: int64"
      ]
     },
     "metadata": {},
     "output_type": "display_data"
    },
    {
     "data": {
      "text/plain": [
       "0"
      ]
     },
     "metadata": {},
     "output_type": "display_data"
    },
    {
     "data": {
      "text/plain": [
       "3"
      ]
     },
     "metadata": {},
     "output_type": "display_data"
    }
   ],
   "source": [
    "# еще раз проверим данные в уже обработанном датафрейме\n",
    "info_df(data) "
   ]
  },
  {
   "cell_type": "markdown",
   "id": "ddc48977",
   "metadata": {},
   "source": [
    "### Добавим столбец с продажами по каждой игре во всем мире"
   ]
  },
  {
   "cell_type": "code",
   "execution_count": 15,
   "id": "34abf681",
   "metadata": {
    "scrolled": true
   },
   "outputs": [
    {
     "data": {
      "text/html": [
       "<div>\n",
       "<style scoped>\n",
       "    .dataframe tbody tr th:only-of-type {\n",
       "        vertical-align: middle;\n",
       "    }\n",
       "\n",
       "    .dataframe tbody tr th {\n",
       "        vertical-align: top;\n",
       "    }\n",
       "\n",
       "    .dataframe thead th {\n",
       "        text-align: right;\n",
       "    }\n",
       "</style>\n",
       "<table border=\"1\" class=\"dataframe\">\n",
       "  <thead>\n",
       "    <tr style=\"text-align: right;\">\n",
       "      <th></th>\n",
       "      <th>name</th>\n",
       "      <th>platform</th>\n",
       "      <th>year_of_release</th>\n",
       "      <th>genre</th>\n",
       "      <th>na_sales</th>\n",
       "      <th>eu_sales</th>\n",
       "      <th>jp_sales</th>\n",
       "      <th>other_sales</th>\n",
       "      <th>total_sales</th>\n",
       "      <th>critic_score</th>\n",
       "      <th>user_score</th>\n",
       "      <th>rating</th>\n",
       "    </tr>\n",
       "  </thead>\n",
       "  <tbody>\n",
       "    <tr>\n",
       "      <th>0</th>\n",
       "      <td>Wii Sports</td>\n",
       "      <td>Wii</td>\n",
       "      <td>2006</td>\n",
       "      <td>Sports</td>\n",
       "      <td>41.36</td>\n",
       "      <td>28.96</td>\n",
       "      <td>3.77</td>\n",
       "      <td>8.45</td>\n",
       "      <td>82.54</td>\n",
       "      <td>76</td>\n",
       "      <td>8.000000</td>\n",
       "      <td>E</td>\n",
       "    </tr>\n",
       "    <tr>\n",
       "      <th>1</th>\n",
       "      <td>Super Mario Bros.</td>\n",
       "      <td>NES</td>\n",
       "      <td>1985</td>\n",
       "      <td>Platform</td>\n",
       "      <td>29.08</td>\n",
       "      <td>3.58</td>\n",
       "      <td>6.81</td>\n",
       "      <td>0.77</td>\n",
       "      <td>40.24</td>\n",
       "      <td>-5</td>\n",
       "      <td>-5.000000</td>\n",
       "      <td>without_rating</td>\n",
       "    </tr>\n",
       "    <tr>\n",
       "      <th>2</th>\n",
       "      <td>Mario Kart Wii</td>\n",
       "      <td>Wii</td>\n",
       "      <td>2008</td>\n",
       "      <td>Racing</td>\n",
       "      <td>15.68</td>\n",
       "      <td>12.76</td>\n",
       "      <td>3.79</td>\n",
       "      <td>3.29</td>\n",
       "      <td>35.52</td>\n",
       "      <td>82</td>\n",
       "      <td>8.296875</td>\n",
       "      <td>E</td>\n",
       "    </tr>\n",
       "    <tr>\n",
       "      <th>3</th>\n",
       "      <td>Wii Sports Resort</td>\n",
       "      <td>Wii</td>\n",
       "      <td>2009</td>\n",
       "      <td>Sports</td>\n",
       "      <td>15.61</td>\n",
       "      <td>10.93</td>\n",
       "      <td>3.28</td>\n",
       "      <td>2.95</td>\n",
       "      <td>32.77</td>\n",
       "      <td>80</td>\n",
       "      <td>8.000000</td>\n",
       "      <td>E</td>\n",
       "    </tr>\n",
       "    <tr>\n",
       "      <th>4</th>\n",
       "      <td>Pokemon Red/Pokemon Blue</td>\n",
       "      <td>GB</td>\n",
       "      <td>1996</td>\n",
       "      <td>Role-Playing</td>\n",
       "      <td>11.27</td>\n",
       "      <td>8.89</td>\n",
       "      <td>10.22</td>\n",
       "      <td>1.00</td>\n",
       "      <td>31.38</td>\n",
       "      <td>-5</td>\n",
       "      <td>-5.000000</td>\n",
       "      <td>without_rating</td>\n",
       "    </tr>\n",
       "  </tbody>\n",
       "</table>\n",
       "</div>"
      ],
      "text/plain": [
       "                       name platform  year_of_release         genre  na_sales  \\\n",
       "0                Wii Sports      Wii             2006        Sports     41.36   \n",
       "1         Super Mario Bros.      NES             1985      Platform     29.08   \n",
       "2            Mario Kart Wii      Wii             2008        Racing     15.68   \n",
       "3         Wii Sports Resort      Wii             2009        Sports     15.61   \n",
       "4  Pokemon Red/Pokemon Blue       GB             1996  Role-Playing     11.27   \n",
       "\n",
       "   eu_sales  jp_sales  other_sales  total_sales  critic_score  user_score  \\\n",
       "0     28.96      3.77         8.45        82.54            76    8.000000   \n",
       "1      3.58      6.81         0.77        40.24            -5   -5.000000   \n",
       "2     12.76      3.79         3.29        35.52            82    8.296875   \n",
       "3     10.93      3.28         2.95        32.77            80    8.000000   \n",
       "4      8.89     10.22         1.00        31.38            -5   -5.000000   \n",
       "\n",
       "           rating  \n",
       "0               E  \n",
       "1  without_rating  \n",
       "2               E  \n",
       "3               E  \n",
       "4  without_rating  "
      ]
     },
     "execution_count": 15,
     "metadata": {},
     "output_type": "execute_result"
    }
   ],
   "source": [
    "data.insert(8, \"total_sales\", data['na_sales'] + data['eu_sales'] + data['jp_sales'] + data['other_sales'])\n",
    "data.head()"
   ]
  },
  {
   "cell_type": "markdown",
   "id": "2660abcf",
   "metadata": {},
   "source": [
    "# 3 Исследовательский анализ данных"
   ]
  },
  {
   "cell_type": "markdown",
   "id": "a56b5957",
   "metadata": {},
   "source": [
    "Посмотрим, сколько игр выпускалось в разные годы"
   ]
  },
  {
   "cell_type": "code",
   "execution_count": 16,
   "id": "8cfe3804",
   "metadata": {
    "scrolled": false
   },
   "outputs": [
    {
     "data": {
      "text/html": [
       "<div>\n",
       "<style scoped>\n",
       "    .dataframe tbody tr th:only-of-type {\n",
       "        vertical-align: middle;\n",
       "    }\n",
       "\n",
       "    .dataframe tbody tr th {\n",
       "        vertical-align: top;\n",
       "    }\n",
       "\n",
       "    .dataframe thead th {\n",
       "        text-align: right;\n",
       "    }\n",
       "</style>\n",
       "<table border=\"1\" class=\"dataframe\">\n",
       "  <thead>\n",
       "    <tr style=\"text-align: right;\">\n",
       "      <th></th>\n",
       "      <th>year_of_release</th>\n",
       "      <th>name</th>\n",
       "    </tr>\n",
       "  </thead>\n",
       "  <tbody>\n",
       "    <tr>\n",
       "      <th>0</th>\n",
       "      <td>1980</td>\n",
       "      <td>9</td>\n",
       "    </tr>\n",
       "    <tr>\n",
       "      <th>1</th>\n",
       "      <td>1981</td>\n",
       "      <td>46</td>\n",
       "    </tr>\n",
       "    <tr>\n",
       "      <th>2</th>\n",
       "      <td>1982</td>\n",
       "      <td>36</td>\n",
       "    </tr>\n",
       "    <tr>\n",
       "      <th>3</th>\n",
       "      <td>1983</td>\n",
       "      <td>17</td>\n",
       "    </tr>\n",
       "    <tr>\n",
       "      <th>4</th>\n",
       "      <td>1984</td>\n",
       "      <td>14</td>\n",
       "    </tr>\n",
       "    <tr>\n",
       "      <th>5</th>\n",
       "      <td>1985</td>\n",
       "      <td>14</td>\n",
       "    </tr>\n",
       "    <tr>\n",
       "      <th>6</th>\n",
       "      <td>1986</td>\n",
       "      <td>21</td>\n",
       "    </tr>\n",
       "    <tr>\n",
       "      <th>7</th>\n",
       "      <td>1987</td>\n",
       "      <td>16</td>\n",
       "    </tr>\n",
       "    <tr>\n",
       "      <th>8</th>\n",
       "      <td>1988</td>\n",
       "      <td>15</td>\n",
       "    </tr>\n",
       "    <tr>\n",
       "      <th>9</th>\n",
       "      <td>1989</td>\n",
       "      <td>17</td>\n",
       "    </tr>\n",
       "    <tr>\n",
       "      <th>10</th>\n",
       "      <td>1990</td>\n",
       "      <td>16</td>\n",
       "    </tr>\n",
       "    <tr>\n",
       "      <th>11</th>\n",
       "      <td>1991</td>\n",
       "      <td>41</td>\n",
       "    </tr>\n",
       "    <tr>\n",
       "      <th>12</th>\n",
       "      <td>1992</td>\n",
       "      <td>43</td>\n",
       "    </tr>\n",
       "    <tr>\n",
       "      <th>13</th>\n",
       "      <td>1993</td>\n",
       "      <td>60</td>\n",
       "    </tr>\n",
       "    <tr>\n",
       "      <th>14</th>\n",
       "      <td>1994</td>\n",
       "      <td>121</td>\n",
       "    </tr>\n",
       "    <tr>\n",
       "      <th>15</th>\n",
       "      <td>1995</td>\n",
       "      <td>219</td>\n",
       "    </tr>\n",
       "    <tr>\n",
       "      <th>16</th>\n",
       "      <td>1996</td>\n",
       "      <td>263</td>\n",
       "    </tr>\n",
       "    <tr>\n",
       "      <th>17</th>\n",
       "      <td>1997</td>\n",
       "      <td>289</td>\n",
       "    </tr>\n",
       "    <tr>\n",
       "      <th>18</th>\n",
       "      <td>1998</td>\n",
       "      <td>379</td>\n",
       "    </tr>\n",
       "    <tr>\n",
       "      <th>19</th>\n",
       "      <td>1999</td>\n",
       "      <td>338</td>\n",
       "    </tr>\n",
       "    <tr>\n",
       "      <th>20</th>\n",
       "      <td>2000</td>\n",
       "      <td>350</td>\n",
       "    </tr>\n",
       "    <tr>\n",
       "      <th>21</th>\n",
       "      <td>2001</td>\n",
       "      <td>482</td>\n",
       "    </tr>\n",
       "    <tr>\n",
       "      <th>22</th>\n",
       "      <td>2002</td>\n",
       "      <td>829</td>\n",
       "    </tr>\n",
       "    <tr>\n",
       "      <th>23</th>\n",
       "      <td>2003</td>\n",
       "      <td>775</td>\n",
       "    </tr>\n",
       "    <tr>\n",
       "      <th>24</th>\n",
       "      <td>2004</td>\n",
       "      <td>762</td>\n",
       "    </tr>\n",
       "    <tr>\n",
       "      <th>25</th>\n",
       "      <td>2005</td>\n",
       "      <td>939</td>\n",
       "    </tr>\n",
       "    <tr>\n",
       "      <th>26</th>\n",
       "      <td>2006</td>\n",
       "      <td>1006</td>\n",
       "    </tr>\n",
       "    <tr>\n",
       "      <th>27</th>\n",
       "      <td>2007</td>\n",
       "      <td>1197</td>\n",
       "    </tr>\n",
       "    <tr>\n",
       "      <th>28</th>\n",
       "      <td>2008</td>\n",
       "      <td>1427</td>\n",
       "    </tr>\n",
       "    <tr>\n",
       "      <th>29</th>\n",
       "      <td>2009</td>\n",
       "      <td>1426</td>\n",
       "    </tr>\n",
       "    <tr>\n",
       "      <th>30</th>\n",
       "      <td>2010</td>\n",
       "      <td>1255</td>\n",
       "    </tr>\n",
       "    <tr>\n",
       "      <th>31</th>\n",
       "      <td>2011</td>\n",
       "      <td>1136</td>\n",
       "    </tr>\n",
       "    <tr>\n",
       "      <th>32</th>\n",
       "      <td>2012</td>\n",
       "      <td>653</td>\n",
       "    </tr>\n",
       "    <tr>\n",
       "      <th>33</th>\n",
       "      <td>2013</td>\n",
       "      <td>544</td>\n",
       "    </tr>\n",
       "    <tr>\n",
       "      <th>34</th>\n",
       "      <td>2014</td>\n",
       "      <td>581</td>\n",
       "    </tr>\n",
       "    <tr>\n",
       "      <th>35</th>\n",
       "      <td>2015</td>\n",
       "      <td>606</td>\n",
       "    </tr>\n",
       "    <tr>\n",
       "      <th>36</th>\n",
       "      <td>2016</td>\n",
       "      <td>502</td>\n",
       "    </tr>\n",
       "  </tbody>\n",
       "</table>\n",
       "</div>"
      ],
      "text/plain": [
       "    year_of_release  name\n",
       "0              1980     9\n",
       "1              1981    46\n",
       "2              1982    36\n",
       "3              1983    17\n",
       "4              1984    14\n",
       "5              1985    14\n",
       "6              1986    21\n",
       "7              1987    16\n",
       "8              1988    15\n",
       "9              1989    17\n",
       "10             1990    16\n",
       "11             1991    41\n",
       "12             1992    43\n",
       "13             1993    60\n",
       "14             1994   121\n",
       "15             1995   219\n",
       "16             1996   263\n",
       "17             1997   289\n",
       "18             1998   379\n",
       "19             1999   338\n",
       "20             2000   350\n",
       "21             2001   482\n",
       "22             2002   829\n",
       "23             2003   775\n",
       "24             2004   762\n",
       "25             2005   939\n",
       "26             2006  1006\n",
       "27             2007  1197\n",
       "28             2008  1427\n",
       "29             2009  1426\n",
       "30             2010  1255\n",
       "31             2011  1136\n",
       "32             2012   653\n",
       "33             2013   544\n",
       "34             2014   581\n",
       "35             2015   606\n",
       "36             2016   502"
      ]
     },
     "execution_count": 16,
     "metadata": {},
     "output_type": "execute_result"
    }
   ],
   "source": [
    "data_games_per_yaer = data.groupby('year_of_release')['name'].count().reset_index()\n",
    "data_games_per_yaer"
   ]
  },
  {
   "cell_type": "code",
   "execution_count": 17,
   "id": "7a7b8ff5",
   "metadata": {
    "scrolled": true
   },
   "outputs": [
    {
     "data": {
      "image/png": "[encoded data removed]",
      "text/plain": [
       "<Figure size 864x360 with 1 Axes>"
      ]
     },
     "metadata": {
      "needs_background": "light"
     },
     "output_type": "display_data"
    }
   ],
   "source": [
    "data_games_per_yaer.plot(x = 'year_of_release', y = 'name', grid=True, figsize=(12,5))\\\n",
    ".set_title('Количество ежегодно выпускаемых игр на всех платфомах');\n",
    "plt.ylabel(\"count_games\");"
   ]
  },
  {
   "cell_type": "markdown",
   "id": "a2591cb1",
   "metadata": {},
   "source": [
    "После 1995 года рынок компьютерных игр начал постепенно расти. Пик был в 2008-2009 гг, когда было выпущено максимальное количество новых игр.\n",
    "Затем после 2012 года был провал (видимо приставки уже начали устаревать, и на смену им только начали приходить новые технологии)"
   ]
  },
  {
   "cell_type": "markdown",
   "id": "aaf7f3b6",
   "metadata": {},
   "source": [
    "Посмотрим, как менялись продажи по платформам."
   ]
  },
  {
   "cell_type": "code",
   "execution_count": 18,
   "id": "63666c0e",
   "metadata": {
    "scrolled": true
   },
   "outputs": [
    {
     "data": {
      "image/png": "[encoded data removed]",
      "text/plain": [
       "<Figure size 1008x360 with 1 Axes>"
      ]
     },
     "metadata": {
      "needs_background": "light"
     },
     "output_type": "display_data"
    }
   ],
   "source": [
    "data_group_games = data.pivot_table\\\n",
    "(index = 'year_of_release', columns ='platform', values = 'total_sales', aggfunc = 'sum')\n",
    "\n",
    "data_group_games.plot(grid=True, figsize=(14,5))\\\n",
    ".set_title('Общие продажи по каждой платформе за 1980-2016 гг');\n",
    "plt.ylabel(\"total_sales, (mil_cop)\");\n",
    "plt.legend(bbox_to_anchor=(1.02 , 1), loc='upper left', borderaxespad = 0);"
   ]
  },
  {
   "cell_type": "markdown",
   "id": "0b2ce52f",
   "metadata": {},
   "source": [
    "По графикам можно явно заметить, что примерный срок жизни каждой платформы около 10 лет. Действительно после 2010 года популярные на тот момент платформы, видимо, начали казаться устаревшими. Уже появились новые технологии и рынок ждал выхода более совремнных платформ."
   ]
  },
  {
   "cell_type": "code",
   "execution_count": 19,
   "id": "25c2c4f3",
   "metadata": {
    "scrolled": true
   },
   "outputs": [
    {
     "data": {
      "text/html": [
       "<div>\n",
       "<style scoped>\n",
       "    .dataframe tbody tr th:only-of-type {\n",
       "        vertical-align: middle;\n",
       "    }\n",
       "\n",
       "    .dataframe tbody tr th {\n",
       "        vertical-align: top;\n",
       "    }\n",
       "\n",
       "    .dataframe thead th {\n",
       "        text-align: right;\n",
       "    }\n",
       "</style>\n",
       "<table border=\"1\" class=\"dataframe\">\n",
       "  <thead>\n",
       "    <tr style=\"text-align: right;\">\n",
       "      <th></th>\n",
       "      <th>total_sales</th>\n",
       "    </tr>\n",
       "    <tr>\n",
       "      <th>platform</th>\n",
       "      <th></th>\n",
       "    </tr>\n",
       "  </thead>\n",
       "  <tbody>\n",
       "    <tr>\n",
       "      <th>PS2</th>\n",
       "      <td>1233.56</td>\n",
       "    </tr>\n",
       "    <tr>\n",
       "      <th>X360</th>\n",
       "      <td>961.24</td>\n",
       "    </tr>\n",
       "    <tr>\n",
       "      <th>PS3</th>\n",
       "      <td>931.34</td>\n",
       "    </tr>\n",
       "    <tr>\n",
       "      <th>Wii</th>\n",
       "      <td>891.18</td>\n",
       "    </tr>\n",
       "    <tr>\n",
       "      <th>DS</th>\n",
       "      <td>802.78</td>\n",
       "    </tr>\n",
       "    <tr>\n",
       "      <th>PS</th>\n",
       "      <td>727.58</td>\n",
       "    </tr>\n",
       "    <tr>\n",
       "      <th>PS4</th>\n",
       "      <td>314.14</td>\n",
       "    </tr>\n",
       "    <tr>\n",
       "      <th>GBA</th>\n",
       "      <td>312.88</td>\n",
       "    </tr>\n",
       "    <tr>\n",
       "      <th>PSP</th>\n",
       "      <td>289.53</td>\n",
       "    </tr>\n",
       "    <tr>\n",
       "      <th>3DS</th>\n",
       "      <td>257.81</td>\n",
       "    </tr>\n",
       "  </tbody>\n",
       "</table>\n",
       "</div>"
      ],
      "text/plain": [
       "          total_sales\n",
       "platform             \n",
       "PS2           1233.56\n",
       "X360           961.24\n",
       "PS3            931.34\n",
       "Wii            891.18\n",
       "DS             802.78\n",
       "PS             727.58\n",
       "PS4            314.14\n",
       "GBA            312.88\n",
       "PSP            289.53\n",
       "3DS            257.81"
      ]
     },
     "execution_count": 19,
     "metadata": {},
     "output_type": "execute_result"
    }
   ],
   "source": [
    "# рейтинг мировых продаж игр для каждой платформы за весь исследуемый период\n",
    "data_sales_platforms_sort = data.pivot_table\\\n",
    "(index ='platform', values = 'total_sales', aggfunc = 'sum').sort_values(by='total_sales', ascending = False)\n",
    "data_sales_platforms_sort.head(10)"
   ]
  },
  {
   "cell_type": "markdown",
   "id": "a4d867be",
   "metadata": {},
   "source": [
    "Можно выделить 6 платформ, которые к 2016 году явно лидировали по продажам игр в мире"
   ]
  },
  {
   "cell_type": "code",
   "execution_count": 20,
   "id": "894d130e",
   "metadata": {
    "scrolled": true
   },
   "outputs": [
    {
     "data": {
      "text/html": [
       "<div>\n",
       "<style scoped>\n",
       "    .dataframe tbody tr th:only-of-type {\n",
       "        vertical-align: middle;\n",
       "    }\n",
       "\n",
       "    .dataframe tbody tr th {\n",
       "        vertical-align: top;\n",
       "    }\n",
       "\n",
       "    .dataframe thead th {\n",
       "        text-align: right;\n",
       "    }\n",
       "</style>\n",
       "<table border=\"1\" class=\"dataframe\">\n",
       "  <thead>\n",
       "    <tr style=\"text-align: right;\">\n",
       "      <th></th>\n",
       "      <th>total_sales</th>\n",
       "    </tr>\n",
       "    <tr>\n",
       "      <th>platform</th>\n",
       "      <th></th>\n",
       "    </tr>\n",
       "  </thead>\n",
       "  <tbody>\n",
       "    <tr>\n",
       "      <th>PS2</th>\n",
       "      <td>1233.56</td>\n",
       "    </tr>\n",
       "    <tr>\n",
       "      <th>X360</th>\n",
       "      <td>961.24</td>\n",
       "    </tr>\n",
       "    <tr>\n",
       "      <th>PS3</th>\n",
       "      <td>931.34</td>\n",
       "    </tr>\n",
       "    <tr>\n",
       "      <th>Wii</th>\n",
       "      <td>891.18</td>\n",
       "    </tr>\n",
       "    <tr>\n",
       "      <th>DS</th>\n",
       "      <td>802.78</td>\n",
       "    </tr>\n",
       "    <tr>\n",
       "      <th>PS</th>\n",
       "      <td>727.58</td>\n",
       "    </tr>\n",
       "  </tbody>\n",
       "</table>\n",
       "</div>"
      ],
      "text/plain": [
       "          total_sales\n",
       "platform             \n",
       "PS2           1233.56\n",
       "X360           961.24\n",
       "PS3            931.34\n",
       "Wii            891.18\n",
       "DS             802.78\n",
       "PS             727.58"
      ]
     },
     "execution_count": 20,
     "metadata": {},
     "output_type": "execute_result"
    }
   ],
   "source": [
    "# Топ-6 платформ\n",
    "data_sales_platforms_top6 = data_sales_platforms_sort[:6]\n",
    "data_sales_platforms_top6"
   ]
  },
  {
   "cell_type": "markdown",
   "id": "dbb9f4d4",
   "metadata": {},
   "source": [
    "Рассмотрим отдельно продажи по годам топовых платформ"
   ]
  },
  {
   "cell_type": "code",
   "execution_count": 21,
   "id": "dede98d0",
   "metadata": {},
   "outputs": [
    {
     "data": {
      "image/png": "[encoded data removed]",
      "text/plain": [
       "<Figure size 720x432 with 1 Axes>"
      ]
     },
     "metadata": {
      "needs_background": "light"
     },
     "output_type": "display_data"
    }
   ],
   "source": [
    "data.query('platform in @data_sales_platforms_top6.index').pivot_table\\\n",
    "(index = 'year_of_release', columns ='platform', values = 'total_sales', aggfunc = 'sum')\\\n",
    ".plot(grid=True,figsize=(10,6));\n",
    "\n",
    "plt.ylabel(\"total_sales, (mil_cop)\");\n",
    "plt.legend(loc='upper left');"
   ]
  },
  {
   "cell_type": "markdown",
   "id": "ebb8ea1f",
   "metadata": {},
   "source": [
    "- Еще раз убеждаемся в том, что срок жизни популярной платформы 10 лет. \n",
    "- Есть резкий подъем, когда платформа набирает популярность за 2-3 года, а последние 3 года такой же резкий спад до 0 (то есть игры совсем перестают выпускать на устаревшие приставки)\n",
    "- Как только появляется новая технология в мире, приставки основанные на прошлых технологиях начинают тут же устаревать. На графиках заметны пересечения именно в местах спада и подъема циклов цизни приставок\n"
   ]
  },
  {
   "cell_type": "markdown",
   "id": "adddd9a1",
   "metadata": {},
   "source": [
    "Так как в компьютерных технологиях все достаточно быстро меняется, не стоит для прогнозирования брать всю историю продаж. Дотаточно выделить последний интревал в 2-3 года. Возьмем за актуальный период данные с 2013 года - так как именно в этот период наблюдается смена технологий (старые приставки безвозвратно устарели и появились новые современные модели). \n",
    "Ограничим актуальный период 2015 годом, так как за 2016 год данные еще не полные"
   ]
  },
  {
   "cell_type": "markdown",
   "id": "6e67693a",
   "metadata": {},
   "source": [
    "### Далее будем работать только с актуальным периодом"
   ]
  },
  {
   "cell_type": "code",
   "execution_count": 22,
   "id": "33e1fb19",
   "metadata": {
    "scrolled": false
   },
   "outputs": [
    {
     "data": {
      "image/png": "[encoded data removed]",
      "text/plain": [
       "<Figure size 648x360 with 1 Axes>"
      ]
     },
     "metadata": {
      "needs_background": "light"
     },
     "output_type": "display_data"
    }
   ],
   "source": [
    "#  ограничим датафрейм актуальным периодом (2013-2016 гг)\n",
    "data_topical = data.query('year_of_release >=2013')\n",
    "\n",
    "# попстоим графики ихменения продаж по разым платформам за актуальный период\n",
    "data_topical.pivot_table(index = 'year_of_release', columns ='platform', values = 'total_sales', aggfunc = 'sum')\\\n",
    ".plot(grid=True,figsize=(9,5)).set_title('Общие продажи платформам за 2013-2015 гг');\n",
    "plt.ylabel(\"total_sales, (mil_cop)\");\n",
    "plt.legend(loc='upper left');\n",
    "plt.legend(bbox_to_anchor=(1.02 , 1), loc='upper left', borderaxespad= 0 );"
   ]
  },
  {
   "cell_type": "markdown",
   "id": "fa61dbe6",
   "metadata": {},
   "source": [
    "Ярко выделяются две новые трендовые приставки PS4 и XOne, которые претендуют занять лидирущее место на рынке компьютерных игр."
   ]
  },
  {
   "cell_type": "code",
   "execution_count": 23,
   "id": "6836fefa",
   "metadata": {
    "scrolled": false
   },
   "outputs": [
    {
     "data": {
      "image/png": "[encoded data removed]",
      "text/plain": [
       "<Figure size 864x288 with 1 Axes>"
      ]
     },
     "metadata": {
      "needs_background": "light"
     },
     "output_type": "display_data"
    }
   ],
   "source": [
    "sns.catplot(x=\"platform\", \n",
    "            y='total_sales', \n",
    "            kind=\"box\", \n",
    "            data=data_topical, \n",
    "            orient='v', \n",
    "            height=4, \n",
    "            aspect=3,\n",
    "           showfliers=False)\\\n",
    ".set(title = 'Продажи по разынм платформам в 2013-2016 гг', xlabel = 'Платформы', ylabel = 'total_sales');\n",
    "\n",
    "plot = plt.ylim(0, 2);"
   ]
  },
  {
   "cell_type": "code",
   "execution_count": 24,
   "id": "4fec155f",
   "metadata": {},
   "outputs": [
    {
     "data": {
      "image/png": "[encoded data removed]",
      "text/plain": [
       "<Figure size 864x288 with 1 Axes>"
      ]
     },
     "metadata": {
      "needs_background": "light"
     },
     "output_type": "display_data"
    }
   ],
   "source": [
    "sns.catplot(x=\"platform\", \n",
    "            y='total_sales', \n",
    "            kind=\"box\", \n",
    "            data=data_topical, \n",
    "            orient='v', \n",
    "            height=4, \n",
    "            aspect=3)\\\n",
    ".set(title = 'Продажи по разынм платформам в 2013-2016 гг', xlabel = 'Платформы', ylabel = 'total_sales');\n"
   ]
  },
  {
   "cell_type": "markdown",
   "id": "3a24c2a7",
   "metadata": {},
   "source": [
    "Ящики с усами позволяют оценить разброс значений в распределнии. Видим, что межквартильный размах значений и медиана ящиков у современных приставок (PS4, XOne) больше. Они уже опережают платформы прошлого поколения, а если учесть, что они только недавно появились на рынке, то можно уверенно прогнозировать дальнейший рост продаж."
   ]
  },
  {
   "cell_type": "markdown",
   "id": "6db70f88",
   "metadata": {},
   "source": [
    "### Посмотрим, как влияют на продажи внутри одной популярной платформы отзывы пользователей и критиков."
   ]
  },
  {
   "cell_type": "code",
   "execution_count": 25,
   "id": "b8bbb248",
   "metadata": {
    "scrolled": false
   },
   "outputs": [
    {
     "data": {
      "image/png": "[encoded data removed]",
      "text/plain": [
       "<Figure size 720x360 with 1 Axes>"
      ]
     },
     "metadata": {
      "needs_background": "light"
     },
     "output_type": "display_data"
    },
    {
     "name": "stdout",
     "output_type": "stream",
     "text": [
      "Корреляция между продажами и оценками критиков для PS4 = 0.40589480145836687\n"
     ]
    }
   ],
   "source": [
    "# сделаем срез по PS4, имеющим оценки\n",
    "data_score_PS4 = data_topical.query('critic_score > 0 & user_score > 0 & platform == \"PS4\"')\n",
    "\n",
    "# строим диаграмму рассеиния\n",
    "data_score_PS4.plot(x='critic_score', y='total_sales', kind='scatter', figsize = (10,5), \\\n",
    "                      title = 'Продажи на PS4 в зависимости от оценки критиков');\n",
    "plt.show()\n",
    "\n",
    "# корреляция\n",
    "print('Корреляция между продажами и оценками критиков для PS4 =',\\\n",
    "      data_score_PS4['total_sales'].corr(data_score_PS4['critic_score']))"
   ]
  },
  {
   "cell_type": "code",
   "execution_count": 26,
   "id": "da2d1f68",
   "metadata": {
    "scrolled": false
   },
   "outputs": [
    {
     "data": {
      "image/png": "[encoded data removed]",
      "text/plain": [
       "<Figure size 720x360 with 1 Axes>"
      ]
     },
     "metadata": {
      "needs_background": "light"
     },
     "output_type": "display_data"
    },
    {
     "name": "stdout",
     "output_type": "stream",
     "text": [
      "Корреляция между продажами и оценками пользователей для PS4 = -0.03369197213757457\n"
     ]
    }
   ],
   "source": [
    "# те же дейсчтвия для игр с оценкой пользователей\n",
    "data_score_PS4.plot(x='user_score', y='total_sales', kind='scatter', figsize = (10,5), \\\n",
    "                      title = 'Продажи на PS4 в зависимости от оценки пользователей');\n",
    "plt.show()\n",
    "print('Корреляция между продажами и оценками пользователей для PS4 =',\\\n",
    "      data_score_PS4['total_sales'].corr(data_score_PS4['user_score']))"
   ]
  },
  {
   "cell_type": "markdown",
   "id": "107c1e42",
   "metadata": {},
   "source": [
    "Вывод: наблюдается слабая прямая взаимосвязь между продажами игр и оценками критиков. Зависимости между продажами и оценками пользователей нет."
   ]
  },
  {
   "cell_type": "code",
   "execution_count": 27,
   "id": "1808661f",
   "metadata": {
    "scrolled": true
   },
   "outputs": [
    {
     "data": {
      "image/png": "[encoded data removed]",
      "text/plain": [
       "<Figure size 720x360 with 1 Axes>"
      ]
     },
     "metadata": {
      "needs_background": "light"
     },
     "output_type": "display_data"
    },
    {
     "name": "stdout",
     "output_type": "stream",
     "text": [
      "Корреляция между продажами и оценками критиков для XOne = 0.4104220356129637\n"
     ]
    }
   ],
   "source": [
    "# исследование взаимосвязи для XOne\n",
    "data_score_XOne = data_topical.query('critic_score > 0 & user_score > 0 & platform == \"XOne\"')\n",
    "\n",
    "data_score_XOne.plot(x='critic_score', y='total_sales', kind='scatter', figsize = (10,5), \\\n",
    "                      title = 'Продажи на XOne в зависимости от оценки критиков');\n",
    "plt.show();\n",
    "print('Корреляция между продажами и оценками критиков для XOne =',\\\n",
    "      data_score_XOne['total_sales'].corr(data_score_XOne['critic_score']))"
   ]
  },
  {
   "cell_type": "code",
   "execution_count": 28,
   "id": "fae2091b",
   "metadata": {
    "scrolled": true
   },
   "outputs": [
    {
     "data": {
      "image/png": "[encoded data removed]",
      "text/plain": [
       "<Figure size 720x360 with 1 Axes>"
      ]
     },
     "metadata": {
      "needs_background": "light"
     },
     "output_type": "display_data"
    },
    {
     "name": "stdout",
     "output_type": "stream",
     "text": [
      "Корреляция между продажами и оценками пользователей для XOne = -0.09411292985030849\n"
     ]
    }
   ],
   "source": [
    "data_score_XOne.plot(x='user_score', y='total_sales', kind='scatter', figsize = (10,5), \\\n",
    "                      title = 'Продажи на XOne в зависимости от оценки пользователей');\n",
    "plt.show()\n",
    "print('Корреляция между продажами и оценками пользователей для XOne =',\\\n",
    "      data_score_XOne['total_sales'].corr(data_score_XOne['user_score']))"
   ]
  },
  {
   "cell_type": "markdown",
   "id": "1802b3da",
   "metadata": {},
   "source": [
    "Вывод: Для платформы XOne видим аналогичный результат. Взаимосвязи продаж с оценками пользователей нет совсем, а с оценками критиков она слабая."
   ]
  },
  {
   "cell_type": "code",
   "execution_count": 29,
   "id": "35b81162",
   "metadata": {
    "scrolled": false
   },
   "outputs": [
    {
     "data": {
      "image/png": "[encoded data removed]",
      "text/plain": [
       "<Figure size 720x360 with 1 Axes>"
      ]
     },
     "metadata": {
      "needs_background": "light"
     },
     "output_type": "display_data"
    },
    {
     "name": "stdout",
     "output_type": "stream",
     "text": [
      "Корреляция между продажами и оценками критиков для остальных платформ = 0.25143683088147795\n"
     ]
    }
   ],
   "source": [
    "# изучим все остальные платформы единой группой\n",
    "data_score_other = data_topical.query('critic_score > 0 & user_score > 0 &\\\n",
    "                                       platform != \"XOne\" & platform != \"PS4\"')\n",
    "\n",
    "data_score_other.plot(x='critic_score', y='total_sales', kind='scatter', figsize = (10,5), \\\n",
    "                      title = 'Продажи на других платформах в зависимости от оценки критиков');\n",
    "plt.show()\n",
    "print('Корреляция между продажами и оценками критиков для остальных платформ =',\\\n",
    "      data_score_other['total_sales'].corr(data_score_other['critic_score']))"
   ]
  },
  {
   "cell_type": "code",
   "execution_count": 30,
   "id": "60836fbb",
   "metadata": {
    "scrolled": false
   },
   "outputs": [
    {
     "data": {
      "image/png": "[encoded data removed]",
      "text/plain": [
       "<Figure size 720x360 with 1 Axes>"
      ]
     },
     "metadata": {
      "needs_background": "light"
     },
     "output_type": "display_data"
    },
    {
     "name": "stdout",
     "output_type": "stream",
     "text": [
      "Корреляция между продажами и оценками пользователей для остальных платформ = 0.029502809422314206\n"
     ]
    }
   ],
   "source": [
    "data_score_other.plot(x='user_score', y='total_sales', kind='scatter', figsize = (10,5), \\\n",
    "                      title = 'Продажи на других платформах в зависимости от оценки пользователей');\n",
    "plt.show();\n",
    "print('Корреляция между продажами и оценками пользователей для остальных платформ =',\\\n",
    "      data_score_other['total_sales'].corr(data_score_other['user_score']))"
   ]
  },
  {
   "cell_type": "markdown",
   "id": "7ada80e6",
   "metadata": {},
   "source": [
    "Выводы не меняются. Взаимосвязь продаж по всем платформам не зависит напрямую от оценок пользоваелей и слабо зависит от оценок критиков."
   ]
  },
  {
   "cell_type": "markdown",
   "id": "5ba928b1",
   "metadata": {},
   "source": [
    "## Рассмотрим общее распределение игр по жанрам"
   ]
  },
  {
   "cell_type": "code",
   "execution_count": 31,
   "id": "3279d002",
   "metadata": {
    "scrolled": true
   },
   "outputs": [
    {
     "data": {
      "text/html": [
       "<div>\n",
       "<style scoped>\n",
       "    .dataframe tbody tr th:only-of-type {\n",
       "        vertical-align: middle;\n",
       "    }\n",
       "\n",
       "    .dataframe tbody tr th {\n",
       "        vertical-align: top;\n",
       "    }\n",
       "\n",
       "    .dataframe thead th {\n",
       "        text-align: right;\n",
       "    }\n",
       "</style>\n",
       "<table border=\"1\" class=\"dataframe\">\n",
       "  <thead>\n",
       "    <tr style=\"text-align: right;\">\n",
       "      <th></th>\n",
       "      <th>index</th>\n",
       "      <th>genre</th>\n",
       "      <th>count</th>\n",
       "      <th>sum</th>\n",
       "      <th>mean</th>\n",
       "    </tr>\n",
       "  </thead>\n",
       "  <tbody>\n",
       "    <tr>\n",
       "      <th>0</th>\n",
       "      <td>0</td>\n",
       "      <td>Action</td>\n",
       "      <td>766</td>\n",
       "      <td>321.87</td>\n",
       "      <td>0.420196</td>\n",
       "    </tr>\n",
       "    <tr>\n",
       "      <th>1</th>\n",
       "      <td>8</td>\n",
       "      <td>Shooter</td>\n",
       "      <td>187</td>\n",
       "      <td>232.98</td>\n",
       "      <td>1.245882</td>\n",
       "    </tr>\n",
       "    <tr>\n",
       "      <th>2</th>\n",
       "      <td>10</td>\n",
       "      <td>Sports</td>\n",
       "      <td>214</td>\n",
       "      <td>150.65</td>\n",
       "      <td>0.703972</td>\n",
       "    </tr>\n",
       "    <tr>\n",
       "      <th>3</th>\n",
       "      <td>7</td>\n",
       "      <td>Role-Playing</td>\n",
       "      <td>292</td>\n",
       "      <td>145.89</td>\n",
       "      <td>0.499623</td>\n",
       "    </tr>\n",
       "    <tr>\n",
       "      <th>4</th>\n",
       "      <td>3</td>\n",
       "      <td>Misc</td>\n",
       "      <td>155</td>\n",
       "      <td>62.82</td>\n",
       "      <td>0.405290</td>\n",
       "    </tr>\n",
       "    <tr>\n",
       "      <th>5</th>\n",
       "      <td>4</td>\n",
       "      <td>Platform</td>\n",
       "      <td>74</td>\n",
       "      <td>42.63</td>\n",
       "      <td>0.576081</td>\n",
       "    </tr>\n",
       "    <tr>\n",
       "      <th>6</th>\n",
       "      <td>6</td>\n",
       "      <td>Racing</td>\n",
       "      <td>85</td>\n",
       "      <td>39.89</td>\n",
       "      <td>0.469294</td>\n",
       "    </tr>\n",
       "    <tr>\n",
       "      <th>7</th>\n",
       "      <td>2</td>\n",
       "      <td>Fighting</td>\n",
       "      <td>80</td>\n",
       "      <td>35.31</td>\n",
       "      <td>0.441375</td>\n",
       "    </tr>\n",
       "    <tr>\n",
       "      <th>8</th>\n",
       "      <td>1</td>\n",
       "      <td>Adventure</td>\n",
       "      <td>245</td>\n",
       "      <td>23.64</td>\n",
       "      <td>0.096490</td>\n",
       "    </tr>\n",
       "    <tr>\n",
       "      <th>9</th>\n",
       "      <td>9</td>\n",
       "      <td>Simulation</td>\n",
       "      <td>62</td>\n",
       "      <td>21.76</td>\n",
       "      <td>0.350968</td>\n",
       "    </tr>\n",
       "    <tr>\n",
       "      <th>10</th>\n",
       "      <td>11</td>\n",
       "      <td>Strategy</td>\n",
       "      <td>56</td>\n",
       "      <td>10.08</td>\n",
       "      <td>0.180000</td>\n",
       "    </tr>\n",
       "    <tr>\n",
       "      <th>11</th>\n",
       "      <td>5</td>\n",
       "      <td>Puzzle</td>\n",
       "      <td>17</td>\n",
       "      <td>3.17</td>\n",
       "      <td>0.186471</td>\n",
       "    </tr>\n",
       "  </tbody>\n",
       "</table>\n",
       "</div>"
      ],
      "text/plain": [
       "    index         genre  count     sum      mean\n",
       "0       0        Action    766  321.87  0.420196\n",
       "1       8       Shooter    187  232.98  1.245882\n",
       "2      10        Sports    214  150.65  0.703972\n",
       "3       7  Role-Playing    292  145.89  0.499623\n",
       "4       3          Misc    155   62.82  0.405290\n",
       "5       4      Platform     74   42.63  0.576081\n",
       "6       6        Racing     85   39.89  0.469294\n",
       "7       2      Fighting     80   35.31  0.441375\n",
       "8       1     Adventure    245   23.64  0.096490\n",
       "9       9    Simulation     62   21.76  0.350968\n",
       "10     11      Strategy     56   10.08  0.180000\n",
       "11      5        Puzzle     17    3.17  0.186471"
      ]
     },
     "metadata": {},
     "output_type": "display_data"
    },
    {
     "data": {
      "text/html": [
       "<div>\n",
       "<style scoped>\n",
       "    .dataframe tbody tr th:only-of-type {\n",
       "        vertical-align: middle;\n",
       "    }\n",
       "\n",
       "    .dataframe tbody tr th {\n",
       "        vertical-align: top;\n",
       "    }\n",
       "\n",
       "    .dataframe thead th {\n",
       "        text-align: right;\n",
       "    }\n",
       "</style>\n",
       "<table border=\"1\" class=\"dataframe\">\n",
       "  <thead>\n",
       "    <tr style=\"text-align: right;\">\n",
       "      <th></th>\n",
       "      <th>index</th>\n",
       "      <th>genre</th>\n",
       "      <th>count</th>\n",
       "      <th>sum</th>\n",
       "      <th>mean</th>\n",
       "    </tr>\n",
       "  </thead>\n",
       "  <tbody>\n",
       "    <tr>\n",
       "      <th>0</th>\n",
       "      <td>8</td>\n",
       "      <td>Shooter</td>\n",
       "      <td>187</td>\n",
       "      <td>232.98</td>\n",
       "      <td>1.245882</td>\n",
       "    </tr>\n",
       "    <tr>\n",
       "      <th>1</th>\n",
       "      <td>10</td>\n",
       "      <td>Sports</td>\n",
       "      <td>214</td>\n",
       "      <td>150.65</td>\n",
       "      <td>0.703972</td>\n",
       "    </tr>\n",
       "    <tr>\n",
       "      <th>2</th>\n",
       "      <td>4</td>\n",
       "      <td>Platform</td>\n",
       "      <td>74</td>\n",
       "      <td>42.63</td>\n",
       "      <td>0.576081</td>\n",
       "    </tr>\n",
       "    <tr>\n",
       "      <th>3</th>\n",
       "      <td>7</td>\n",
       "      <td>Role-Playing</td>\n",
       "      <td>292</td>\n",
       "      <td>145.89</td>\n",
       "      <td>0.499623</td>\n",
       "    </tr>\n",
       "    <tr>\n",
       "      <th>4</th>\n",
       "      <td>6</td>\n",
       "      <td>Racing</td>\n",
       "      <td>85</td>\n",
       "      <td>39.89</td>\n",
       "      <td>0.469294</td>\n",
       "    </tr>\n",
       "    <tr>\n",
       "      <th>5</th>\n",
       "      <td>2</td>\n",
       "      <td>Fighting</td>\n",
       "      <td>80</td>\n",
       "      <td>35.31</td>\n",
       "      <td>0.441375</td>\n",
       "    </tr>\n",
       "    <tr>\n",
       "      <th>6</th>\n",
       "      <td>0</td>\n",
       "      <td>Action</td>\n",
       "      <td>766</td>\n",
       "      <td>321.87</td>\n",
       "      <td>0.420196</td>\n",
       "    </tr>\n",
       "    <tr>\n",
       "      <th>7</th>\n",
       "      <td>3</td>\n",
       "      <td>Misc</td>\n",
       "      <td>155</td>\n",
       "      <td>62.82</td>\n",
       "      <td>0.405290</td>\n",
       "    </tr>\n",
       "    <tr>\n",
       "      <th>8</th>\n",
       "      <td>9</td>\n",
       "      <td>Simulation</td>\n",
       "      <td>62</td>\n",
       "      <td>21.76</td>\n",
       "      <td>0.350968</td>\n",
       "    </tr>\n",
       "    <tr>\n",
       "      <th>9</th>\n",
       "      <td>5</td>\n",
       "      <td>Puzzle</td>\n",
       "      <td>17</td>\n",
       "      <td>3.17</td>\n",
       "      <td>0.186471</td>\n",
       "    </tr>\n",
       "    <tr>\n",
       "      <th>10</th>\n",
       "      <td>11</td>\n",
       "      <td>Strategy</td>\n",
       "      <td>56</td>\n",
       "      <td>10.08</td>\n",
       "      <td>0.180000</td>\n",
       "    </tr>\n",
       "    <tr>\n",
       "      <th>11</th>\n",
       "      <td>1</td>\n",
       "      <td>Adventure</td>\n",
       "      <td>245</td>\n",
       "      <td>23.64</td>\n",
       "      <td>0.096490</td>\n",
       "    </tr>\n",
       "  </tbody>\n",
       "</table>\n",
       "</div>"
      ],
      "text/plain": [
       "    index         genre  count     sum      mean\n",
       "0       8       Shooter    187  232.98  1.245882\n",
       "1      10        Sports    214  150.65  0.703972\n",
       "2       4      Platform     74   42.63  0.576081\n",
       "3       7  Role-Playing    292  145.89  0.499623\n",
       "4       6        Racing     85   39.89  0.469294\n",
       "5       2      Fighting     80   35.31  0.441375\n",
       "6       0        Action    766  321.87  0.420196\n",
       "7       3          Misc    155   62.82  0.405290\n",
       "8       9    Simulation     62   21.76  0.350968\n",
       "9       5        Puzzle     17    3.17  0.186471\n",
       "10     11      Strategy     56   10.08  0.180000\n",
       "11      1     Adventure    245   23.64  0.096490"
      ]
     },
     "metadata": {},
     "output_type": "display_data"
    }
   ],
   "source": [
    "# сгруппируем игры по жанрам и определи количество, суммарные продажи и среднее\n",
    "data_group_genre = data_topical.groupby('genre').agg({'total_sales':['count', 'sum', 'mean']}).reset_index()\n",
    "\n",
    "# избавимся от двухуровневых заголовков\n",
    "data_group_genre.columns = [tup[1] if tup[1] else tup[0] for tup in data_group_genre.columns]\n",
    "\n",
    "# сначала отса=ортируем датафрейм по сумме продаж в каждом жанре\n",
    "display(data_group_genre.sort_values(by='sum', ascending = False).reset_index())\n",
    "# а затем по среднему доходу с игры\n",
    "display(data_group_genre.sort_values(by='mean', ascending = False).reset_index())"
   ]
  },
  {
   "cell_type": "markdown",
   "id": "68e7c489",
   "metadata": {},
   "source": [
    "# 4 Составим портрет пользователя каждого региона"
   ]
  },
  {
   "cell_type": "markdown",
   "id": "32f548e6",
   "metadata": {},
   "source": [
    "### Проанализируем, какие платформы популярны в Северной Америке"
   ]
  },
  {
   "cell_type": "code",
   "execution_count": 32,
   "id": "8cea246e",
   "metadata": {
    "scrolled": false
   },
   "outputs": [
    {
     "data": {
      "text/html": [
       "<div>\n",
       "<style scoped>\n",
       "    .dataframe tbody tr th:only-of-type {\n",
       "        vertical-align: middle;\n",
       "    }\n",
       "\n",
       "    .dataframe tbody tr th {\n",
       "        vertical-align: top;\n",
       "    }\n",
       "\n",
       "    .dataframe thead th {\n",
       "        text-align: right;\n",
       "    }\n",
       "</style>\n",
       "<table border=\"1\" class=\"dataframe\">\n",
       "  <thead>\n",
       "    <tr style=\"text-align: right;\">\n",
       "      <th></th>\n",
       "      <th>platform</th>\n",
       "      <th>na_sales</th>\n",
       "    </tr>\n",
       "  </thead>\n",
       "  <tbody>\n",
       "    <tr>\n",
       "      <th>0</th>\n",
       "      <td>PS4</td>\n",
       "      <td>108.74</td>\n",
       "    </tr>\n",
       "    <tr>\n",
       "      <th>1</th>\n",
       "      <td>XOne</td>\n",
       "      <td>93.12</td>\n",
       "    </tr>\n",
       "    <tr>\n",
       "      <th>2</th>\n",
       "      <td>X360</td>\n",
       "      <td>81.66</td>\n",
       "    </tr>\n",
       "    <tr>\n",
       "      <th>3</th>\n",
       "      <td>PS3</td>\n",
       "      <td>63.50</td>\n",
       "    </tr>\n",
       "    <tr>\n",
       "      <th>4</th>\n",
       "      <td>3DS</td>\n",
       "      <td>38.20</td>\n",
       "    </tr>\n",
       "    <tr>\n",
       "      <th>5</th>\n",
       "      <td>other</td>\n",
       "      <td>52.49</td>\n",
       "    </tr>\n",
       "  </tbody>\n",
       "</table>\n",
       "</div>"
      ],
      "text/plain": [
       "  platform  na_sales\n",
       "0      PS4    108.74\n",
       "1     XOne     93.12\n",
       "2     X360     81.66\n",
       "3      PS3     63.50\n",
       "4      3DS     38.20\n",
       "5    other     52.49"
      ]
     },
     "metadata": {},
     "output_type": "display_data"
    },
    {
     "data": {
      "image/png": "[encoded data removed]",
      "text/plain": [
       "<Figure size 1440x432 with 1 Axes>"
      ]
     },
     "metadata": {},
     "output_type": "display_data"
    }
   ],
   "source": [
    "# сгруппируем продажи в Америке по каждой платформе\n",
    "data_na_platforms = data_topical.groupby('platform')['na_sales'].sum().reset_index()\\\n",
    "                                               .sort_values(by='na_sales', ascending = False)\n",
    "# выделим ТОП-5 лидеров\n",
    "data_na_platforms_top5 = data_na_platforms[:5]\n",
    "# остальные платформы соберем в отдельный датафрейм\n",
    "data_other_na = data_na_platforms[5:]\n",
    "# и добавим в конец строку с суммарными продажами по всем остальным платформам\n",
    "data_na_platforms_top5 = data_na_platforms_top5.append({'platform': 'other', \\\n",
    "                                                        'na_sales': data_other_na['na_sales'].sum()}, \\\n",
    "                                                       ignore_index=True)\n",
    "display(data_na_platforms_top5)\n",
    "\n",
    "fig = plt.figure(figsize=(20,6))\n",
    "plt.pie(data_na_platforms_top5['na_sales'], labels = data_na_platforms_top5['platform'], startangle=45 , \\\n",
    "        shadow='true', autopct='%1.1f%%',\n",
    "       explode=[0.1,0.1,0.1, 0.1, 0.1, 0.1]);"
   ]
  },
  {
   "cell_type": "markdown",
   "id": "10bec96b",
   "metadata": {},
   "source": [
    "Видим, что самые популярные платформы PS4, X360, XOne - они пока занимают примерно равные доли рынка. Снижается популярность PS3. Портативные консоли в Америке мало востребованы."
   ]
  },
  {
   "cell_type": "markdown",
   "id": "4bb57dda",
   "metadata": {},
   "source": [
    "### Узнаем, на чем предпочитают играть в Европе"
   ]
  },
  {
   "cell_type": "code",
   "execution_count": 33,
   "id": "9bd4419e",
   "metadata": {
    "scrolled": false
   },
   "outputs": [
    {
     "data": {
      "text/html": [
       "<div>\n",
       "<style scoped>\n",
       "    .dataframe tbody tr th:only-of-type {\n",
       "        vertical-align: middle;\n",
       "    }\n",
       "\n",
       "    .dataframe tbody tr th {\n",
       "        vertical-align: top;\n",
       "    }\n",
       "\n",
       "    .dataframe thead th {\n",
       "        text-align: right;\n",
       "    }\n",
       "</style>\n",
       "<table border=\"1\" class=\"dataframe\">\n",
       "  <thead>\n",
       "    <tr style=\"text-align: right;\">\n",
       "      <th></th>\n",
       "      <th>platform</th>\n",
       "      <th>eu_sales</th>\n",
       "    </tr>\n",
       "  </thead>\n",
       "  <tbody>\n",
       "    <tr>\n",
       "      <th>0</th>\n",
       "      <td>PS4</td>\n",
       "      <td>141.09</td>\n",
       "    </tr>\n",
       "    <tr>\n",
       "      <th>1</th>\n",
       "      <td>PS3</td>\n",
       "      <td>67.81</td>\n",
       "    </tr>\n",
       "    <tr>\n",
       "      <th>2</th>\n",
       "      <td>XOne</td>\n",
       "      <td>51.59</td>\n",
       "    </tr>\n",
       "    <tr>\n",
       "      <th>3</th>\n",
       "      <td>X360</td>\n",
       "      <td>42.52</td>\n",
       "    </tr>\n",
       "    <tr>\n",
       "      <th>4</th>\n",
       "      <td>3DS</td>\n",
       "      <td>30.96</td>\n",
       "    </tr>\n",
       "    <tr>\n",
       "      <th>5</th>\n",
       "      <td>other</td>\n",
       "      <td>58.26</td>\n",
       "    </tr>\n",
       "  </tbody>\n",
       "</table>\n",
       "</div>"
      ],
      "text/plain": [
       "  platform  eu_sales\n",
       "0      PS4    141.09\n",
       "1      PS3     67.81\n",
       "2     XOne     51.59\n",
       "3     X360     42.52\n",
       "4      3DS     30.96\n",
       "5    other     58.26"
      ]
     },
     "metadata": {},
     "output_type": "display_data"
    },
    {
     "data": {
      "image/png": "[encoded data removed]",
      "text/plain": [
       "<Figure size 1440x432 with 1 Axes>"
      ]
     },
     "metadata": {},
     "output_type": "display_data"
    }
   ],
   "source": [
    "#  сосздадим срез по продажам в Европе и сгрупируем по платформе\n",
    "data_eu_platforms = data_topical.groupby('platform')['eu_sales'].sum().reset_index()\\\n",
    "                                               .sort_values(by='eu_sales', ascending = False)\n",
    "\n",
    "# выберем ТОП-5, а остальные платформы сгруппируем вместе\n",
    "data_eu_platforms_top5 = data_eu_platforms[:5]\n",
    "data_other_eu = data_eu_platforms[5:]\n",
    "\n",
    "data_eu_platforms_top5 = data_eu_platforms_top5.append({'platform': 'other', \\\n",
    "                                                        'eu_sales': data_other_eu['eu_sales'].sum()}, \\\n",
    "                                                       ignore_index=True)\n",
    "# выведем получившийся датафрейм и построим по нему круговую диаграмму\n",
    "display(data_eu_platforms_top5)\n",
    "\n",
    "fig = plt.figure(figsize=(20,6))\n",
    "plt.pie(data_eu_platforms_top5['eu_sales'], labels = data_eu_platforms_top5['platform'], startangle=45 , \\\n",
    "        shadow='true', autopct='%1.1f%%',\n",
    "       explode=[0.1,0.1,0.1, 0.1, 0.1, 0.1]);"
   ]
  },
  {
   "cell_type": "markdown",
   "id": "497a7daf",
   "metadata": {},
   "source": [
    "В Европе лидирует все те же платформы, что и в Америке, но все таки заметно явное превосходство PS над другими приставками."
   ]
  },
  {
   "cell_type": "markdown",
   "id": "208f8e6c",
   "metadata": {},
   "source": [
    "### Определим популярные платформы в Японии"
   ]
  },
  {
   "cell_type": "code",
   "execution_count": 34,
   "id": "bae006ed",
   "metadata": {},
   "outputs": [
    {
     "data": {
      "text/html": [
       "<div>\n",
       "<style scoped>\n",
       "    .dataframe tbody tr th:only-of-type {\n",
       "        vertical-align: middle;\n",
       "    }\n",
       "\n",
       "    .dataframe tbody tr th {\n",
       "        vertical-align: top;\n",
       "    }\n",
       "\n",
       "    .dataframe thead th {\n",
       "        text-align: right;\n",
       "    }\n",
       "</style>\n",
       "<table border=\"1\" class=\"dataframe\">\n",
       "  <thead>\n",
       "    <tr style=\"text-align: right;\">\n",
       "      <th></th>\n",
       "      <th>platform</th>\n",
       "      <th>jp_sales</th>\n",
       "    </tr>\n",
       "  </thead>\n",
       "  <tbody>\n",
       "    <tr>\n",
       "      <th>0</th>\n",
       "      <td>3DS</td>\n",
       "      <td>67.81</td>\n",
       "    </tr>\n",
       "    <tr>\n",
       "      <th>1</th>\n",
       "      <td>PS3</td>\n",
       "      <td>23.35</td>\n",
       "    </tr>\n",
       "    <tr>\n",
       "      <th>2</th>\n",
       "      <td>PSV</td>\n",
       "      <td>18.59</td>\n",
       "    </tr>\n",
       "    <tr>\n",
       "      <th>3</th>\n",
       "      <td>PS4</td>\n",
       "      <td>15.96</td>\n",
       "    </tr>\n",
       "    <tr>\n",
       "      <th>4</th>\n",
       "      <td>WiiU</td>\n",
       "      <td>10.88</td>\n",
       "    </tr>\n",
       "    <tr>\n",
       "      <th>5</th>\n",
       "      <td>other</td>\n",
       "      <td>4.19</td>\n",
       "    </tr>\n",
       "  </tbody>\n",
       "</table>\n",
       "</div>"
      ],
      "text/plain": [
       "  platform  jp_sales\n",
       "0      3DS     67.81\n",
       "1      PS3     23.35\n",
       "2      PSV     18.59\n",
       "3      PS4     15.96\n",
       "4     WiiU     10.88\n",
       "5    other      4.19"
      ]
     },
     "metadata": {},
     "output_type": "display_data"
    },
    {
     "data": {
      "image/png": "[encoded data removed]",
      "text/plain": [
       "<Figure size 1440x432 with 1 Axes>"
      ]
     },
     "metadata": {},
     "output_type": "display_data"
    }
   ],
   "source": [
    "# проводим те же манипуляции: берем срез, сортируем, определяем ТОП-5\n",
    "data_jp_platforms = data_topical.groupby('platform')['jp_sales'].sum().reset_index()\\\n",
    "                                               .sort_values(by='jp_sales', ascending = False)\n",
    "data_jp_platforms_top5 = data_jp_platforms[:5]\n",
    "\n",
    "data_other_jp = data_jp_platforms[5:]\n",
    "\n",
    "data_jp_platforms_top5 = data_jp_platforms_top5.append({'platform': 'other', \\\n",
    "                                                        'jp_sales': data_other_jp['jp_sales'].sum()}, \\\n",
    "                                                       ignore_index=True)\n",
    "# выводим датафрейм и диаграмму\n",
    "display(data_jp_platforms_top5)\n",
    "\n",
    "fig = plt.figure(figsize=(20,6))\n",
    "plt.pie(data_jp_platforms_top5['jp_sales'], labels = data_jp_platforms_top5['platform'], startangle=45 , \\\n",
    "        shadow='true', autopct='%1.1f%%',\n",
    "       explode=[0.1,0.1,0.1, 0.1, 0.1, 0.1]);"
   ]
  },
  {
   "cell_type": "markdown",
   "id": "75a234a7",
   "metadata": {},
   "source": [
    "В Японии видим совсем другую картину. 70% всего игрового рынка занимают портативные консоли. Это резко отличает Японский рынок от Западного."
   ]
  },
  {
   "cell_type": "markdown",
   "id": "ad200064",
   "metadata": {},
   "source": [
    "### Узнаем самые популярные жанры в Америке"
   ]
  },
  {
   "cell_type": "code",
   "execution_count": 35,
   "id": "54bd5f43",
   "metadata": {
    "scrolled": false
   },
   "outputs": [
    {
     "data": {
      "text/html": [
       "<div>\n",
       "<style scoped>\n",
       "    .dataframe tbody tr th:only-of-type {\n",
       "        vertical-align: middle;\n",
       "    }\n",
       "\n",
       "    .dataframe tbody tr th {\n",
       "        vertical-align: top;\n",
       "    }\n",
       "\n",
       "    .dataframe thead th {\n",
       "        text-align: right;\n",
       "    }\n",
       "</style>\n",
       "<table border=\"1\" class=\"dataframe\">\n",
       "  <thead>\n",
       "    <tr style=\"text-align: right;\">\n",
       "      <th></th>\n",
       "      <th>genre</th>\n",
       "      <th>na_sales</th>\n",
       "    </tr>\n",
       "  </thead>\n",
       "  <tbody>\n",
       "    <tr>\n",
       "      <th>0</th>\n",
       "      <td>Action</td>\n",
       "      <td>126.05</td>\n",
       "    </tr>\n",
       "    <tr>\n",
       "      <th>1</th>\n",
       "      <td>Shooter</td>\n",
       "      <td>109.74</td>\n",
       "    </tr>\n",
       "    <tr>\n",
       "      <th>2</th>\n",
       "      <td>Sports</td>\n",
       "      <td>65.27</td>\n",
       "    </tr>\n",
       "    <tr>\n",
       "      <th>3</th>\n",
       "      <td>Role-Playing</td>\n",
       "      <td>46.40</td>\n",
       "    </tr>\n",
       "    <tr>\n",
       "      <th>4</th>\n",
       "      <td>Misc</td>\n",
       "      <td>27.49</td>\n",
       "    </tr>\n",
       "    <tr>\n",
       "      <th>5</th>\n",
       "      <td>other</td>\n",
       "      <td>62.76</td>\n",
       "    </tr>\n",
       "  </tbody>\n",
       "</table>\n",
       "</div>"
      ],
      "text/plain": [
       "          genre  na_sales\n",
       "0        Action    126.05\n",
       "1       Shooter    109.74\n",
       "2        Sports     65.27\n",
       "3  Role-Playing     46.40\n",
       "4          Misc     27.49\n",
       "5         other     62.76"
      ]
     },
     "metadata": {},
     "output_type": "display_data"
    },
    {
     "data": {
      "image/png": "[encoded data removed]",
      "text/plain": [
       "<Figure size 1440x432 with 1 Axes>"
      ]
     },
     "metadata": {},
     "output_type": "display_data"
    }
   ],
   "source": [
    "# на этот раз сгруппируем продажи в Америке по жанрам и выделим ТОП-5\n",
    "data_na_genre = data_topical.groupby('genre')['na_sales'].sum().reset_index()\\\n",
    "                                               .sort_values(by='na_sales', ascending = False)\n",
    "data_na_genre_top5 = data_na_genre[:5]\n",
    "\n",
    "data_other_na = data_na_genre[5:]\n",
    "\n",
    "data_na_genre_top5 = data_na_genre_top5.append({'genre': 'other', \\\n",
    "                                                        'na_sales': data_other_na['na_sales'].sum()}, \\\n",
    "                                                       ignore_index=True)\n",
    "# визуализируем полученную информацию\n",
    "display(data_na_genre_top5)\n",
    "\n",
    "fig = plt.figure(figsize=(20,6))\n",
    "plt.pie(data_na_genre_top5['na_sales'], labels = data_na_genre_top5['genre'], startangle=45 , \\\n",
    "        shadow='true', autopct='%1.1f%%',\n",
    "       explode=[0.1,0.1,0.1, 0.1, 0.1, 0.1]);"
   ]
  },
  {
   "cell_type": "markdown",
   "id": "2756de93",
   "metadata": {},
   "source": [
    "Самые популярные в жанры это Экшн, \"Стрелялки\" и Спорт."
   ]
  },
  {
   "cell_type": "markdown",
   "id": "cc50f36c",
   "metadata": {},
   "source": [
    "### Посмотрим какие прибыльные жанры игр в Европе"
   ]
  },
  {
   "cell_type": "code",
   "execution_count": 36,
   "id": "ca584958",
   "metadata": {},
   "outputs": [
    {
     "data": {
      "text/html": [
       "<div>\n",
       "<style scoped>\n",
       "    .dataframe tbody tr th:only-of-type {\n",
       "        vertical-align: middle;\n",
       "    }\n",
       "\n",
       "    .dataframe tbody tr th {\n",
       "        vertical-align: top;\n",
       "    }\n",
       "\n",
       "    .dataframe thead th {\n",
       "        text-align: right;\n",
       "    }\n",
       "</style>\n",
       "<table border=\"1\" class=\"dataframe\">\n",
       "  <thead>\n",
       "    <tr style=\"text-align: right;\">\n",
       "      <th></th>\n",
       "      <th>genre</th>\n",
       "      <th>eu_sales</th>\n",
       "    </tr>\n",
       "  </thead>\n",
       "  <tbody>\n",
       "    <tr>\n",
       "      <th>0</th>\n",
       "      <td>Action</td>\n",
       "      <td>118.13</td>\n",
       "    </tr>\n",
       "    <tr>\n",
       "      <th>1</th>\n",
       "      <td>Shooter</td>\n",
       "      <td>87.86</td>\n",
       "    </tr>\n",
       "    <tr>\n",
       "      <th>2</th>\n",
       "      <td>Sports</td>\n",
       "      <td>60.52</td>\n",
       "    </tr>\n",
       "    <tr>\n",
       "      <th>3</th>\n",
       "      <td>Role-Playing</td>\n",
       "      <td>36.97</td>\n",
       "    </tr>\n",
       "    <tr>\n",
       "      <th>4</th>\n",
       "      <td>Racing</td>\n",
       "      <td>20.19</td>\n",
       "    </tr>\n",
       "    <tr>\n",
       "      <th>5</th>\n",
       "      <td>other</td>\n",
       "      <td>68.56</td>\n",
       "    </tr>\n",
       "  </tbody>\n",
       "</table>\n",
       "</div>"
      ],
      "text/plain": [
       "          genre  eu_sales\n",
       "0        Action    118.13\n",
       "1       Shooter     87.86\n",
       "2        Sports     60.52\n",
       "3  Role-Playing     36.97\n",
       "4        Racing     20.19\n",
       "5         other     68.56"
      ]
     },
     "metadata": {},
     "output_type": "display_data"
    },
    {
     "data": {
      "image/png": "[encoded data removed]",
      "text/plain": [
       "<Figure size 1440x432 with 1 Axes>"
      ]
     },
     "metadata": {},
     "output_type": "display_data"
    }
   ],
   "source": [
    "data_eu_genre = data_topical.groupby('genre')['eu_sales'].sum().reset_index()\\\n",
    "                                               .sort_values(by='eu_sales', ascending = False)\n",
    "data_eu_genre_top5 = data_eu_genre[:5]\n",
    "\n",
    "data_other_eu = data_eu_genre[5:]\n",
    "\n",
    "data_eu_genre_top5 = data_eu_genre_top5.append({'genre': 'other', \\\n",
    "                                                        'eu_sales': data_other_eu['eu_sales'].sum()}, \\\n",
    "                                                       ignore_index=True)\n",
    "display(data_eu_genre_top5)\n",
    "\n",
    "fig = plt.figure(figsize=(20,6))\n",
    "plt.pie(data_eu_genre_top5['eu_sales'], labels = data_eu_genre_top5['genre'], startangle=45 , \\\n",
    "        shadow='true', autopct='%1.1f%%',\n",
    "       explode=[0.1,0.1,0.1, 0.1, 0.1, 0.1]);"
   ]
  },
  {
   "cell_type": "markdown",
   "id": "c2d74afd",
   "metadata": {},
   "source": [
    "Европейцы солидарны в своих предпочтениях с американцами. Им тоже больше всего нравятся динамичные игры"
   ]
  },
  {
   "cell_type": "markdown",
   "id": "18322152",
   "metadata": {},
   "source": [
    "### Интересно какие жанры предпочитают японцы"
   ]
  },
  {
   "cell_type": "code",
   "execution_count": 37,
   "id": "e873f6e2",
   "metadata": {
    "scrolled": true
   },
   "outputs": [
    {
     "data": {
      "text/html": [
       "<div>\n",
       "<style scoped>\n",
       "    .dataframe tbody tr th:only-of-type {\n",
       "        vertical-align: middle;\n",
       "    }\n",
       "\n",
       "    .dataframe tbody tr th {\n",
       "        vertical-align: top;\n",
       "    }\n",
       "\n",
       "    .dataframe thead th {\n",
       "        text-align: right;\n",
       "    }\n",
       "</style>\n",
       "<table border=\"1\" class=\"dataframe\">\n",
       "  <thead>\n",
       "    <tr style=\"text-align: right;\">\n",
       "      <th></th>\n",
       "      <th>genre</th>\n",
       "      <th>jp_sales</th>\n",
       "    </tr>\n",
       "  </thead>\n",
       "  <tbody>\n",
       "    <tr>\n",
       "      <th>0</th>\n",
       "      <td>Role-Playing</td>\n",
       "      <td>51.04</td>\n",
       "    </tr>\n",
       "    <tr>\n",
       "      <th>1</th>\n",
       "      <td>Action</td>\n",
       "      <td>40.49</td>\n",
       "    </tr>\n",
       "    <tr>\n",
       "      <th>2</th>\n",
       "      <td>Misc</td>\n",
       "      <td>9.20</td>\n",
       "    </tr>\n",
       "    <tr>\n",
       "      <th>3</th>\n",
       "      <td>Fighting</td>\n",
       "      <td>7.65</td>\n",
       "    </tr>\n",
       "    <tr>\n",
       "      <th>4</th>\n",
       "      <td>Shooter</td>\n",
       "      <td>6.61</td>\n",
       "    </tr>\n",
       "    <tr>\n",
       "      <th>5</th>\n",
       "      <td>other</td>\n",
       "      <td>25.79</td>\n",
       "    </tr>\n",
       "  </tbody>\n",
       "</table>\n",
       "</div>"
      ],
      "text/plain": [
       "          genre  jp_sales\n",
       "0  Role-Playing     51.04\n",
       "1        Action     40.49\n",
       "2          Misc      9.20\n",
       "3      Fighting      7.65\n",
       "4       Shooter      6.61\n",
       "5         other     25.79"
      ]
     },
     "metadata": {},
     "output_type": "display_data"
    },
    {
     "data": {
      "image/png": "[encoded data removed]",
      "text/plain": [
       "<Figure size 1080x432 with 1 Axes>"
      ]
     },
     "metadata": {},
     "output_type": "display_data"
    }
   ],
   "source": [
    "data_jp_genre = data_topical.groupby('genre')['jp_sales'].sum().reset_index()\\\n",
    "                                               .sort_values(by='jp_sales', ascending = False)\n",
    "data_jp_genre_top5 = data_jp_genre[:5]\n",
    "\n",
    "data_other_jp = data_jp_genre[5:]\n",
    "\n",
    "data_jp_genre_top5 = data_jp_genre_top5.append({'genre': 'other', \\\n",
    "                                                        'jp_sales': data_other_jp['jp_sales'].sum()}, \\\n",
    "                                                       ignore_index=True)\n",
    "display(data_jp_genre_top5)\n",
    "\n",
    "fig = plt.figure(figsize=(15,6))\n",
    "plt.pie(data_jp_genre_top5['jp_sales'], labels = data_jp_genre_top5['genre'], startangle=45 , \\\n",
    "        shadow='true', autopct='%1.1f%%',\n",
    "       explode=[0.1,0.1,0.1, 0.1, 0.1, 0.1]);"
   ]
  },
  {
   "cell_type": "markdown",
   "id": "64bcf96e",
   "metadata": {},
   "source": [
    "Японцы опять отличились. Наиболее популярные жанры - Ролевые и Экшн. При чем ролевые игры забирают на себя более трети всего рынка, тогда как на Западе на их долю приходилось только 10% продаж.\n",
    "А вот Спорт и \"Стрелялки\" японцам совсем не интересны, в отличие от западных пользовотелей."
   ]
  },
  {
   "cell_type": "markdown",
   "id": "d1f806e4",
   "metadata": {},
   "source": [
    "### Определим, влияет ли рейтинг ESRB на продажи в отдельном регионе"
   ]
  },
  {
   "cell_type": "code",
   "execution_count": 38,
   "id": "ecdac1bb",
   "metadata": {
    "scrolled": true
   },
   "outputs": [
    {
     "data": {
      "text/plain": [
       "without_rating    977\n",
       "M                 369\n",
       "T                 333\n",
       "E                 302\n",
       "E10+              252\n",
       "Name: rating, dtype: int64"
      ]
     },
     "execution_count": 38,
     "metadata": {},
     "output_type": "execute_result"
    }
   ],
   "source": [
    "# узнаем какие значения в столбце имеются\n",
    "data_topical['rating'].value_counts()"
   ]
  },
  {
   "cell_type": "markdown",
   "id": "15983c0b",
   "metadata": {},
   "source": [
    "Определим общие продажи по каждому рейтингу для Северной Америки"
   ]
  },
  {
   "cell_type": "code",
   "execution_count": 39,
   "id": "7a77e292",
   "metadata": {
    "scrolled": false
   },
   "outputs": [
    {
     "data": {
      "text/plain": [
       "rating\n",
       "E                  79.05\n",
       "E10+               54.24\n",
       "M                 165.21\n",
       "T                  49.79\n",
       "without_rating     89.42\n",
       "Name: na_sales, dtype: float64"
      ]
     },
     "metadata": {},
     "output_type": "display_data"
    },
    {
     "data": {
      "image/png": "[encoded data removed]",
      "text/plain": [
       "<Figure size 432x288 with 1 Axes>"
      ]
     },
     "metadata": {
      "needs_background": "light"
     },
     "output_type": "display_data"
    },
    {
     "data": {
      "image/png": "[encoded data removed]",
      "text/plain": [
       "<Figure size 1080x360 with 1 Axes>"
      ]
     },
     "metadata": {},
     "output_type": "display_data"
    }
   ],
   "source": [
    "data_rating_na = data_topical.groupby('rating')['na_sales'].sum()\n",
    "display(data_rating_na)\n",
    "\n",
    "\n",
    "data_rating_na.plot(x='rating', y = 'na_sales', kind = 'bar', \\\n",
    "                                        title = 'Продажи игр по каждому рейтингу в Северной Америке', grid= True);\n",
    "\n",
    "fig = plt.figure(figsize=(15,5))\n",
    "\n",
    "data_rating_na = data_rating_na.reset_index()                                      \n",
    "plt.pie(data_rating_na['na_sales'], labels = data_rating_na['rating'], startangle=45 , \\\n",
    "        shadow='true', autopct='%1.1f%%', explode=[0.1,0.1,0.1, 0.1, 0.1]);"
   ]
  },
  {
   "cell_type": "markdown",
   "id": "30c93860",
   "metadata": {},
   "source": [
    "В Америке наиболее популярны игры для взрослой аудитории (М) и для всех возрастов (Е). Но и игры без определенного рейтинга востребованы - их доля 20%"
   ]
  },
  {
   "cell_type": "markdown",
   "id": "4933ba90",
   "metadata": {},
   "source": [
    "Сравним продажи по каждому рейтингу в Европе"
   ]
  },
  {
   "cell_type": "code",
   "execution_count": 40,
   "id": "b7993766",
   "metadata": {},
   "outputs": [
    {
     "data": {
      "text/plain": [
       "rating\n",
       "E                  83.36\n",
       "E10+               42.69\n",
       "M                 145.32\n",
       "T                  41.95\n",
       "without_rating     78.91\n",
       "Name: eu_sales, dtype: float64"
      ]
     },
     "metadata": {},
     "output_type": "display_data"
    },
    {
     "data": {
      "image/png": "[encoded data removed]",
      "text/plain": [
       "<Figure size 432x288 with 1 Axes>"
      ]
     },
     "metadata": {
      "needs_background": "light"
     },
     "output_type": "display_data"
    },
    {
     "data": {
      "image/png": "[encoded data removed]",
      "text/plain": [
       "<Figure size 1080x360 with 1 Axes>"
      ]
     },
     "metadata": {},
     "output_type": "display_data"
    }
   ],
   "source": [
    "data_rating_eu = data_topical.groupby('rating')['eu_sales'].sum()\n",
    "display(data_rating_eu)\n",
    "\n",
    "\n",
    "data_rating_eu.plot(x='rating', y = 'eu_sales', kind = 'bar', \\\n",
    "                                        title = 'Продажи игр по каждому рейтингу в Европе', grid= True);\n",
    "\n",
    "fig = plt.figure(figsize=(15,5))\n",
    "\n",
    "data_rating_eu = data_rating_eu.reset_index()                                      \n",
    "plt.pie(data_rating_eu['eu_sales'], labels = data_rating_eu['rating'], startangle=45 , \\\n",
    "        shadow='true', autopct='%1.1f%%', explode=[0.1,0.1,0.1, 0.1, 0.1]);"
   ]
  },
  {
   "cell_type": "markdown",
   "id": "550a4b67",
   "metadata": {},
   "source": [
    "Опять видим схожесть между предпочтениями пользователей в Америке и Европе"
   ]
  },
  {
   "cell_type": "markdown",
   "id": "27c110ca",
   "metadata": {},
   "source": [
    "А теперь узнаем игры с какими рейтингами популярны в Японии"
   ]
  },
  {
   "cell_type": "code",
   "execution_count": 41,
   "id": "ce3ac843",
   "metadata": {},
   "outputs": [
    {
     "data": {
      "text/plain": [
       "rating\n",
       "E                 15.14\n",
       "E10+               5.89\n",
       "M                 14.11\n",
       "T                 20.59\n",
       "without_rating    85.05\n",
       "Name: jp_sales, dtype: float64"
      ]
     },
     "metadata": {},
     "output_type": "display_data"
    },
    {
     "data": {
      "image/png": "[encoded data removed]",
      "text/plain": [
       "<Figure size 432x288 with 1 Axes>"
      ]
     },
     "metadata": {
      "needs_background": "light"
     },
     "output_type": "display_data"
    },
    {
     "data": {
      "image/png": "[encoded data removed]",
      "text/plain": [
       "<Figure size 1080x360 with 1 Axes>"
      ]
     },
     "metadata": {},
     "output_type": "display_data"
    }
   ],
   "source": [
    "data_rating_jp = data_topical.groupby('rating')['jp_sales'].sum()\n",
    "display(data_rating_jp)\n",
    "\n",
    "\n",
    "data_rating_jp.plot(x='rating', y = 'jp_sales', kind = 'bar', \\\n",
    "                                        title = 'Продажи игр по каждому рейтингу в Японии', grid= True);\n",
    "\n",
    "fig = plt.figure(figsize=(15,5))\n",
    "\n",
    "data_rating_jp = data_rating_jp.reset_index()                                      \n",
    "plt.pie(data_rating_jp['jp_sales'], labels = data_rating_jp['rating'], startangle=45 , \\\n",
    "        shadow='true', autopct='%1.1f%%', explode=[0.1,0.1,0.1, 0.1, 0.1]);"
   ]
  },
  {
   "cell_type": "markdown",
   "id": "4321278a",
   "metadata": {},
   "source": [
    "А вот популярные игры в Японии вообще не имеют рейтинга ESRB (почти 60%). Также стоит отметить бОльшую популярность игр для подростков в сравнении с Западом."
   ]
  },
  {
   "cell_type": "markdown",
   "id": "d29b6231",
   "metadata": {},
   "source": [
    "# 5 Проверим две гипотезы"
   ]
  },
  {
   "cell_type": "markdown",
   "id": "06aa3a89",
   "metadata": {},
   "source": [
    "### Гипотеза 1:\n",
    "`Средние пользовательские рейтинги платформ Xbox One и PC одинаковые`\n",
    "\n",
    "- Нулевая гипотеза Н0 - Средние пользовательские рейтинги платформ Xbox One и PC одинаковые\n",
    "- Альтернативная гипотиза Н1- Средние пользовательские рейтинги платформ Xbox One и PC различны\n",
    "\n",
    "Примем допустимый порог в 5% - так это обычный общепринятый достоверный порог значимости результатов"
   ]
  },
  {
   "cell_type": "code",
   "execution_count": 42,
   "id": "3a8abc86",
   "metadata": {},
   "outputs": [
    {
     "name": "stdout",
     "output_type": "stream",
     "text": [
      "mean_XOne =  6.523\n",
      "mean_PC =  6.27\n"
     ]
    }
   ],
   "source": [
    "# расчитаем средние для обеих платформ\n",
    "data_XOne = data_topical.query('platform == \"XOne\" & user_score>0')['user_score']\n",
    "data_PC = data_topical.query('platform == \"PC\" & user_score>0')['user_score']\n",
    "print('mean_XOne = ', data_XOne.mean())\n",
    "print('mean_PC = ', data_PC.mean())"
   ]
  },
  {
   "cell_type": "markdown",
   "id": "30be4e92",
   "metadata": {},
   "source": [
    "Действительно расчитанные срнедние выборок очень близки."
   ]
  },
  {
   "cell_type": "markdown",
   "id": "23f0fd36",
   "metadata": {},
   "source": [
    "Проведем т-тест Стьюдента, чтобы определить вероятьсть получить такие близкие по значению средние."
   ]
  },
  {
   "cell_type": "code",
   "execution_count": 43,
   "id": "50954c56",
   "metadata": {
    "scrolled": true
   },
   "outputs": [
    {
     "name": "stdout",
     "output_type": "stream",
     "text": [
      "p-value= 0.13674832186577432\n",
      "Не получилось отвергнуть нулевую гипотезу\n"
     ]
    }
   ],
   "source": [
    "alpha = 0.05\n",
    "\n",
    "# у нас две независимые выборки, поэтому используем ttest_ind\n",
    "results = st.ttest_ind(data_XOne, data_PC, equal_var = True)\n",
    "print('p-value=', results[1])\n",
    "\n",
    "if (results[1] < alpha):\n",
    "    print(\"Отвергаем нулевую гипотезу\")\n",
    "else:\n",
    "    print(\"Не получилось отвергнуть нулевую гипотезу\")"
   ]
  },
  {
   "cell_type": "markdown",
   "id": "4f80426c",
   "metadata": {},
   "source": [
    "Вероятность того, что у двух наших выборок средние одинаковы почти 30%, поэтому у нас нет оснований, чтобы отвергнуть Н0 и принять Н1."
   ]
  },
  {
   "cell_type": "markdown",
   "id": "1fc8a772",
   "metadata": {},
   "source": [
    "### Гипотеза 2:\n",
    "`Средние пользовательские рейтинги жанров Action (англ. «действие», экшен-игры) и Sports (англ. «спортивные соревнования») разные`\n",
    "- Нулевая гипотеза Н0 - Средние пользовательские рейтинги жанров Action и Sports одинаковые\n",
    "- Альтернативная гипотиза Н1- Средние пользовательские рейтинги жанров Action и Sports различны\n"
   ]
  },
  {
   "cell_type": "code",
   "execution_count": 44,
   "id": "01759f3a",
   "metadata": {
    "scrolled": true
   },
   "outputs": [
    {
     "name": "stdout",
     "output_type": "stream",
     "text": [
      "mean_Action =  6.84\n",
      "mean_Sports =  5.24\n"
     ]
    }
   ],
   "source": [
    "# расчитаем средние\n",
    "data_Action = data_topical.query('genre == \"Action\" & user_score>0')['user_score']\n",
    "data_Sports = data_topical.query('genre == \"Sports\" & user_score>0')['user_score']\n",
    "print('mean_Action = ', data_Action.mean())\n",
    "print('mean_Sports = ', data_Sports.mean())"
   ]
  },
  {
   "cell_type": "markdown",
   "id": "26deccb8",
   "metadata": {},
   "source": [
    "Проведем т-тест Стьюдента, используя ttest_ind, так как у нас опять две независимые выборки"
   ]
  },
  {
   "cell_type": "code",
   "execution_count": 45,
   "id": "fc2086e1",
   "metadata": {},
   "outputs": [
    {
     "name": "stdout",
     "output_type": "stream",
     "text": [
      "p-value= 1.1751804617614683e-27\n",
      "Отвергаем нулевую гипотезу\n"
     ]
    }
   ],
   "source": [
    "alpha = 0.05\n",
    "\n",
    "results = st.ttest_ind(data_Action, data_Sports, equal_var = True)\n",
    "print('p-value=', results[1])\n",
    "\n",
    "if (results[1] < alpha):\n",
    "    print(\"Отвергаем нулевую гипотезу\")\n",
    "else:\n",
    "    print(\"Не получилось отвергнуть нулевую гипотезу\")"
   ]
  },
  {
   "cell_type": "markdown",
   "id": "f5f439f2",
   "metadata": {},
   "source": [
    "Верятность того, что средние в двух наших выборках будут одинаковыми - ничтожно мала. Поэтому гипотезу о том , что средние разные подтверждаем"
   ]
  },
  {
   "cell_type": "markdown",
   "id": "84edea30",
   "metadata": {},
   "source": [
    "# Общий вывод"
   ]
  },
  {
   "cell_type": "markdown",
   "id": "1fa240ca",
   "metadata": {},
   "source": [
    "Качество данных и предварительная обработка:\n",
    "- данные полученные для исследования содержали значительное количество пропусков в графах оценок критиков и пользоватлей, а также отсутствовал у многих рейтинг ESRB\n",
    "- при предобработке данных все значительные пропуски были заменены на \"заглушки\", чтобы не потерялась информативность датафрейма\n",
    "- в нескольких столбцах был изменен тип данных на более подходящий и менее емкий\n",
    "- дубликатов практически не было\n",
    "\n",
    "Общие выводы:\n",
    "- платформы имеют свой срок жизни на рынке. В большинстве случаев - это 10 лет.\n",
    "- как только в мире появляются новые технологии, платформы прошлого поколения постепенно заменяются современными платформами за 2-3 года.\n",
    "- для анализа имеет смысл использовать данные только за последние 2-3 года, так как тренды быстро меняются. Мы рассматривали только период 2013-2015 гг\n",
    "- к 2013 году на рынок вышли две современные платформы PS4 и XOne, которые будут лидерами на ближайшие пару лет точно (2016-2018 гг).\n",
    "- продажи игр не имеют особой зависимости с оценками критиков и пользователей \n",
    "- наиболее прибыльные игры в мире выпускаются в жанрах Экшн, Шутер, Ролевые игры и Спорт, но в жанре Экшн очень много игр, а популярны далеко не все. Зато Платформеров хоть и мало на рынке, в большинстве своем они очень популярны\n",
    "- пользователи в Европе и Америке похожи по своим предпочтениям: им нравятся современные стационарные консоли и игры в жанрах Экшн, Шутер и Спорт\n",
    "- японские пользователи в большинстве своем предпочитают портативные приставки и играют в Ролевые игры и Экшн\n",
    "- Пользователи Западных стран предпочитают игры с рейтингами М и Е, а вот для японцев этот рейтинг не имеет особого значения\n",
    "\n",
    "Выводы после проверки гипотез:\n",
    "- гипотеза 1: с вероятность 30% средние пользовательские рейтинги платформ Xbox One и PC одинаковые\n",
    "- гипотеза 2: верятность того, что средние пользовательские рейтинги жанров Action и Sports одинаковые - ничтожно мала.\n",
    "\n",
    "\n"
   ]
  },
  {
   "cell_type": "code",
   "execution_count": null,
   "id": "7ec43e5d",
   "metadata": {},
   "outputs": [],
   "source": []
  }
 ],
 "metadata": {
  "ExecuteTimeLog": [
   {
    "duration": 1379,
    "start_time": "2022-10-26T05:47:47.127Z"
   },
   {
    "duration": 143,
    "start_time": "2022-10-26T05:47:48.509Z"
   },
   {
    "duration": 5,
    "start_time": "2022-10-26T05:47:48.654Z"
   },
   {
    "duration": 68,
    "start_time": "2022-10-26T05:47:48.661Z"
   },
   {
    "duration": 17,
    "start_time": "2022-10-26T05:47:48.731Z"
   },
   {
    "duration": 6,
    "start_time": "2022-10-26T05:47:48.750Z"
   },
   {
    "duration": 4,
    "start_time": "2022-10-26T05:47:48.758Z"
   },
   {
    "duration": 6,
    "start_time": "2022-10-26T05:47:48.763Z"
   },
   {
    "duration": 8,
    "start_time": "2022-10-26T05:47:48.770Z"
   },
   {
    "duration": 6,
    "start_time": "2022-10-26T05:47:48.780Z"
   },
   {
    "duration": 7,
    "start_time": "2022-10-26T05:47:48.787Z"
   },
   {
    "duration": 8,
    "start_time": "2022-10-26T05:47:48.828Z"
   },
   {
    "duration": 53,
    "start_time": "2022-10-26T05:47:48.838Z"
   },
   {
    "duration": 38,
    "start_time": "2022-10-26T05:47:48.893Z"
   },
   {
    "duration": 19,
    "start_time": "2022-10-26T05:47:48.933Z"
   },
   {
    "duration": 199,
    "start_time": "2022-10-26T05:47:48.954Z"
   },
   {
    "duration": 478,
    "start_time": "2022-10-26T05:47:49.155Z"
   },
   {
    "duration": 15,
    "start_time": "2022-10-26T05:47:49.635Z"
   },
   {
    "duration": 7,
    "start_time": "2022-10-26T05:47:49.651Z"
   },
   {
    "duration": 228,
    "start_time": "2022-10-26T05:47:49.660Z"
   },
   {
    "duration": 282,
    "start_time": "2022-10-26T05:47:49.891Z"
   },
   {
    "duration": 511,
    "start_time": "2022-10-26T05:47:50.175Z"
   },
   {
    "duration": 238,
    "start_time": "2022-10-26T05:47:50.688Z"
   },
   {
    "duration": 161,
    "start_time": "2022-10-26T05:47:50.930Z"
   },
   {
    "duration": 173,
    "start_time": "2022-10-26T05:47:51.093Z"
   },
   {
    "duration": 164,
    "start_time": "2022-10-26T05:47:51.268Z"
   },
   {
    "duration": 151,
    "start_time": "2022-10-26T05:47:51.433Z"
   },
   {
    "duration": 145,
    "start_time": "2022-10-26T05:47:51.587Z"
   },
   {
    "duration": 13,
    "start_time": "2022-10-26T05:47:51.734Z"
   },
   {
    "duration": 206,
    "start_time": "2022-10-26T05:47:51.749Z"
   },
   {
    "duration": 144,
    "start_time": "2022-10-26T05:47:51.957Z"
   },
   {
    "duration": 155,
    "start_time": "2022-10-26T05:47:52.103Z"
   },
   {
    "duration": 153,
    "start_time": "2022-10-26T05:47:52.259Z"
   },
   {
    "duration": 155,
    "start_time": "2022-10-26T05:47:52.413Z"
   },
   {
    "duration": 220,
    "start_time": "2022-10-26T05:47:52.570Z"
   },
   {
    "duration": 155,
    "start_time": "2022-10-26T05:47:52.792Z"
   },
   {
    "duration": 6,
    "start_time": "2022-10-26T05:47:52.949Z"
   },
   {
    "duration": 261,
    "start_time": "2022-10-26T05:47:52.957Z"
   },
   {
    "duration": 247,
    "start_time": "2022-10-26T05:47:53.229Z"
   },
   {
    "duration": 243,
    "start_time": "2022-10-26T05:47:53.489Z"
   },
   {
    "duration": 10,
    "start_time": "2022-10-26T05:47:53.734Z"
   },
   {
    "duration": 7,
    "start_time": "2022-10-26T05:47:53.745Z"
   },
   {
    "duration": 10,
    "start_time": "2022-10-26T05:47:53.754Z"
   },
   {
    "duration": 5,
    "start_time": "2022-10-26T05:47:53.766Z"
   },
   {
    "duration": 50,
    "start_time": "2022-10-26T13:22:30.450Z"
   },
   {
    "duration": 1294,
    "start_time": "2022-10-26T13:22:57.297Z"
   },
   {
    "duration": 126,
    "start_time": "2022-10-26T13:22:58.593Z"
   },
   {
    "duration": 5,
    "start_time": "2022-10-26T13:22:58.720Z"
   },
   {
    "duration": 159,
    "start_time": "2022-10-26T13:22:58.727Z"
   },
   {
    "duration": 0,
    "start_time": "2022-10-26T13:22:58.890Z"
   },
   {
    "duration": 0,
    "start_time": "2022-10-26T13:22:58.891Z"
   },
   {
    "duration": 0,
    "start_time": "2022-10-26T13:22:58.893Z"
   },
   {
    "duration": 0,
    "start_time": "2022-10-26T13:22:58.894Z"
   },
   {
    "duration": 0,
    "start_time": "2022-10-26T13:22:58.896Z"
   },
   {
    "duration": 0,
    "start_time": "2022-10-26T13:22:58.897Z"
   },
   {
    "duration": 0,
    "start_time": "2022-10-26T13:22:58.898Z"
   },
   {
    "duration": 0,
    "start_time": "2022-10-26T13:22:58.900Z"
   },
   {
    "duration": 0,
    "start_time": "2022-10-26T13:22:58.901Z"
   },
   {
    "duration": 0,
    "start_time": "2022-10-26T13:22:58.902Z"
   },
   {
    "duration": 1,
    "start_time": "2022-10-26T13:22:58.919Z"
   },
   {
    "duration": 0,
    "start_time": "2022-10-26T13:22:58.921Z"
   },
   {
    "duration": 0,
    "start_time": "2022-10-26T13:22:58.922Z"
   },
   {
    "duration": 0,
    "start_time": "2022-10-26T13:22:58.923Z"
   },
   {
    "duration": 0,
    "start_time": "2022-10-26T13:22:58.924Z"
   },
   {
    "duration": 0,
    "start_time": "2022-10-26T13:22:58.925Z"
   },
   {
    "duration": 0,
    "start_time": "2022-10-26T13:22:58.926Z"
   },
   {
    "duration": 0,
    "start_time": "2022-10-26T13:22:58.927Z"
   },
   {
    "duration": 0,
    "start_time": "2022-10-26T13:22:58.928Z"
   },
   {
    "duration": 0,
    "start_time": "2022-10-26T13:22:58.930Z"
   },
   {
    "duration": 0,
    "start_time": "2022-10-26T13:22:58.931Z"
   },
   {
    "duration": 0,
    "start_time": "2022-10-26T13:22:58.932Z"
   },
   {
    "duration": 0,
    "start_time": "2022-10-26T13:22:58.933Z"
   },
   {
    "duration": 0,
    "start_time": "2022-10-26T13:22:58.934Z"
   },
   {
    "duration": 0,
    "start_time": "2022-10-26T13:22:58.934Z"
   },
   {
    "duration": 0,
    "start_time": "2022-10-26T13:22:58.935Z"
   },
   {
    "duration": 0,
    "start_time": "2022-10-26T13:22:58.935Z"
   },
   {
    "duration": 0,
    "start_time": "2022-10-26T13:22:58.936Z"
   },
   {
    "duration": 0,
    "start_time": "2022-10-26T13:22:58.937Z"
   },
   {
    "duration": 0,
    "start_time": "2022-10-26T13:22:58.937Z"
   },
   {
    "duration": 0,
    "start_time": "2022-10-26T13:22:58.938Z"
   },
   {
    "duration": 0,
    "start_time": "2022-10-26T13:22:58.940Z"
   },
   {
    "duration": 0,
    "start_time": "2022-10-26T13:22:58.942Z"
   },
   {
    "duration": 0,
    "start_time": "2022-10-26T13:22:58.943Z"
   },
   {
    "duration": 0,
    "start_time": "2022-10-26T13:22:58.945Z"
   },
   {
    "duration": 0,
    "start_time": "2022-10-26T13:22:58.946Z"
   },
   {
    "duration": 0,
    "start_time": "2022-10-26T13:22:58.947Z"
   },
   {
    "duration": 0,
    "start_time": "2022-10-26T13:22:58.949Z"
   },
   {
    "duration": 0,
    "start_time": "2022-10-26T13:22:58.953Z"
   },
   {
    "duration": 0,
    "start_time": "2022-10-26T13:22:58.957Z"
   },
   {
    "duration": 53,
    "start_time": "2022-10-26T13:23:41.194Z"
   },
   {
    "duration": 802,
    "start_time": "2022-10-26T13:28:56.009Z"
   },
   {
    "duration": 13,
    "start_time": "2022-10-26T13:29:28.394Z"
   },
   {
    "duration": 817,
    "start_time": "2022-10-26T13:30:57.882Z"
   },
   {
    "duration": 13,
    "start_time": "2022-10-26T13:31:09.550Z"
   },
   {
    "duration": 13,
    "start_time": "2022-10-26T13:32:00.218Z"
   },
   {
    "duration": 821,
    "start_time": "2022-10-26T13:32:42.381Z"
   },
   {
    "duration": 729,
    "start_time": "2022-10-26T13:35:37.937Z"
   },
   {
    "duration": 685,
    "start_time": "2022-10-26T13:35:46.776Z"
   },
   {
    "duration": 17,
    "start_time": "2022-10-26T13:35:58.685Z"
   },
   {
    "duration": 9,
    "start_time": "2022-10-26T13:36:32.568Z"
   },
   {
    "duration": 75,
    "start_time": "2022-10-26T13:36:53.600Z"
   },
   {
    "duration": 12,
    "start_time": "2022-10-26T13:38:29.355Z"
   },
   {
    "duration": 11,
    "start_time": "2022-10-26T13:39:11.478Z"
   },
   {
    "duration": 14,
    "start_time": "2022-10-26T13:39:21.313Z"
   },
   {
    "duration": 745,
    "start_time": "2022-10-26T13:39:39.061Z"
   },
   {
    "duration": 708,
    "start_time": "2022-10-26T13:40:47.164Z"
   },
   {
    "duration": 9,
    "start_time": "2022-10-26T13:41:54.168Z"
   },
   {
    "duration": 743,
    "start_time": "2022-10-26T13:42:57.081Z"
   },
   {
    "duration": 26,
    "start_time": "2022-10-26T13:43:12.029Z"
   },
   {
    "duration": 14,
    "start_time": "2022-10-26T13:44:57.566Z"
   },
   {
    "duration": 15,
    "start_time": "2022-10-26T13:45:46.892Z"
   },
   {
    "duration": 13,
    "start_time": "2022-10-26T13:47:45.380Z"
   },
   {
    "duration": 12,
    "start_time": "2022-10-26T13:47:53.575Z"
   },
   {
    "duration": 1104,
    "start_time": "2022-10-26T13:48:16.406Z"
   },
   {
    "duration": 116,
    "start_time": "2022-10-26T13:48:17.512Z"
   },
   {
    "duration": 4,
    "start_time": "2022-10-26T13:48:17.630Z"
   },
   {
    "duration": 85,
    "start_time": "2022-10-26T13:48:17.636Z"
   },
   {
    "duration": 13,
    "start_time": "2022-10-26T13:48:17.724Z"
   },
   {
    "duration": 21,
    "start_time": "2022-10-26T13:48:17.739Z"
   },
   {
    "duration": 6,
    "start_time": "2022-10-26T13:48:17.761Z"
   },
   {
    "duration": 9,
    "start_time": "2022-10-26T13:48:17.768Z"
   },
   {
    "duration": 10,
    "start_time": "2022-10-26T13:48:17.778Z"
   },
   {
    "duration": 18,
    "start_time": "2022-10-26T13:48:17.790Z"
   },
   {
    "duration": 15,
    "start_time": "2022-10-26T13:48:17.810Z"
   },
   {
    "duration": 13,
    "start_time": "2022-10-26T13:48:17.826Z"
   },
   {
    "duration": 22,
    "start_time": "2022-10-26T13:48:17.840Z"
   },
   {
    "duration": 72,
    "start_time": "2022-10-26T13:48:17.865Z"
   },
   {
    "duration": 15,
    "start_time": "2022-10-26T13:48:17.939Z"
   },
   {
    "duration": 16,
    "start_time": "2022-10-26T13:48:17.956Z"
   },
   {
    "duration": 223,
    "start_time": "2022-10-26T13:48:17.974Z"
   },
   {
    "duration": 479,
    "start_time": "2022-10-26T13:48:18.200Z"
   },
   {
    "duration": 20,
    "start_time": "2022-10-26T13:48:18.681Z"
   },
   {
    "duration": 9,
    "start_time": "2022-10-26T13:48:18.703Z"
   },
   {
    "duration": 241,
    "start_time": "2022-10-26T13:48:18.714Z"
   },
   {
    "duration": 345,
    "start_time": "2022-10-26T13:48:18.958Z"
   },
   {
    "duration": 430,
    "start_time": "2022-10-26T13:48:19.304Z"
   },
   {
    "duration": 234,
    "start_time": "2022-10-26T13:48:19.735Z"
   },
   {
    "duration": 155,
    "start_time": "2022-10-26T13:48:19.971Z"
   },
   {
    "duration": 163,
    "start_time": "2022-10-26T13:48:20.127Z"
   },
   {
    "duration": 164,
    "start_time": "2022-10-26T13:48:20.292Z"
   },
   {
    "duration": 155,
    "start_time": "2022-10-26T13:48:20.458Z"
   },
   {
    "duration": 133,
    "start_time": "2022-10-26T13:48:20.620Z"
   },
   {
    "duration": 11,
    "start_time": "2022-10-26T13:48:20.754Z"
   },
   {
    "duration": 207,
    "start_time": "2022-10-26T13:48:20.766Z"
   },
   {
    "duration": 147,
    "start_time": "2022-10-26T13:48:20.975Z"
   },
   {
    "duration": 149,
    "start_time": "2022-10-26T13:48:21.124Z"
   },
   {
    "duration": 157,
    "start_time": "2022-10-26T13:48:21.276Z"
   },
   {
    "duration": 156,
    "start_time": "2022-10-26T13:48:21.435Z"
   },
   {
    "duration": 230,
    "start_time": "2022-10-26T13:48:21.593Z"
   },
   {
    "duration": 163,
    "start_time": "2022-10-26T13:48:21.825Z"
   },
   {
    "duration": 6,
    "start_time": "2022-10-26T13:48:21.989Z"
   },
   {
    "duration": 297,
    "start_time": "2022-10-26T13:48:21.996Z"
   },
   {
    "duration": 232,
    "start_time": "2022-10-26T13:48:22.294Z"
   },
   {
    "duration": 271,
    "start_time": "2022-10-26T13:48:22.530Z"
   },
   {
    "duration": 9,
    "start_time": "2022-10-26T13:48:22.802Z"
   },
   {
    "duration": 15,
    "start_time": "2022-10-26T13:48:22.821Z"
   },
   {
    "duration": 19,
    "start_time": "2022-10-26T13:48:22.838Z"
   },
   {
    "duration": 11,
    "start_time": "2022-10-26T13:48:22.859Z"
   },
   {
    "duration": 265,
    "start_time": "2022-10-26T14:06:29.389Z"
   },
   {
    "duration": 429,
    "start_time": "2022-10-26T14:12:49.405Z"
   },
   {
    "duration": 382,
    "start_time": "2022-10-26T14:13:01.145Z"
   },
   {
    "duration": 497,
    "start_time": "2022-10-26T14:13:41.007Z"
   },
   {
    "duration": 371,
    "start_time": "2022-10-26T14:14:26.051Z"
   },
   {
    "duration": 251,
    "start_time": "2022-10-26T14:17:08.043Z"
   },
   {
    "duration": 50,
    "start_time": "2022-10-26T16:17:05.431Z"
   },
   {
    "duration": 1451,
    "start_time": "2022-10-26T16:17:14.284Z"
   },
   {
    "duration": 527,
    "start_time": "2022-10-26T16:17:15.737Z"
   },
   {
    "duration": 6,
    "start_time": "2022-10-26T16:17:16.266Z"
   },
   {
    "duration": 104,
    "start_time": "2022-10-26T16:17:16.274Z"
   },
   {
    "duration": 15,
    "start_time": "2022-10-26T16:17:16.380Z"
   },
   {
    "duration": 44,
    "start_time": "2022-10-26T16:17:16.396Z"
   },
   {
    "duration": 36,
    "start_time": "2022-10-26T16:17:16.442Z"
   },
   {
    "duration": 36,
    "start_time": "2022-10-26T16:17:16.479Z"
   },
   {
    "duration": 40,
    "start_time": "2022-10-26T16:17:16.517Z"
   },
   {
    "duration": 64,
    "start_time": "2022-10-26T16:17:16.560Z"
   },
   {
    "duration": 73,
    "start_time": "2022-10-26T16:17:16.625Z"
   },
   {
    "duration": 93,
    "start_time": "2022-10-26T16:17:16.700Z"
   },
   {
    "duration": 53,
    "start_time": "2022-10-26T16:17:16.795Z"
   },
   {
    "duration": 94,
    "start_time": "2022-10-26T16:17:16.850Z"
   },
   {
    "duration": 18,
    "start_time": "2022-10-26T16:17:16.946Z"
   },
   {
    "duration": 50,
    "start_time": "2022-10-26T16:17:16.966Z"
   },
   {
    "duration": 250,
    "start_time": "2022-10-26T16:17:17.018Z"
   },
   {
    "duration": 523,
    "start_time": "2022-10-26T16:17:17.270Z"
   },
   {
    "duration": 16,
    "start_time": "2022-10-26T16:17:17.796Z"
   },
   {
    "duration": 8,
    "start_time": "2022-10-26T16:17:17.814Z"
   },
   {
    "duration": 224,
    "start_time": "2022-10-26T16:17:17.824Z"
   },
   {
    "duration": 283,
    "start_time": "2022-10-26T16:17:18.050Z"
   },
   {
    "duration": 477,
    "start_time": "2022-10-26T16:17:18.335Z"
   },
   {
    "duration": 554,
    "start_time": "2022-10-26T16:17:18.814Z"
   },
   {
    "duration": 189,
    "start_time": "2022-10-26T16:17:19.369Z"
   },
   {
    "duration": 179,
    "start_time": "2022-10-26T16:17:19.560Z"
   },
   {
    "duration": 179,
    "start_time": "2022-10-26T16:17:19.741Z"
   },
   {
    "duration": 176,
    "start_time": "2022-10-26T16:17:19.924Z"
   },
   {
    "duration": 161,
    "start_time": "2022-10-26T16:17:20.102Z"
   },
   {
    "duration": 162,
    "start_time": "2022-10-26T16:17:20.265Z"
   },
   {
    "duration": 81,
    "start_time": "2022-10-26T16:17:20.428Z"
   },
   {
    "duration": 0,
    "start_time": "2022-10-26T16:17:20.511Z"
   },
   {
    "duration": 0,
    "start_time": "2022-10-26T16:17:20.512Z"
   },
   {
    "duration": 0,
    "start_time": "2022-10-26T16:17:20.513Z"
   },
   {
    "duration": 0,
    "start_time": "2022-10-26T16:17:20.514Z"
   },
   {
    "duration": 0,
    "start_time": "2022-10-26T16:17:20.515Z"
   },
   {
    "duration": 0,
    "start_time": "2022-10-26T16:17:20.517Z"
   },
   {
    "duration": 0,
    "start_time": "2022-10-26T16:17:20.517Z"
   },
   {
    "duration": 0,
    "start_time": "2022-10-26T16:17:20.518Z"
   },
   {
    "duration": 0,
    "start_time": "2022-10-26T16:17:20.520Z"
   },
   {
    "duration": 0,
    "start_time": "2022-10-26T16:17:20.521Z"
   },
   {
    "duration": 0,
    "start_time": "2022-10-26T16:17:20.522Z"
   },
   {
    "duration": 0,
    "start_time": "2022-10-26T16:17:20.523Z"
   },
   {
    "duration": 0,
    "start_time": "2022-10-26T16:17:20.524Z"
   },
   {
    "duration": 0,
    "start_time": "2022-10-26T16:17:20.525Z"
   },
   {
    "duration": 0,
    "start_time": "2022-10-26T16:17:20.527Z"
   },
   {
    "duration": 13,
    "start_time": "2022-10-26T16:27:33.348Z"
   },
   {
    "duration": 23,
    "start_time": "2022-10-26T16:30:17.627Z"
   },
   {
    "duration": 17,
    "start_time": "2022-10-26T16:37:25.174Z"
   },
   {
    "duration": 18,
    "start_time": "2022-10-26T16:39:04.330Z"
   },
   {
    "duration": 26,
    "start_time": "2022-10-26T16:39:23.392Z"
   },
   {
    "duration": 19,
    "start_time": "2022-10-26T16:39:33.142Z"
   },
   {
    "duration": 21,
    "start_time": "2022-10-26T16:47:43.193Z"
   },
   {
    "duration": 18,
    "start_time": "2022-10-26T16:48:10.469Z"
   },
   {
    "duration": 25,
    "start_time": "2022-10-26T16:48:31.131Z"
   },
   {
    "duration": 21,
    "start_time": "2022-10-26T16:51:39.227Z"
   },
   {
    "duration": 28,
    "start_time": "2022-10-26T16:51:48.419Z"
   },
   {
    "duration": 28,
    "start_time": "2022-10-26T16:52:17.757Z"
   },
   {
    "duration": 26,
    "start_time": "2022-10-26T16:55:25.767Z"
   },
   {
    "duration": 27,
    "start_time": "2022-10-26T16:55:35.351Z"
   },
   {
    "duration": 1256,
    "start_time": "2022-10-26T16:58:15.044Z"
   },
   {
    "duration": 307,
    "start_time": "2022-10-26T16:58:16.303Z"
   },
   {
    "duration": 4,
    "start_time": "2022-10-26T16:58:16.612Z"
   },
   {
    "duration": 114,
    "start_time": "2022-10-26T16:58:16.618Z"
   },
   {
    "duration": 14,
    "start_time": "2022-10-26T16:58:16.734Z"
   },
   {
    "duration": 23,
    "start_time": "2022-10-26T16:58:16.750Z"
   },
   {
    "duration": 10,
    "start_time": "2022-10-26T16:58:16.775Z"
   },
   {
    "duration": 6,
    "start_time": "2022-10-26T16:58:16.786Z"
   },
   {
    "duration": 13,
    "start_time": "2022-10-26T16:58:16.793Z"
   },
   {
    "duration": 9,
    "start_time": "2022-10-26T16:58:16.809Z"
   },
   {
    "duration": 6,
    "start_time": "2022-10-26T16:58:16.820Z"
   },
   {
    "duration": 35,
    "start_time": "2022-10-26T16:58:16.828Z"
   },
   {
    "duration": 11,
    "start_time": "2022-10-26T16:58:16.866Z"
   },
   {
    "duration": 72,
    "start_time": "2022-10-26T16:58:16.879Z"
   },
   {
    "duration": 17,
    "start_time": "2022-10-26T16:58:16.960Z"
   },
   {
    "duration": 18,
    "start_time": "2022-10-26T16:58:16.979Z"
   },
   {
    "duration": 222,
    "start_time": "2022-10-26T16:58:16.999Z"
   },
   {
    "duration": 550,
    "start_time": "2022-10-26T16:58:17.223Z"
   },
   {
    "duration": 16,
    "start_time": "2022-10-26T16:58:17.776Z"
   },
   {
    "duration": 7,
    "start_time": "2022-10-26T16:58:17.794Z"
   },
   {
    "duration": 228,
    "start_time": "2022-10-26T16:58:17.803Z"
   },
   {
    "duration": 291,
    "start_time": "2022-10-26T16:58:18.033Z"
   },
   {
    "duration": 481,
    "start_time": "2022-10-26T16:58:18.326Z"
   },
   {
    "duration": 574,
    "start_time": "2022-10-26T16:58:18.809Z"
   },
   {
    "duration": 192,
    "start_time": "2022-10-26T16:58:19.385Z"
   },
   {
    "duration": 171,
    "start_time": "2022-10-26T16:58:19.579Z"
   },
   {
    "duration": 172,
    "start_time": "2022-10-26T16:58:19.768Z"
   },
   {
    "duration": 171,
    "start_time": "2022-10-26T16:58:19.944Z"
   },
   {
    "duration": 159,
    "start_time": "2022-10-26T16:58:20.118Z"
   },
   {
    "duration": 151,
    "start_time": "2022-10-26T16:58:20.279Z"
   },
   {
    "duration": 39,
    "start_time": "2022-10-26T16:58:20.432Z"
   },
   {
    "duration": 172,
    "start_time": "2022-10-26T16:58:20.473Z"
   },
   {
    "duration": 167,
    "start_time": "2022-10-26T16:58:20.647Z"
   },
   {
    "duration": 167,
    "start_time": "2022-10-26T16:58:20.816Z"
   },
   {
    "duration": 263,
    "start_time": "2022-10-26T16:58:20.985Z"
   },
   {
    "duration": 159,
    "start_time": "2022-10-26T16:58:21.250Z"
   },
   {
    "duration": 223,
    "start_time": "2022-10-26T16:58:21.411Z"
   },
   {
    "duration": 27,
    "start_time": "2022-10-26T16:58:21.636Z"
   },
   {
    "duration": 315,
    "start_time": "2022-10-26T16:58:21.665Z"
   },
   {
    "duration": 286,
    "start_time": "2022-10-26T16:58:21.982Z"
   },
   {
    "duration": 302,
    "start_time": "2022-10-26T16:58:22.270Z"
   },
   {
    "duration": 12,
    "start_time": "2022-10-26T16:58:22.574Z"
   },
   {
    "duration": 19,
    "start_time": "2022-10-26T16:58:22.588Z"
   },
   {
    "duration": 15,
    "start_time": "2022-10-26T16:58:22.609Z"
   },
   {
    "duration": 21,
    "start_time": "2022-10-26T16:58:22.626Z"
   },
   {
    "duration": 924,
    "start_time": "2022-10-26T16:59:14.700Z"
   },
   {
    "duration": 49,
    "start_time": "2022-10-26T17:23:39.676Z"
   }
  ],
  "kernelspec": {
   "display_name": "Python 3 (ipykernel)",
   "language": "python",
   "name": "python3"
  },
  "language_info": {
   "codemirror_mode": {
    "name": "ipython",
    "version": 3
   },
   "file_extension": ".py",
   "mimetype": "text/x-python",
   "name": "python",
   "nbconvert_exporter": "python",
   "pygments_lexer": "ipython3",
   "version": "3.9.12"
  },
  "toc": {
   "base_numbering": 1,
   "nav_menu": {},
   "number_sections": true,
   "sideBar": true,
   "skip_h1_title": true,
   "title_cell": "Table of Contents",
   "title_sidebar": "Contents",
   "toc_cell": false,
   "toc_position": {},
   "toc_section_display": true,
   "toc_window_display": false
  }
 },
 "nbformat": 4,
 "nbformat_minor": 5
}
