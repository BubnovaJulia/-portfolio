{
 "cells": [
  {
   "cell_type": "markdown",
   "id": "cba90d22",
   "metadata": {},
   "source": [
    "# Проектная работа\n",
    "\n",
    "# Исследование объявлений о продаже квартир"
   ]
  },
  {
   "cell_type": "markdown",
   "id": "9488420e",
   "metadata": {},
   "source": [
    "Задача: \n",
    " - проанализировать данные сервиса Яндекс.Недвижимость — архив объявлений о продаже квартир в Санкт-Петербурге и соседних населённых пунктов за несколько лет\n",
    " - установить какие параметры и каким образом, влияющие на рыночную стоимость жилых объектов\n",
    " \n",
    "Пояcнения для входного файла:\n",
    " - для анализа доступен файл в формате .csv (`real_estate_data.csv`)\n",
    " - по каждой квартире на продажу в файле указаны два вида данных. Первые внесены пользователем, вторые — получены автоматически на основе картографических данных. Например, расстояние до центра, аэропорта, ближайшего парка. "
   ]
  },
  {
   "cell_type": "markdown",
   "id": "1915a65e",
   "metadata": {},
   "source": [
    "## Знакомство с входными данными"
   ]
  },
  {
   "cell_type": "markdown",
   "id": "9789a822",
   "metadata": {},
   "source": [
    "Прежде всего прочитаем данные `real_estate_data.csv` и выведем первые 5 строчек на экран"
   ]
  },
  {
   "cell_type": "code",
   "execution_count": 116,
   "id": "5f82869c",
   "metadata": {
    "scrolled": false
   },
   "outputs": [
    {
     "data": {
      "text/html": [
       "<div>\n",
       "<style scoped>\n",
       "    .dataframe tbody tr th:only-of-type {\n",
       "        vertical-align: middle;\n",
       "    }\n",
       "\n",
       "    .dataframe tbody tr th {\n",
       "        vertical-align: top;\n",
       "    }\n",
       "\n",
       "    .dataframe thead th {\n",
       "        text-align: right;\n",
       "    }\n",
       "</style>\n",
       "<table border=\"1\" class=\"dataframe\">\n",
       "  <thead>\n",
       "    <tr style=\"text-align: right;\">\n",
       "      <th></th>\n",
       "      <th>total_images</th>\n",
       "      <th>last_price</th>\n",
       "      <th>total_area</th>\n",
       "      <th>first_day_exposition</th>\n",
       "      <th>rooms</th>\n",
       "      <th>ceiling_height</th>\n",
       "      <th>floors_total</th>\n",
       "      <th>living_area</th>\n",
       "      <th>floor</th>\n",
       "      <th>is_apartment</th>\n",
       "      <th>...</th>\n",
       "      <th>kitchen_area</th>\n",
       "      <th>balcony</th>\n",
       "      <th>locality_name</th>\n",
       "      <th>airports_nearest</th>\n",
       "      <th>cityCenters_nearest</th>\n",
       "      <th>parks_around3000</th>\n",
       "      <th>parks_nearest</th>\n",
       "      <th>ponds_around3000</th>\n",
       "      <th>ponds_nearest</th>\n",
       "      <th>days_exposition</th>\n",
       "    </tr>\n",
       "  </thead>\n",
       "  <tbody>\n",
       "    <tr>\n",
       "      <th>0</th>\n",
       "      <td>20</td>\n",
       "      <td>13000000.0</td>\n",
       "      <td>108.0</td>\n",
       "      <td>2019-03-07T00:00:00</td>\n",
       "      <td>3</td>\n",
       "      <td>2.70</td>\n",
       "      <td>16.0</td>\n",
       "      <td>51.0</td>\n",
       "      <td>8</td>\n",
       "      <td>NaN</td>\n",
       "      <td>...</td>\n",
       "      <td>25.0</td>\n",
       "      <td>NaN</td>\n",
       "      <td>Санкт-Петербург</td>\n",
       "      <td>18863.0</td>\n",
       "      <td>16028.0</td>\n",
       "      <td>1.0</td>\n",
       "      <td>482.0</td>\n",
       "      <td>2.0</td>\n",
       "      <td>755.0</td>\n",
       "      <td>NaN</td>\n",
       "    </tr>\n",
       "    <tr>\n",
       "      <th>1</th>\n",
       "      <td>7</td>\n",
       "      <td>3350000.0</td>\n",
       "      <td>40.4</td>\n",
       "      <td>2018-12-04T00:00:00</td>\n",
       "      <td>1</td>\n",
       "      <td>NaN</td>\n",
       "      <td>11.0</td>\n",
       "      <td>18.6</td>\n",
       "      <td>1</td>\n",
       "      <td>NaN</td>\n",
       "      <td>...</td>\n",
       "      <td>11.0</td>\n",
       "      <td>2.0</td>\n",
       "      <td>посёлок Шушары</td>\n",
       "      <td>12817.0</td>\n",
       "      <td>18603.0</td>\n",
       "      <td>0.0</td>\n",
       "      <td>NaN</td>\n",
       "      <td>0.0</td>\n",
       "      <td>NaN</td>\n",
       "      <td>81.0</td>\n",
       "    </tr>\n",
       "    <tr>\n",
       "      <th>2</th>\n",
       "      <td>10</td>\n",
       "      <td>5196000.0</td>\n",
       "      <td>56.0</td>\n",
       "      <td>2015-08-20T00:00:00</td>\n",
       "      <td>2</td>\n",
       "      <td>NaN</td>\n",
       "      <td>5.0</td>\n",
       "      <td>34.3</td>\n",
       "      <td>4</td>\n",
       "      <td>NaN</td>\n",
       "      <td>...</td>\n",
       "      <td>8.3</td>\n",
       "      <td>0.0</td>\n",
       "      <td>Санкт-Петербург</td>\n",
       "      <td>21741.0</td>\n",
       "      <td>13933.0</td>\n",
       "      <td>1.0</td>\n",
       "      <td>90.0</td>\n",
       "      <td>2.0</td>\n",
       "      <td>574.0</td>\n",
       "      <td>558.0</td>\n",
       "    </tr>\n",
       "    <tr>\n",
       "      <th>3</th>\n",
       "      <td>0</td>\n",
       "      <td>64900000.0</td>\n",
       "      <td>159.0</td>\n",
       "      <td>2015-07-24T00:00:00</td>\n",
       "      <td>3</td>\n",
       "      <td>NaN</td>\n",
       "      <td>14.0</td>\n",
       "      <td>NaN</td>\n",
       "      <td>9</td>\n",
       "      <td>NaN</td>\n",
       "      <td>...</td>\n",
       "      <td>NaN</td>\n",
       "      <td>0.0</td>\n",
       "      <td>Санкт-Петербург</td>\n",
       "      <td>28098.0</td>\n",
       "      <td>6800.0</td>\n",
       "      <td>2.0</td>\n",
       "      <td>84.0</td>\n",
       "      <td>3.0</td>\n",
       "      <td>234.0</td>\n",
       "      <td>424.0</td>\n",
       "    </tr>\n",
       "    <tr>\n",
       "      <th>4</th>\n",
       "      <td>2</td>\n",
       "      <td>10000000.0</td>\n",
       "      <td>100.0</td>\n",
       "      <td>2018-06-19T00:00:00</td>\n",
       "      <td>2</td>\n",
       "      <td>3.03</td>\n",
       "      <td>14.0</td>\n",
       "      <td>32.0</td>\n",
       "      <td>13</td>\n",
       "      <td>NaN</td>\n",
       "      <td>...</td>\n",
       "      <td>41.0</td>\n",
       "      <td>NaN</td>\n",
       "      <td>Санкт-Петербург</td>\n",
       "      <td>31856.0</td>\n",
       "      <td>8098.0</td>\n",
       "      <td>2.0</td>\n",
       "      <td>112.0</td>\n",
       "      <td>1.0</td>\n",
       "      <td>48.0</td>\n",
       "      <td>121.0</td>\n",
       "    </tr>\n",
       "  </tbody>\n",
       "</table>\n",
       "<p>5 rows × 22 columns</p>\n",
       "</div>"
      ],
      "text/plain": [
       "   total_images  last_price  total_area first_day_exposition  rooms  \\\n",
       "0            20  13000000.0       108.0  2019-03-07T00:00:00      3   \n",
       "1             7   3350000.0        40.4  2018-12-04T00:00:00      1   \n",
       "2            10   5196000.0        56.0  2015-08-20T00:00:00      2   \n",
       "3             0  64900000.0       159.0  2015-07-24T00:00:00      3   \n",
       "4             2  10000000.0       100.0  2018-06-19T00:00:00      2   \n",
       "\n",
       "   ceiling_height  floors_total  living_area  floor is_apartment  ...  \\\n",
       "0            2.70          16.0         51.0      8          NaN  ...   \n",
       "1             NaN          11.0         18.6      1          NaN  ...   \n",
       "2             NaN           5.0         34.3      4          NaN  ...   \n",
       "3             NaN          14.0          NaN      9          NaN  ...   \n",
       "4            3.03          14.0         32.0     13          NaN  ...   \n",
       "\n",
       "   kitchen_area  balcony    locality_name  airports_nearest  \\\n",
       "0          25.0      NaN  Санкт-Петербург           18863.0   \n",
       "1          11.0      2.0   посёлок Шушары           12817.0   \n",
       "2           8.3      0.0  Санкт-Петербург           21741.0   \n",
       "3           NaN      0.0  Санкт-Петербург           28098.0   \n",
       "4          41.0      NaN  Санкт-Петербург           31856.0   \n",
       "\n",
       "  cityCenters_nearest  parks_around3000  parks_nearest  ponds_around3000  \\\n",
       "0             16028.0               1.0          482.0               2.0   \n",
       "1             18603.0               0.0            NaN               0.0   \n",
       "2             13933.0               1.0           90.0               2.0   \n",
       "3              6800.0               2.0           84.0               3.0   \n",
       "4              8098.0               2.0          112.0               1.0   \n",
       "\n",
       "   ponds_nearest  days_exposition  \n",
       "0          755.0              NaN  \n",
       "1            NaN             81.0  \n",
       "2          574.0            558.0  \n",
       "3          234.0            424.0  \n",
       "4           48.0            121.0  \n",
       "\n",
       "[5 rows x 22 columns]"
      ]
     },
     "metadata": {},
     "output_type": "display_data"
    }
   ],
   "source": [
    "import pandas as pd\n",
    "\n",
    "data = pd.read_csv('/Users/uliabubnova/Downloads/real_estate_data.csv', sep='\\t')\n",
    "\n",
    "display(data.head())"
   ]
  },
  {
   "cell_type": "markdown",
   "id": "79e1f25b",
   "metadata": {},
   "source": [
    "Видим, что в качестве разделителя использован символ табуляции '\\t'. \n",
    "Прочитаем файл повторно, учитывая разделитель.\n",
    "Данные запишем в переменную `data` и подробнее изучим первые 10 строк получившегося DataFrame."
   ]
  },
  {
   "cell_type": "code",
   "execution_count": 2,
   "id": "2957a3e9",
   "metadata": {
    "scrolled": false
   },
   "outputs": [
    {
     "data": {
      "text/html": [
       "<div>\n",
       "<style scoped>\n",
       "    .dataframe tbody tr th:only-of-type {\n",
       "        vertical-align: middle;\n",
       "    }\n",
       "\n",
       "    .dataframe tbody tr th {\n",
       "        vertical-align: top;\n",
       "    }\n",
       "\n",
       "    .dataframe thead th {\n",
       "        text-align: right;\n",
       "    }\n",
       "</style>\n",
       "<table border=\"1\" class=\"dataframe\">\n",
       "  <thead>\n",
       "    <tr style=\"text-align: right;\">\n",
       "      <th></th>\n",
       "      <th>total_images</th>\n",
       "      <th>last_price</th>\n",
       "      <th>total_area</th>\n",
       "      <th>first_day_exposition</th>\n",
       "      <th>rooms</th>\n",
       "      <th>ceiling_height</th>\n",
       "      <th>floors_total</th>\n",
       "      <th>living_area</th>\n",
       "      <th>floor</th>\n",
       "      <th>is_apartment</th>\n",
       "      <th>...</th>\n",
       "      <th>kitchen_area</th>\n",
       "      <th>balcony</th>\n",
       "      <th>locality_name</th>\n",
       "      <th>airports_nearest</th>\n",
       "      <th>cityCenters_nearest</th>\n",
       "      <th>parks_around3000</th>\n",
       "      <th>parks_nearest</th>\n",
       "      <th>ponds_around3000</th>\n",
       "      <th>ponds_nearest</th>\n",
       "      <th>days_exposition</th>\n",
       "    </tr>\n",
       "  </thead>\n",
       "  <tbody>\n",
       "    <tr>\n",
       "      <th>0</th>\n",
       "      <td>20</td>\n",
       "      <td>13000000.0</td>\n",
       "      <td>108.00</td>\n",
       "      <td>2019-03-07T00:00:00</td>\n",
       "      <td>3</td>\n",
       "      <td>2.70</td>\n",
       "      <td>16.0</td>\n",
       "      <td>51.00</td>\n",
       "      <td>8</td>\n",
       "      <td>NaN</td>\n",
       "      <td>...</td>\n",
       "      <td>25.00</td>\n",
       "      <td>NaN</td>\n",
       "      <td>Санкт-Петербург</td>\n",
       "      <td>18863.0</td>\n",
       "      <td>16028.0</td>\n",
       "      <td>1.0</td>\n",
       "      <td>482.0</td>\n",
       "      <td>2.0</td>\n",
       "      <td>755.0</td>\n",
       "      <td>NaN</td>\n",
       "    </tr>\n",
       "    <tr>\n",
       "      <th>1</th>\n",
       "      <td>7</td>\n",
       "      <td>3350000.0</td>\n",
       "      <td>40.40</td>\n",
       "      <td>2018-12-04T00:00:00</td>\n",
       "      <td>1</td>\n",
       "      <td>NaN</td>\n",
       "      <td>11.0</td>\n",
       "      <td>18.60</td>\n",
       "      <td>1</td>\n",
       "      <td>NaN</td>\n",
       "      <td>...</td>\n",
       "      <td>11.00</td>\n",
       "      <td>2.0</td>\n",
       "      <td>посёлок Шушары</td>\n",
       "      <td>12817.0</td>\n",
       "      <td>18603.0</td>\n",
       "      <td>0.0</td>\n",
       "      <td>NaN</td>\n",
       "      <td>0.0</td>\n",
       "      <td>NaN</td>\n",
       "      <td>81.0</td>\n",
       "    </tr>\n",
       "    <tr>\n",
       "      <th>2</th>\n",
       "      <td>10</td>\n",
       "      <td>5196000.0</td>\n",
       "      <td>56.00</td>\n",
       "      <td>2015-08-20T00:00:00</td>\n",
       "      <td>2</td>\n",
       "      <td>NaN</td>\n",
       "      <td>5.0</td>\n",
       "      <td>34.30</td>\n",
       "      <td>4</td>\n",
       "      <td>NaN</td>\n",
       "      <td>...</td>\n",
       "      <td>8.30</td>\n",
       "      <td>0.0</td>\n",
       "      <td>Санкт-Петербург</td>\n",
       "      <td>21741.0</td>\n",
       "      <td>13933.0</td>\n",
       "      <td>1.0</td>\n",
       "      <td>90.0</td>\n",
       "      <td>2.0</td>\n",
       "      <td>574.0</td>\n",
       "      <td>558.0</td>\n",
       "    </tr>\n",
       "    <tr>\n",
       "      <th>3</th>\n",
       "      <td>0</td>\n",
       "      <td>64900000.0</td>\n",
       "      <td>159.00</td>\n",
       "      <td>2015-07-24T00:00:00</td>\n",
       "      <td>3</td>\n",
       "      <td>NaN</td>\n",
       "      <td>14.0</td>\n",
       "      <td>NaN</td>\n",
       "      <td>9</td>\n",
       "      <td>NaN</td>\n",
       "      <td>...</td>\n",
       "      <td>NaN</td>\n",
       "      <td>0.0</td>\n",
       "      <td>Санкт-Петербург</td>\n",
       "      <td>28098.0</td>\n",
       "      <td>6800.0</td>\n",
       "      <td>2.0</td>\n",
       "      <td>84.0</td>\n",
       "      <td>3.0</td>\n",
       "      <td>234.0</td>\n",
       "      <td>424.0</td>\n",
       "    </tr>\n",
       "    <tr>\n",
       "      <th>4</th>\n",
       "      <td>2</td>\n",
       "      <td>10000000.0</td>\n",
       "      <td>100.00</td>\n",
       "      <td>2018-06-19T00:00:00</td>\n",
       "      <td>2</td>\n",
       "      <td>3.03</td>\n",
       "      <td>14.0</td>\n",
       "      <td>32.00</td>\n",
       "      <td>13</td>\n",
       "      <td>NaN</td>\n",
       "      <td>...</td>\n",
       "      <td>41.00</td>\n",
       "      <td>NaN</td>\n",
       "      <td>Санкт-Петербург</td>\n",
       "      <td>31856.0</td>\n",
       "      <td>8098.0</td>\n",
       "      <td>2.0</td>\n",
       "      <td>112.0</td>\n",
       "      <td>1.0</td>\n",
       "      <td>48.0</td>\n",
       "      <td>121.0</td>\n",
       "    </tr>\n",
       "    <tr>\n",
       "      <th>5</th>\n",
       "      <td>10</td>\n",
       "      <td>2890000.0</td>\n",
       "      <td>30.40</td>\n",
       "      <td>2018-09-10T00:00:00</td>\n",
       "      <td>1</td>\n",
       "      <td>NaN</td>\n",
       "      <td>12.0</td>\n",
       "      <td>14.40</td>\n",
       "      <td>5</td>\n",
       "      <td>NaN</td>\n",
       "      <td>...</td>\n",
       "      <td>9.10</td>\n",
       "      <td>NaN</td>\n",
       "      <td>городской посёлок Янино-1</td>\n",
       "      <td>NaN</td>\n",
       "      <td>NaN</td>\n",
       "      <td>NaN</td>\n",
       "      <td>NaN</td>\n",
       "      <td>NaN</td>\n",
       "      <td>NaN</td>\n",
       "      <td>55.0</td>\n",
       "    </tr>\n",
       "    <tr>\n",
       "      <th>6</th>\n",
       "      <td>6</td>\n",
       "      <td>3700000.0</td>\n",
       "      <td>37.30</td>\n",
       "      <td>2017-11-02T00:00:00</td>\n",
       "      <td>1</td>\n",
       "      <td>NaN</td>\n",
       "      <td>26.0</td>\n",
       "      <td>10.60</td>\n",
       "      <td>6</td>\n",
       "      <td>NaN</td>\n",
       "      <td>...</td>\n",
       "      <td>14.40</td>\n",
       "      <td>1.0</td>\n",
       "      <td>посёлок Парголово</td>\n",
       "      <td>52996.0</td>\n",
       "      <td>19143.0</td>\n",
       "      <td>0.0</td>\n",
       "      <td>NaN</td>\n",
       "      <td>0.0</td>\n",
       "      <td>NaN</td>\n",
       "      <td>155.0</td>\n",
       "    </tr>\n",
       "    <tr>\n",
       "      <th>7</th>\n",
       "      <td>5</td>\n",
       "      <td>7915000.0</td>\n",
       "      <td>71.60</td>\n",
       "      <td>2019-04-18T00:00:00</td>\n",
       "      <td>2</td>\n",
       "      <td>NaN</td>\n",
       "      <td>24.0</td>\n",
       "      <td>NaN</td>\n",
       "      <td>22</td>\n",
       "      <td>NaN</td>\n",
       "      <td>...</td>\n",
       "      <td>18.90</td>\n",
       "      <td>2.0</td>\n",
       "      <td>Санкт-Петербург</td>\n",
       "      <td>23982.0</td>\n",
       "      <td>11634.0</td>\n",
       "      <td>0.0</td>\n",
       "      <td>NaN</td>\n",
       "      <td>0.0</td>\n",
       "      <td>NaN</td>\n",
       "      <td>NaN</td>\n",
       "    </tr>\n",
       "    <tr>\n",
       "      <th>8</th>\n",
       "      <td>20</td>\n",
       "      <td>2900000.0</td>\n",
       "      <td>33.16</td>\n",
       "      <td>2018-05-23T00:00:00</td>\n",
       "      <td>1</td>\n",
       "      <td>NaN</td>\n",
       "      <td>27.0</td>\n",
       "      <td>15.43</td>\n",
       "      <td>26</td>\n",
       "      <td>NaN</td>\n",
       "      <td>...</td>\n",
       "      <td>8.81</td>\n",
       "      <td>NaN</td>\n",
       "      <td>посёлок Мурино</td>\n",
       "      <td>NaN</td>\n",
       "      <td>NaN</td>\n",
       "      <td>NaN</td>\n",
       "      <td>NaN</td>\n",
       "      <td>NaN</td>\n",
       "      <td>NaN</td>\n",
       "      <td>189.0</td>\n",
       "    </tr>\n",
       "    <tr>\n",
       "      <th>9</th>\n",
       "      <td>18</td>\n",
       "      <td>5400000.0</td>\n",
       "      <td>61.00</td>\n",
       "      <td>2017-02-26T00:00:00</td>\n",
       "      <td>3</td>\n",
       "      <td>2.50</td>\n",
       "      <td>9.0</td>\n",
       "      <td>43.60</td>\n",
       "      <td>7</td>\n",
       "      <td>NaN</td>\n",
       "      <td>...</td>\n",
       "      <td>6.50</td>\n",
       "      <td>2.0</td>\n",
       "      <td>Санкт-Петербург</td>\n",
       "      <td>50898.0</td>\n",
       "      <td>15008.0</td>\n",
       "      <td>0.0</td>\n",
       "      <td>NaN</td>\n",
       "      <td>0.0</td>\n",
       "      <td>NaN</td>\n",
       "      <td>289.0</td>\n",
       "    </tr>\n",
       "  </tbody>\n",
       "</table>\n",
       "<p>10 rows × 22 columns</p>\n",
       "</div>"
      ],
      "text/plain": [
       "   total_images  last_price  total_area first_day_exposition  rooms  \\\n",
       "0            20  13000000.0      108.00  2019-03-07T00:00:00      3   \n",
       "1             7   3350000.0       40.40  2018-12-04T00:00:00      1   \n",
       "2            10   5196000.0       56.00  2015-08-20T00:00:00      2   \n",
       "3             0  64900000.0      159.00  2015-07-24T00:00:00      3   \n",
       "4             2  10000000.0      100.00  2018-06-19T00:00:00      2   \n",
       "5            10   2890000.0       30.40  2018-09-10T00:00:00      1   \n",
       "6             6   3700000.0       37.30  2017-11-02T00:00:00      1   \n",
       "7             5   7915000.0       71.60  2019-04-18T00:00:00      2   \n",
       "8            20   2900000.0       33.16  2018-05-23T00:00:00      1   \n",
       "9            18   5400000.0       61.00  2017-02-26T00:00:00      3   \n",
       "\n",
       "   ceiling_height  floors_total  living_area  floor is_apartment  ...  \\\n",
       "0            2.70          16.0        51.00      8          NaN  ...   \n",
       "1             NaN          11.0        18.60      1          NaN  ...   \n",
       "2             NaN           5.0        34.30      4          NaN  ...   \n",
       "3             NaN          14.0          NaN      9          NaN  ...   \n",
       "4            3.03          14.0        32.00     13          NaN  ...   \n",
       "5             NaN          12.0        14.40      5          NaN  ...   \n",
       "6             NaN          26.0        10.60      6          NaN  ...   \n",
       "7             NaN          24.0          NaN     22          NaN  ...   \n",
       "8             NaN          27.0        15.43     26          NaN  ...   \n",
       "9            2.50           9.0        43.60      7          NaN  ...   \n",
       "\n",
       "   kitchen_area  balcony              locality_name  airports_nearest  \\\n",
       "0         25.00      NaN            Санкт-Петербург           18863.0   \n",
       "1         11.00      2.0             посёлок Шушары           12817.0   \n",
       "2          8.30      0.0            Санкт-Петербург           21741.0   \n",
       "3           NaN      0.0            Санкт-Петербург           28098.0   \n",
       "4         41.00      NaN            Санкт-Петербург           31856.0   \n",
       "5          9.10      NaN  городской посёлок Янино-1               NaN   \n",
       "6         14.40      1.0          посёлок Парголово           52996.0   \n",
       "7         18.90      2.0            Санкт-Петербург           23982.0   \n",
       "8          8.81      NaN             посёлок Мурино               NaN   \n",
       "9          6.50      2.0            Санкт-Петербург           50898.0   \n",
       "\n",
       "  cityCenters_nearest  parks_around3000  parks_nearest  ponds_around3000  \\\n",
       "0             16028.0               1.0          482.0               2.0   \n",
       "1             18603.0               0.0            NaN               0.0   \n",
       "2             13933.0               1.0           90.0               2.0   \n",
       "3              6800.0               2.0           84.0               3.0   \n",
       "4              8098.0               2.0          112.0               1.0   \n",
       "5                 NaN               NaN            NaN               NaN   \n",
       "6             19143.0               0.0            NaN               0.0   \n",
       "7             11634.0               0.0            NaN               0.0   \n",
       "8                 NaN               NaN            NaN               NaN   \n",
       "9             15008.0               0.0            NaN               0.0   \n",
       "\n",
       "   ponds_nearest  days_exposition  \n",
       "0          755.0              NaN  \n",
       "1            NaN             81.0  \n",
       "2          574.0            558.0  \n",
       "3          234.0            424.0  \n",
       "4           48.0            121.0  \n",
       "5            NaN             55.0  \n",
       "6            NaN            155.0  \n",
       "7            NaN              NaN  \n",
       "8            NaN            189.0  \n",
       "9            NaN            289.0  \n",
       "\n",
       "[10 rows x 22 columns]"
      ]
     },
     "metadata": {},
     "output_type": "display_data"
    }
   ],
   "source": [
    "data = pd.read_csv('/Users/uliabubnova/Downloads/real_estate_data.csv', sep='\\t')\n",
    "\n",
    "display(data.head(10))"
   ]
  },
  {
   "cell_type": "markdown",
   "id": "edd7ac1c",
   "metadata": {},
   "source": [
    "Первые выводы: \n",
    "- в DataFrame 22 столбца\n",
    "- во многих столбцах есть пропущенные значния (необходимо будет обрабатывать пропуски)\n",
    "- заметны несоответствия типов данных (необходимо будет изменить типы данных в некоторых столбцах)\n",
    "\n",
    "Выведем более детальную информацию о DataFrame"
   ]
  },
  {
   "cell_type": "code",
   "execution_count": 3,
   "id": "02e8b627",
   "metadata": {},
   "outputs": [
    {
     "name": "stdout",
     "output_type": "stream",
     "text": [
      "<class 'pandas.core.frame.DataFrame'>\n",
      "RangeIndex: 23699 entries, 0 to 23698\n",
      "Data columns (total 22 columns):\n",
      " #   Column                Non-Null Count  Dtype  \n",
      "---  ------                --------------  -----  \n",
      " 0   total_images          23699 non-null  int64  \n",
      " 1   last_price            23699 non-null  float64\n",
      " 2   total_area            23699 non-null  float64\n",
      " 3   first_day_exposition  23699 non-null  object \n",
      " 4   rooms                 23699 non-null  int64  \n",
      " 5   ceiling_height        14504 non-null  float64\n",
      " 6   floors_total          23613 non-null  float64\n",
      " 7   living_area           21796 non-null  float64\n",
      " 8   floor                 23699 non-null  int64  \n",
      " 9   is_apartment          2775 non-null   object \n",
      " 10  studio                23699 non-null  bool   \n",
      " 11  open_plan             23699 non-null  bool   \n",
      " 12  kitchen_area          21421 non-null  float64\n",
      " 13  balcony               12180 non-null  float64\n",
      " 14  locality_name         23650 non-null  object \n",
      " 15  airports_nearest      18157 non-null  float64\n",
      " 16  cityCenters_nearest   18180 non-null  float64\n",
      " 17  parks_around3000      18181 non-null  float64\n",
      " 18  parks_nearest         8079 non-null   float64\n",
      " 19  ponds_around3000      18181 non-null  float64\n",
      " 20  ponds_nearest         9110 non-null   float64\n",
      " 21  days_exposition       20518 non-null  float64\n",
      "dtypes: bool(2), float64(14), int64(3), object(3)\n",
      "memory usage: 3.7+ MB\n"
     ]
    }
   ],
   "source": [
    "data.info()"
   ]
  },
  {
   "cell_type": "markdown",
   "id": "7fcaabc1",
   "metadata": {},
   "source": [
    "В  DataFrame 22 столбца и 23 699 строк.\n",
    "\n",
    "На первый взгляд, требуется следующая предобработка данных: изучить и обработать пропуски, анамалии данных и неявные дубликаты в DataFrame, исключить явные дубликаты, а также поменять типы данных в некоторых столбцах.\n",
    "\n",
    "Обработать пропуски в следующих столбцах:\n",
    "- 5   `ceiling_height`\n",
    "- 6   `floors_total`\n",
    "- 7   `living_area`\n",
    "- 9   `is_apartment`\n",
    "- 12  `kitchen_area`\n",
    "- 13  `balcony`\n",
    "- 14  `locality_name`\n",
    "- 16  `cityCenters_nearest`\n",
    "- 17  `parks_around3000`\n",
    "- 18  `parks_nearest`\n",
    "- 19  `ponds_around3000`\n",
    "- 20  `ponds_nearest`\n",
    "- 21  `days_exposition`\n",
    "\n",
    "Найти и иключить всевозможные дубликаты и аномалии:\n",
    "- во всех столбцах\n",
    "\n",
    "Изменить тип данных в следующих столбцах:\n",
    "- 3   `first_day_exposition`   object  ->  datetime\n",
    "- 6   `floors_total`           float64  ->  int\n",
    "- 9   `is_apartment`           object   ->  bool\n",
    "- 13  `balcony`                float64  ->  int\n",
    "- 17  `parks_around3000`       float64  ->  int\n",
    "- 19  `ponds_around3000`       float64  ->  int\n",
    "- 21  `days_exposition`        float64  ->  int\n",
    "\n"
   ]
  },
  {
   "cell_type": "markdown",
   "id": "2acb2835",
   "metadata": {},
   "source": [
    "Построим гистограммы по датафрейму `data`, чтобы визуально оценить распределение значений по столбцам"
   ]
  },
  {
   "cell_type": "code",
   "execution_count": 4,
   "id": "3cb0cb05",
   "metadata": {
    "scrolled": true
   },
   "outputs": [
    {
     "data": {
      "image/png": "[encoded data removed]",
      "text/plain": [
       "<Figure size 1080x1440 with 20 Axes>"
      ]
     },
     "metadata": {
      "needs_background": "light"
     },
     "output_type": "display_data"
    }
   ],
   "source": [
    "data.hist(figsize=(15, 20));"
   ]
  },
  {
   "cell_type": "markdown",
   "id": "d86e1d12",
   "metadata": {},
   "source": [
    "Не везде масштаб удачный, но по получившимся гистограммам можно сделать следующие  предварительные выводы:\n",
    " - большинство продавцов добавляют 10-15 фото квартиры, редко фото в объявлении более 25 шт **- это похоже на правду**\n",
    " - цена квартир не превышает 50-70 млн руб **- масштаб неудачный, но тоже пока не противоречит истине**\n",
    " - квартиры в подавляющем большинстве площадью до 100 м.кв и имеют до 4 комнат **-похоже на правду**\n",
    " - жилая площадь в большинстве своем до 50 м.кв, а кухня около 12 м.кв **-с общей площадью хорошо соотносятся**\n",
    " - высота потолков и этажность **-выглядят реалистично**\n",
    " - заметны выбивающиеся данные по балконам (более 4ех) **-их надо изучить детальнее**\n",
    " - картографические данные **-выглядят реалистично**\n",
    " - большая часть квартир продается в течение нескольких месяцев, но по гистаграмме также заметны \"висяки\", которые продаются годами **-надо разобраться**\n",
    " "
   ]
  },
  {
   "cell_type": "code",
   "execution_count": 5,
   "id": "a134c2df",
   "metadata": {},
   "outputs": [
    {
     "name": "stderr",
     "output_type": "stream",
     "text": [
      "/var/folders/l7/dxdpx91s78qdx05dfqxw3rrr0000gn/T/ipykernel_23540/2949462084.py:2: FutureWarning: The default value of numeric_only in DataFrame.corr is deprecated. In a future version, it will default to False. Select only valid columns or specify the value of numeric_only to silence this warning.\n",
      "  data.corr()\n"
     ]
    },
    {
     "data": {
      "text/html": [
       "<div>\n",
       "<style scoped>\n",
       "    .dataframe tbody tr th:only-of-type {\n",
       "        vertical-align: middle;\n",
       "    }\n",
       "\n",
       "    .dataframe tbody tr th {\n",
       "        vertical-align: top;\n",
       "    }\n",
       "\n",
       "    .dataframe thead th {\n",
       "        text-align: right;\n",
       "    }\n",
       "</style>\n",
       "<table border=\"1\" class=\"dataframe\">\n",
       "  <thead>\n",
       "    <tr style=\"text-align: right;\">\n",
       "      <th></th>\n",
       "      <th>total_images</th>\n",
       "      <th>last_price</th>\n",
       "      <th>total_area</th>\n",
       "      <th>rooms</th>\n",
       "      <th>ceiling_height</th>\n",
       "      <th>floors_total</th>\n",
       "      <th>living_area</th>\n",
       "      <th>floor</th>\n",
       "      <th>studio</th>\n",
       "      <th>open_plan</th>\n",
       "      <th>kitchen_area</th>\n",
       "      <th>balcony</th>\n",
       "      <th>airports_nearest</th>\n",
       "      <th>cityCenters_nearest</th>\n",
       "      <th>parks_around3000</th>\n",
       "      <th>parks_nearest</th>\n",
       "      <th>ponds_around3000</th>\n",
       "      <th>ponds_nearest</th>\n",
       "      <th>days_exposition</th>\n",
       "    </tr>\n",
       "  </thead>\n",
       "  <tbody>\n",
       "    <tr>\n",
       "      <th>total_images</th>\n",
       "      <td>1.000000</td>\n",
       "      <td>0.104473</td>\n",
       "      <td>0.115352</td>\n",
       "      <td>0.099288</td>\n",
       "      <td>-0.001987</td>\n",
       "      <td>0.010427</td>\n",
       "      <td>0.104780</td>\n",
       "      <td>0.031340</td>\n",
       "      <td>-0.029303</td>\n",
       "      <td>-0.024407</td>\n",
       "      <td>0.104756</td>\n",
       "      <td>0.121693</td>\n",
       "      <td>-0.002298</td>\n",
       "      <td>-0.047666</td>\n",
       "      <td>0.021120</td>\n",
       "      <td>-0.008347</td>\n",
       "      <td>-0.011553</td>\n",
       "      <td>-0.003034</td>\n",
       "      <td>-0.026657</td>\n",
       "    </tr>\n",
       "    <tr>\n",
       "      <th>last_price</th>\n",
       "      <td>0.104473</td>\n",
       "      <td>1.000000</td>\n",
       "      <td>0.653675</td>\n",
       "      <td>0.363343</td>\n",
       "      <td>0.085430</td>\n",
       "      <td>-0.006984</td>\n",
       "      <td>0.566492</td>\n",
       "      <td>0.026576</td>\n",
       "      <td>-0.025362</td>\n",
       "      <td>-0.008802</td>\n",
       "      <td>0.519869</td>\n",
       "      <td>0.029646</td>\n",
       "      <td>-0.026239</td>\n",
       "      <td>-0.206747</td>\n",
       "      <td>0.151058</td>\n",
       "      <td>-0.016414</td>\n",
       "      <td>0.159996</td>\n",
       "      <td>-0.084809</td>\n",
       "      <td>0.081146</td>\n",
       "    </tr>\n",
       "    <tr>\n",
       "      <th>total_area</th>\n",
       "      <td>0.115352</td>\n",
       "      <td>0.653675</td>\n",
       "      <td>1.000000</td>\n",
       "      <td>0.758344</td>\n",
       "      <td>0.095490</td>\n",
       "      <td>-0.075774</td>\n",
       "      <td>0.939537</td>\n",
       "      <td>-0.024754</td>\n",
       "      <td>-0.072653</td>\n",
       "      <td>-0.034885</td>\n",
       "      <td>0.609121</td>\n",
       "      <td>0.047937</td>\n",
       "      <td>-0.030753</td>\n",
       "      <td>-0.231446</td>\n",
       "      <td>0.164689</td>\n",
       "      <td>-0.021497</td>\n",
       "      <td>0.162346</td>\n",
       "      <td>-0.097969</td>\n",
       "      <td>0.149675</td>\n",
       "    </tr>\n",
       "    <tr>\n",
       "      <th>rooms</th>\n",
       "      <td>0.099288</td>\n",
       "      <td>0.363343</td>\n",
       "      <td>0.758344</td>\n",
       "      <td>1.000000</td>\n",
       "      <td>0.054457</td>\n",
       "      <td>-0.228215</td>\n",
       "      <td>0.845977</td>\n",
       "      <td>-0.150862</td>\n",
       "      <td>-0.147286</td>\n",
       "      <td>-0.087500</td>\n",
       "      <td>0.269945</td>\n",
       "      <td>0.017991</td>\n",
       "      <td>-0.061199</td>\n",
       "      <td>-0.184864</td>\n",
       "      <td>0.137257</td>\n",
       "      <td>-0.054549</td>\n",
       "      <td>0.092693</td>\n",
       "      <td>-0.057689</td>\n",
       "      <td>0.126961</td>\n",
       "    </tr>\n",
       "    <tr>\n",
       "      <th>ceiling_height</th>\n",
       "      <td>-0.001987</td>\n",
       "      <td>0.085430</td>\n",
       "      <td>0.095490</td>\n",
       "      <td>0.054457</td>\n",
       "      <td>1.000000</td>\n",
       "      <td>-0.028732</td>\n",
       "      <td>0.090650</td>\n",
       "      <td>-0.011798</td>\n",
       "      <td>0.001674</td>\n",
       "      <td>0.042777</td>\n",
       "      <td>0.087641</td>\n",
       "      <td>0.040523</td>\n",
       "      <td>-0.023947</td>\n",
       "      <td>-0.091689</td>\n",
       "      <td>0.065915</td>\n",
       "      <td>-0.019167</td>\n",
       "      <td>0.078209</td>\n",
       "      <td>-0.059090</td>\n",
       "      <td>0.019091</td>\n",
       "    </tr>\n",
       "    <tr>\n",
       "      <th>floors_total</th>\n",
       "      <td>0.010427</td>\n",
       "      <td>-0.006984</td>\n",
       "      <td>-0.075774</td>\n",
       "      <td>-0.228215</td>\n",
       "      <td>-0.028732</td>\n",
       "      <td>1.000000</td>\n",
       "      <td>-0.169311</td>\n",
       "      <td>0.678059</td>\n",
       "      <td>0.070151</td>\n",
       "      <td>0.050791</td>\n",
       "      <td>0.163944</td>\n",
       "      <td>0.194065</td>\n",
       "      <td>0.108288</td>\n",
       "      <td>0.019774</td>\n",
       "      <td>-0.252833</td>\n",
       "      <td>0.097527</td>\n",
       "      <td>-0.122735</td>\n",
       "      <td>0.038864</td>\n",
       "      <td>-0.052234</td>\n",
       "    </tr>\n",
       "    <tr>\n",
       "      <th>living_area</th>\n",
       "      <td>0.104780</td>\n",
       "      <td>0.566492</td>\n",
       "      <td>0.939537</td>\n",
       "      <td>0.845977</td>\n",
       "      <td>0.090650</td>\n",
       "      <td>-0.169311</td>\n",
       "      <td>1.000000</td>\n",
       "      <td>-0.097210</td>\n",
       "      <td>-0.056231</td>\n",
       "      <td>-0.033711</td>\n",
       "      <td>0.428674</td>\n",
       "      <td>0.018849</td>\n",
       "      <td>-0.057912</td>\n",
       "      <td>-0.231368</td>\n",
       "      <td>0.184453</td>\n",
       "      <td>-0.050167</td>\n",
       "      <td>0.148933</td>\n",
       "      <td>-0.081674</td>\n",
       "      <td>0.142454</td>\n",
       "    </tr>\n",
       "    <tr>\n",
       "      <th>floor</th>\n",
       "      <td>0.031340</td>\n",
       "      <td>0.026576</td>\n",
       "      <td>-0.024754</td>\n",
       "      <td>-0.150862</td>\n",
       "      <td>-0.011798</td>\n",
       "      <td>0.678059</td>\n",
       "      <td>-0.097210</td>\n",
       "      <td>1.000000</td>\n",
       "      <td>0.036940</td>\n",
       "      <td>0.035824</td>\n",
       "      <td>0.135531</td>\n",
       "      <td>0.168773</td>\n",
       "      <td>0.071597</td>\n",
       "      <td>0.009084</td>\n",
       "      <td>-0.163784</td>\n",
       "      <td>0.073045</td>\n",
       "      <td>-0.076312</td>\n",
       "      <td>0.024850</td>\n",
       "      <td>-0.039463</td>\n",
       "    </tr>\n",
       "    <tr>\n",
       "      <th>studio</th>\n",
       "      <td>-0.029303</td>\n",
       "      <td>-0.025362</td>\n",
       "      <td>-0.072653</td>\n",
       "      <td>-0.147286</td>\n",
       "      <td>0.001674</td>\n",
       "      <td>0.070151</td>\n",
       "      <td>-0.056231</td>\n",
       "      <td>0.036940</td>\n",
       "      <td>1.000000</td>\n",
       "      <td>-0.004235</td>\n",
       "      <td>NaN</td>\n",
       "      <td>0.031455</td>\n",
       "      <td>-0.021876</td>\n",
       "      <td>-0.007029</td>\n",
       "      <td>-0.030202</td>\n",
       "      <td>0.009134</td>\n",
       "      <td>0.000939</td>\n",
       "      <td>0.002606</td>\n",
       "      <td>-0.022476</td>\n",
       "    </tr>\n",
       "    <tr>\n",
       "      <th>open_plan</th>\n",
       "      <td>-0.024407</td>\n",
       "      <td>-0.008802</td>\n",
       "      <td>-0.034885</td>\n",
       "      <td>-0.087500</td>\n",
       "      <td>0.042777</td>\n",
       "      <td>0.050791</td>\n",
       "      <td>-0.033711</td>\n",
       "      <td>0.035824</td>\n",
       "      <td>-0.004235</td>\n",
       "      <td>1.000000</td>\n",
       "      <td>NaN</td>\n",
       "      <td>0.019491</td>\n",
       "      <td>-0.013583</td>\n",
       "      <td>-0.004204</td>\n",
       "      <td>-0.010077</td>\n",
       "      <td>0.010612</td>\n",
       "      <td>0.008455</td>\n",
       "      <td>-0.003328</td>\n",
       "      <td>-0.024112</td>\n",
       "    </tr>\n",
       "    <tr>\n",
       "      <th>kitchen_area</th>\n",
       "      <td>0.104756</td>\n",
       "      <td>0.519869</td>\n",
       "      <td>0.609121</td>\n",
       "      <td>0.269945</td>\n",
       "      <td>0.087641</td>\n",
       "      <td>0.163944</td>\n",
       "      <td>0.428674</td>\n",
       "      <td>0.135531</td>\n",
       "      <td>NaN</td>\n",
       "      <td>NaN</td>\n",
       "      <td>1.000000</td>\n",
       "      <td>0.098634</td>\n",
       "      <td>0.008200</td>\n",
       "      <td>-0.190049</td>\n",
       "      <td>0.087503</td>\n",
       "      <td>0.029641</td>\n",
       "      <td>0.150148</td>\n",
       "      <td>-0.105223</td>\n",
       "      <td>0.100586</td>\n",
       "    </tr>\n",
       "    <tr>\n",
       "      <th>balcony</th>\n",
       "      <td>0.121693</td>\n",
       "      <td>0.029646</td>\n",
       "      <td>0.047937</td>\n",
       "      <td>0.017991</td>\n",
       "      <td>0.040523</td>\n",
       "      <td>0.194065</td>\n",
       "      <td>0.018849</td>\n",
       "      <td>0.168773</td>\n",
       "      <td>0.031455</td>\n",
       "      <td>0.019491</td>\n",
       "      <td>0.098634</td>\n",
       "      <td>1.000000</td>\n",
       "      <td>0.066834</td>\n",
       "      <td>0.051051</td>\n",
       "      <td>-0.082850</td>\n",
       "      <td>0.052328</td>\n",
       "      <td>-0.032709</td>\n",
       "      <td>0.010847</td>\n",
       "      <td>-0.032909</td>\n",
       "    </tr>\n",
       "    <tr>\n",
       "      <th>airports_nearest</th>\n",
       "      <td>-0.002298</td>\n",
       "      <td>-0.026239</td>\n",
       "      <td>-0.030753</td>\n",
       "      <td>-0.061199</td>\n",
       "      <td>-0.023947</td>\n",
       "      <td>0.108288</td>\n",
       "      <td>-0.057912</td>\n",
       "      <td>0.071597</td>\n",
       "      <td>-0.021876</td>\n",
       "      <td>-0.013583</td>\n",
       "      <td>0.008200</td>\n",
       "      <td>0.066834</td>\n",
       "      <td>1.000000</td>\n",
       "      <td>0.272184</td>\n",
       "      <td>0.000759</td>\n",
       "      <td>-0.070058</td>\n",
       "      <td>-0.049583</td>\n",
       "      <td>0.014049</td>\n",
       "      <td>-0.018271</td>\n",
       "    </tr>\n",
       "    <tr>\n",
       "      <th>cityCenters_nearest</th>\n",
       "      <td>-0.047666</td>\n",
       "      <td>-0.206747</td>\n",
       "      <td>-0.231446</td>\n",
       "      <td>-0.184864</td>\n",
       "      <td>-0.091689</td>\n",
       "      <td>0.019774</td>\n",
       "      <td>-0.231368</td>\n",
       "      <td>0.009084</td>\n",
       "      <td>-0.007029</td>\n",
       "      <td>-0.004204</td>\n",
       "      <td>-0.190049</td>\n",
       "      <td>0.051051</td>\n",
       "      <td>0.272184</td>\n",
       "      <td>1.000000</td>\n",
       "      <td>-0.161738</td>\n",
       "      <td>-0.040650</td>\n",
       "      <td>-0.074577</td>\n",
       "      <td>0.028903</td>\n",
       "      <td>-0.060714</td>\n",
       "    </tr>\n",
       "    <tr>\n",
       "      <th>parks_around3000</th>\n",
       "      <td>0.021120</td>\n",
       "      <td>0.151058</td>\n",
       "      <td>0.164689</td>\n",
       "      <td>0.137257</td>\n",
       "      <td>0.065915</td>\n",
       "      <td>-0.252833</td>\n",
       "      <td>0.184453</td>\n",
       "      <td>-0.163784</td>\n",
       "      <td>-0.030202</td>\n",
       "      <td>-0.010077</td>\n",
       "      <td>0.087503</td>\n",
       "      <td>-0.082850</td>\n",
       "      <td>0.000759</td>\n",
       "      <td>-0.161738</td>\n",
       "      <td>1.000000</td>\n",
       "      <td>-0.259514</td>\n",
       "      <td>0.304316</td>\n",
       "      <td>-0.167103</td>\n",
       "      <td>0.060491</td>\n",
       "    </tr>\n",
       "    <tr>\n",
       "      <th>parks_nearest</th>\n",
       "      <td>-0.008347</td>\n",
       "      <td>-0.016414</td>\n",
       "      <td>-0.021497</td>\n",
       "      <td>-0.054549</td>\n",
       "      <td>-0.019167</td>\n",
       "      <td>0.097527</td>\n",
       "      <td>-0.050167</td>\n",
       "      <td>0.073045</td>\n",
       "      <td>0.009134</td>\n",
       "      <td>0.010612</td>\n",
       "      <td>0.029641</td>\n",
       "      <td>0.052328</td>\n",
       "      <td>-0.070058</td>\n",
       "      <td>-0.040650</td>\n",
       "      <td>-0.259514</td>\n",
       "      <td>1.000000</td>\n",
       "      <td>0.077280</td>\n",
       "      <td>0.000692</td>\n",
       "      <td>0.023254</td>\n",
       "    </tr>\n",
       "    <tr>\n",
       "      <th>ponds_around3000</th>\n",
       "      <td>-0.011553</td>\n",
       "      <td>0.159996</td>\n",
       "      <td>0.162346</td>\n",
       "      <td>0.092693</td>\n",
       "      <td>0.078209</td>\n",
       "      <td>-0.122735</td>\n",
       "      <td>0.148933</td>\n",
       "      <td>-0.076312</td>\n",
       "      <td>0.000939</td>\n",
       "      <td>0.008455</td>\n",
       "      <td>0.150148</td>\n",
       "      <td>-0.032709</td>\n",
       "      <td>-0.049583</td>\n",
       "      <td>-0.074577</td>\n",
       "      <td>0.304316</td>\n",
       "      <td>0.077280</td>\n",
       "      <td>1.000000</td>\n",
       "      <td>-0.341840</td>\n",
       "      <td>0.073162</td>\n",
       "    </tr>\n",
       "    <tr>\n",
       "      <th>ponds_nearest</th>\n",
       "      <td>-0.003034</td>\n",
       "      <td>-0.084809</td>\n",
       "      <td>-0.097969</td>\n",
       "      <td>-0.057689</td>\n",
       "      <td>-0.059090</td>\n",
       "      <td>0.038864</td>\n",
       "      <td>-0.081674</td>\n",
       "      <td>0.024850</td>\n",
       "      <td>0.002606</td>\n",
       "      <td>-0.003328</td>\n",
       "      <td>-0.105223</td>\n",
       "      <td>0.010847</td>\n",
       "      <td>0.014049</td>\n",
       "      <td>0.028903</td>\n",
       "      <td>-0.167103</td>\n",
       "      <td>0.000692</td>\n",
       "      <td>-0.341840</td>\n",
       "      <td>1.000000</td>\n",
       "      <td>-0.077879</td>\n",
       "    </tr>\n",
       "    <tr>\n",
       "      <th>days_exposition</th>\n",
       "      <td>-0.026657</td>\n",
       "      <td>0.081146</td>\n",
       "      <td>0.149675</td>\n",
       "      <td>0.126961</td>\n",
       "      <td>0.019091</td>\n",
       "      <td>-0.052234</td>\n",
       "      <td>0.142454</td>\n",
       "      <td>-0.039463</td>\n",
       "      <td>-0.022476</td>\n",
       "      <td>-0.024112</td>\n",
       "      <td>0.100586</td>\n",
       "      <td>-0.032909</td>\n",
       "      <td>-0.018271</td>\n",
       "      <td>-0.060714</td>\n",
       "      <td>0.060491</td>\n",
       "      <td>0.023254</td>\n",
       "      <td>0.073162</td>\n",
       "      <td>-0.077879</td>\n",
       "      <td>1.000000</td>\n",
       "    </tr>\n",
       "  </tbody>\n",
       "</table>\n",
       "</div>"
      ],
      "text/plain": [
       "                     total_images  last_price  total_area     rooms  \\\n",
       "total_images             1.000000    0.104473    0.115352  0.099288   \n",
       "last_price               0.104473    1.000000    0.653675  0.363343   \n",
       "total_area               0.115352    0.653675    1.000000  0.758344   \n",
       "rooms                    0.099288    0.363343    0.758344  1.000000   \n",
       "ceiling_height          -0.001987    0.085430    0.095490  0.054457   \n",
       "floors_total             0.010427   -0.006984   -0.075774 -0.228215   \n",
       "living_area              0.104780    0.566492    0.939537  0.845977   \n",
       "floor                    0.031340    0.026576   -0.024754 -0.150862   \n",
       "studio                  -0.029303   -0.025362   -0.072653 -0.147286   \n",
       "open_plan               -0.024407   -0.008802   -0.034885 -0.087500   \n",
       "kitchen_area             0.104756    0.519869    0.609121  0.269945   \n",
       "balcony                  0.121693    0.029646    0.047937  0.017991   \n",
       "airports_nearest        -0.002298   -0.026239   -0.030753 -0.061199   \n",
       "cityCenters_nearest     -0.047666   -0.206747   -0.231446 -0.184864   \n",
       "parks_around3000         0.021120    0.151058    0.164689  0.137257   \n",
       "parks_nearest           -0.008347   -0.016414   -0.021497 -0.054549   \n",
       "ponds_around3000        -0.011553    0.159996    0.162346  0.092693   \n",
       "ponds_nearest           -0.003034   -0.084809   -0.097969 -0.057689   \n",
       "days_exposition         -0.026657    0.081146    0.149675  0.126961   \n",
       "\n",
       "                     ceiling_height  floors_total  living_area     floor  \\\n",
       "total_images              -0.001987      0.010427     0.104780  0.031340   \n",
       "last_price                 0.085430     -0.006984     0.566492  0.026576   \n",
       "total_area                 0.095490     -0.075774     0.939537 -0.024754   \n",
       "rooms                      0.054457     -0.228215     0.845977 -0.150862   \n",
       "ceiling_height             1.000000     -0.028732     0.090650 -0.011798   \n",
       "floors_total              -0.028732      1.000000    -0.169311  0.678059   \n",
       "living_area                0.090650     -0.169311     1.000000 -0.097210   \n",
       "floor                     -0.011798      0.678059    -0.097210  1.000000   \n",
       "studio                     0.001674      0.070151    -0.056231  0.036940   \n",
       "open_plan                  0.042777      0.050791    -0.033711  0.035824   \n",
       "kitchen_area               0.087641      0.163944     0.428674  0.135531   \n",
       "balcony                    0.040523      0.194065     0.018849  0.168773   \n",
       "airports_nearest          -0.023947      0.108288    -0.057912  0.071597   \n",
       "cityCenters_nearest       -0.091689      0.019774    -0.231368  0.009084   \n",
       "parks_around3000           0.065915     -0.252833     0.184453 -0.163784   \n",
       "parks_nearest             -0.019167      0.097527    -0.050167  0.073045   \n",
       "ponds_around3000           0.078209     -0.122735     0.148933 -0.076312   \n",
       "ponds_nearest             -0.059090      0.038864    -0.081674  0.024850   \n",
       "days_exposition            0.019091     -0.052234     0.142454 -0.039463   \n",
       "\n",
       "                       studio  open_plan  kitchen_area   balcony  \\\n",
       "total_images        -0.029303  -0.024407      0.104756  0.121693   \n",
       "last_price          -0.025362  -0.008802      0.519869  0.029646   \n",
       "total_area          -0.072653  -0.034885      0.609121  0.047937   \n",
       "rooms               -0.147286  -0.087500      0.269945  0.017991   \n",
       "ceiling_height       0.001674   0.042777      0.087641  0.040523   \n",
       "floors_total         0.070151   0.050791      0.163944  0.194065   \n",
       "living_area         -0.056231  -0.033711      0.428674  0.018849   \n",
       "floor                0.036940   0.035824      0.135531  0.168773   \n",
       "studio               1.000000  -0.004235           NaN  0.031455   \n",
       "open_plan           -0.004235   1.000000           NaN  0.019491   \n",
       "kitchen_area              NaN        NaN      1.000000  0.098634   \n",
       "balcony              0.031455   0.019491      0.098634  1.000000   \n",
       "airports_nearest    -0.021876  -0.013583      0.008200  0.066834   \n",
       "cityCenters_nearest -0.007029  -0.004204     -0.190049  0.051051   \n",
       "parks_around3000    -0.030202  -0.010077      0.087503 -0.082850   \n",
       "parks_nearest        0.009134   0.010612      0.029641  0.052328   \n",
       "ponds_around3000     0.000939   0.008455      0.150148 -0.032709   \n",
       "ponds_nearest        0.002606  -0.003328     -0.105223  0.010847   \n",
       "days_exposition     -0.022476  -0.024112      0.100586 -0.032909   \n",
       "\n",
       "                     airports_nearest  cityCenters_nearest  parks_around3000  \\\n",
       "total_images                -0.002298            -0.047666          0.021120   \n",
       "last_price                  -0.026239            -0.206747          0.151058   \n",
       "total_area                  -0.030753            -0.231446          0.164689   \n",
       "rooms                       -0.061199            -0.184864          0.137257   \n",
       "ceiling_height              -0.023947            -0.091689          0.065915   \n",
       "floors_total                 0.108288             0.019774         -0.252833   \n",
       "living_area                 -0.057912            -0.231368          0.184453   \n",
       "floor                        0.071597             0.009084         -0.163784   \n",
       "studio                      -0.021876            -0.007029         -0.030202   \n",
       "open_plan                   -0.013583            -0.004204         -0.010077   \n",
       "kitchen_area                 0.008200            -0.190049          0.087503   \n",
       "balcony                      0.066834             0.051051         -0.082850   \n",
       "airports_nearest             1.000000             0.272184          0.000759   \n",
       "cityCenters_nearest          0.272184             1.000000         -0.161738   \n",
       "parks_around3000             0.000759            -0.161738          1.000000   \n",
       "parks_nearest               -0.070058            -0.040650         -0.259514   \n",
       "ponds_around3000            -0.049583            -0.074577          0.304316   \n",
       "ponds_nearest                0.014049             0.028903         -0.167103   \n",
       "days_exposition             -0.018271            -0.060714          0.060491   \n",
       "\n",
       "                     parks_nearest  ponds_around3000  ponds_nearest  \\\n",
       "total_images             -0.008347         -0.011553      -0.003034   \n",
       "last_price               -0.016414          0.159996      -0.084809   \n",
       "total_area               -0.021497          0.162346      -0.097969   \n",
       "rooms                    -0.054549          0.092693      -0.057689   \n",
       "ceiling_height           -0.019167          0.078209      -0.059090   \n",
       "floors_total              0.097527         -0.122735       0.038864   \n",
       "living_area              -0.050167          0.148933      -0.081674   \n",
       "floor                     0.073045         -0.076312       0.024850   \n",
       "studio                    0.009134          0.000939       0.002606   \n",
       "open_plan                 0.010612          0.008455      -0.003328   \n",
       "kitchen_area              0.029641          0.150148      -0.105223   \n",
       "balcony                   0.052328         -0.032709       0.010847   \n",
       "airports_nearest         -0.070058         -0.049583       0.014049   \n",
       "cityCenters_nearest      -0.040650         -0.074577       0.028903   \n",
       "parks_around3000         -0.259514          0.304316      -0.167103   \n",
       "parks_nearest             1.000000          0.077280       0.000692   \n",
       "ponds_around3000          0.077280          1.000000      -0.341840   \n",
       "ponds_nearest             0.000692         -0.341840       1.000000   \n",
       "days_exposition           0.023254          0.073162      -0.077879   \n",
       "\n",
       "                     days_exposition  \n",
       "total_images               -0.026657  \n",
       "last_price                  0.081146  \n",
       "total_area                  0.149675  \n",
       "rooms                       0.126961  \n",
       "ceiling_height              0.019091  \n",
       "floors_total               -0.052234  \n",
       "living_area                 0.142454  \n",
       "floor                      -0.039463  \n",
       "studio                     -0.022476  \n",
       "open_plan                  -0.024112  \n",
       "kitchen_area                0.100586  \n",
       "balcony                    -0.032909  \n",
       "airports_nearest           -0.018271  \n",
       "cityCenters_nearest        -0.060714  \n",
       "parks_around3000            0.060491  \n",
       "parks_nearest               0.023254  \n",
       "ponds_around3000            0.073162  \n",
       "ponds_nearest              -0.077879  \n",
       "days_exposition             1.000000  "
      ]
     },
     "execution_count": 5,
     "metadata": {},
     "output_type": "execute_result"
    }
   ],
   "source": [
    "# Рассмотрим корреляцию всех параментров фатафрейма между собой\n",
    "data.corr()"
   ]
  },
  {
   "cell_type": "markdown",
   "id": "b0a3928d",
   "metadata": {},
   "source": [
    "В первом приближении можно сделать вывод, что цена квартиры зависит в большей степени от площади и количества комнат."
   ]
  },
  {
   "cell_type": "markdown",
   "id": "5db1a646",
   "metadata": {},
   "source": [
    "## Предобработка данных"
   ]
  },
  {
   "cell_type": "markdown",
   "id": "f9fb3c0c",
   "metadata": {},
   "source": [
    "## Начнем с обработки пропусков и анамалий в данных. \n",
    "\n",
    "### 1. Столбцы `floors_total` и `locality_name`\n"
   ]
  },
  {
   "cell_type": "code",
   "execution_count": 6,
   "id": "034b5867",
   "metadata": {},
   "outputs": [
    {
     "name": "stdout",
     "output_type": "stream",
     "text": [
      "<class 'pandas.core.frame.DataFrame'>\n",
      "RangeIndex: 23699 entries, 0 to 23698\n",
      "Data columns (total 22 columns):\n",
      " #   Column                Non-Null Count  Dtype  \n",
      "---  ------                --------------  -----  \n",
      " 0   total_images          23699 non-null  int64  \n",
      " 1   last_price            23699 non-null  float64\n",
      " 2   total_area            23699 non-null  float64\n",
      " 3   first_day_exposition  23699 non-null  object \n",
      " 4   rooms                 23699 non-null  int64  \n",
      " 5   ceiling_height        14504 non-null  float64\n",
      " 6   floors_total          23613 non-null  float64\n",
      " 7   living_area           21796 non-null  float64\n",
      " 8   floor                 23699 non-null  int64  \n",
      " 9   is_apartment          2775 non-null   object \n",
      " 10  studio                23699 non-null  bool   \n",
      " 11  open_plan             23699 non-null  bool   \n",
      " 12  kitchen_area          21421 non-null  float64\n",
      " 13  balcony               12180 non-null  float64\n",
      " 14  locality_name         23650 non-null  object \n",
      " 15  airports_nearest      18157 non-null  float64\n",
      " 16  cityCenters_nearest   18180 non-null  float64\n",
      " 17  parks_around3000      18181 non-null  float64\n",
      " 18  parks_nearest         8079 non-null   float64\n",
      " 19  ponds_around3000      18181 non-null  float64\n",
      " 20  ponds_nearest         9110 non-null   float64\n",
      " 21  days_exposition       20518 non-null  float64\n",
      "dtypes: bool(2), float64(14), int64(3), object(3)\n",
      "memory usage: 3.7+ MB\n"
     ]
    }
   ],
   "source": [
    "data.info()"
   ]
  },
  {
   "cell_type": "markdown",
   "id": "908a7a43",
   "metadata": {},
   "source": [
    "Пропущены значения в столбцах `floors_total` и `locality_name` - это скорее всего человеческий фактор (пользователь не знал, что указать, забыл название или количество этажей, не нашел своего населенного пункта в списке и тп) или системный сбой - не сохранились данные (это менее вероятно). "
   ]
  },
  {
   "cell_type": "code",
   "execution_count": 7,
   "id": "6fe10dac",
   "metadata": {
    "scrolled": true
   },
   "outputs": [
    {
     "data": {
      "text/plain": [
       "floors_total     86\n",
       "locality_name    49\n",
       "dtype: int64"
      ]
     },
     "execution_count": 7,
     "metadata": {},
     "output_type": "execute_result"
    }
   ],
   "source": [
    "# определим количество пропусков в обоих столбцах\n",
    "data[['floors_total', 'locality_name']].isna().sum()"
   ]
  },
  {
   "cell_type": "markdown",
   "id": "7b7f9cde",
   "metadata": {},
   "source": [
    "Значения в столбце `locality_name` - населенный пункт, имеют строковый тип, их крайне сложно заменить чем-то или восстановить. Этажность поддается прогнозированию, можно расчитать медианное значение этажности в каждом населенном пункте.\n",
    "Но так как пропусков в столбцах `floors_total` и `locality_name` крайне мало (около 0.5% от всего объема датафрейма) - можно расстаться с ними безболезненно и не боятся потерять информативность данных."
   ]
  },
  {
   "cell_type": "code",
   "execution_count": 8,
   "id": "2847d979",
   "metadata": {},
   "outputs": [
    {
     "data": {
      "text/plain": [
       "floors_total     0\n",
       "locality_name    0\n",
       "dtype: int64"
      ]
     },
     "execution_count": 8,
     "metadata": {},
     "output_type": "execute_result"
    }
   ],
   "source": [
    "#удалим пропуски в двух столбцах\n",
    "data = data.dropna(subset=['floors_total', 'locality_name'])\n",
    "\n",
    "#проверим, что пропуски исчезли, как нужно\n",
    "data[['floors_total', 'locality_name']].isna().sum()"
   ]
  },
  {
   "cell_type": "code",
   "execution_count": 9,
   "id": "14c73f4d",
   "metadata": {},
   "outputs": [
    {
     "data": {
      "text/plain": [
       "count    23565.000000\n",
       "mean        10.675875\n",
       "std          6.594823\n",
       "min          1.000000\n",
       "25%          5.000000\n",
       "50%          9.000000\n",
       "75%         16.000000\n",
       "max         60.000000\n",
       "Name: floors_total, dtype: float64"
      ]
     },
     "execution_count": 9,
     "metadata": {},
     "output_type": "execute_result"
    }
   ],
   "source": [
    "data['floors_total'].describe()"
   ]
  },
  {
   "cell_type": "markdown",
   "id": "f7e5c0c2",
   "metadata": {},
   "source": [
    "Оценим крайние значения. Если к минимуму в 1 этаж придраться нельзя, то жилое здание в 60 этажей выглядит высоковато даже для Питера. Википедия сообщает, что самы высотный ЖК в Питере на сегодня, имеет 37 этажей [ссылка на Википедию](https://ru.wikipedia.org/wiki/%D0%A1%D0%BF%D0%B8%D1%81%D0%BE%D0%BA_%D1%81%D0%B0%D0%BC%D1%8B%D1%85_%D0%B2%D1%8B%D1%81%D0%BE%D0%BA%D0%B8%D1%85_%D0%B7%D0%B4%D0%B0%D0%BD%D0%B8%D0%B9_%D0%A1%D0%B0%D0%BD%D0%BA%D1%82-%D0%9F%D0%B5%D1%82%D0%B5%D1%80%D0%B1%D1%83%D1%80%D0%B3%D0%B0). \n",
    "\n",
    "Поэтому стоит исключить выбросы с этажностью более 37 этажей - их всего 2 (см. код ниже)"
   ]
  },
  {
   "cell_type": "code",
   "execution_count": 10,
   "id": "66aa796a",
   "metadata": {
    "scrolled": true
   },
   "outputs": [
    {
     "data": {
      "text/plain": [
       "2"
      ]
     },
     "execution_count": 10,
     "metadata": {},
     "output_type": "execute_result"
    }
   ],
   "source": [
    "# определим количество выбросов\n",
    "data.query('floors_total>37')['floors_total'].count()"
   ]
  },
  {
   "cell_type": "code",
   "execution_count": 11,
   "id": "afebf0bb",
   "metadata": {},
   "outputs": [],
   "source": [
    "# осталяем в датафрейме только объекты в домах не выше 37 этажей\n",
    "data = data.query('floors_total<=37')"
   ]
  },
  {
   "cell_type": "code",
   "execution_count": 12,
   "id": "53e6fff9",
   "metadata": {
    "scrolled": true
   },
   "outputs": [
    {
     "data": {
      "text/plain": [
       "<AxesSubplot:>"
      ]
     },
     "execution_count": 12,
     "metadata": {},
     "output_type": "execute_result"
    },
    {
     "data": {
      "image/png": "[encoded data removed]",
      "text/plain": [
       "<Figure size 432x288 with 1 Axes>"
      ]
     },
     "metadata": {
      "needs_background": "light"
     },
     "output_type": "display_data"
    }
   ],
   "source": [
    "data['floors_total'].hist(bins=38)"
   ]
  },
  {
   "cell_type": "markdown",
   "id": "5fa7d5e4",
   "metadata": {},
   "source": [
    "По гистограмме видны два ярковыраженных пика - это соответствует 5ти-этажным \"хрущевкам\" и 10-этажным \"панелькам\", которое повсеместно распространены в России. Небольшие пики правее скорее всего соответсвуют более свежим постройкам, где высотность зданий доходит до 25ти этажей."
   ]
  },
  {
   "cell_type": "markdown",
   "id": "84988787",
   "metadata": {},
   "source": [
    "### 2.  Столбец `ceiling_height`.\n",
    "\n",
    "Теперь разберемся с данными в `ceiling_height`. Чаще всего отсутствие данных о высоте потолка, связано с тем, что человек не указал этот параметр при создании объявления (забыл/не знает точно). \n"
   ]
  },
  {
   "cell_type": "code",
   "execution_count": 13,
   "id": "06f6133c",
   "metadata": {},
   "outputs": [
    {
     "data": {
      "text/plain": [
       "9084"
      ]
     },
     "execution_count": 13,
     "metadata": {},
     "output_type": "execute_result"
    }
   ],
   "source": [
    "data['ceiling_height'].isna().sum()"
   ]
  },
  {
   "cell_type": "markdown",
   "id": "36c87f08",
   "metadata": {},
   "source": [
    "Видим, что пропущенных данных прилично, около 40%.\n",
    "Хорошая новость, что высота потолка чаще всего однотипна и должная быть близка к 2.7м. Проверим это предположение.\n",
    "Для начала выведем подробную информацию о данных, хранящихся в столбце `ceiling_height` и построим гистограмму."
   ]
  },
  {
   "cell_type": "code",
   "execution_count": 14,
   "id": "07b37ca3",
   "metadata": {
    "scrolled": true
   },
   "outputs": [
    {
     "data": {
      "text/plain": [
       "count    14479.000000\n",
       "mean         2.771284\n",
       "std          1.262069\n",
       "min          1.000000\n",
       "25%          2.510000\n",
       "50%          2.650000\n",
       "75%          2.800000\n",
       "max        100.000000\n",
       "Name: ceiling_height, dtype: float64"
      ]
     },
     "execution_count": 14,
     "metadata": {},
     "output_type": "execute_result"
    }
   ],
   "source": [
    "data['ceiling_height'].describe()"
   ]
  },
  {
   "cell_type": "code",
   "execution_count": 15,
   "id": "628f83db",
   "metadata": {
    "scrolled": true
   },
   "outputs": [
    {
     "data": {
      "text/plain": [
       "<AxesSubplot:>"
      ]
     },
     "execution_count": 15,
     "metadata": {},
     "output_type": "execute_result"
    },
    {
     "data": {
      "image/png": "[encoded data removed]",
      "text/plain": [
       "<Figure size 432x288 with 1 Axes>"
      ]
     },
     "metadata": {
      "needs_background": "light"
     },
     "output_type": "display_data"
    }
   ],
   "source": [
    "data['ceiling_height'].hist(bins=30, range=(1,5))"
   ]
  },
  {
   "cell_type": "markdown",
   "id": "3f262f1d",
   "metadata": {},
   "source": [
    "Среднее и медиана достаточно близки и похожи на реальность (около 2.7 м). На гистограмме глобальный всплеск в райне 2.5-2.7 м и небольшой подъем в районе 3 м, но все-таки есть некоторые аномальные выбросы с каждого края. Помещения с высотой потолка 1м или 100м врядли существуют в жизни.\n",
    "\n",
    "Можно сказать, что в Спб и Ленинградской области есть два типа высоты потолков - это стандартные потолки, высота которых колеблется от 2.5-2.7 м и так называемые \"Питерские сталинки\" с высотой потолка 3-3.2 м.\n",
    "\n",
    "Соотвественно с данными в столбце `ceiling_height` сделаем следующее:\n",
    " - заменим пропуски на медианные значения, но все же учитывая населенный пункт (ведь высота потолков в квартирах в СПб и в Ленинградской Области могут отличаться, так как в районе 3м есть небольшой всплеск)\n",
    " - заменим аномальные значения (выбросами будем считать потолки высотой более 3.8 м и менее 2,4м) тоже на медиану\n",
    " \n"
   ]
  },
  {
   "cell_type": "code",
   "execution_count": 16,
   "id": "a80d57d2",
   "metadata": {
    "scrolled": true
   },
   "outputs": [
    {
     "data": {
      "text/plain": [
       "210"
      ]
     },
     "execution_count": 16,
     "metadata": {},
     "output_type": "execute_result"
    }
   ],
   "source": [
    "# оценим количество выбросов в столбце\n",
    "data.query('ceiling_height>=3.8 | ceiling_height<=2.4')['ceiling_height'].count()"
   ]
  },
  {
   "cell_type": "markdown",
   "id": "06f18c33",
   "metadata": {},
   "source": [
    "Заменим пропуски и выбросы на медиану по каждому населенному пункту."
   ]
  },
  {
   "cell_type": "code",
   "execution_count": 17,
   "id": "b7a362cc",
   "metadata": {
    "scrolled": true
   },
   "outputs": [
    {
     "data": {
      "text/plain": [
       "120"
      ]
     },
     "execution_count": 17,
     "metadata": {},
     "output_type": "execute_result"
    }
   ],
   "source": [
    "import warnings\n",
    "warnings.filterwarnings('ignore')\n",
    "# перебираем уникальные названия мест и присваиваем пропускам  и выбросам медианные значения высоты в этой местности\n",
    "for place in data['locality_name'].unique():\n",
    "    \n",
    "    # заменяем аномалии   \n",
    "    data.loc[(data['locality_name'] == place) & ((data['ceiling_height']>=3.8) | (data['ceiling_height']<=2.4)), 'ceiling_height'] = \\\n",
    "    data.loc[(data['locality_name'] == place), 'ceiling_height'].median()\n",
    "    \n",
    "    # заменяем пропуски\n",
    "    data.loc[(data['locality_name'] == place) & (data['ceiling_height'].isna()), 'ceiling_height'] = \\\n",
    "    data.loc[(data['locality_name'] == place), 'ceiling_height'].median()\n",
    "\n",
    "    \n",
    "# проверяем остались ли пропуски\n",
    "data['ceiling_height'].isna().sum()"
   ]
  },
  {
   "cell_type": "markdown",
   "id": "981728b0",
   "metadata": {},
   "source": [
    "Осталось 120 пропущенных значений. Предположим, что это те квартиры, по которым не удалось расчитать медиану в конкретном населенном пункте. То есть в этом месте, ни в одном объявлении не указана высота потолка. Проверим эту гипотезу. Выведем 10 любых строк датафрейма, в котрых остались пустые строки в столбце `ceiling_height`."
   ]
  },
  {
   "cell_type": "code",
   "execution_count": 18,
   "id": "c45f475f",
   "metadata": {
    "scrolled": false
   },
   "outputs": [
    {
     "data": {
      "text/html": [
       "<div>\n",
       "<style scoped>\n",
       "    .dataframe tbody tr th:only-of-type {\n",
       "        vertical-align: middle;\n",
       "    }\n",
       "\n",
       "    .dataframe tbody tr th {\n",
       "        vertical-align: top;\n",
       "    }\n",
       "\n",
       "    .dataframe thead th {\n",
       "        text-align: right;\n",
       "    }\n",
       "</style>\n",
       "<table border=\"1\" class=\"dataframe\">\n",
       "  <thead>\n",
       "    <tr style=\"text-align: right;\">\n",
       "      <th></th>\n",
       "      <th>total_images</th>\n",
       "      <th>last_price</th>\n",
       "      <th>total_area</th>\n",
       "      <th>first_day_exposition</th>\n",
       "      <th>rooms</th>\n",
       "      <th>ceiling_height</th>\n",
       "      <th>floors_total</th>\n",
       "      <th>living_area</th>\n",
       "      <th>floor</th>\n",
       "      <th>is_apartment</th>\n",
       "      <th>...</th>\n",
       "      <th>kitchen_area</th>\n",
       "      <th>balcony</th>\n",
       "      <th>locality_name</th>\n",
       "      <th>airports_nearest</th>\n",
       "      <th>cityCenters_nearest</th>\n",
       "      <th>parks_around3000</th>\n",
       "      <th>parks_nearest</th>\n",
       "      <th>ponds_around3000</th>\n",
       "      <th>ponds_nearest</th>\n",
       "      <th>days_exposition</th>\n",
       "    </tr>\n",
       "  </thead>\n",
       "  <tbody>\n",
       "    <tr>\n",
       "      <th>19681</th>\n",
       "      <td>3</td>\n",
       "      <td>1100000.0</td>\n",
       "      <td>29.1</td>\n",
       "      <td>2018-09-25T00:00:00</td>\n",
       "      <td>1</td>\n",
       "      <td>NaN</td>\n",
       "      <td>5.0</td>\n",
       "      <td>16.2</td>\n",
       "      <td>5</td>\n",
       "      <td>NaN</td>\n",
       "      <td>...</td>\n",
       "      <td>6.0</td>\n",
       "      <td>NaN</td>\n",
       "      <td>посёлок Пансионат Зелёный Бор</td>\n",
       "      <td>NaN</td>\n",
       "      <td>NaN</td>\n",
       "      <td>NaN</td>\n",
       "      <td>NaN</td>\n",
       "      <td>NaN</td>\n",
       "      <td>NaN</td>\n",
       "      <td>45.0</td>\n",
       "    </tr>\n",
       "    <tr>\n",
       "      <th>12031</th>\n",
       "      <td>8</td>\n",
       "      <td>1800000.0</td>\n",
       "      <td>41.0</td>\n",
       "      <td>2019-03-14T00:00:00</td>\n",
       "      <td>2</td>\n",
       "      <td>NaN</td>\n",
       "      <td>2.0</td>\n",
       "      <td>25.6</td>\n",
       "      <td>1</td>\n",
       "      <td>NaN</td>\n",
       "      <td>...</td>\n",
       "      <td>5.8</td>\n",
       "      <td>NaN</td>\n",
       "      <td>поселок Кобринское</td>\n",
       "      <td>NaN</td>\n",
       "      <td>NaN</td>\n",
       "      <td>NaN</td>\n",
       "      <td>NaN</td>\n",
       "      <td>NaN</td>\n",
       "      <td>NaN</td>\n",
       "      <td>NaN</td>\n",
       "    </tr>\n",
       "    <tr>\n",
       "      <th>16393</th>\n",
       "      <td>10</td>\n",
       "      <td>1800000.0</td>\n",
       "      <td>79.5</td>\n",
       "      <td>2018-10-17T00:00:00</td>\n",
       "      <td>3</td>\n",
       "      <td>NaN</td>\n",
       "      <td>3.0</td>\n",
       "      <td>55.0</td>\n",
       "      <td>3</td>\n",
       "      <td>NaN</td>\n",
       "      <td>...</td>\n",
       "      <td>9.0</td>\n",
       "      <td>NaN</td>\n",
       "      <td>деревня Пижма</td>\n",
       "      <td>NaN</td>\n",
       "      <td>NaN</td>\n",
       "      <td>NaN</td>\n",
       "      <td>NaN</td>\n",
       "      <td>NaN</td>\n",
       "      <td>NaN</td>\n",
       "      <td>NaN</td>\n",
       "    </tr>\n",
       "    <tr>\n",
       "      <th>7323</th>\n",
       "      <td>10</td>\n",
       "      <td>1400000.0</td>\n",
       "      <td>62.0</td>\n",
       "      <td>2019-01-11T00:00:00</td>\n",
       "      <td>3</td>\n",
       "      <td>NaN</td>\n",
       "      <td>4.0</td>\n",
       "      <td>44.0</td>\n",
       "      <td>2</td>\n",
       "      <td>NaN</td>\n",
       "      <td>...</td>\n",
       "      <td>7.0</td>\n",
       "      <td>NaN</td>\n",
       "      <td>садоводческое некоммерческое товарищество Лесн...</td>\n",
       "      <td>NaN</td>\n",
       "      <td>NaN</td>\n",
       "      <td>NaN</td>\n",
       "      <td>NaN</td>\n",
       "      <td>NaN</td>\n",
       "      <td>NaN</td>\n",
       "      <td>109.0</td>\n",
       "    </tr>\n",
       "    <tr>\n",
       "      <th>21979</th>\n",
       "      <td>18</td>\n",
       "      <td>3099000.0</td>\n",
       "      <td>50.5</td>\n",
       "      <td>2018-09-19T00:00:00</td>\n",
       "      <td>2</td>\n",
       "      <td>NaN</td>\n",
       "      <td>5.0</td>\n",
       "      <td>27.0</td>\n",
       "      <td>4</td>\n",
       "      <td>NaN</td>\n",
       "      <td>...</td>\n",
       "      <td>9.6</td>\n",
       "      <td>NaN</td>\n",
       "      <td>деревня Лупполово</td>\n",
       "      <td>NaN</td>\n",
       "      <td>NaN</td>\n",
       "      <td>NaN</td>\n",
       "      <td>NaN</td>\n",
       "      <td>NaN</td>\n",
       "      <td>NaN</td>\n",
       "      <td>60.0</td>\n",
       "    </tr>\n",
       "    <tr>\n",
       "      <th>17305</th>\n",
       "      <td>7</td>\n",
       "      <td>2450000.0</td>\n",
       "      <td>47.5</td>\n",
       "      <td>2016-01-16T00:00:00</td>\n",
       "      <td>2</td>\n",
       "      <td>NaN</td>\n",
       "      <td>5.0</td>\n",
       "      <td>27.0</td>\n",
       "      <td>3</td>\n",
       "      <td>NaN</td>\n",
       "      <td>...</td>\n",
       "      <td>8.5</td>\n",
       "      <td>0.0</td>\n",
       "      <td>поселок городского типа Большая Ижора</td>\n",
       "      <td>NaN</td>\n",
       "      <td>NaN</td>\n",
       "      <td>NaN</td>\n",
       "      <td>NaN</td>\n",
       "      <td>NaN</td>\n",
       "      <td>NaN</td>\n",
       "      <td>396.0</td>\n",
       "    </tr>\n",
       "    <tr>\n",
       "      <th>3468</th>\n",
       "      <td>1</td>\n",
       "      <td>650000.0</td>\n",
       "      <td>34.0</td>\n",
       "      <td>2015-07-15T00:00:00</td>\n",
       "      <td>1</td>\n",
       "      <td>NaN</td>\n",
       "      <td>3.0</td>\n",
       "      <td>18.0</td>\n",
       "      <td>2</td>\n",
       "      <td>NaN</td>\n",
       "      <td>...</td>\n",
       "      <td>7.0</td>\n",
       "      <td>0.0</td>\n",
       "      <td>поселок Цвылёво</td>\n",
       "      <td>NaN</td>\n",
       "      <td>NaN</td>\n",
       "      <td>NaN</td>\n",
       "      <td>NaN</td>\n",
       "      <td>NaN</td>\n",
       "      <td>NaN</td>\n",
       "      <td>377.0</td>\n",
       "    </tr>\n",
       "    <tr>\n",
       "      <th>16905</th>\n",
       "      <td>5</td>\n",
       "      <td>1650000.0</td>\n",
       "      <td>43.0</td>\n",
       "      <td>2018-12-16T00:00:00</td>\n",
       "      <td>2</td>\n",
       "      <td>NaN</td>\n",
       "      <td>4.0</td>\n",
       "      <td>NaN</td>\n",
       "      <td>2</td>\n",
       "      <td>NaN</td>\n",
       "      <td>...</td>\n",
       "      <td>NaN</td>\n",
       "      <td>NaN</td>\n",
       "      <td>посёлок Перово</td>\n",
       "      <td>NaN</td>\n",
       "      <td>NaN</td>\n",
       "      <td>NaN</td>\n",
       "      <td>NaN</td>\n",
       "      <td>NaN</td>\n",
       "      <td>NaN</td>\n",
       "      <td>96.0</td>\n",
       "    </tr>\n",
       "    <tr>\n",
       "      <th>10183</th>\n",
       "      <td>10</td>\n",
       "      <td>1600000.0</td>\n",
       "      <td>28.7</td>\n",
       "      <td>2018-03-15T00:00:00</td>\n",
       "      <td>2</td>\n",
       "      <td>NaN</td>\n",
       "      <td>2.0</td>\n",
       "      <td>21.6</td>\n",
       "      <td>1</td>\n",
       "      <td>NaN</td>\n",
       "      <td>...</td>\n",
       "      <td>4.8</td>\n",
       "      <td>NaN</td>\n",
       "      <td>посёлок Форт Красная Горка</td>\n",
       "      <td>NaN</td>\n",
       "      <td>NaN</td>\n",
       "      <td>NaN</td>\n",
       "      <td>NaN</td>\n",
       "      <td>NaN</td>\n",
       "      <td>NaN</td>\n",
       "      <td>NaN</td>\n",
       "    </tr>\n",
       "    <tr>\n",
       "      <th>12003</th>\n",
       "      <td>10</td>\n",
       "      <td>950000.0</td>\n",
       "      <td>37.1</td>\n",
       "      <td>2019-05-03T00:00:00</td>\n",
       "      <td>1</td>\n",
       "      <td>NaN</td>\n",
       "      <td>4.0</td>\n",
       "      <td>17.0</td>\n",
       "      <td>4</td>\n",
       "      <td>False</td>\n",
       "      <td>...</td>\n",
       "      <td>8.4</td>\n",
       "      <td>2.0</td>\n",
       "      <td>деревня Курковицы</td>\n",
       "      <td>NaN</td>\n",
       "      <td>NaN</td>\n",
       "      <td>NaN</td>\n",
       "      <td>NaN</td>\n",
       "      <td>NaN</td>\n",
       "      <td>NaN</td>\n",
       "      <td>NaN</td>\n",
       "    </tr>\n",
       "  </tbody>\n",
       "</table>\n",
       "<p>10 rows × 22 columns</p>\n",
       "</div>"
      ],
      "text/plain": [
       "       total_images  last_price  total_area first_day_exposition  rooms  \\\n",
       "19681             3   1100000.0        29.1  2018-09-25T00:00:00      1   \n",
       "12031             8   1800000.0        41.0  2019-03-14T00:00:00      2   \n",
       "16393            10   1800000.0        79.5  2018-10-17T00:00:00      3   \n",
       "7323             10   1400000.0        62.0  2019-01-11T00:00:00      3   \n",
       "21979            18   3099000.0        50.5  2018-09-19T00:00:00      2   \n",
       "17305             7   2450000.0        47.5  2016-01-16T00:00:00      2   \n",
       "3468              1    650000.0        34.0  2015-07-15T00:00:00      1   \n",
       "16905             5   1650000.0        43.0  2018-12-16T00:00:00      2   \n",
       "10183            10   1600000.0        28.7  2018-03-15T00:00:00      2   \n",
       "12003            10    950000.0        37.1  2019-05-03T00:00:00      1   \n",
       "\n",
       "       ceiling_height  floors_total  living_area  floor is_apartment  ...  \\\n",
       "19681             NaN           5.0         16.2      5          NaN  ...   \n",
       "12031             NaN           2.0         25.6      1          NaN  ...   \n",
       "16393             NaN           3.0         55.0      3          NaN  ...   \n",
       "7323              NaN           4.0         44.0      2          NaN  ...   \n",
       "21979             NaN           5.0         27.0      4          NaN  ...   \n",
       "17305             NaN           5.0         27.0      3          NaN  ...   \n",
       "3468              NaN           3.0         18.0      2          NaN  ...   \n",
       "16905             NaN           4.0          NaN      2          NaN  ...   \n",
       "10183             NaN           2.0         21.6      1          NaN  ...   \n",
       "12003             NaN           4.0         17.0      4        False  ...   \n",
       "\n",
       "       kitchen_area  balcony  \\\n",
       "19681           6.0      NaN   \n",
       "12031           5.8      NaN   \n",
       "16393           9.0      NaN   \n",
       "7323            7.0      NaN   \n",
       "21979           9.6      NaN   \n",
       "17305           8.5      0.0   \n",
       "3468            7.0      0.0   \n",
       "16905           NaN      NaN   \n",
       "10183           4.8      NaN   \n",
       "12003           8.4      2.0   \n",
       "\n",
       "                                           locality_name  airports_nearest  \\\n",
       "19681                      посёлок Пансионат Зелёный Бор               NaN   \n",
       "12031                                 поселок Кобринское               NaN   \n",
       "16393                                      деревня Пижма               NaN   \n",
       "7323   садоводческое некоммерческое товарищество Лесн...               NaN   \n",
       "21979                                  деревня Лупполово               NaN   \n",
       "17305              поселок городского типа Большая Ижора               NaN   \n",
       "3468                                     поселок Цвылёво               NaN   \n",
       "16905                                     посёлок Перово               NaN   \n",
       "10183                         посёлок Форт Красная Горка               NaN   \n",
       "12003                                  деревня Курковицы               NaN   \n",
       "\n",
       "      cityCenters_nearest  parks_around3000  parks_nearest  ponds_around3000  \\\n",
       "19681                 NaN               NaN            NaN               NaN   \n",
       "12031                 NaN               NaN            NaN               NaN   \n",
       "16393                 NaN               NaN            NaN               NaN   \n",
       "7323                  NaN               NaN            NaN               NaN   \n",
       "21979                 NaN               NaN            NaN               NaN   \n",
       "17305                 NaN               NaN            NaN               NaN   \n",
       "3468                  NaN               NaN            NaN               NaN   \n",
       "16905                 NaN               NaN            NaN               NaN   \n",
       "10183                 NaN               NaN            NaN               NaN   \n",
       "12003                 NaN               NaN            NaN               NaN   \n",
       "\n",
       "       ponds_nearest  days_exposition  \n",
       "19681            NaN             45.0  \n",
       "12031            NaN              NaN  \n",
       "16393            NaN              NaN  \n",
       "7323             NaN            109.0  \n",
       "21979            NaN             60.0  \n",
       "17305            NaN            396.0  \n",
       "3468             NaN            377.0  \n",
       "16905            NaN             96.0  \n",
       "10183            NaN              NaN  \n",
       "12003            NaN              NaN  \n",
       "\n",
       "[10 rows x 22 columns]"
      ]
     },
     "execution_count": 18,
     "metadata": {},
     "output_type": "execute_result"
    }
   ],
   "source": [
    "data[data['ceiling_height'].isna()].sample(10)"
   ]
  },
  {
   "cell_type": "markdown",
   "id": "68b4de07",
   "metadata": {},
   "source": [
    "Так как каждый раз этот срез датафрейма будет меняться рандомно, то зафиксируем себе три названия местности, по которым проверим выдвинутую ранее гипотезу. Например возьмем: поселок Кирпичное, деревня Торошковичи, посёлок Шугозеро. Проверим есть ли в этих населенных пунктах непустые значения в столбце `ceiling_height`."
   ]
  },
  {
   "cell_type": "code",
   "execution_count": 19,
   "id": "9bdf3b6a",
   "metadata": {
    "scrolled": true
   },
   "outputs": [
    {
     "data": {
      "text/plain": [
       "0"
      ]
     },
     "execution_count": 19,
     "metadata": {},
     "output_type": "execute_result"
    }
   ],
   "source": [
    "data[(data['ceiling_height'].notna()) & ((data['locality_name']=='посёлок Шугозеро') | \\\n",
    "                                        (data['locality_name']=='поселок Кирпичное') | \\\n",
    "                                        (data['locality_name']=='деревня Торошковичи'))]['locality_name'].count()"
   ]
  },
  {
   "cell_type": "markdown",
   "id": "0fd214e1",
   "metadata": {},
   "source": [
    "Так как строки вывелись абсолютно произвольно, внутри среза дынных мы тоже взяли три населенных пункта наугад, то можно с достаточной уверенностью сказать, что наша гипотеза подтвердилась и все данные о высоте потолка в этих населенных пунктах не указаны.\n",
    "Данные пропуски можно либо удалить, либо заменить на медианное значение высоты. Так как мы убедились, что значения потолка достаточно однородны, то здесь логично заменить оставшие пропуки медианой."
   ]
  },
  {
   "cell_type": "code",
   "execution_count": 20,
   "id": "f36e96ab",
   "metadata": {},
   "outputs": [
    {
     "data": {
      "text/plain": [
       "0"
      ]
     },
     "execution_count": 20,
     "metadata": {},
     "output_type": "execute_result"
    }
   ],
   "source": [
    "data['ceiling_height'] = data['ceiling_height'].fillna(data['ceiling_height'].median())\n",
    "\n",
    "# еще раз проверим столбец на пропуски\n",
    "data['ceiling_height'].isna().sum()"
   ]
  },
  {
   "cell_type": "markdown",
   "id": "4a3cf443",
   "metadata": {},
   "source": [
    "Все пропуски и анамалии высоты потолка заполнены медианными значениями. Теперь этот столбец готов к дальнейшей обработке.\n"
   ]
  },
  {
   "cell_type": "markdown",
   "id": "afdea1ea",
   "metadata": {},
   "source": [
    "###  3. Столбец `rooms`.\n",
    "\n",
    "Теперь проанализируем столбец `rooms`. Пропусков в этом столбце не было. Выведем все уникальные значения этого столбца и их количества."
   ]
  },
  {
   "cell_type": "code",
   "execution_count": 21,
   "id": "837a8d34",
   "metadata": {
    "scrolled": false
   },
   "outputs": [
    {
     "data": {
      "text/plain": [
       "1     8003\n",
       "2     7896\n",
       "3     5779\n",
       "4     1172\n",
       "5      325\n",
       "0      194\n",
       "6      104\n",
       "7       59\n",
       "8       12\n",
       "9        8\n",
       "10       3\n",
       "11       2\n",
       "14       2\n",
       "15       1\n",
       "19       1\n",
       "16       1\n",
       "12       1\n",
       "Name: rooms, dtype: int64"
      ]
     },
     "execution_count": 21,
     "metadata": {},
     "output_type": "execute_result"
    }
   ],
   "source": [
    "data['rooms'].value_counts()"
   ]
  },
  {
   "cell_type": "code",
   "execution_count": 22,
   "id": "8e7a6952",
   "metadata": {
    "scrolled": true
   },
   "outputs": [
    {
     "data": {
      "text/plain": [
       "<AxesSubplot:>"
      ]
     },
     "execution_count": 22,
     "metadata": {},
     "output_type": "execute_result"
    },
    {
     "data": {
      "image/png": "[encoded data removed]",
      "text/plain": [
       "<Figure size 432x288 with 1 Axes>"
      ]
     },
     "metadata": {
      "needs_background": "light"
     },
     "output_type": "display_data"
    }
   ],
   "source": [
    "data['rooms'].hist(range = (0,15))"
   ]
  },
  {
   "cell_type": "markdown",
   "id": "5a760a8b",
   "metadata": {},
   "source": [
    "Большинство помещений в продаже имеют не более 4ех комнат. \n",
    "5ти-комнатные квартиры встречаются крайне редко, а жилые помещения с 6-тью и более комнатами практически не размещаются на портале Яндекс.Недвижимость (в сумме их доля менее 1%). \n",
    "\n",
    "Удалим из датафрейма все объявления с 6-тью и более комнатами, так как для прогнозирования по ним недосточно данных. \n",
    "\n",
    "Изучим данные в столбце `rooms`, а для наглядности постороим итоговую гистограмму по этому столбцу на 6 корзин."
   ]
  },
  {
   "cell_type": "code",
   "execution_count": 23,
   "id": "e0054b76",
   "metadata": {
    "scrolled": false
   },
   "outputs": [
    {
     "data": {
      "text/plain": [
       "1    8003\n",
       "2    7896\n",
       "3    5779\n",
       "4    1172\n",
       "5     325\n",
       "0     194\n",
       "Name: rooms, dtype: int64"
      ]
     },
     "execution_count": 23,
     "metadata": {},
     "output_type": "execute_result"
    }
   ],
   "source": [
    "# удаляем строки, где комнат больше 6 и выводим информацию об оставщихся значениях в столбце\n",
    "data = data.query('rooms<6')\n",
    "\n",
    "# проверим значения еще раз\n",
    "data['rooms'].value_counts()  "
   ]
  },
  {
   "cell_type": "code",
   "execution_count": 24,
   "id": "d3beb302",
   "metadata": {
    "scrolled": true
   },
   "outputs": [
    {
     "data": {
      "text/plain": [
       "<AxesSubplot:>"
      ]
     },
     "execution_count": 24,
     "metadata": {},
     "output_type": "execute_result"
    },
    {
     "data": {
      "image/png": "[encoded data removed]",
      "text/plain": [
       "<Figure size 432x288 with 1 Axes>"
      ]
     },
     "metadata": {
      "needs_background": "light"
     },
     "output_type": "display_data"
    }
   ],
   "source": [
    "# обновленная гистограмма\n",
    "data['rooms'].hist(bins=6)"
   ]
  },
  {
   "cell_type": "markdown",
   "id": "0b117e31",
   "metadata": {},
   "source": [
    "Данные удалились верно, теперь в базе остались только квартиры, у которых не более 5-ти комнат.\n",
    "Визуально видно, что более 2/3 всех квартир - это 1 и 2-ух комнатные квартиры, немного меньше \"трешек\". Явно большой разрыв в количестве значений в первом (0 комнат) и шестом (5 комнат) столбцах. Порассуждаем можно ли их также удалить из датафрейма.\n",
    "- 0 комнат - скорее всего указывают владельцы студий. Но логично предположить, что квартир-студий на рынке недвижимости должно быть сопоставимо по количеству с 1 и 2ух комнатными квартирами. Значит большинство людей указывают в обьявлении 1 комнату, несмотря на то, что у них студия. Только некоторые ставят 0 в графе `rooms` - их не стоит учитывать, так как большая часть данных по студиям включена в однокомнатные квартиры. **Вывод: 0-комнат тоже удалим**\n",
    "- 5-ти комнатные квартиры  пока оставим для дальнейшего анализа"
   ]
  },
  {
   "cell_type": "code",
   "execution_count": 25,
   "id": "44f2ca89",
   "metadata": {},
   "outputs": [
    {
     "data": {
      "text/plain": [
       "1    8003\n",
       "2    7896\n",
       "3    5779\n",
       "4    1172\n",
       "5     325\n",
       "Name: rooms, dtype: int64"
      ]
     },
     "execution_count": 25,
     "metadata": {},
     "output_type": "execute_result"
    }
   ],
   "source": [
    "# удаляем строки, где 0 комнат\n",
    "data = data.query('rooms!=0')\n",
    "data['rooms'].value_counts()  "
   ]
  },
  {
   "cell_type": "markdown",
   "id": "3819263c",
   "metadata": {},
   "source": [
    "Теперь данные в столбце `rooms` готовы для дальнейшего анализа. Мы избавились от крайне редко встречающихся и совсем единичных значений, которые не пригодны для дальнейшего обучения аналитической системы."
   ]
  },
  {
   "cell_type": "markdown",
   "id": "778c574d",
   "metadata": {},
   "source": [
    " ### 4. Столбец `living_area`\n",
    " \n",
    "Для начала посмотрим общее статистическое описание значений столбца и визуализируем их гистограммой.\n",
    " "
   ]
  },
  {
   "cell_type": "code",
   "execution_count": 26,
   "id": "292b9439",
   "metadata": {
    "scrolled": false
   },
   "outputs": [
    {
     "data": {
      "text/plain": [
       "count    21334.000000\n",
       "mean        33.599893\n",
       "std         18.570366\n",
       "min          2.000000\n",
       "25%         18.600000\n",
       "50%         30.000000\n",
       "75%         42.000000\n",
       "max        301.500000\n",
       "Name: living_area, dtype: float64"
      ]
     },
     "execution_count": 26,
     "metadata": {},
     "output_type": "execute_result"
    }
   ],
   "source": [
    "data['living_area'].describe()"
   ]
  },
  {
   "cell_type": "markdown",
   "id": "1aaa69b9",
   "metadata": {},
   "source": [
    "Разброс значений очень велик, стандартное отклонение среднего почти 18, при среднем 33. Есть явные аномальные значения: 2 кв.м -неправдоподобно мало, а 301 кв.м  - это может встретиться только в единичных домах."
   ]
  },
  {
   "cell_type": "code",
   "execution_count": 27,
   "id": "687af49d",
   "metadata": {
    "scrolled": true
   },
   "outputs": [
    {
     "data": {
      "text/plain": [
       "<AxesSubplot:>"
      ]
     },
     "execution_count": 27,
     "metadata": {},
     "output_type": "execute_result"
    },
    {
     "data": {
      "image/png": "[encoded data removed]",
      "text/plain": [
       "<Figure size 432x288 with 1 Axes>"
      ]
     },
     "metadata": {
      "needs_background": "light"
     },
     "output_type": "display_data"
    }
   ],
   "source": [
    "data['living_area'].hist(bins=100, range = (5,150))"
   ]
  },
  {
   "cell_type": "markdown",
   "id": "5ea94f75",
   "metadata": {},
   "source": [
    "Гистограмма дала больше информации:\n",
    "- имеется два ярковыраженных пика - соответствующих 1 и 2х-комнатным квартирам соответственно. Первый пик в районе 15-18 кв.м (примерная одной комнаты), второй примерно 30-35 кв.м (какраз соответсвует 2ум комнатам). Это очень похоже на правду.\n",
    "- после 40 кв.м гистограмма снижается более плавно, только выделяется небольшой подъем в районе 42-45 кв.м - это похоже на жилую площадь в большинстве стандартных 3-х комнатных квартир.\n",
    "- ярковыраженный провал в районе 25 кв.м - тоже согласуется с логикой. В \"однушках\" редко площадь комнаты 20-25 кв.м, а для \"двушек\" эта площадь часто недостаточна.\n",
    "\n",
    "Поймем сколько пропущено значений в этом столбце."
   ]
  },
  {
   "cell_type": "code",
   "execution_count": 28,
   "id": "5d4995dc",
   "metadata": {},
   "outputs": [
    {
     "data": {
      "text/plain": [
       "1841"
      ]
     },
     "execution_count": 28,
     "metadata": {},
     "output_type": "execute_result"
    }
   ],
   "source": [
    "# оценим количество пропусков\n",
    "data['living_area'].isna().sum()"
   ]
  },
  {
   "cell_type": "markdown",
   "id": "3b534f83",
   "metadata": {},
   "source": [
    "Данные пропущенные значения появляются чаще всего тогда, когда человек не знает точно, что там написать. Но жилая площадь должна зависеть от общей площади квартиры и количества комнат (это и подтверждает общая таблица коррелящии, которую мы получили в начале исследования).\n",
    "\n",
    "Еще раз расчитаем коэффициент корреляции жилой площади с общей площадью квартиры и количеством комнат в ней."
   ]
  },
  {
   "cell_type": "code",
   "execution_count": 29,
   "id": "b9a7e755",
   "metadata": {
    "scrolled": false
   },
   "outputs": [
    {
     "data": {
      "text/plain": [
       "0.9259671382445509"
      ]
     },
     "execution_count": 29,
     "metadata": {},
     "output_type": "execute_result"
    }
   ],
   "source": [
    "data['living_area'].corr(data['total_area'])"
   ]
  },
  {
   "cell_type": "code",
   "execution_count": 30,
   "id": "9138db87",
   "metadata": {
    "scrolled": true
   },
   "outputs": [
    {
     "data": {
      "text/plain": [
       "0.8412756323867919"
      ]
     },
     "execution_count": 30,
     "metadata": {},
     "output_type": "execute_result"
    }
   ],
   "source": [
    "data['living_area'].corr(data['rooms'])"
   ]
  },
  {
   "cell_type": "markdown",
   "id": "d237ed91",
   "metadata": {},
   "source": [
    "Видим прямую очень сильную зависимость жилой площади от общей и количества комнат. Для замены пустых значений в датафрейме можно использовать данные по обоим этим параметрам. Но так как корреляция по общей площади все же чуть выше, заменим пропуски на данные расчитанные относительно общей площади помещения."
   ]
  },
  {
   "cell_type": "code",
   "execution_count": 31,
   "id": "530cb60b",
   "metadata": {
    "scrolled": true
   },
   "outputs": [
    {
     "data": {
      "text/plain": [
       "0.5708740896400561"
      ]
     },
     "execution_count": 31,
     "metadata": {},
     "output_type": "execute_result"
    }
   ],
   "source": [
    "# рассчитаем коэффициент между общей и жилой площадью, как отношение суммы всех жилых площадей к сумме всех общих площадей\n",
    "# но расчет будем вести только по тем строкам, у которых нет пропуска в 'living_area'.\n",
    "area_koef = data['living_area'].sum()/data.loc[data['living_area'].notna(), 'total_area'].sum()\n",
    "area_koef"
   ]
  },
  {
   "cell_type": "markdown",
   "id": "992cd686",
   "metadata": {},
   "source": [
    "Выведем контрольный срез датафрейма.\n",
    "Предположим, что большинство тех, кто не указал жилую площадь, так же не внесли и площадь кухни. Для того, чтобы в дальнейшем проверить замененные значения, выведем 10 строк датафрейма, по условию, что  в строках пропуск в `kitchen_area`. "
   ]
  },
  {
   "cell_type": "code",
   "execution_count": 32,
   "id": "1e7daf22",
   "metadata": {},
   "outputs": [
    {
     "data": {
      "text/html": [
       "<div>\n",
       "<style scoped>\n",
       "    .dataframe tbody tr th:only-of-type {\n",
       "        vertical-align: middle;\n",
       "    }\n",
       "\n",
       "    .dataframe tbody tr th {\n",
       "        vertical-align: top;\n",
       "    }\n",
       "\n",
       "    .dataframe thead th {\n",
       "        text-align: right;\n",
       "    }\n",
       "</style>\n",
       "<table border=\"1\" class=\"dataframe\">\n",
       "  <thead>\n",
       "    <tr style=\"text-align: right;\">\n",
       "      <th></th>\n",
       "      <th>total_images</th>\n",
       "      <th>last_price</th>\n",
       "      <th>total_area</th>\n",
       "      <th>first_day_exposition</th>\n",
       "      <th>rooms</th>\n",
       "      <th>ceiling_height</th>\n",
       "      <th>floors_total</th>\n",
       "      <th>living_area</th>\n",
       "      <th>floor</th>\n",
       "      <th>is_apartment</th>\n",
       "      <th>...</th>\n",
       "      <th>kitchen_area</th>\n",
       "      <th>balcony</th>\n",
       "      <th>locality_name</th>\n",
       "      <th>airports_nearest</th>\n",
       "      <th>cityCenters_nearest</th>\n",
       "      <th>parks_around3000</th>\n",
       "      <th>parks_nearest</th>\n",
       "      <th>ponds_around3000</th>\n",
       "      <th>ponds_nearest</th>\n",
       "      <th>days_exposition</th>\n",
       "    </tr>\n",
       "  </thead>\n",
       "  <tbody>\n",
       "    <tr>\n",
       "      <th>3</th>\n",
       "      <td>0</td>\n",
       "      <td>64900000.0</td>\n",
       "      <td>159.0</td>\n",
       "      <td>2015-07-24T00:00:00</td>\n",
       "      <td>3</td>\n",
       "      <td>2.7000</td>\n",
       "      <td>14.0</td>\n",
       "      <td>NaN</td>\n",
       "      <td>9</td>\n",
       "      <td>NaN</td>\n",
       "      <td>...</td>\n",
       "      <td>NaN</td>\n",
       "      <td>0.0</td>\n",
       "      <td>Санкт-Петербург</td>\n",
       "      <td>28098.0</td>\n",
       "      <td>6800.0</td>\n",
       "      <td>2.0</td>\n",
       "      <td>84.0</td>\n",
       "      <td>3.0</td>\n",
       "      <td>234.0</td>\n",
       "      <td>424.0</td>\n",
       "    </tr>\n",
       "    <tr>\n",
       "      <th>30</th>\n",
       "      <td>12</td>\n",
       "      <td>2200000.0</td>\n",
       "      <td>32.8</td>\n",
       "      <td>2018-02-19T00:00:00</td>\n",
       "      <td>1</td>\n",
       "      <td>2.5600</td>\n",
       "      <td>9.0</td>\n",
       "      <td>NaN</td>\n",
       "      <td>2</td>\n",
       "      <td>NaN</td>\n",
       "      <td>...</td>\n",
       "      <td>NaN</td>\n",
       "      <td>NaN</td>\n",
       "      <td>Коммунар</td>\n",
       "      <td>NaN</td>\n",
       "      <td>NaN</td>\n",
       "      <td>NaN</td>\n",
       "      <td>NaN</td>\n",
       "      <td>NaN</td>\n",
       "      <td>NaN</td>\n",
       "      <td>63.0</td>\n",
       "    </tr>\n",
       "    <tr>\n",
       "      <th>37</th>\n",
       "      <td>10</td>\n",
       "      <td>1990000.0</td>\n",
       "      <td>45.8</td>\n",
       "      <td>2017-10-28T00:00:00</td>\n",
       "      <td>2</td>\n",
       "      <td>2.5000</td>\n",
       "      <td>5.0</td>\n",
       "      <td>NaN</td>\n",
       "      <td>1</td>\n",
       "      <td>NaN</td>\n",
       "      <td>...</td>\n",
       "      <td>NaN</td>\n",
       "      <td>NaN</td>\n",
       "      <td>поселок городского типа Красный Бор</td>\n",
       "      <td>NaN</td>\n",
       "      <td>NaN</td>\n",
       "      <td>NaN</td>\n",
       "      <td>NaN</td>\n",
       "      <td>NaN</td>\n",
       "      <td>NaN</td>\n",
       "      <td>196.0</td>\n",
       "    </tr>\n",
       "    <tr>\n",
       "      <th>44</th>\n",
       "      <td>13</td>\n",
       "      <td>5350000.0</td>\n",
       "      <td>40.0</td>\n",
       "      <td>2018-11-18T00:00:00</td>\n",
       "      <td>1</td>\n",
       "      <td>2.7000</td>\n",
       "      <td>22.0</td>\n",
       "      <td>NaN</td>\n",
       "      <td>3</td>\n",
       "      <td>NaN</td>\n",
       "      <td>...</td>\n",
       "      <td>NaN</td>\n",
       "      <td>1.0</td>\n",
       "      <td>Санкт-Петербург</td>\n",
       "      <td>30471.0</td>\n",
       "      <td>11603.0</td>\n",
       "      <td>1.0</td>\n",
       "      <td>620.0</td>\n",
       "      <td>1.0</td>\n",
       "      <td>1152.0</td>\n",
       "      <td>NaN</td>\n",
       "    </tr>\n",
       "    <tr>\n",
       "      <th>59</th>\n",
       "      <td>15</td>\n",
       "      <td>6300000.0</td>\n",
       "      <td>46.5</td>\n",
       "      <td>2017-03-06T00:00:00</td>\n",
       "      <td>1</td>\n",
       "      <td>2.7000</td>\n",
       "      <td>13.0</td>\n",
       "      <td>NaN</td>\n",
       "      <td>13</td>\n",
       "      <td>NaN</td>\n",
       "      <td>...</td>\n",
       "      <td>NaN</td>\n",
       "      <td>NaN</td>\n",
       "      <td>Санкт-Петербург</td>\n",
       "      <td>11125.0</td>\n",
       "      <td>14501.0</td>\n",
       "      <td>0.0</td>\n",
       "      <td>NaN</td>\n",
       "      <td>0.0</td>\n",
       "      <td>NaN</td>\n",
       "      <td>336.0</td>\n",
       "    </tr>\n",
       "    <tr>\n",
       "      <th>60</th>\n",
       "      <td>3</td>\n",
       "      <td>2740000.0</td>\n",
       "      <td>35.0</td>\n",
       "      <td>2018-01-01T00:00:00</td>\n",
       "      <td>1</td>\n",
       "      <td>2.7000</td>\n",
       "      <td>12.0</td>\n",
       "      <td>NaN</td>\n",
       "      <td>8</td>\n",
       "      <td>NaN</td>\n",
       "      <td>...</td>\n",
       "      <td>NaN</td>\n",
       "      <td>NaN</td>\n",
       "      <td>посёлок Мурино</td>\n",
       "      <td>NaN</td>\n",
       "      <td>NaN</td>\n",
       "      <td>NaN</td>\n",
       "      <td>NaN</td>\n",
       "      <td>NaN</td>\n",
       "      <td>NaN</td>\n",
       "      <td>11.0</td>\n",
       "    </tr>\n",
       "    <tr>\n",
       "      <th>81</th>\n",
       "      <td>9</td>\n",
       "      <td>10949000.0</td>\n",
       "      <td>68.0</td>\n",
       "      <td>2018-12-27T00:00:00</td>\n",
       "      <td>1</td>\n",
       "      <td>2.7000</td>\n",
       "      <td>10.0</td>\n",
       "      <td>NaN</td>\n",
       "      <td>6</td>\n",
       "      <td>NaN</td>\n",
       "      <td>...</td>\n",
       "      <td>NaN</td>\n",
       "      <td>NaN</td>\n",
       "      <td>Санкт-Петербург</td>\n",
       "      <td>NaN</td>\n",
       "      <td>NaN</td>\n",
       "      <td>NaN</td>\n",
       "      <td>NaN</td>\n",
       "      <td>NaN</td>\n",
       "      <td>NaN</td>\n",
       "      <td>NaN</td>\n",
       "    </tr>\n",
       "    <tr>\n",
       "      <th>82</th>\n",
       "      <td>3</td>\n",
       "      <td>4500000.0</td>\n",
       "      <td>80.5</td>\n",
       "      <td>2018-01-15T00:00:00</td>\n",
       "      <td>3</td>\n",
       "      <td>2.6075</td>\n",
       "      <td>25.0</td>\n",
       "      <td>NaN</td>\n",
       "      <td>16</td>\n",
       "      <td>NaN</td>\n",
       "      <td>...</td>\n",
       "      <td>NaN</td>\n",
       "      <td>NaN</td>\n",
       "      <td>посёлок Шушары</td>\n",
       "      <td>12430.0</td>\n",
       "      <td>18217.0</td>\n",
       "      <td>0.0</td>\n",
       "      <td>NaN</td>\n",
       "      <td>0.0</td>\n",
       "      <td>NaN</td>\n",
       "      <td>60.0</td>\n",
       "    </tr>\n",
       "    <tr>\n",
       "      <th>133</th>\n",
       "      <td>12</td>\n",
       "      <td>3150000.0</td>\n",
       "      <td>31.0</td>\n",
       "      <td>2018-03-23T00:00:00</td>\n",
       "      <td>1</td>\n",
       "      <td>2.7000</td>\n",
       "      <td>25.0</td>\n",
       "      <td>NaN</td>\n",
       "      <td>6</td>\n",
       "      <td>NaN</td>\n",
       "      <td>...</td>\n",
       "      <td>NaN</td>\n",
       "      <td>NaN</td>\n",
       "      <td>посёлок Мурино</td>\n",
       "      <td>NaN</td>\n",
       "      <td>NaN</td>\n",
       "      <td>NaN</td>\n",
       "      <td>NaN</td>\n",
       "      <td>NaN</td>\n",
       "      <td>NaN</td>\n",
       "      <td>78.0</td>\n",
       "    </tr>\n",
       "    <tr>\n",
       "      <th>155</th>\n",
       "      <td>8</td>\n",
       "      <td>96000000.0</td>\n",
       "      <td>317.0</td>\n",
       "      <td>2017-07-07T00:00:00</td>\n",
       "      <td>4</td>\n",
       "      <td>3.5000</td>\n",
       "      <td>3.0</td>\n",
       "      <td>183.0</td>\n",
       "      <td>3</td>\n",
       "      <td>NaN</td>\n",
       "      <td>...</td>\n",
       "      <td>NaN</td>\n",
       "      <td>1.0</td>\n",
       "      <td>Санкт-Петербург</td>\n",
       "      <td>22673.0</td>\n",
       "      <td>1771.0</td>\n",
       "      <td>2.0</td>\n",
       "      <td>508.0</td>\n",
       "      <td>3.0</td>\n",
       "      <td>366.0</td>\n",
       "      <td>62.0</td>\n",
       "    </tr>\n",
       "  </tbody>\n",
       "</table>\n",
       "<p>10 rows × 22 columns</p>\n",
       "</div>"
      ],
      "text/plain": [
       "     total_images  last_price  total_area first_day_exposition  rooms  \\\n",
       "3               0  64900000.0       159.0  2015-07-24T00:00:00      3   \n",
       "30             12   2200000.0        32.8  2018-02-19T00:00:00      1   \n",
       "37             10   1990000.0        45.8  2017-10-28T00:00:00      2   \n",
       "44             13   5350000.0        40.0  2018-11-18T00:00:00      1   \n",
       "59             15   6300000.0        46.5  2017-03-06T00:00:00      1   \n",
       "60              3   2740000.0        35.0  2018-01-01T00:00:00      1   \n",
       "81              9  10949000.0        68.0  2018-12-27T00:00:00      1   \n",
       "82              3   4500000.0        80.5  2018-01-15T00:00:00      3   \n",
       "133            12   3150000.0        31.0  2018-03-23T00:00:00      1   \n",
       "155             8  96000000.0       317.0  2017-07-07T00:00:00      4   \n",
       "\n",
       "     ceiling_height  floors_total  living_area  floor is_apartment  ...  \\\n",
       "3            2.7000          14.0          NaN      9          NaN  ...   \n",
       "30           2.5600           9.0          NaN      2          NaN  ...   \n",
       "37           2.5000           5.0          NaN      1          NaN  ...   \n",
       "44           2.7000          22.0          NaN      3          NaN  ...   \n",
       "59           2.7000          13.0          NaN     13          NaN  ...   \n",
       "60           2.7000          12.0          NaN      8          NaN  ...   \n",
       "81           2.7000          10.0          NaN      6          NaN  ...   \n",
       "82           2.6075          25.0          NaN     16          NaN  ...   \n",
       "133          2.7000          25.0          NaN      6          NaN  ...   \n",
       "155          3.5000           3.0        183.0      3          NaN  ...   \n",
       "\n",
       "     kitchen_area  balcony                        locality_name  \\\n",
       "3             NaN      0.0                      Санкт-Петербург   \n",
       "30            NaN      NaN                             Коммунар   \n",
       "37            NaN      NaN  поселок городского типа Красный Бор   \n",
       "44            NaN      1.0                      Санкт-Петербург   \n",
       "59            NaN      NaN                      Санкт-Петербург   \n",
       "60            NaN      NaN                       посёлок Мурино   \n",
       "81            NaN      NaN                      Санкт-Петербург   \n",
       "82            NaN      NaN                       посёлок Шушары   \n",
       "133           NaN      NaN                       посёлок Мурино   \n",
       "155           NaN      1.0                      Санкт-Петербург   \n",
       "\n",
       "     airports_nearest cityCenters_nearest  parks_around3000  parks_nearest  \\\n",
       "3             28098.0              6800.0               2.0           84.0   \n",
       "30                NaN                 NaN               NaN            NaN   \n",
       "37                NaN                 NaN               NaN            NaN   \n",
       "44            30471.0             11603.0               1.0          620.0   \n",
       "59            11125.0             14501.0               0.0            NaN   \n",
       "60                NaN                 NaN               NaN            NaN   \n",
       "81                NaN                 NaN               NaN            NaN   \n",
       "82            12430.0             18217.0               0.0            NaN   \n",
       "133               NaN                 NaN               NaN            NaN   \n",
       "155           22673.0              1771.0               2.0          508.0   \n",
       "\n",
       "     ponds_around3000  ponds_nearest  days_exposition  \n",
       "3                 3.0          234.0            424.0  \n",
       "30                NaN            NaN             63.0  \n",
       "37                NaN            NaN            196.0  \n",
       "44                1.0         1152.0              NaN  \n",
       "59                0.0            NaN            336.0  \n",
       "60                NaN            NaN             11.0  \n",
       "81                NaN            NaN              NaN  \n",
       "82                0.0            NaN             60.0  \n",
       "133               NaN            NaN             78.0  \n",
       "155               3.0          366.0             62.0  \n",
       "\n",
       "[10 rows x 22 columns]"
      ]
     },
     "execution_count": 32,
     "metadata": {},
     "output_type": "execute_result"
    }
   ],
   "source": [
    "# выведем контрольные 10 строк\n",
    "data[data['kitchen_area'].isna()].head(10)"
   ]
  },
  {
   "cell_type": "markdown",
   "id": "416d28c6",
   "metadata": {},
   "source": [
    "Действительно, в 9ти из 10ти строк данные в обоих столбцах (жилая площадь и площадь кухни) не заполнены. По этим строкам (с пропусками площади кухни) после замены Nan в living_area будет легко проверить правильность этих замен."
   ]
  },
  {
   "cell_type": "code",
   "execution_count": 33,
   "id": "3800fd51",
   "metadata": {
    "scrolled": true
   },
   "outputs": [
    {
     "data": {
      "text/plain": [
       "0"
      ]
     },
     "execution_count": 33,
     "metadata": {},
     "output_type": "execute_result"
    }
   ],
   "source": [
    "# заменим пропуски на соответствующие доли от общей площади\n",
    "data.loc[data['living_area'].isna(), 'living_area'] = \\\n",
    "data.loc[data['living_area'].isna(), 'total_area']*area_koef\n",
    "\n",
    "# проверим столбец на наличие пропусков еще раз\n",
    "data['living_area'].isna().sum()"
   ]
  },
  {
   "cell_type": "code",
   "execution_count": 34,
   "id": "3dea6bf7",
   "metadata": {
    "scrolled": true
   },
   "outputs": [
    {
     "data": {
      "text/html": [
       "<div>\n",
       "<style scoped>\n",
       "    .dataframe tbody tr th:only-of-type {\n",
       "        vertical-align: middle;\n",
       "    }\n",
       "\n",
       "    .dataframe tbody tr th {\n",
       "        vertical-align: top;\n",
       "    }\n",
       "\n",
       "    .dataframe thead th {\n",
       "        text-align: right;\n",
       "    }\n",
       "</style>\n",
       "<table border=\"1\" class=\"dataframe\">\n",
       "  <thead>\n",
       "    <tr style=\"text-align: right;\">\n",
       "      <th></th>\n",
       "      <th>total_images</th>\n",
       "      <th>last_price</th>\n",
       "      <th>total_area</th>\n",
       "      <th>first_day_exposition</th>\n",
       "      <th>rooms</th>\n",
       "      <th>ceiling_height</th>\n",
       "      <th>floors_total</th>\n",
       "      <th>living_area</th>\n",
       "      <th>floor</th>\n",
       "      <th>is_apartment</th>\n",
       "      <th>...</th>\n",
       "      <th>kitchen_area</th>\n",
       "      <th>balcony</th>\n",
       "      <th>locality_name</th>\n",
       "      <th>airports_nearest</th>\n",
       "      <th>cityCenters_nearest</th>\n",
       "      <th>parks_around3000</th>\n",
       "      <th>parks_nearest</th>\n",
       "      <th>ponds_around3000</th>\n",
       "      <th>ponds_nearest</th>\n",
       "      <th>days_exposition</th>\n",
       "    </tr>\n",
       "  </thead>\n",
       "  <tbody>\n",
       "    <tr>\n",
       "      <th>3</th>\n",
       "      <td>0</td>\n",
       "      <td>64900000.0</td>\n",
       "      <td>159.0</td>\n",
       "      <td>2015-07-24T00:00:00</td>\n",
       "      <td>3</td>\n",
       "      <td>2.7000</td>\n",
       "      <td>14.0</td>\n",
       "      <td>90.768980</td>\n",
       "      <td>9</td>\n",
       "      <td>NaN</td>\n",
       "      <td>...</td>\n",
       "      <td>NaN</td>\n",
       "      <td>0.0</td>\n",
       "      <td>Санкт-Петербург</td>\n",
       "      <td>28098.0</td>\n",
       "      <td>6800.0</td>\n",
       "      <td>2.0</td>\n",
       "      <td>84.0</td>\n",
       "      <td>3.0</td>\n",
       "      <td>234.0</td>\n",
       "      <td>424.0</td>\n",
       "    </tr>\n",
       "    <tr>\n",
       "      <th>30</th>\n",
       "      <td>12</td>\n",
       "      <td>2200000.0</td>\n",
       "      <td>32.8</td>\n",
       "      <td>2018-02-19T00:00:00</td>\n",
       "      <td>1</td>\n",
       "      <td>2.5600</td>\n",
       "      <td>9.0</td>\n",
       "      <td>18.724670</td>\n",
       "      <td>2</td>\n",
       "      <td>NaN</td>\n",
       "      <td>...</td>\n",
       "      <td>NaN</td>\n",
       "      <td>NaN</td>\n",
       "      <td>Коммунар</td>\n",
       "      <td>NaN</td>\n",
       "      <td>NaN</td>\n",
       "      <td>NaN</td>\n",
       "      <td>NaN</td>\n",
       "      <td>NaN</td>\n",
       "      <td>NaN</td>\n",
       "      <td>63.0</td>\n",
       "    </tr>\n",
       "    <tr>\n",
       "      <th>37</th>\n",
       "      <td>10</td>\n",
       "      <td>1990000.0</td>\n",
       "      <td>45.8</td>\n",
       "      <td>2017-10-28T00:00:00</td>\n",
       "      <td>2</td>\n",
       "      <td>2.5000</td>\n",
       "      <td>5.0</td>\n",
       "      <td>26.146033</td>\n",
       "      <td>1</td>\n",
       "      <td>NaN</td>\n",
       "      <td>...</td>\n",
       "      <td>NaN</td>\n",
       "      <td>NaN</td>\n",
       "      <td>поселок городского типа Красный Бор</td>\n",
       "      <td>NaN</td>\n",
       "      <td>NaN</td>\n",
       "      <td>NaN</td>\n",
       "      <td>NaN</td>\n",
       "      <td>NaN</td>\n",
       "      <td>NaN</td>\n",
       "      <td>196.0</td>\n",
       "    </tr>\n",
       "    <tr>\n",
       "      <th>44</th>\n",
       "      <td>13</td>\n",
       "      <td>5350000.0</td>\n",
       "      <td>40.0</td>\n",
       "      <td>2018-11-18T00:00:00</td>\n",
       "      <td>1</td>\n",
       "      <td>2.7000</td>\n",
       "      <td>22.0</td>\n",
       "      <td>22.834964</td>\n",
       "      <td>3</td>\n",
       "      <td>NaN</td>\n",
       "      <td>...</td>\n",
       "      <td>NaN</td>\n",
       "      <td>1.0</td>\n",
       "      <td>Санкт-Петербург</td>\n",
       "      <td>30471.0</td>\n",
       "      <td>11603.0</td>\n",
       "      <td>1.0</td>\n",
       "      <td>620.0</td>\n",
       "      <td>1.0</td>\n",
       "      <td>1152.0</td>\n",
       "      <td>NaN</td>\n",
       "    </tr>\n",
       "    <tr>\n",
       "      <th>59</th>\n",
       "      <td>15</td>\n",
       "      <td>6300000.0</td>\n",
       "      <td>46.5</td>\n",
       "      <td>2017-03-06T00:00:00</td>\n",
       "      <td>1</td>\n",
       "      <td>2.7000</td>\n",
       "      <td>13.0</td>\n",
       "      <td>26.545645</td>\n",
       "      <td>13</td>\n",
       "      <td>NaN</td>\n",
       "      <td>...</td>\n",
       "      <td>NaN</td>\n",
       "      <td>NaN</td>\n",
       "      <td>Санкт-Петербург</td>\n",
       "      <td>11125.0</td>\n",
       "      <td>14501.0</td>\n",
       "      <td>0.0</td>\n",
       "      <td>NaN</td>\n",
       "      <td>0.0</td>\n",
       "      <td>NaN</td>\n",
       "      <td>336.0</td>\n",
       "    </tr>\n",
       "    <tr>\n",
       "      <th>60</th>\n",
       "      <td>3</td>\n",
       "      <td>2740000.0</td>\n",
       "      <td>35.0</td>\n",
       "      <td>2018-01-01T00:00:00</td>\n",
       "      <td>1</td>\n",
       "      <td>2.7000</td>\n",
       "      <td>12.0</td>\n",
       "      <td>19.980593</td>\n",
       "      <td>8</td>\n",
       "      <td>NaN</td>\n",
       "      <td>...</td>\n",
       "      <td>NaN</td>\n",
       "      <td>NaN</td>\n",
       "      <td>посёлок Мурино</td>\n",
       "      <td>NaN</td>\n",
       "      <td>NaN</td>\n",
       "      <td>NaN</td>\n",
       "      <td>NaN</td>\n",
       "      <td>NaN</td>\n",
       "      <td>NaN</td>\n",
       "      <td>11.0</td>\n",
       "    </tr>\n",
       "    <tr>\n",
       "      <th>81</th>\n",
       "      <td>9</td>\n",
       "      <td>10949000.0</td>\n",
       "      <td>68.0</td>\n",
       "      <td>2018-12-27T00:00:00</td>\n",
       "      <td>1</td>\n",
       "      <td>2.7000</td>\n",
       "      <td>10.0</td>\n",
       "      <td>38.819438</td>\n",
       "      <td>6</td>\n",
       "      <td>NaN</td>\n",
       "      <td>...</td>\n",
       "      <td>NaN</td>\n",
       "      <td>NaN</td>\n",
       "      <td>Санкт-Петербург</td>\n",
       "      <td>NaN</td>\n",
       "      <td>NaN</td>\n",
       "      <td>NaN</td>\n",
       "      <td>NaN</td>\n",
       "      <td>NaN</td>\n",
       "      <td>NaN</td>\n",
       "      <td>NaN</td>\n",
       "    </tr>\n",
       "    <tr>\n",
       "      <th>82</th>\n",
       "      <td>3</td>\n",
       "      <td>4500000.0</td>\n",
       "      <td>80.5</td>\n",
       "      <td>2018-01-15T00:00:00</td>\n",
       "      <td>3</td>\n",
       "      <td>2.6075</td>\n",
       "      <td>25.0</td>\n",
       "      <td>45.955364</td>\n",
       "      <td>16</td>\n",
       "      <td>NaN</td>\n",
       "      <td>...</td>\n",
       "      <td>NaN</td>\n",
       "      <td>NaN</td>\n",
       "      <td>посёлок Шушары</td>\n",
       "      <td>12430.0</td>\n",
       "      <td>18217.0</td>\n",
       "      <td>0.0</td>\n",
       "      <td>NaN</td>\n",
       "      <td>0.0</td>\n",
       "      <td>NaN</td>\n",
       "      <td>60.0</td>\n",
       "    </tr>\n",
       "    <tr>\n",
       "      <th>133</th>\n",
       "      <td>12</td>\n",
       "      <td>3150000.0</td>\n",
       "      <td>31.0</td>\n",
       "      <td>2018-03-23T00:00:00</td>\n",
       "      <td>1</td>\n",
       "      <td>2.7000</td>\n",
       "      <td>25.0</td>\n",
       "      <td>17.697097</td>\n",
       "      <td>6</td>\n",
       "      <td>NaN</td>\n",
       "      <td>...</td>\n",
       "      <td>NaN</td>\n",
       "      <td>NaN</td>\n",
       "      <td>посёлок Мурино</td>\n",
       "      <td>NaN</td>\n",
       "      <td>NaN</td>\n",
       "      <td>NaN</td>\n",
       "      <td>NaN</td>\n",
       "      <td>NaN</td>\n",
       "      <td>NaN</td>\n",
       "      <td>78.0</td>\n",
       "    </tr>\n",
       "    <tr>\n",
       "      <th>155</th>\n",
       "      <td>8</td>\n",
       "      <td>96000000.0</td>\n",
       "      <td>317.0</td>\n",
       "      <td>2017-07-07T00:00:00</td>\n",
       "      <td>4</td>\n",
       "      <td>3.5000</td>\n",
       "      <td>3.0</td>\n",
       "      <td>183.000000</td>\n",
       "      <td>3</td>\n",
       "      <td>NaN</td>\n",
       "      <td>...</td>\n",
       "      <td>NaN</td>\n",
       "      <td>1.0</td>\n",
       "      <td>Санкт-Петербург</td>\n",
       "      <td>22673.0</td>\n",
       "      <td>1771.0</td>\n",
       "      <td>2.0</td>\n",
       "      <td>508.0</td>\n",
       "      <td>3.0</td>\n",
       "      <td>366.0</td>\n",
       "      <td>62.0</td>\n",
       "    </tr>\n",
       "  </tbody>\n",
       "</table>\n",
       "<p>10 rows × 22 columns</p>\n",
       "</div>"
      ],
      "text/plain": [
       "     total_images  last_price  total_area first_day_exposition  rooms  \\\n",
       "3               0  64900000.0       159.0  2015-07-24T00:00:00      3   \n",
       "30             12   2200000.0        32.8  2018-02-19T00:00:00      1   \n",
       "37             10   1990000.0        45.8  2017-10-28T00:00:00      2   \n",
       "44             13   5350000.0        40.0  2018-11-18T00:00:00      1   \n",
       "59             15   6300000.0        46.5  2017-03-06T00:00:00      1   \n",
       "60              3   2740000.0        35.0  2018-01-01T00:00:00      1   \n",
       "81              9  10949000.0        68.0  2018-12-27T00:00:00      1   \n",
       "82              3   4500000.0        80.5  2018-01-15T00:00:00      3   \n",
       "133            12   3150000.0        31.0  2018-03-23T00:00:00      1   \n",
       "155             8  96000000.0       317.0  2017-07-07T00:00:00      4   \n",
       "\n",
       "     ceiling_height  floors_total  living_area  floor is_apartment  ...  \\\n",
       "3            2.7000          14.0    90.768980      9          NaN  ...   \n",
       "30           2.5600           9.0    18.724670      2          NaN  ...   \n",
       "37           2.5000           5.0    26.146033      1          NaN  ...   \n",
       "44           2.7000          22.0    22.834964      3          NaN  ...   \n",
       "59           2.7000          13.0    26.545645     13          NaN  ...   \n",
       "60           2.7000          12.0    19.980593      8          NaN  ...   \n",
       "81           2.7000          10.0    38.819438      6          NaN  ...   \n",
       "82           2.6075          25.0    45.955364     16          NaN  ...   \n",
       "133          2.7000          25.0    17.697097      6          NaN  ...   \n",
       "155          3.5000           3.0   183.000000      3          NaN  ...   \n",
       "\n",
       "     kitchen_area  balcony                        locality_name  \\\n",
       "3             NaN      0.0                      Санкт-Петербург   \n",
       "30            NaN      NaN                             Коммунар   \n",
       "37            NaN      NaN  поселок городского типа Красный Бор   \n",
       "44            NaN      1.0                      Санкт-Петербург   \n",
       "59            NaN      NaN                      Санкт-Петербург   \n",
       "60            NaN      NaN                       посёлок Мурино   \n",
       "81            NaN      NaN                      Санкт-Петербург   \n",
       "82            NaN      NaN                       посёлок Шушары   \n",
       "133           NaN      NaN                       посёлок Мурино   \n",
       "155           NaN      1.0                      Санкт-Петербург   \n",
       "\n",
       "     airports_nearest cityCenters_nearest  parks_around3000  parks_nearest  \\\n",
       "3             28098.0              6800.0               2.0           84.0   \n",
       "30                NaN                 NaN               NaN            NaN   \n",
       "37                NaN                 NaN               NaN            NaN   \n",
       "44            30471.0             11603.0               1.0          620.0   \n",
       "59            11125.0             14501.0               0.0            NaN   \n",
       "60                NaN                 NaN               NaN            NaN   \n",
       "81                NaN                 NaN               NaN            NaN   \n",
       "82            12430.0             18217.0               0.0            NaN   \n",
       "133               NaN                 NaN               NaN            NaN   \n",
       "155           22673.0              1771.0               2.0          508.0   \n",
       "\n",
       "     ponds_around3000  ponds_nearest  days_exposition  \n",
       "3                 3.0          234.0            424.0  \n",
       "30                NaN            NaN             63.0  \n",
       "37                NaN            NaN            196.0  \n",
       "44                1.0         1152.0              NaN  \n",
       "59                0.0            NaN            336.0  \n",
       "60                NaN            NaN             11.0  \n",
       "81                NaN            NaN              NaN  \n",
       "82                0.0            NaN             60.0  \n",
       "133               NaN            NaN             78.0  \n",
       "155               3.0          366.0             62.0  \n",
       "\n",
       "[10 rows x 22 columns]"
      ]
     },
     "execution_count": 34,
     "metadata": {},
     "output_type": "execute_result"
    }
   ],
   "source": [
    "# повторно выведем контрольные 10 строк\n",
    "data[data['kitchen_area'].isna()].head(10)"
   ]
  },
  {
   "cell_type": "markdown",
   "id": "aaa19f56",
   "metadata": {},
   "source": [
    "Все пропуски заменены верно."
   ]
  },
  {
   "cell_type": "markdown",
   "id": "b8b08bc9",
   "metadata": {},
   "source": [
    "После того, как пропущенные значения обработаны, можно обрабатывать аномалии данных."
   ]
  },
  {
   "cell_type": "code",
   "execution_count": 35,
   "id": "ec751406",
   "metadata": {},
   "outputs": [
    {
     "data": {
      "text/plain": [
       "count    23175.000000\n",
       "mean        33.736471\n",
       "std         18.889426\n",
       "min          2.000000\n",
       "25%         19.000000\n",
       "50%         30.000000\n",
       "75%         42.000000\n",
       "max        301.500000\n",
       "Name: living_area, dtype: float64"
      ]
     },
     "execution_count": 35,
     "metadata": {},
     "output_type": "execute_result"
    }
   ],
   "source": [
    "data['living_area'].describe()"
   ]
  },
  {
   "cell_type": "markdown",
   "id": "95b016d7",
   "metadata": {},
   "source": [
    "Аномальными будем считать значения жилой площади \n",
    "- менее 8 кв м - это достаточно даже для небольшой студии, все, что меньше будет скорее исключением\n",
    "- более 130 кв м  - так как мы ограничили наш датафрейм 5-ти комнатными квартирами, то 130 это достаточная максимальныя площадь, для таких квартир. Варианты большей площади встречаются крайне редко и по ним лучше не строить обучающую модель систкмы скоринга."
   ]
  },
  {
   "cell_type": "code",
   "execution_count": 36,
   "id": "84e3f923",
   "metadata": {
    "scrolled": true
   },
   "outputs": [
    {
     "data": {
      "text/plain": [
       "97"
      ]
     },
     "execution_count": 36,
     "metadata": {},
     "output_type": "execute_result"
    }
   ],
   "source": [
    "data.query('living_area < 8 | living_area > 130')['living_area'].count()"
   ]
  },
  {
   "cell_type": "code",
   "execution_count": 37,
   "id": "9cae010c",
   "metadata": {
    "scrolled": true
   },
   "outputs": [],
   "source": [
    "data = data.query('living_area >= 8 & living_area <= 130')"
   ]
  },
  {
   "cell_type": "markdown",
   "id": "25e6cafe",
   "metadata": {},
   "source": [
    "Выведем итоговое описание данных в столбце `living_area`\n"
   ]
  },
  {
   "cell_type": "code",
   "execution_count": 38,
   "id": "92f81902",
   "metadata": {
    "scrolled": true
   },
   "outputs": [
    {
     "data": {
      "text/plain": [
       "count    23078.000000\n",
       "mean        33.231630\n",
       "std         16.787249\n",
       "min          8.000000\n",
       "25%         19.000000\n",
       "50%         30.000000\n",
       "75%         42.000000\n",
       "max        130.000000\n",
       "Name: living_area, dtype: float64"
      ]
     },
     "execution_count": 38,
     "metadata": {},
     "output_type": "execute_result"
    }
   ],
   "source": [
    "data['living_area'].describe()"
   ]
  },
  {
   "cell_type": "markdown",
   "id": "d29c0c70",
   "metadata": {},
   "source": [
    "### 5. Столбец `kitchen_area`\n",
    "\n",
    "Проведем аналогичные операция для значений площади кухни."
   ]
  },
  {
   "cell_type": "code",
   "execution_count": 39,
   "id": "95443b2e",
   "metadata": {},
   "outputs": [
    {
     "data": {
      "text/plain": [
       "1990"
      ]
     },
     "execution_count": 39,
     "metadata": {},
     "output_type": "execute_result"
    }
   ],
   "source": [
    "# определим сколько пропусков в столбце\n",
    "data['kitchen_area'].isna().sum()"
   ]
  },
  {
   "cell_type": "markdown",
   "id": "d4bd7e22",
   "metadata": {},
   "source": [
    "Пропуски в площади кухни возникают аналогичным образом, как и пропуски по жилой площади. Чаще всего это человеческий фактор, люди не знают точно какое значение там указать."
   ]
  },
  {
   "cell_type": "code",
   "execution_count": 40,
   "id": "8c0d8acf",
   "metadata": {
    "scrolled": true
   },
   "outputs": [
    {
     "data": {
      "text/plain": [
       "count    21088.000000\n",
       "mean        10.390472\n",
       "std          5.486135\n",
       "min          1.300000\n",
       "25%          7.000000\n",
       "50%          9.000000\n",
       "75%         11.900000\n",
       "max        107.000000\n",
       "Name: kitchen_area, dtype: float64"
      ]
     },
     "execution_count": 40,
     "metadata": {},
     "output_type": "execute_result"
    }
   ],
   "source": [
    "# выведем общее описание столбца\n",
    "data['kitchen_area'].describe()"
   ]
  },
  {
   "cell_type": "code",
   "execution_count": 41,
   "id": "5981f0ec",
   "metadata": {
    "scrolled": false
   },
   "outputs": [
    {
     "data": {
      "text/plain": [
       "<AxesSubplot:>"
      ]
     },
     "execution_count": 41,
     "metadata": {},
     "output_type": "execute_result"
    },
    {
     "data": {
      "image/png": "[encoded data removed]",
      "text/plain": [
       "<Figure size 432x288 with 1 Axes>"
      ]
     },
     "metadata": {
      "needs_background": "light"
     },
     "output_type": "display_data"
    }
   ],
   "source": [
    "# сформируем гистограмму\n",
    "data['kitchen_area'].hist(bins=100, range = (0,50))"
   ]
  },
  {
   "cell_type": "markdown",
   "id": "9d41b993",
   "metadata": {},
   "source": [
    "Получается, что величина кухни не так явно варьируется в зависимости от общей площади квартиры. Между 1ым и 3им квантилями разница всего в 4 кв.м, то есть большинство значений площадей лежат в диапазоне от 7 до 11 кв.м.\n",
    "Гистограмма имеет длинный правый \"хвост\", что говорит о большом количестве высоких редковстречающихся значений.\n",
    "Корреляционная таблица в начале исследования показывала, что площадь кухни коррелирует с площадью квартиры примерно с коэффициаентом около 0.6\n",
    "Расчитаем коэффициент кореляции между площадью кухни и общей площадью еще раз, а также жилой площадью."
   ]
  },
  {
   "cell_type": "code",
   "execution_count": 42,
   "id": "c892c6f1",
   "metadata": {
    "scrolled": true
   },
   "outputs": [
    {
     "data": {
      "text/plain": [
       "0.5768786139900021"
      ]
     },
     "execution_count": 42,
     "metadata": {},
     "output_type": "execute_result"
    }
   ],
   "source": [
    "data['kitchen_area'].corr(data['total_area'])"
   ]
  },
  {
   "cell_type": "code",
   "execution_count": 43,
   "id": "d62734a4",
   "metadata": {},
   "outputs": [
    {
     "data": {
      "text/plain": [
       "0.335608256871902"
      ]
     },
     "execution_count": 43,
     "metadata": {},
     "output_type": "execute_result"
    }
   ],
   "source": [
    "data['kitchen_area'].corr(data['living_area'])"
   ]
  },
  {
   "cell_type": "markdown",
   "id": "d744bc87",
   "metadata": {},
   "source": [
    "Площадь кухни зависит больше от общей площади квартиры, но это зависимость не такая сильная, как у жилой площади.\n",
    "\n",
    "Ввиду того, что площадь кухни не так сильно зависит от общей площади квартиры и в целом часто находится в пределе значений 7-11 кв.м, то в этом случае уместно заменить пропуски медианными значениями."
   ]
  },
  {
   "cell_type": "code",
   "execution_count": 44,
   "id": "d6bcb2f3",
   "metadata": {},
   "outputs": [],
   "source": [
    "# заменим пропуски медианой\n",
    "data['kitchen_area'] = data['kitchen_area'].fillna(data['kitchen_area'].median())"
   ]
  },
  {
   "cell_type": "markdown",
   "id": "3d3dee3e",
   "metadata": {},
   "source": [
    "Пропуски заменены, теперь осталось оценить количество аномальных значений. К ним отнесем площади кухни менее 3ех квадратов (ведь даже в студии, кухонная зона обычно не меннее 3-4 кв.м), а также кухни более 40 кв.м"
   ]
  },
  {
   "cell_type": "code",
   "execution_count": 45,
   "id": "347f058c",
   "metadata": {
    "scrolled": true
   },
   "outputs": [
    {
     "data": {
      "text/plain": [
       "113"
      ]
     },
     "execution_count": 45,
     "metadata": {},
     "output_type": "execute_result"
    }
   ],
   "source": [
    "data.query('kitchen_area<3 | kitchen_area>40')['kitchen_area'].count()"
   ]
  },
  {
   "cell_type": "markdown",
   "id": "6b5e0a93",
   "metadata": {},
   "source": [
    "Таких значений не более 0.5%, поэтому лучше их исключить, это не повлияет на информативность датафрейма."
   ]
  },
  {
   "cell_type": "code",
   "execution_count": 46,
   "id": "e6fc885d",
   "metadata": {},
   "outputs": [],
   "source": [
    "# перезаписываем отфильтрованный датафрейм\n",
    "data = data.query('kitchen_area>=3 & kitchen_area<=40')"
   ]
  },
  {
   "cell_type": "code",
   "execution_count": 47,
   "id": "599c2f9d",
   "metadata": {},
   "outputs": [
    {
     "data": {
      "text/plain": [
       "0"
      ]
     },
     "execution_count": 47,
     "metadata": {},
     "output_type": "execute_result"
    }
   ],
   "source": [
    "# еще раз проверяем, что пропусков не осталось\n",
    "data['kitchen_area'].isna().sum()"
   ]
  },
  {
   "cell_type": "code",
   "execution_count": 48,
   "id": "6d6786fb",
   "metadata": {
    "scrolled": false
   },
   "outputs": [
    {
     "data": {
      "text/plain": [
       "count    22965.000000\n",
       "mean        10.093938\n",
       "std          4.437379\n",
       "min          3.000000\n",
       "25%          7.200000\n",
       "50%          9.000000\n",
       "75%         11.280000\n",
       "max         40.000000\n",
       "Name: kitchen_area, dtype: float64"
      ]
     },
     "execution_count": 48,
     "metadata": {},
     "output_type": "execute_result"
    }
   ],
   "source": [
    "# еще раз убедимся, что в датафрейме только нужные нам значения\n",
    "data['kitchen_area'].describe()"
   ]
  },
  {
   "cell_type": "markdown",
   "id": "c5092e38",
   "metadata": {},
   "source": [
    "Теперь в значениях площадей кухонь не осталось пропущенных значений, а также аномальных выбросов."
   ]
  },
  {
   "cell_type": "markdown",
   "id": "147f5299",
   "metadata": {},
   "source": [
    "### 6. Столбец `balcony`"
   ]
  },
  {
   "cell_type": "markdown",
   "id": "710ad3ce",
   "metadata": {},
   "source": [
    "Рассмотрим какие значения в этом столбце присутствуют, а также определим число пропусков."
   ]
  },
  {
   "cell_type": "code",
   "execution_count": 49,
   "id": "6cfba0b5",
   "metadata": {
    "scrolled": true
   },
   "outputs": [
    {
     "data": {
      "text/plain": [
       "array([nan,  2.,  0.,  1.,  5.,  4.,  3.])"
      ]
     },
     "execution_count": 49,
     "metadata": {},
     "output_type": "execute_result"
    }
   ],
   "source": [
    "data['balcony'].unique()"
   ]
  },
  {
   "cell_type": "code",
   "execution_count": 50,
   "id": "bbd4676b",
   "metadata": {},
   "outputs": [
    {
     "data": {
      "text/plain": [
       "11168"
      ]
     },
     "execution_count": 50,
     "metadata": {},
     "output_type": "execute_result"
    }
   ],
   "source": [
    "data['balcony'].isna().sum()"
   ]
  },
  {
   "cell_type": "code",
   "execution_count": 51,
   "id": "7c398104",
   "metadata": {},
   "outputs": [
    {
     "data": {
      "text/plain": [
       "<AxesSubplot:>"
      ]
     },
     "execution_count": 51,
     "metadata": {},
     "output_type": "execute_result"
    },
    {
     "data": {
      "image/png": "[encoded data removed]",
      "text/plain": [
       "<Figure size 432x288 with 1 Axes>"
      ]
     },
     "metadata": {
      "needs_background": "light"
     },
     "output_type": "display_data"
    }
   ],
   "source": [
    "data['balcony'].hist()"
   ]
  },
  {
   "cell_type": "markdown",
   "id": "6f841572",
   "metadata": {},
   "source": [
    "Большинство квартир имеют 1-2 балкона или не имеют его вовсе - это кажется вполне реалистичным. Но вот квартиры с 3мя, 4мя, а тем более пятью балконами встретишь редко. Смущает тот факт, что судя по гистограмме, квартир с 4-5 балконами даже больше, чем с 3мя. \n",
    "\n",
    "Стоит посмотреть что же это за квартиры с таким количеством балконов. Выведем 20 строк для примера."
   ]
  },
  {
   "cell_type": "code",
   "execution_count": 52,
   "id": "6fbbdbf7",
   "metadata": {
    "scrolled": true
   },
   "outputs": [
    {
     "data": {
      "text/html": [
       "<div>\n",
       "<style scoped>\n",
       "    .dataframe tbody tr th:only-of-type {\n",
       "        vertical-align: middle;\n",
       "    }\n",
       "\n",
       "    .dataframe tbody tr th {\n",
       "        vertical-align: top;\n",
       "    }\n",
       "\n",
       "    .dataframe thead th {\n",
       "        text-align: right;\n",
       "    }\n",
       "</style>\n",
       "<table border=\"1\" class=\"dataframe\">\n",
       "  <thead>\n",
       "    <tr style=\"text-align: right;\">\n",
       "      <th></th>\n",
       "      <th>total_images</th>\n",
       "      <th>last_price</th>\n",
       "      <th>total_area</th>\n",
       "      <th>first_day_exposition</th>\n",
       "      <th>rooms</th>\n",
       "      <th>ceiling_height</th>\n",
       "      <th>floors_total</th>\n",
       "      <th>living_area</th>\n",
       "      <th>floor</th>\n",
       "      <th>is_apartment</th>\n",
       "      <th>...</th>\n",
       "      <th>kitchen_area</th>\n",
       "      <th>balcony</th>\n",
       "      <th>locality_name</th>\n",
       "      <th>airports_nearest</th>\n",
       "      <th>cityCenters_nearest</th>\n",
       "      <th>parks_around3000</th>\n",
       "      <th>parks_nearest</th>\n",
       "      <th>ponds_around3000</th>\n",
       "      <th>ponds_nearest</th>\n",
       "      <th>days_exposition</th>\n",
       "    </tr>\n",
       "  </thead>\n",
       "  <tbody>\n",
       "    <tr>\n",
       "      <th>41</th>\n",
       "      <td>16</td>\n",
       "      <td>7900000.0</td>\n",
       "      <td>74.0</td>\n",
       "      <td>2016-05-04T00:00:00</td>\n",
       "      <td>3</td>\n",
       "      <td>2.70</td>\n",
       "      <td>14.0</td>\n",
       "      <td>59.000000</td>\n",
       "      <td>8</td>\n",
       "      <td>False</td>\n",
       "      <td>...</td>\n",
       "      <td>12.0</td>\n",
       "      <td>5.0</td>\n",
       "      <td>Санкт-Петербург</td>\n",
       "      <td>37715.0</td>\n",
       "      <td>12612.0</td>\n",
       "      <td>1.0</td>\n",
       "      <td>725.0</td>\n",
       "      <td>1.0</td>\n",
       "      <td>759.0</td>\n",
       "      <td>179.0</td>\n",
       "    </tr>\n",
       "    <tr>\n",
       "      <th>42</th>\n",
       "      <td>13</td>\n",
       "      <td>22000000.0</td>\n",
       "      <td>161.8</td>\n",
       "      <td>2015-07-08T00:00:00</td>\n",
       "      <td>4</td>\n",
       "      <td>2.80</td>\n",
       "      <td>4.0</td>\n",
       "      <td>80.900000</td>\n",
       "      <td>2</td>\n",
       "      <td>False</td>\n",
       "      <td>...</td>\n",
       "      <td>17.6</td>\n",
       "      <td>5.0</td>\n",
       "      <td>Петергоф</td>\n",
       "      <td>35416.0</td>\n",
       "      <td>30605.0</td>\n",
       "      <td>2.0</td>\n",
       "      <td>47.0</td>\n",
       "      <td>1.0</td>\n",
       "      <td>907.0</td>\n",
       "      <td>987.0</td>\n",
       "    </tr>\n",
       "    <tr>\n",
       "      <th>116</th>\n",
       "      <td>18</td>\n",
       "      <td>10999000.0</td>\n",
       "      <td>97.2</td>\n",
       "      <td>2017-11-13T00:00:00</td>\n",
       "      <td>3</td>\n",
       "      <td>2.50</td>\n",
       "      <td>16.0</td>\n",
       "      <td>55.488962</td>\n",
       "      <td>16</td>\n",
       "      <td>NaN</td>\n",
       "      <td>...</td>\n",
       "      <td>18.3</td>\n",
       "      <td>5.0</td>\n",
       "      <td>Санкт-Петербург</td>\n",
       "      <td>19426.0</td>\n",
       "      <td>21138.0</td>\n",
       "      <td>0.0</td>\n",
       "      <td>NaN</td>\n",
       "      <td>2.0</td>\n",
       "      <td>390.0</td>\n",
       "      <td>394.0</td>\n",
       "    </tr>\n",
       "    <tr>\n",
       "      <th>121</th>\n",
       "      <td>20</td>\n",
       "      <td>33000000.0</td>\n",
       "      <td>180.0</td>\n",
       "      <td>2017-02-17T00:00:00</td>\n",
       "      <td>3</td>\n",
       "      <td>2.90</td>\n",
       "      <td>9.0</td>\n",
       "      <td>86.000000</td>\n",
       "      <td>8</td>\n",
       "      <td>False</td>\n",
       "      <td>...</td>\n",
       "      <td>24.0</td>\n",
       "      <td>4.0</td>\n",
       "      <td>Санкт-Петербург</td>\n",
       "      <td>25689.0</td>\n",
       "      <td>4264.0</td>\n",
       "      <td>1.0</td>\n",
       "      <td>633.0</td>\n",
       "      <td>0.0</td>\n",
       "      <td>NaN</td>\n",
       "      <td>144.0</td>\n",
       "    </tr>\n",
       "    <tr>\n",
       "      <th>250</th>\n",
       "      <td>13</td>\n",
       "      <td>3200000.0</td>\n",
       "      <td>51.7</td>\n",
       "      <td>2019-01-22T00:00:00</td>\n",
       "      <td>2</td>\n",
       "      <td>2.65</td>\n",
       "      <td>16.0</td>\n",
       "      <td>29.200000</td>\n",
       "      <td>5</td>\n",
       "      <td>NaN</td>\n",
       "      <td>...</td>\n",
       "      <td>7.7</td>\n",
       "      <td>4.0</td>\n",
       "      <td>Всеволожск</td>\n",
       "      <td>NaN</td>\n",
       "      <td>NaN</td>\n",
       "      <td>NaN</td>\n",
       "      <td>NaN</td>\n",
       "      <td>NaN</td>\n",
       "      <td>NaN</td>\n",
       "      <td>21.0</td>\n",
       "    </tr>\n",
       "    <tr>\n",
       "      <th>267</th>\n",
       "      <td>2</td>\n",
       "      <td>14700000.0</td>\n",
       "      <td>120.0</td>\n",
       "      <td>2018-09-07T00:00:00</td>\n",
       "      <td>3</td>\n",
       "      <td>2.75</td>\n",
       "      <td>20.0</td>\n",
       "      <td>63.000000</td>\n",
       "      <td>18</td>\n",
       "      <td>NaN</td>\n",
       "      <td>...</td>\n",
       "      <td>16.0</td>\n",
       "      <td>5.0</td>\n",
       "      <td>Санкт-Петербург</td>\n",
       "      <td>39204.0</td>\n",
       "      <td>10430.0</td>\n",
       "      <td>2.0</td>\n",
       "      <td>627.0</td>\n",
       "      <td>3.0</td>\n",
       "      <td>77.0</td>\n",
       "      <td>61.0</td>\n",
       "    </tr>\n",
       "    <tr>\n",
       "      <th>311</th>\n",
       "      <td>20</td>\n",
       "      <td>12500000.0</td>\n",
       "      <td>86.0</td>\n",
       "      <td>2018-10-19T00:00:00</td>\n",
       "      <td>3</td>\n",
       "      <td>2.80</td>\n",
       "      <td>25.0</td>\n",
       "      <td>47.000000</td>\n",
       "      <td>3</td>\n",
       "      <td>NaN</td>\n",
       "      <td>...</td>\n",
       "      <td>13.0</td>\n",
       "      <td>5.0</td>\n",
       "      <td>Санкт-Петербург</td>\n",
       "      <td>52192.0</td>\n",
       "      <td>15686.0</td>\n",
       "      <td>0.0</td>\n",
       "      <td>NaN</td>\n",
       "      <td>1.0</td>\n",
       "      <td>441.0</td>\n",
       "      <td>NaN</td>\n",
       "    </tr>\n",
       "    <tr>\n",
       "      <th>336</th>\n",
       "      <td>10</td>\n",
       "      <td>7700000.0</td>\n",
       "      <td>79.0</td>\n",
       "      <td>2019-03-11T00:00:00</td>\n",
       "      <td>3</td>\n",
       "      <td>2.90</td>\n",
       "      <td>12.0</td>\n",
       "      <td>47.000000</td>\n",
       "      <td>11</td>\n",
       "      <td>NaN</td>\n",
       "      <td>...</td>\n",
       "      <td>15.0</td>\n",
       "      <td>5.0</td>\n",
       "      <td>Санкт-Петербург</td>\n",
       "      <td>38622.0</td>\n",
       "      <td>14116.0</td>\n",
       "      <td>0.0</td>\n",
       "      <td>NaN</td>\n",
       "      <td>0.0</td>\n",
       "      <td>NaN</td>\n",
       "      <td>NaN</td>\n",
       "    </tr>\n",
       "    <tr>\n",
       "      <th>371</th>\n",
       "      <td>11</td>\n",
       "      <td>7300000.0</td>\n",
       "      <td>65.0</td>\n",
       "      <td>2018-09-12T00:00:00</td>\n",
       "      <td>2</td>\n",
       "      <td>2.70</td>\n",
       "      <td>12.0</td>\n",
       "      <td>30.040000</td>\n",
       "      <td>2</td>\n",
       "      <td>NaN</td>\n",
       "      <td>...</td>\n",
       "      <td>10.2</td>\n",
       "      <td>5.0</td>\n",
       "      <td>Санкт-Петербург</td>\n",
       "      <td>18621.0</td>\n",
       "      <td>17623.0</td>\n",
       "      <td>1.0</td>\n",
       "      <td>1510.0</td>\n",
       "      <td>2.0</td>\n",
       "      <td>372.0</td>\n",
       "      <td>92.0</td>\n",
       "    </tr>\n",
       "    <tr>\n",
       "      <th>375</th>\n",
       "      <td>20</td>\n",
       "      <td>25000000.0</td>\n",
       "      <td>140.0</td>\n",
       "      <td>2017-11-25T00:00:00</td>\n",
       "      <td>3</td>\n",
       "      <td>2.80</td>\n",
       "      <td>25.0</td>\n",
       "      <td>60.000000</td>\n",
       "      <td>21</td>\n",
       "      <td>NaN</td>\n",
       "      <td>...</td>\n",
       "      <td>30.0</td>\n",
       "      <td>4.0</td>\n",
       "      <td>Санкт-Петербург</td>\n",
       "      <td>37199.0</td>\n",
       "      <td>12721.0</td>\n",
       "      <td>0.0</td>\n",
       "      <td>NaN</td>\n",
       "      <td>0.0</td>\n",
       "      <td>NaN</td>\n",
       "      <td>188.0</td>\n",
       "    </tr>\n",
       "    <tr>\n",
       "      <th>409</th>\n",
       "      <td>5</td>\n",
       "      <td>6600000.0</td>\n",
       "      <td>73.0</td>\n",
       "      <td>2017-08-15T00:00:00</td>\n",
       "      <td>3</td>\n",
       "      <td>2.50</td>\n",
       "      <td>18.0</td>\n",
       "      <td>45.000000</td>\n",
       "      <td>5</td>\n",
       "      <td>NaN</td>\n",
       "      <td>...</td>\n",
       "      <td>12.0</td>\n",
       "      <td>5.0</td>\n",
       "      <td>Сосновый Бор</td>\n",
       "      <td>NaN</td>\n",
       "      <td>NaN</td>\n",
       "      <td>NaN</td>\n",
       "      <td>NaN</td>\n",
       "      <td>NaN</td>\n",
       "      <td>NaN</td>\n",
       "      <td>10.0</td>\n",
       "    </tr>\n",
       "    <tr>\n",
       "      <th>435</th>\n",
       "      <td>6</td>\n",
       "      <td>6800000.0</td>\n",
       "      <td>61.8</td>\n",
       "      <td>2018-01-12T00:00:00</td>\n",
       "      <td>2</td>\n",
       "      <td>2.70</td>\n",
       "      <td>19.0</td>\n",
       "      <td>34.200000</td>\n",
       "      <td>3</td>\n",
       "      <td>NaN</td>\n",
       "      <td>...</td>\n",
       "      <td>10.6</td>\n",
       "      <td>4.0</td>\n",
       "      <td>Санкт-Петербург</td>\n",
       "      <td>30187.0</td>\n",
       "      <td>11313.0</td>\n",
       "      <td>1.0</td>\n",
       "      <td>401.0</td>\n",
       "      <td>1.0</td>\n",
       "      <td>699.0</td>\n",
       "      <td>11.0</td>\n",
       "    </tr>\n",
       "    <tr>\n",
       "      <th>479</th>\n",
       "      <td>6</td>\n",
       "      <td>13500000.0</td>\n",
       "      <td>118.3</td>\n",
       "      <td>2017-11-09T00:00:00</td>\n",
       "      <td>4</td>\n",
       "      <td>2.78</td>\n",
       "      <td>20.0</td>\n",
       "      <td>60.000000</td>\n",
       "      <td>7</td>\n",
       "      <td>NaN</td>\n",
       "      <td>...</td>\n",
       "      <td>16.5</td>\n",
       "      <td>5.0</td>\n",
       "      <td>Санкт-Петербург</td>\n",
       "      <td>42751.0</td>\n",
       "      <td>12627.0</td>\n",
       "      <td>1.0</td>\n",
       "      <td>538.0</td>\n",
       "      <td>0.0</td>\n",
       "      <td>NaN</td>\n",
       "      <td>69.0</td>\n",
       "    </tr>\n",
       "    <tr>\n",
       "      <th>484</th>\n",
       "      <td>18</td>\n",
       "      <td>10000000.0</td>\n",
       "      <td>97.8</td>\n",
       "      <td>2018-06-04T00:00:00</td>\n",
       "      <td>3</td>\n",
       "      <td>2.70</td>\n",
       "      <td>25.0</td>\n",
       "      <td>47.300000</td>\n",
       "      <td>6</td>\n",
       "      <td>False</td>\n",
       "      <td>...</td>\n",
       "      <td>13.2</td>\n",
       "      <td>5.0</td>\n",
       "      <td>Санкт-Петербург</td>\n",
       "      <td>48669.0</td>\n",
       "      <td>15277.0</td>\n",
       "      <td>0.0</td>\n",
       "      <td>NaN</td>\n",
       "      <td>0.0</td>\n",
       "      <td>NaN</td>\n",
       "      <td>92.0</td>\n",
       "    </tr>\n",
       "    <tr>\n",
       "      <th>524</th>\n",
       "      <td>10</td>\n",
       "      <td>3800000.0</td>\n",
       "      <td>74.4</td>\n",
       "      <td>2017-05-18T00:00:00</td>\n",
       "      <td>3</td>\n",
       "      <td>2.50</td>\n",
       "      <td>5.0</td>\n",
       "      <td>44.400000</td>\n",
       "      <td>3</td>\n",
       "      <td>False</td>\n",
       "      <td>...</td>\n",
       "      <td>8.9</td>\n",
       "      <td>3.0</td>\n",
       "      <td>Кингисепп</td>\n",
       "      <td>NaN</td>\n",
       "      <td>NaN</td>\n",
       "      <td>NaN</td>\n",
       "      <td>NaN</td>\n",
       "      <td>NaN</td>\n",
       "      <td>NaN</td>\n",
       "      <td>45.0</td>\n",
       "    </tr>\n",
       "    <tr>\n",
       "      <th>535</th>\n",
       "      <td>16</td>\n",
       "      <td>12500000.0</td>\n",
       "      <td>130.0</td>\n",
       "      <td>2017-11-17T00:00:00</td>\n",
       "      <td>5</td>\n",
       "      <td>3.00</td>\n",
       "      <td>7.0</td>\n",
       "      <td>82.000000</td>\n",
       "      <td>5</td>\n",
       "      <td>NaN</td>\n",
       "      <td>...</td>\n",
       "      <td>8.7</td>\n",
       "      <td>4.0</td>\n",
       "      <td>Санкт-Петербург</td>\n",
       "      <td>40277.0</td>\n",
       "      <td>8970.0</td>\n",
       "      <td>3.0</td>\n",
       "      <td>167.0</td>\n",
       "      <td>0.0</td>\n",
       "      <td>NaN</td>\n",
       "      <td>90.0</td>\n",
       "    </tr>\n",
       "    <tr>\n",
       "      <th>654</th>\n",
       "      <td>6</td>\n",
       "      <td>2750000.0</td>\n",
       "      <td>36.0</td>\n",
       "      <td>2017-04-18T00:00:00</td>\n",
       "      <td>1</td>\n",
       "      <td>2.55</td>\n",
       "      <td>5.0</td>\n",
       "      <td>20.500000</td>\n",
       "      <td>5</td>\n",
       "      <td>NaN</td>\n",
       "      <td>...</td>\n",
       "      <td>7.8</td>\n",
       "      <td>4.0</td>\n",
       "      <td>Кронштадт</td>\n",
       "      <td>69785.0</td>\n",
       "      <td>51511.0</td>\n",
       "      <td>2.0</td>\n",
       "      <td>52.0</td>\n",
       "      <td>3.0</td>\n",
       "      <td>313.0</td>\n",
       "      <td>381.0</td>\n",
       "    </tr>\n",
       "    <tr>\n",
       "      <th>753</th>\n",
       "      <td>6</td>\n",
       "      <td>4500000.0</td>\n",
       "      <td>81.8</td>\n",
       "      <td>2018-01-01T00:00:00</td>\n",
       "      <td>3</td>\n",
       "      <td>2.70</td>\n",
       "      <td>4.0</td>\n",
       "      <td>43.500000</td>\n",
       "      <td>1</td>\n",
       "      <td>NaN</td>\n",
       "      <td>...</td>\n",
       "      <td>18.5</td>\n",
       "      <td>4.0</td>\n",
       "      <td>Сертолово</td>\n",
       "      <td>NaN</td>\n",
       "      <td>NaN</td>\n",
       "      <td>NaN</td>\n",
       "      <td>NaN</td>\n",
       "      <td>NaN</td>\n",
       "      <td>NaN</td>\n",
       "      <td>84.0</td>\n",
       "    </tr>\n",
       "    <tr>\n",
       "      <th>768</th>\n",
       "      <td>0</td>\n",
       "      <td>5100000.0</td>\n",
       "      <td>81.0</td>\n",
       "      <td>2018-02-01T00:00:00</td>\n",
       "      <td>3</td>\n",
       "      <td>2.80</td>\n",
       "      <td>12.0</td>\n",
       "      <td>48.300000</td>\n",
       "      <td>1</td>\n",
       "      <td>NaN</td>\n",
       "      <td>...</td>\n",
       "      <td>14.0</td>\n",
       "      <td>3.0</td>\n",
       "      <td>посёлок Шушары</td>\n",
       "      <td>18542.0</td>\n",
       "      <td>29006.0</td>\n",
       "      <td>0.0</td>\n",
       "      <td>NaN</td>\n",
       "      <td>0.0</td>\n",
       "      <td>NaN</td>\n",
       "      <td>378.0</td>\n",
       "    </tr>\n",
       "    <tr>\n",
       "      <th>786</th>\n",
       "      <td>6</td>\n",
       "      <td>18010000.0</td>\n",
       "      <td>137.0</td>\n",
       "      <td>2017-10-18T00:00:00</td>\n",
       "      <td>3</td>\n",
       "      <td>3.10</td>\n",
       "      <td>19.0</td>\n",
       "      <td>78.209750</td>\n",
       "      <td>17</td>\n",
       "      <td>NaN</td>\n",
       "      <td>...</td>\n",
       "      <td>22.1</td>\n",
       "      <td>4.0</td>\n",
       "      <td>Санкт-Петербург</td>\n",
       "      <td>18995.0</td>\n",
       "      <td>4837.0</td>\n",
       "      <td>0.0</td>\n",
       "      <td>NaN</td>\n",
       "      <td>0.0</td>\n",
       "      <td>NaN</td>\n",
       "      <td>NaN</td>\n",
       "    </tr>\n",
       "  </tbody>\n",
       "</table>\n",
       "<p>20 rows × 22 columns</p>\n",
       "</div>"
      ],
      "text/plain": [
       "     total_images  last_price  total_area first_day_exposition  rooms  \\\n",
       "41             16   7900000.0        74.0  2016-05-04T00:00:00      3   \n",
       "42             13  22000000.0       161.8  2015-07-08T00:00:00      4   \n",
       "116            18  10999000.0        97.2  2017-11-13T00:00:00      3   \n",
       "121            20  33000000.0       180.0  2017-02-17T00:00:00      3   \n",
       "250            13   3200000.0        51.7  2019-01-22T00:00:00      2   \n",
       "267             2  14700000.0       120.0  2018-09-07T00:00:00      3   \n",
       "311            20  12500000.0        86.0  2018-10-19T00:00:00      3   \n",
       "336            10   7700000.0        79.0  2019-03-11T00:00:00      3   \n",
       "371            11   7300000.0        65.0  2018-09-12T00:00:00      2   \n",
       "375            20  25000000.0       140.0  2017-11-25T00:00:00      3   \n",
       "409             5   6600000.0        73.0  2017-08-15T00:00:00      3   \n",
       "435             6   6800000.0        61.8  2018-01-12T00:00:00      2   \n",
       "479             6  13500000.0       118.3  2017-11-09T00:00:00      4   \n",
       "484            18  10000000.0        97.8  2018-06-04T00:00:00      3   \n",
       "524            10   3800000.0        74.4  2017-05-18T00:00:00      3   \n",
       "535            16  12500000.0       130.0  2017-11-17T00:00:00      5   \n",
       "654             6   2750000.0        36.0  2017-04-18T00:00:00      1   \n",
       "753             6   4500000.0        81.8  2018-01-01T00:00:00      3   \n",
       "768             0   5100000.0        81.0  2018-02-01T00:00:00      3   \n",
       "786             6  18010000.0       137.0  2017-10-18T00:00:00      3   \n",
       "\n",
       "     ceiling_height  floors_total  living_area  floor is_apartment  ...  \\\n",
       "41             2.70          14.0    59.000000      8        False  ...   \n",
       "42             2.80           4.0    80.900000      2        False  ...   \n",
       "116            2.50          16.0    55.488962     16          NaN  ...   \n",
       "121            2.90           9.0    86.000000      8        False  ...   \n",
       "250            2.65          16.0    29.200000      5          NaN  ...   \n",
       "267            2.75          20.0    63.000000     18          NaN  ...   \n",
       "311            2.80          25.0    47.000000      3          NaN  ...   \n",
       "336            2.90          12.0    47.000000     11          NaN  ...   \n",
       "371            2.70          12.0    30.040000      2          NaN  ...   \n",
       "375            2.80          25.0    60.000000     21          NaN  ...   \n",
       "409            2.50          18.0    45.000000      5          NaN  ...   \n",
       "435            2.70          19.0    34.200000      3          NaN  ...   \n",
       "479            2.78          20.0    60.000000      7          NaN  ...   \n",
       "484            2.70          25.0    47.300000      6        False  ...   \n",
       "524            2.50           5.0    44.400000      3        False  ...   \n",
       "535            3.00           7.0    82.000000      5          NaN  ...   \n",
       "654            2.55           5.0    20.500000      5          NaN  ...   \n",
       "753            2.70           4.0    43.500000      1          NaN  ...   \n",
       "768            2.80          12.0    48.300000      1          NaN  ...   \n",
       "786            3.10          19.0    78.209750     17          NaN  ...   \n",
       "\n",
       "     kitchen_area  balcony    locality_name  airports_nearest  \\\n",
       "41           12.0      5.0  Санкт-Петербург           37715.0   \n",
       "42           17.6      5.0         Петергоф           35416.0   \n",
       "116          18.3      5.0  Санкт-Петербург           19426.0   \n",
       "121          24.0      4.0  Санкт-Петербург           25689.0   \n",
       "250           7.7      4.0       Всеволожск               NaN   \n",
       "267          16.0      5.0  Санкт-Петербург           39204.0   \n",
       "311          13.0      5.0  Санкт-Петербург           52192.0   \n",
       "336          15.0      5.0  Санкт-Петербург           38622.0   \n",
       "371          10.2      5.0  Санкт-Петербург           18621.0   \n",
       "375          30.0      4.0  Санкт-Петербург           37199.0   \n",
       "409          12.0      5.0     Сосновый Бор               NaN   \n",
       "435          10.6      4.0  Санкт-Петербург           30187.0   \n",
       "479          16.5      5.0  Санкт-Петербург           42751.0   \n",
       "484          13.2      5.0  Санкт-Петербург           48669.0   \n",
       "524           8.9      3.0        Кингисепп               NaN   \n",
       "535           8.7      4.0  Санкт-Петербург           40277.0   \n",
       "654           7.8      4.0        Кронштадт           69785.0   \n",
       "753          18.5      4.0        Сертолово               NaN   \n",
       "768          14.0      3.0   посёлок Шушары           18542.0   \n",
       "786          22.1      4.0  Санкт-Петербург           18995.0   \n",
       "\n",
       "    cityCenters_nearest  parks_around3000  parks_nearest  ponds_around3000  \\\n",
       "41              12612.0               1.0          725.0               1.0   \n",
       "42              30605.0               2.0           47.0               1.0   \n",
       "116             21138.0               0.0            NaN               2.0   \n",
       "121              4264.0               1.0          633.0               0.0   \n",
       "250                 NaN               NaN            NaN               NaN   \n",
       "267             10430.0               2.0          627.0               3.0   \n",
       "311             15686.0               0.0            NaN               1.0   \n",
       "336             14116.0               0.0            NaN               0.0   \n",
       "371             17623.0               1.0         1510.0               2.0   \n",
       "375             12721.0               0.0            NaN               0.0   \n",
       "409                 NaN               NaN            NaN               NaN   \n",
       "435             11313.0               1.0          401.0               1.0   \n",
       "479             12627.0               1.0          538.0               0.0   \n",
       "484             15277.0               0.0            NaN               0.0   \n",
       "524                 NaN               NaN            NaN               NaN   \n",
       "535              8970.0               3.0          167.0               0.0   \n",
       "654             51511.0               2.0           52.0               3.0   \n",
       "753                 NaN               NaN            NaN               NaN   \n",
       "768             29006.0               0.0            NaN               0.0   \n",
       "786              4837.0               0.0            NaN               0.0   \n",
       "\n",
       "     ponds_nearest  days_exposition  \n",
       "41           759.0            179.0  \n",
       "42           907.0            987.0  \n",
       "116          390.0            394.0  \n",
       "121            NaN            144.0  \n",
       "250            NaN             21.0  \n",
       "267           77.0             61.0  \n",
       "311          441.0              NaN  \n",
       "336            NaN              NaN  \n",
       "371          372.0             92.0  \n",
       "375            NaN            188.0  \n",
       "409            NaN             10.0  \n",
       "435          699.0             11.0  \n",
       "479            NaN             69.0  \n",
       "484            NaN             92.0  \n",
       "524            NaN             45.0  \n",
       "535            NaN             90.0  \n",
       "654          313.0            381.0  \n",
       "753            NaN             84.0  \n",
       "768            NaN            378.0  \n",
       "786            NaN              NaN  \n",
       "\n",
       "[20 rows x 22 columns]"
      ]
     },
     "execution_count": 52,
     "metadata": {},
     "output_type": "execute_result"
    }
   ],
   "source": [
    "data.query('balcony>=3').head(20)"
   ]
  },
  {
   "cell_type": "markdown",
   "id": "d60ff8e3",
   "metadata": {},
   "source": [
    "Видим, что большое количество балконов встречается почему-то и в 1-2х комнатных квартир. \n",
    "\n",
    "Напрашивается вывод, что люди по ошибке указывали не количество балконов, а их площадь. Ведь балкон 3-5 кв.м вполне реален даже для \"однушки\". \n",
    "Так как количество балконов имеет практически нулевую корреляцию с другими параметрами (то есть особо не влияет на стоимость и далее не будет использоваться в исследовании), то не будем ничего менять в уже имеющихся значениях, а оработаем только пропуски. Пропуски заменим 0, так как логично предположить, что данные о количестве балконов не указывают люди, которые не имеют балкона в квартире."
   ]
  },
  {
   "cell_type": "code",
   "execution_count": 53,
   "id": "2f2c4a94",
   "metadata": {
    "scrolled": true
   },
   "outputs": [
    {
     "data": {
      "text/plain": [
       "0"
      ]
     },
     "execution_count": 53,
     "metadata": {},
     "output_type": "execute_result"
    }
   ],
   "source": [
    "# заменим пропуски на ноль и еще раз выведем уникальные значения\n",
    "data['balcony'] = data['balcony'].fillna(0)\n",
    "data['balcony'].isna().sum()"
   ]
  },
  {
   "cell_type": "raw",
   "id": "b3021be7",
   "metadata": {},
   "source": [
    "Все пропуски заменены, в остальном столбец оставим в неизменном виде."
   ]
  },
  {
   "cell_type": "markdown",
   "id": "c9521da7",
   "metadata": {},
   "source": [
    "### 7. Столбец `total_area`"
   ]
  },
  {
   "cell_type": "code",
   "execution_count": 54,
   "id": "9716ad36",
   "metadata": {},
   "outputs": [
    {
     "data": {
      "text/plain": [
       "count    22965.000000\n",
       "mean        57.943051\n",
       "std         26.008557\n",
       "min         12.000000\n",
       "25%         40.000000\n",
       "50%         52.000000\n",
       "75%         68.300000\n",
       "max        365.000000\n",
       "Name: total_area, dtype: float64"
      ]
     },
     "execution_count": 54,
     "metadata": {},
     "output_type": "execute_result"
    }
   ],
   "source": [
    "data['total_area'].describe()"
   ]
  },
  {
   "cell_type": "code",
   "execution_count": 55,
   "id": "4db48034",
   "metadata": {
    "scrolled": true
   },
   "outputs": [
    {
     "data": {
      "text/plain": [
       "<AxesSubplot:>"
      ]
     },
     "execution_count": 55,
     "metadata": {},
     "output_type": "execute_result"
    },
    {
     "data": {
      "image/png": "[encoded data removed]",
      "text/plain": [
       "<Figure size 432x288 with 1 Axes>"
      ]
     },
     "metadata": {
      "needs_background": "light"
     },
     "output_type": "display_data"
    }
   ],
   "source": [
    "data['total_area'].hist(bins=100, range=(10, 200))"
   ]
  },
  {
   "cell_type": "code",
   "execution_count": 56,
   "id": "c829e0f2",
   "metadata": {
    "scrolled": false
   },
   "outputs": [
    {
     "data": {
      "text/plain": [
       "0"
      ]
     },
     "execution_count": 56,
     "metadata": {},
     "output_type": "execute_result"
    }
   ],
   "source": [
    "data['total_area'].isna().sum()"
   ]
  },
  {
   "cell_type": "markdown",
   "id": "32def31d",
   "metadata": {},
   "source": [
    "Большая часть значений сконцентрирована в области 40-70 кв.м - это как раз соответсвует площадям 1 и 2х комнатных квартир, которых в базе большинство. Пик около 48 кв.м может возникнуть за счет того, что с такой площадью бывают как \"однушки\", так и \"двушки\".\n",
    "\n",
    "Небольшой провал около 50 кв м. - видимо, такая площадь редкость, как для однокомнатных, так и для двукомнатных квартир.\n",
    "\n",
    "*Общий вывод*: на гистограмме три возвышенности:\n",
    "- максимальное количество квартир 30-48 кв.м - это не только однокомнатные, но и небольшие двухкомнатные квартиры. Так как мы знаем, что в целом однушек и двушек продается примерно равное количество, то делаем вывод, что часть двушек тоже вошла в первый пик (например двухкомнатные студии)\n",
    "- второй пик - это двухкомнатные квартиры, и небольшая часть трешек\n",
    "- третий самый неяркий пик - это трехкомнатные квартиры. Правый хвост гистограммы пологий и длинный - это тоже объяснимо, ведь квартиры от 3х комнат и больше практически не имеют пределов по площади.\n",
    "\n",
    "Наблюдаются выбросы со значениями более 180 кв.м - такая недвижимость в общей массе встречается крайне редко. \n",
    "Помещения менее 20 кв.м скорее всего это продаются комнаты. Стоит оценить количество крайних значений в общем дата фрейме, а затем принять решение стоит ли их оставлять для дальнейшего анализа."
   ]
  },
  {
   "cell_type": "code",
   "execution_count": 57,
   "id": "c2aa3194",
   "metadata": {
    "scrolled": false
   },
   "outputs": [
    {
     "data": {
      "text/plain": [
       "102"
      ]
     },
     "execution_count": 57,
     "metadata": {},
     "output_type": "execute_result"
    }
   ],
   "source": [
    "data. query('total_area<=20 | total_area>=180')['total_area'].count()"
   ]
  },
  {
   "cell_type": "markdown",
   "id": "0fd95722",
   "metadata": {},
   "source": [
    "Значения действительно единичные, стоит их удалить для чистоты исследования."
   ]
  },
  {
   "cell_type": "code",
   "execution_count": 58,
   "id": "b1db5205",
   "metadata": {
    "scrolled": true
   },
   "outputs": [
    {
     "data": {
      "text/plain": [
       "count    22863.000000\n",
       "mean        57.443168\n",
       "std         24.404689\n",
       "min         20.100000\n",
       "25%         40.000000\n",
       "50%         51.700000\n",
       "75%         68.000000\n",
       "max        179.700000\n",
       "Name: total_area, dtype: float64"
      ]
     },
     "execution_count": 58,
     "metadata": {},
     "output_type": "execute_result"
    }
   ],
   "source": [
    "# перезапишем отфильтрованный датафрейм\n",
    "data = data.query('total_area>20 & total_area<180')\n",
    "# и убедимся, что все изменения верны\n",
    "data['total_area'].describe()"
   ]
  },
  {
   "cell_type": "markdown",
   "id": "8335d3c0",
   "metadata": {},
   "source": [
    "Столбец `total_area` подготовлен для дальнейшего исследования"
   ]
  },
  {
   "cell_type": "markdown",
   "id": "124a1a7a",
   "metadata": {},
   "source": [
    "### 8. Столбец `last_price`"
   ]
  },
  {
   "cell_type": "code",
   "execution_count": 59,
   "id": "58e00308",
   "metadata": {},
   "outputs": [
    {
     "data": {
      "text/plain": [
       "count    2.286300e+04\n",
       "mean     5.827965e+06\n",
       "std      4.883780e+06\n",
       "min      4.300000e+05\n",
       "25%      3.400000e+06\n",
       "50%      4.600000e+06\n",
       "75%      6.600000e+06\n",
       "max      1.240000e+08\n",
       "Name: last_price, dtype: float64"
      ]
     },
     "execution_count": 59,
     "metadata": {},
     "output_type": "execute_result"
    }
   ],
   "source": [
    "data['last_price'].describe()"
   ]
  },
  {
   "cell_type": "code",
   "execution_count": 60,
   "id": "0708b824",
   "metadata": {
    "scrolled": false
   },
   "outputs": [
    {
     "data": {
      "text/plain": [
       "<AxesSubplot:>"
      ]
     },
     "execution_count": 60,
     "metadata": {},
     "output_type": "execute_result"
    },
    {
     "data": {
      "image/png": "[encoded data removed]",
      "text/plain": [
       "<Figure size 432x288 with 1 Axes>"
      ]
     },
     "metadata": {
      "needs_background": "light"
     },
     "output_type": "display_data"
    }
   ],
   "source": [
    "data['last_price'].hist(bins = 100, range=(4*10**5, 2*10**7))"
   ]
  },
  {
   "cell_type": "markdown",
   "id": "16132516",
   "metadata": {},
   "source": [
    "Гистограмма похожа на нормальное распределение, что говорит о реалистичности данных.\n",
    "\n",
    "Среднее и Медиана различаются практичекси на 1млн - это происходит за счет больших выбросов.\n",
    "Если учесть, что медианное значение площади получили 51 кв м, а медиана цены - 4.6 млн, то не сложно высчитать медиану цены кв метра - 90 тр за кв.м.\n",
    "На сегодняшний день (сентябрь 2022 года) это цена кажется очень низкой. Но так как данные в датафрейме были и за 2015-2019 года, возможно, картина соответствует реальности того времени.\n",
    "Далее в исследовании цена квадратного метра будет подробнее проанализирована.\n",
    "\n",
    "Сейчас оценим крайние значения распределения. Выведем 10 вариантов квартир, в которых цена ниже 500 тр и 10 объявлений, в которых цена выше 70 млн руб. Рассмотрим подробнее параметры этих квартир и примем решение, стоит ли их оставлять для дальнейшего исследования или правильнее будет их исключть из датафрейма.\n"
   ]
  },
  {
   "cell_type": "code",
   "execution_count": 61,
   "id": "b24b647f",
   "metadata": {
    "scrolled": true
   },
   "outputs": [
    {
     "data": {
      "text/html": [
       "<div>\n",
       "<style scoped>\n",
       "    .dataframe tbody tr th:only-of-type {\n",
       "        vertical-align: middle;\n",
       "    }\n",
       "\n",
       "    .dataframe tbody tr th {\n",
       "        vertical-align: top;\n",
       "    }\n",
       "\n",
       "    .dataframe thead th {\n",
       "        text-align: right;\n",
       "    }\n",
       "</style>\n",
       "<table border=\"1\" class=\"dataframe\">\n",
       "  <thead>\n",
       "    <tr style=\"text-align: right;\">\n",
       "      <th></th>\n",
       "      <th>total_images</th>\n",
       "      <th>last_price</th>\n",
       "      <th>total_area</th>\n",
       "      <th>first_day_exposition</th>\n",
       "      <th>rooms</th>\n",
       "      <th>ceiling_height</th>\n",
       "      <th>floors_total</th>\n",
       "      <th>living_area</th>\n",
       "      <th>floor</th>\n",
       "      <th>is_apartment</th>\n",
       "      <th>...</th>\n",
       "      <th>kitchen_area</th>\n",
       "      <th>balcony</th>\n",
       "      <th>locality_name</th>\n",
       "      <th>airports_nearest</th>\n",
       "      <th>cityCenters_nearest</th>\n",
       "      <th>parks_around3000</th>\n",
       "      <th>parks_nearest</th>\n",
       "      <th>ponds_around3000</th>\n",
       "      <th>ponds_nearest</th>\n",
       "      <th>days_exposition</th>\n",
       "    </tr>\n",
       "  </thead>\n",
       "  <tbody>\n",
       "    <tr>\n",
       "      <th>5698</th>\n",
       "      <td>7</td>\n",
       "      <td>450000.0</td>\n",
       "      <td>42.0</td>\n",
       "      <td>2017-07-31T00:00:00</td>\n",
       "      <td>2</td>\n",
       "      <td>2.615</td>\n",
       "      <td>1.0</td>\n",
       "      <td>23.000000</td>\n",
       "      <td>1</td>\n",
       "      <td>NaN</td>\n",
       "      <td>...</td>\n",
       "      <td>5.8</td>\n",
       "      <td>0.0</td>\n",
       "      <td>городской посёлок Будогощь</td>\n",
       "      <td>NaN</td>\n",
       "      <td>NaN</td>\n",
       "      <td>NaN</td>\n",
       "      <td>NaN</td>\n",
       "      <td>NaN</td>\n",
       "      <td>NaN</td>\n",
       "      <td>233.0</td>\n",
       "    </tr>\n",
       "    <tr>\n",
       "      <th>6859</th>\n",
       "      <td>6</td>\n",
       "      <td>490000.0</td>\n",
       "      <td>40.0</td>\n",
       "      <td>2017-12-11T00:00:00</td>\n",
       "      <td>1</td>\n",
       "      <td>2.700</td>\n",
       "      <td>5.0</td>\n",
       "      <td>22.834964</td>\n",
       "      <td>3</td>\n",
       "      <td>NaN</td>\n",
       "      <td>...</td>\n",
       "      <td>9.0</td>\n",
       "      <td>0.0</td>\n",
       "      <td>деревня Старополье</td>\n",
       "      <td>NaN</td>\n",
       "      <td>NaN</td>\n",
       "      <td>NaN</td>\n",
       "      <td>NaN</td>\n",
       "      <td>NaN</td>\n",
       "      <td>NaN</td>\n",
       "      <td>43.0</td>\n",
       "    </tr>\n",
       "    <tr>\n",
       "      <th>9581</th>\n",
       "      <td>7</td>\n",
       "      <td>450000.0</td>\n",
       "      <td>43.4</td>\n",
       "      <td>2018-08-31T00:00:00</td>\n",
       "      <td>2</td>\n",
       "      <td>2.700</td>\n",
       "      <td>5.0</td>\n",
       "      <td>30.300000</td>\n",
       "      <td>3</td>\n",
       "      <td>NaN</td>\n",
       "      <td>...</td>\n",
       "      <td>5.5</td>\n",
       "      <td>0.0</td>\n",
       "      <td>деревня Старополье</td>\n",
       "      <td>NaN</td>\n",
       "      <td>NaN</td>\n",
       "      <td>NaN</td>\n",
       "      <td>NaN</td>\n",
       "      <td>NaN</td>\n",
       "      <td>NaN</td>\n",
       "      <td>96.0</td>\n",
       "    </tr>\n",
       "    <tr>\n",
       "      <th>10782</th>\n",
       "      <td>3</td>\n",
       "      <td>490000.0</td>\n",
       "      <td>29.1</td>\n",
       "      <td>2016-05-05T00:00:00</td>\n",
       "      <td>1</td>\n",
       "      <td>2.500</td>\n",
       "      <td>5.0</td>\n",
       "      <td>17.000000</td>\n",
       "      <td>5</td>\n",
       "      <td>NaN</td>\n",
       "      <td>...</td>\n",
       "      <td>5.5</td>\n",
       "      <td>0.0</td>\n",
       "      <td>Сланцы</td>\n",
       "      <td>NaN</td>\n",
       "      <td>NaN</td>\n",
       "      <td>NaN</td>\n",
       "      <td>NaN</td>\n",
       "      <td>NaN</td>\n",
       "      <td>NaN</td>\n",
       "      <td>719.0</td>\n",
       "    </tr>\n",
       "    <tr>\n",
       "      <th>14911</th>\n",
       "      <td>5</td>\n",
       "      <td>430000.0</td>\n",
       "      <td>54.0</td>\n",
       "      <td>2018-06-26T00:00:00</td>\n",
       "      <td>2</td>\n",
       "      <td>2.700</td>\n",
       "      <td>3.0</td>\n",
       "      <td>30.827201</td>\n",
       "      <td>3</td>\n",
       "      <td>NaN</td>\n",
       "      <td>...</td>\n",
       "      <td>9.0</td>\n",
       "      <td>0.0</td>\n",
       "      <td>посёлок станции Свирь</td>\n",
       "      <td>NaN</td>\n",
       "      <td>NaN</td>\n",
       "      <td>NaN</td>\n",
       "      <td>NaN</td>\n",
       "      <td>NaN</td>\n",
       "      <td>NaN</td>\n",
       "      <td>44.0</td>\n",
       "    </tr>\n",
       "    <tr>\n",
       "      <th>16032</th>\n",
       "      <td>8</td>\n",
       "      <td>480000.0</td>\n",
       "      <td>32.0</td>\n",
       "      <td>2019-01-06T00:00:00</td>\n",
       "      <td>1</td>\n",
       "      <td>2.500</td>\n",
       "      <td>2.0</td>\n",
       "      <td>16.000000</td>\n",
       "      <td>1</td>\n",
       "      <td>NaN</td>\n",
       "      <td>...</td>\n",
       "      <td>9.0</td>\n",
       "      <td>0.0</td>\n",
       "      <td>Сланцы</td>\n",
       "      <td>NaN</td>\n",
       "      <td>NaN</td>\n",
       "      <td>NaN</td>\n",
       "      <td>NaN</td>\n",
       "      <td>NaN</td>\n",
       "      <td>NaN</td>\n",
       "      <td>83.0</td>\n",
       "    </tr>\n",
       "    <tr>\n",
       "      <th>16219</th>\n",
       "      <td>14</td>\n",
       "      <td>450000.0</td>\n",
       "      <td>38.5</td>\n",
       "      <td>2018-07-11T00:00:00</td>\n",
       "      <td>2</td>\n",
       "      <td>2.650</td>\n",
       "      <td>2.0</td>\n",
       "      <td>21.978652</td>\n",
       "      <td>1</td>\n",
       "      <td>NaN</td>\n",
       "      <td>...</td>\n",
       "      <td>9.0</td>\n",
       "      <td>0.0</td>\n",
       "      <td>деревня Вахнова Кара</td>\n",
       "      <td>NaN</td>\n",
       "      <td>NaN</td>\n",
       "      <td>NaN</td>\n",
       "      <td>NaN</td>\n",
       "      <td>NaN</td>\n",
       "      <td>NaN</td>\n",
       "      <td>45.0</td>\n",
       "    </tr>\n",
       "    <tr>\n",
       "      <th>16274</th>\n",
       "      <td>18</td>\n",
       "      <td>440000.0</td>\n",
       "      <td>40.0</td>\n",
       "      <td>2018-07-10T00:00:00</td>\n",
       "      <td>1</td>\n",
       "      <td>2.700</td>\n",
       "      <td>5.0</td>\n",
       "      <td>22.834964</td>\n",
       "      <td>1</td>\n",
       "      <td>NaN</td>\n",
       "      <td>...</td>\n",
       "      <td>9.0</td>\n",
       "      <td>0.0</td>\n",
       "      <td>деревня Старополье</td>\n",
       "      <td>NaN</td>\n",
       "      <td>NaN</td>\n",
       "      <td>NaN</td>\n",
       "      <td>NaN</td>\n",
       "      <td>NaN</td>\n",
       "      <td>NaN</td>\n",
       "      <td>45.0</td>\n",
       "    </tr>\n",
       "    <tr>\n",
       "      <th>17456</th>\n",
       "      <td>7</td>\n",
       "      <td>430000.0</td>\n",
       "      <td>30.4</td>\n",
       "      <td>2019-04-22T00:00:00</td>\n",
       "      <td>1</td>\n",
       "      <td>2.500</td>\n",
       "      <td>2.0</td>\n",
       "      <td>16.000000</td>\n",
       "      <td>1</td>\n",
       "      <td>NaN</td>\n",
       "      <td>...</td>\n",
       "      <td>6.0</td>\n",
       "      <td>0.0</td>\n",
       "      <td>Сланцы</td>\n",
       "      <td>NaN</td>\n",
       "      <td>NaN</td>\n",
       "      <td>NaN</td>\n",
       "      <td>NaN</td>\n",
       "      <td>NaN</td>\n",
       "      <td>NaN</td>\n",
       "      <td>NaN</td>\n",
       "    </tr>\n",
       "    <tr>\n",
       "      <th>17676</th>\n",
       "      <td>0</td>\n",
       "      <td>450000.0</td>\n",
       "      <td>36.5</td>\n",
       "      <td>2018-02-01T00:00:00</td>\n",
       "      <td>1</td>\n",
       "      <td>2.700</td>\n",
       "      <td>5.0</td>\n",
       "      <td>17.300000</td>\n",
       "      <td>4</td>\n",
       "      <td>NaN</td>\n",
       "      <td>...</td>\n",
       "      <td>8.5</td>\n",
       "      <td>1.0</td>\n",
       "      <td>деревня Ям-Тесово</td>\n",
       "      <td>NaN</td>\n",
       "      <td>NaN</td>\n",
       "      <td>NaN</td>\n",
       "      <td>NaN</td>\n",
       "      <td>NaN</td>\n",
       "      <td>NaN</td>\n",
       "      <td>120.0</td>\n",
       "    </tr>\n",
       "  </tbody>\n",
       "</table>\n",
       "<p>10 rows × 22 columns</p>\n",
       "</div>"
      ],
      "text/plain": [
       "       total_images  last_price  total_area first_day_exposition  rooms  \\\n",
       "5698              7    450000.0        42.0  2017-07-31T00:00:00      2   \n",
       "6859              6    490000.0        40.0  2017-12-11T00:00:00      1   \n",
       "9581              7    450000.0        43.4  2018-08-31T00:00:00      2   \n",
       "10782             3    490000.0        29.1  2016-05-05T00:00:00      1   \n",
       "14911             5    430000.0        54.0  2018-06-26T00:00:00      2   \n",
       "16032             8    480000.0        32.0  2019-01-06T00:00:00      1   \n",
       "16219            14    450000.0        38.5  2018-07-11T00:00:00      2   \n",
       "16274            18    440000.0        40.0  2018-07-10T00:00:00      1   \n",
       "17456             7    430000.0        30.4  2019-04-22T00:00:00      1   \n",
       "17676             0    450000.0        36.5  2018-02-01T00:00:00      1   \n",
       "\n",
       "       ceiling_height  floors_total  living_area  floor is_apartment  ...  \\\n",
       "5698            2.615           1.0    23.000000      1          NaN  ...   \n",
       "6859            2.700           5.0    22.834964      3          NaN  ...   \n",
       "9581            2.700           5.0    30.300000      3          NaN  ...   \n",
       "10782           2.500           5.0    17.000000      5          NaN  ...   \n",
       "14911           2.700           3.0    30.827201      3          NaN  ...   \n",
       "16032           2.500           2.0    16.000000      1          NaN  ...   \n",
       "16219           2.650           2.0    21.978652      1          NaN  ...   \n",
       "16274           2.700           5.0    22.834964      1          NaN  ...   \n",
       "17456           2.500           2.0    16.000000      1          NaN  ...   \n",
       "17676           2.700           5.0    17.300000      4          NaN  ...   \n",
       "\n",
       "       kitchen_area  balcony               locality_name  airports_nearest  \\\n",
       "5698            5.8      0.0  городской посёлок Будогощь               NaN   \n",
       "6859            9.0      0.0          деревня Старополье               NaN   \n",
       "9581            5.5      0.0          деревня Старополье               NaN   \n",
       "10782           5.5      0.0                      Сланцы               NaN   \n",
       "14911           9.0      0.0       посёлок станции Свирь               NaN   \n",
       "16032           9.0      0.0                      Сланцы               NaN   \n",
       "16219           9.0      0.0        деревня Вахнова Кара               NaN   \n",
       "16274           9.0      0.0          деревня Старополье               NaN   \n",
       "17456           6.0      0.0                      Сланцы               NaN   \n",
       "17676           8.5      1.0           деревня Ям-Тесово               NaN   \n",
       "\n",
       "      cityCenters_nearest  parks_around3000  parks_nearest  ponds_around3000  \\\n",
       "5698                  NaN               NaN            NaN               NaN   \n",
       "6859                  NaN               NaN            NaN               NaN   \n",
       "9581                  NaN               NaN            NaN               NaN   \n",
       "10782                 NaN               NaN            NaN               NaN   \n",
       "14911                 NaN               NaN            NaN               NaN   \n",
       "16032                 NaN               NaN            NaN               NaN   \n",
       "16219                 NaN               NaN            NaN               NaN   \n",
       "16274                 NaN               NaN            NaN               NaN   \n",
       "17456                 NaN               NaN            NaN               NaN   \n",
       "17676                 NaN               NaN            NaN               NaN   \n",
       "\n",
       "       ponds_nearest  days_exposition  \n",
       "5698             NaN            233.0  \n",
       "6859             NaN             43.0  \n",
       "9581             NaN             96.0  \n",
       "10782            NaN            719.0  \n",
       "14911            NaN             44.0  \n",
       "16032            NaN             83.0  \n",
       "16219            NaN             45.0  \n",
       "16274            NaN             45.0  \n",
       "17456            NaN              NaN  \n",
       "17676            NaN            120.0  \n",
       "\n",
       "[10 rows x 22 columns]"
      ]
     },
     "execution_count": 61,
     "metadata": {},
     "output_type": "execute_result"
    }
   ],
   "source": [
    "data.query('last_price<5*10**5').head(10)"
   ]
  },
  {
   "cell_type": "code",
   "execution_count": 62,
   "id": "8302183c",
   "metadata": {
    "scrolled": false
   },
   "outputs": [
    {
     "data": {
      "text/html": [
       "<div>\n",
       "<style scoped>\n",
       "    .dataframe tbody tr th:only-of-type {\n",
       "        vertical-align: middle;\n",
       "    }\n",
       "\n",
       "    .dataframe tbody tr th {\n",
       "        vertical-align: top;\n",
       "    }\n",
       "\n",
       "    .dataframe thead th {\n",
       "        text-align: right;\n",
       "    }\n",
       "</style>\n",
       "<table border=\"1\" class=\"dataframe\">\n",
       "  <thead>\n",
       "    <tr style=\"text-align: right;\">\n",
       "      <th></th>\n",
       "      <th>total_images</th>\n",
       "      <th>last_price</th>\n",
       "      <th>total_area</th>\n",
       "      <th>first_day_exposition</th>\n",
       "      <th>rooms</th>\n",
       "      <th>ceiling_height</th>\n",
       "      <th>floors_total</th>\n",
       "      <th>living_area</th>\n",
       "      <th>floor</th>\n",
       "      <th>is_apartment</th>\n",
       "      <th>...</th>\n",
       "      <th>kitchen_area</th>\n",
       "      <th>balcony</th>\n",
       "      <th>locality_name</th>\n",
       "      <th>airports_nearest</th>\n",
       "      <th>cityCenters_nearest</th>\n",
       "      <th>parks_around3000</th>\n",
       "      <th>parks_nearest</th>\n",
       "      <th>ponds_around3000</th>\n",
       "      <th>ponds_nearest</th>\n",
       "      <th>days_exposition</th>\n",
       "    </tr>\n",
       "  </thead>\n",
       "  <tbody>\n",
       "    <tr>\n",
       "      <th>4996</th>\n",
       "      <td>20</td>\n",
       "      <td>124000000.0</td>\n",
       "      <td>124.5</td>\n",
       "      <td>2017-10-12T00:00:00</td>\n",
       "      <td>4</td>\n",
       "      <td>3.00</td>\n",
       "      <td>4.0</td>\n",
       "      <td>67.200000</td>\n",
       "      <td>2</td>\n",
       "      <td>False</td>\n",
       "      <td>...</td>\n",
       "      <td>20.00</td>\n",
       "      <td>0.0</td>\n",
       "      <td>Санкт-Петербург</td>\n",
       "      <td>20399.0</td>\n",
       "      <td>1722.0</td>\n",
       "      <td>3.0</td>\n",
       "      <td>302.0</td>\n",
       "      <td>3.0</td>\n",
       "      <td>172.0</td>\n",
       "      <td>45.0</td>\n",
       "    </tr>\n",
       "    <tr>\n",
       "      <th>5232</th>\n",
       "      <td>2</td>\n",
       "      <td>77612080.0</td>\n",
       "      <td>152.3</td>\n",
       "      <td>2017-09-08T00:00:00</td>\n",
       "      <td>2</td>\n",
       "      <td>3.53</td>\n",
       "      <td>9.0</td>\n",
       "      <td>82.000000</td>\n",
       "      <td>7</td>\n",
       "      <td>False</td>\n",
       "      <td>...</td>\n",
       "      <td>11.00</td>\n",
       "      <td>0.0</td>\n",
       "      <td>Санкт-Петербург</td>\n",
       "      <td>21912.0</td>\n",
       "      <td>2389.0</td>\n",
       "      <td>1.0</td>\n",
       "      <td>545.0</td>\n",
       "      <td>1.0</td>\n",
       "      <td>478.0</td>\n",
       "      <td>341.0</td>\n",
       "    </tr>\n",
       "    <tr>\n",
       "      <th>6462</th>\n",
       "      <td>2</td>\n",
       "      <td>82000000.0</td>\n",
       "      <td>114.0</td>\n",
       "      <td>2015-12-17T00:00:00</td>\n",
       "      <td>3</td>\n",
       "      <td>2.70</td>\n",
       "      <td>5.0</td>\n",
       "      <td>78.500000</td>\n",
       "      <td>4</td>\n",
       "      <td>NaN</td>\n",
       "      <td>...</td>\n",
       "      <td>20.00</td>\n",
       "      <td>0.0</td>\n",
       "      <td>Санкт-Петербург</td>\n",
       "      <td>22460.0</td>\n",
       "      <td>3400.0</td>\n",
       "      <td>2.0</td>\n",
       "      <td>218.0</td>\n",
       "      <td>3.0</td>\n",
       "      <td>69.0</td>\n",
       "      <td>651.0</td>\n",
       "    </tr>\n",
       "    <tr>\n",
       "      <th>10362</th>\n",
       "      <td>5</td>\n",
       "      <td>83820000.0</td>\n",
       "      <td>153.0</td>\n",
       "      <td>2017-09-29T00:00:00</td>\n",
       "      <td>3</td>\n",
       "      <td>3.20</td>\n",
       "      <td>9.0</td>\n",
       "      <td>82.000000</td>\n",
       "      <td>8</td>\n",
       "      <td>NaN</td>\n",
       "      <td>...</td>\n",
       "      <td>11.00</td>\n",
       "      <td>0.0</td>\n",
       "      <td>Санкт-Петербург</td>\n",
       "      <td>21946.0</td>\n",
       "      <td>2242.0</td>\n",
       "      <td>1.0</td>\n",
       "      <td>679.0</td>\n",
       "      <td>1.0</td>\n",
       "      <td>227.0</td>\n",
       "      <td>169.0</td>\n",
       "    </tr>\n",
       "    <tr>\n",
       "      <th>11336</th>\n",
       "      <td>14</td>\n",
       "      <td>72375000.0</td>\n",
       "      <td>169.3</td>\n",
       "      <td>2015-06-18T00:00:00</td>\n",
       "      <td>4</td>\n",
       "      <td>3.00</td>\n",
       "      <td>8.0</td>\n",
       "      <td>95.400000</td>\n",
       "      <td>4</td>\n",
       "      <td>NaN</td>\n",
       "      <td>...</td>\n",
       "      <td>22.50</td>\n",
       "      <td>0.0</td>\n",
       "      <td>Санкт-Петербург</td>\n",
       "      <td>26398.0</td>\n",
       "      <td>6737.0</td>\n",
       "      <td>3.0</td>\n",
       "      <td>251.0</td>\n",
       "      <td>2.0</td>\n",
       "      <td>599.0</td>\n",
       "      <td>571.0</td>\n",
       "    </tr>\n",
       "    <tr>\n",
       "      <th>11430</th>\n",
       "      <td>20</td>\n",
       "      <td>85000000.0</td>\n",
       "      <td>145.7</td>\n",
       "      <td>2018-08-16T00:00:00</td>\n",
       "      <td>3</td>\n",
       "      <td>3.36</td>\n",
       "      <td>5.0</td>\n",
       "      <td>87.230000</td>\n",
       "      <td>5</td>\n",
       "      <td>NaN</td>\n",
       "      <td>...</td>\n",
       "      <td>20.31</td>\n",
       "      <td>1.0</td>\n",
       "      <td>Санкт-Петербург</td>\n",
       "      <td>28371.0</td>\n",
       "      <td>6917.0</td>\n",
       "      <td>2.0</td>\n",
       "      <td>165.0</td>\n",
       "      <td>2.0</td>\n",
       "      <td>500.0</td>\n",
       "      <td>NaN</td>\n",
       "    </tr>\n",
       "    <tr>\n",
       "      <th>15726</th>\n",
       "      <td>7</td>\n",
       "      <td>77349000.0</td>\n",
       "      <td>135.7</td>\n",
       "      <td>2017-12-16T00:00:00</td>\n",
       "      <td>3</td>\n",
       "      <td>2.70</td>\n",
       "      <td>7.0</td>\n",
       "      <td>77.467614</td>\n",
       "      <td>5</td>\n",
       "      <td>NaN</td>\n",
       "      <td>...</td>\n",
       "      <td>9.00</td>\n",
       "      <td>0.0</td>\n",
       "      <td>Санкт-Петербург</td>\n",
       "      <td>32950.0</td>\n",
       "      <td>6042.0</td>\n",
       "      <td>3.0</td>\n",
       "      <td>362.0</td>\n",
       "      <td>3.0</td>\n",
       "      <td>246.0</td>\n",
       "      <td>90.0</td>\n",
       "    </tr>\n",
       "    <tr>\n",
       "      <th>16590</th>\n",
       "      <td>10</td>\n",
       "      <td>98000000.0</td>\n",
       "      <td>155.0</td>\n",
       "      <td>2017-12-16T00:00:00</td>\n",
       "      <td>3</td>\n",
       "      <td>2.70</td>\n",
       "      <td>8.0</td>\n",
       "      <td>88.485484</td>\n",
       "      <td>6</td>\n",
       "      <td>NaN</td>\n",
       "      <td>...</td>\n",
       "      <td>9.00</td>\n",
       "      <td>0.0</td>\n",
       "      <td>Санкт-Петербург</td>\n",
       "      <td>32440.0</td>\n",
       "      <td>5297.0</td>\n",
       "      <td>0.0</td>\n",
       "      <td>NaN</td>\n",
       "      <td>2.0</td>\n",
       "      <td>198.0</td>\n",
       "      <td>90.0</td>\n",
       "    </tr>\n",
       "  </tbody>\n",
       "</table>\n",
       "<p>8 rows × 22 columns</p>\n",
       "</div>"
      ],
      "text/plain": [
       "       total_images   last_price  total_area first_day_exposition  rooms  \\\n",
       "4996             20  124000000.0       124.5  2017-10-12T00:00:00      4   \n",
       "5232              2   77612080.0       152.3  2017-09-08T00:00:00      2   \n",
       "6462              2   82000000.0       114.0  2015-12-17T00:00:00      3   \n",
       "10362             5   83820000.0       153.0  2017-09-29T00:00:00      3   \n",
       "11336            14   72375000.0       169.3  2015-06-18T00:00:00      4   \n",
       "11430            20   85000000.0       145.7  2018-08-16T00:00:00      3   \n",
       "15726             7   77349000.0       135.7  2017-12-16T00:00:00      3   \n",
       "16590            10   98000000.0       155.0  2017-12-16T00:00:00      3   \n",
       "\n",
       "       ceiling_height  floors_total  living_area  floor is_apartment  ...  \\\n",
       "4996             3.00           4.0    67.200000      2        False  ...   \n",
       "5232             3.53           9.0    82.000000      7        False  ...   \n",
       "6462             2.70           5.0    78.500000      4          NaN  ...   \n",
       "10362            3.20           9.0    82.000000      8          NaN  ...   \n",
       "11336            3.00           8.0    95.400000      4          NaN  ...   \n",
       "11430            3.36           5.0    87.230000      5          NaN  ...   \n",
       "15726            2.70           7.0    77.467614      5          NaN  ...   \n",
       "16590            2.70           8.0    88.485484      6          NaN  ...   \n",
       "\n",
       "       kitchen_area  balcony    locality_name  airports_nearest  \\\n",
       "4996          20.00      0.0  Санкт-Петербург           20399.0   \n",
       "5232          11.00      0.0  Санкт-Петербург           21912.0   \n",
       "6462          20.00      0.0  Санкт-Петербург           22460.0   \n",
       "10362         11.00      0.0  Санкт-Петербург           21946.0   \n",
       "11336         22.50      0.0  Санкт-Петербург           26398.0   \n",
       "11430         20.31      1.0  Санкт-Петербург           28371.0   \n",
       "15726          9.00      0.0  Санкт-Петербург           32950.0   \n",
       "16590          9.00      0.0  Санкт-Петербург           32440.0   \n",
       "\n",
       "      cityCenters_nearest  parks_around3000  parks_nearest  ponds_around3000  \\\n",
       "4996               1722.0               3.0          302.0               3.0   \n",
       "5232               2389.0               1.0          545.0               1.0   \n",
       "6462               3400.0               2.0          218.0               3.0   \n",
       "10362              2242.0               1.0          679.0               1.0   \n",
       "11336              6737.0               3.0          251.0               2.0   \n",
       "11430              6917.0               2.0          165.0               2.0   \n",
       "15726              6042.0               3.0          362.0               3.0   \n",
       "16590              5297.0               0.0            NaN               2.0   \n",
       "\n",
       "       ponds_nearest  days_exposition  \n",
       "4996           172.0             45.0  \n",
       "5232           478.0            341.0  \n",
       "6462            69.0            651.0  \n",
       "10362          227.0            169.0  \n",
       "11336          599.0            571.0  \n",
       "11430          500.0              NaN  \n",
       "15726          246.0             90.0  \n",
       "16590          198.0             90.0  \n",
       "\n",
       "[8 rows x 22 columns]"
      ]
     },
     "execution_count": 62,
     "metadata": {},
     "output_type": "execute_result"
    }
   ],
   "source": [
    "data.query('last_price>7*10**7').head(10)"
   ]
  },
  {
   "cell_type": "markdown",
   "id": "c85731c4",
   "metadata": {},
   "source": [
    "В первой выборке всего 8 объявлений из небольших населенных пунктов в Ленинской области, небольшой площади 30-40 кв.м датированные 2016-2019 годами. Скорее всего, в отдаленных и небольших поселениях эта цена адекватна. Эти строки оставим в датафрейме и продолжим анализировать вместе с ними.\n",
    "\n",
    "Во второй выбоке всего 6 строк - все квартиры из Спб, имеют площадь больлее 100 кв. м, расположены недалеко от центра города и в пешей доступности у них несколько парков и водоемов. Это явно элитные варианты Питерской недвижимости. Но такие варианты нам тоже пригодятся в дальнейшем анализе.\n",
    "Удалим только одну строку с квартирой за 124 млн руб и площадью 124 кв.м (1 кв.м продают за 1 000 000 руб) - она расположена в центре, кругом парки и каналы и невысокий дом в 4 этажа буквально \"смотрит\" на канал и парк. Это явно эксклюзивный вариант, который все-таки отнесем к анаомальному значению и удалим его из датафрейма."
   ]
  },
  {
   "cell_type": "code",
   "execution_count": 63,
   "id": "2cf1b58b",
   "metadata": {},
   "outputs": [],
   "source": [
    "data = data.query('last_price<10**8')"
   ]
  },
  {
   "cell_type": "markdown",
   "id": "1b351cc1",
   "metadata": {},
   "source": [
    "### 9. Столбцы `is_apartment`, `studio`, `open_plan`"
   ]
  },
  {
   "cell_type": "markdown",
   "id": "cbd34179",
   "metadata": {},
   "source": [
    "Эти столбцы подразумевают булевы значения True-False. Судя по названию, в них указывается следующие параметры: апартаменты ли это? студия? открытая ли планировка?"
   ]
  },
  {
   "cell_type": "code",
   "execution_count": 64,
   "id": "be8975df",
   "metadata": {
    "scrolled": false
   },
   "outputs": [
    {
     "data": {
      "text/plain": [
       "20167"
      ]
     },
     "execution_count": 64,
     "metadata": {},
     "output_type": "execute_result"
    }
   ],
   "source": [
    "data['is_apartment'].isna().sum()"
   ]
  },
  {
   "cell_type": "code",
   "execution_count": 65,
   "id": "6435113e",
   "metadata": {},
   "outputs": [
    {
     "data": {
      "text/plain": [
       "0"
      ]
     },
     "execution_count": 65,
     "metadata": {},
     "output_type": "execute_result"
    }
   ],
   "source": [
    "data['studio'].isna().sum()"
   ]
  },
  {
   "cell_type": "code",
   "execution_count": 66,
   "id": "01799d42",
   "metadata": {},
   "outputs": [
    {
     "data": {
      "text/plain": [
       "0"
      ]
     },
     "execution_count": 66,
     "metadata": {},
     "output_type": "execute_result"
    }
   ],
   "source": [
    "data['open_plan'].isna().sum()"
   ]
  },
  {
   "cell_type": "markdown",
   "id": "aacaa212",
   "metadata": {},
   "source": [
    "Прокуски есть только в толбце `is_apartment`. Возможно не всем людям понятна разница между квартирой и апартаментами, поэтому оставляют эту графу незаполненной. Логично предположить, что владелец апартаментов знал бы эту разницу, поэтому пропуски заменим на False."
   ]
  },
  {
   "cell_type": "code",
   "execution_count": 67,
   "id": "0cd29ce3",
   "metadata": {},
   "outputs": [
    {
     "data": {
      "text/plain": [
       "0"
      ]
     },
     "execution_count": 67,
     "metadata": {},
     "output_type": "execute_result"
    }
   ],
   "source": [
    "data['is_apartment'] = data['is_apartment'].fillna(False)\n",
    "data['is_apartment'].isna().sum()"
   ]
  },
  {
   "cell_type": "markdown",
   "id": "9e1e0031",
   "metadata": {},
   "source": [
    "Все пропуски заменены."
   ]
  },
  {
   "cell_type": "markdown",
   "id": "b28fde78",
   "metadata": {},
   "source": [
    "### 10. Столбцы  `airports_nearest`, `cityCenters_nearest`"
   ]
  },
  {
   "cell_type": "markdown",
   "id": "da37afc6",
   "metadata": {},
   "source": [
    "Эти и следующие данные заполняются не вручную, а подгружаются системой автоматически. В этих столбцах собрана информация о близости аэропорта и центра города."
   ]
  },
  {
   "cell_type": "code",
   "execution_count": 68,
   "id": "915b2474",
   "metadata": {},
   "outputs": [
    {
     "data": {
      "text/plain": [
       "count    17439.000000\n",
       "mean     28874.136648\n",
       "std      12719.788241\n",
       "min          0.000000\n",
       "25%      18460.500000\n",
       "50%      26933.000000\n",
       "75%      37412.000000\n",
       "max      84869.000000\n",
       "Name: airports_nearest, dtype: float64"
      ]
     },
     "execution_count": 68,
     "metadata": {},
     "output_type": "execute_result"
    }
   ],
   "source": [
    "data['airports_nearest'].describe()"
   ]
  },
  {
   "cell_type": "code",
   "execution_count": 69,
   "id": "0ade50d4",
   "metadata": {},
   "outputs": [
    {
     "data": {
      "text/plain": [
       "count    17459.000000\n",
       "mean     14380.554785\n",
       "std       8597.130674\n",
       "min        181.000000\n",
       "25%       9593.000000\n",
       "50%      13216.000000\n",
       "75%      16379.000000\n",
       "max      65968.000000\n",
       "Name: cityCenters_nearest, dtype: float64"
      ]
     },
     "execution_count": 69,
     "metadata": {},
     "output_type": "execute_result"
    }
   ],
   "source": [
    "data['cityCenters_nearest'].describe()"
   ]
  },
  {
   "cell_type": "markdown",
   "id": "bb5a5799",
   "metadata": {},
   "source": [
    "Судя по значениям данные хранятся в метрах. Разбег значений большой, как и ожидалось. Смущает значение 0м в столбце `airports_nearest` - ведь в аэропорту жилье точно не продается. \n",
    "\n",
    "Построим гистограммы."
   ]
  },
  {
   "cell_type": "code",
   "execution_count": 70,
   "id": "2842db17",
   "metadata": {},
   "outputs": [
    {
     "data": {
      "text/plain": [
       "<AxesSubplot:>"
      ]
     },
     "execution_count": 70,
     "metadata": {},
     "output_type": "execute_result"
    },
    {
     "data": {
      "image/png": "[encoded data removed]",
      "text/plain": [
       "<Figure size 432x288 with 1 Axes>"
      ]
     },
     "metadata": {
      "needs_background": "light"
     },
     "output_type": "display_data"
    }
   ],
   "source": [
    "data['airports_nearest'].hist()"
   ]
  },
  {
   "cell_type": "code",
   "execution_count": 71,
   "id": "cb0321f4",
   "metadata": {
    "scrolled": true
   },
   "outputs": [
    {
     "data": {
      "text/plain": [
       "<AxesSubplot:>"
      ]
     },
     "execution_count": 71,
     "metadata": {},
     "output_type": "execute_result"
    },
    {
     "data": {
      "image/png": "[encoded data removed]",
      "text/plain": [
       "<Figure size 432x288 with 1 Axes>"
      ]
     },
     "metadata": {
      "needs_background": "light"
     },
     "output_type": "display_data"
    }
   ],
   "source": [
    "data['cityCenters_nearest'].hist()"
   ]
  },
  {
   "cell_type": "markdown",
   "id": "3972fda3",
   "metadata": {},
   "source": [
    "Большинство жилых объектов расположено в 10 км от центра города и в 20 км от ближайшего аэропорта - это похоже на правду."
   ]
  },
  {
   "cell_type": "code",
   "execution_count": 72,
   "id": "85b72c71",
   "metadata": {},
   "outputs": [
    {
     "data": {
      "text/plain": [
       "5423"
      ]
     },
     "execution_count": 72,
     "metadata": {},
     "output_type": "execute_result"
    }
   ],
   "source": [
    "data['airports_nearest'].isna().sum()"
   ]
  },
  {
   "cell_type": "code",
   "execution_count": 73,
   "id": "d7419bf7",
   "metadata": {},
   "outputs": [
    {
     "data": {
      "text/plain": [
       "5403"
      ]
     },
     "execution_count": 73,
     "metadata": {},
     "output_type": "execute_result"
    }
   ],
   "source": [
    "data['cityCenters_nearest'].isna().sum()"
   ]
  },
  {
   "cell_type": "markdown",
   "id": "5087d634",
   "metadata": {},
   "source": [
    "Практически идентичное количество пропусков наводит на мысль, что либо:\n",
    "- картографические данные система начала подгружать не сразу, а через какое-то время после начала сбора данных\n",
    "- или же есть какие-то населенные пункты, в котрых невозможно определить центр или аэропорт находится крайне далеко."
   ]
  },
  {
   "cell_type": "code",
   "execution_count": 74,
   "id": "7f19c7c7",
   "metadata": {
    "scrolled": false
   },
   "outputs": [
    {
     "data": {
      "text/html": [
       "<div>\n",
       "<style scoped>\n",
       "    .dataframe tbody tr th:only-of-type {\n",
       "        vertical-align: middle;\n",
       "    }\n",
       "\n",
       "    .dataframe tbody tr th {\n",
       "        vertical-align: top;\n",
       "    }\n",
       "\n",
       "    .dataframe thead th {\n",
       "        text-align: right;\n",
       "    }\n",
       "</style>\n",
       "<table border=\"1\" class=\"dataframe\">\n",
       "  <thead>\n",
       "    <tr style=\"text-align: right;\">\n",
       "      <th></th>\n",
       "      <th>total_images</th>\n",
       "      <th>last_price</th>\n",
       "      <th>total_area</th>\n",
       "      <th>first_day_exposition</th>\n",
       "      <th>rooms</th>\n",
       "      <th>ceiling_height</th>\n",
       "      <th>floors_total</th>\n",
       "      <th>living_area</th>\n",
       "      <th>floor</th>\n",
       "      <th>is_apartment</th>\n",
       "      <th>...</th>\n",
       "      <th>kitchen_area</th>\n",
       "      <th>balcony</th>\n",
       "      <th>locality_name</th>\n",
       "      <th>airports_nearest</th>\n",
       "      <th>cityCenters_nearest</th>\n",
       "      <th>parks_around3000</th>\n",
       "      <th>parks_nearest</th>\n",
       "      <th>ponds_around3000</th>\n",
       "      <th>ponds_nearest</th>\n",
       "      <th>days_exposition</th>\n",
       "    </tr>\n",
       "  </thead>\n",
       "  <tbody>\n",
       "    <tr>\n",
       "      <th>0</th>\n",
       "      <td>20</td>\n",
       "      <td>13000000.0</td>\n",
       "      <td>108.00</td>\n",
       "      <td>2019-03-07T00:00:00</td>\n",
       "      <td>3</td>\n",
       "      <td>2.7000</td>\n",
       "      <td>16.0</td>\n",
       "      <td>51.000000</td>\n",
       "      <td>8</td>\n",
       "      <td>False</td>\n",
       "      <td>...</td>\n",
       "      <td>25.00</td>\n",
       "      <td>0.0</td>\n",
       "      <td>Санкт-Петербург</td>\n",
       "      <td>18863.0</td>\n",
       "      <td>16028.0</td>\n",
       "      <td>1.0</td>\n",
       "      <td>482.0</td>\n",
       "      <td>2.0</td>\n",
       "      <td>755.0</td>\n",
       "      <td>NaN</td>\n",
       "    </tr>\n",
       "    <tr>\n",
       "      <th>1</th>\n",
       "      <td>7</td>\n",
       "      <td>3350000.0</td>\n",
       "      <td>40.40</td>\n",
       "      <td>2018-12-04T00:00:00</td>\n",
       "      <td>1</td>\n",
       "      <td>2.6075</td>\n",
       "      <td>11.0</td>\n",
       "      <td>18.600000</td>\n",
       "      <td>1</td>\n",
       "      <td>False</td>\n",
       "      <td>...</td>\n",
       "      <td>11.00</td>\n",
       "      <td>2.0</td>\n",
       "      <td>посёлок Шушары</td>\n",
       "      <td>12817.0</td>\n",
       "      <td>18603.0</td>\n",
       "      <td>0.0</td>\n",
       "      <td>NaN</td>\n",
       "      <td>0.0</td>\n",
       "      <td>NaN</td>\n",
       "      <td>81.0</td>\n",
       "    </tr>\n",
       "    <tr>\n",
       "      <th>2</th>\n",
       "      <td>10</td>\n",
       "      <td>5196000.0</td>\n",
       "      <td>56.00</td>\n",
       "      <td>2015-08-20T00:00:00</td>\n",
       "      <td>2</td>\n",
       "      <td>2.7000</td>\n",
       "      <td>5.0</td>\n",
       "      <td>34.300000</td>\n",
       "      <td>4</td>\n",
       "      <td>False</td>\n",
       "      <td>...</td>\n",
       "      <td>8.30</td>\n",
       "      <td>0.0</td>\n",
       "      <td>Санкт-Петербург</td>\n",
       "      <td>21741.0</td>\n",
       "      <td>13933.0</td>\n",
       "      <td>1.0</td>\n",
       "      <td>90.0</td>\n",
       "      <td>2.0</td>\n",
       "      <td>574.0</td>\n",
       "      <td>558.0</td>\n",
       "    </tr>\n",
       "    <tr>\n",
       "      <th>3</th>\n",
       "      <td>0</td>\n",
       "      <td>64900000.0</td>\n",
       "      <td>159.00</td>\n",
       "      <td>2015-07-24T00:00:00</td>\n",
       "      <td>3</td>\n",
       "      <td>2.7000</td>\n",
       "      <td>14.0</td>\n",
       "      <td>90.768980</td>\n",
       "      <td>9</td>\n",
       "      <td>False</td>\n",
       "      <td>...</td>\n",
       "      <td>9.00</td>\n",
       "      <td>0.0</td>\n",
       "      <td>Санкт-Петербург</td>\n",
       "      <td>28098.0</td>\n",
       "      <td>6800.0</td>\n",
       "      <td>2.0</td>\n",
       "      <td>84.0</td>\n",
       "      <td>3.0</td>\n",
       "      <td>234.0</td>\n",
       "      <td>424.0</td>\n",
       "    </tr>\n",
       "    <tr>\n",
       "      <th>5</th>\n",
       "      <td>10</td>\n",
       "      <td>2890000.0</td>\n",
       "      <td>30.40</td>\n",
       "      <td>2018-09-10T00:00:00</td>\n",
       "      <td>1</td>\n",
       "      <td>2.6000</td>\n",
       "      <td>12.0</td>\n",
       "      <td>14.400000</td>\n",
       "      <td>5</td>\n",
       "      <td>False</td>\n",
       "      <td>...</td>\n",
       "      <td>9.10</td>\n",
       "      <td>0.0</td>\n",
       "      <td>городской посёлок Янино-1</td>\n",
       "      <td>NaN</td>\n",
       "      <td>NaN</td>\n",
       "      <td>NaN</td>\n",
       "      <td>NaN</td>\n",
       "      <td>NaN</td>\n",
       "      <td>NaN</td>\n",
       "      <td>55.0</td>\n",
       "    </tr>\n",
       "    <tr>\n",
       "      <th>6</th>\n",
       "      <td>6</td>\n",
       "      <td>3700000.0</td>\n",
       "      <td>37.30</td>\n",
       "      <td>2017-11-02T00:00:00</td>\n",
       "      <td>1</td>\n",
       "      <td>2.6400</td>\n",
       "      <td>26.0</td>\n",
       "      <td>10.600000</td>\n",
       "      <td>6</td>\n",
       "      <td>False</td>\n",
       "      <td>...</td>\n",
       "      <td>14.40</td>\n",
       "      <td>1.0</td>\n",
       "      <td>посёлок Парголово</td>\n",
       "      <td>52996.0</td>\n",
       "      <td>19143.0</td>\n",
       "      <td>0.0</td>\n",
       "      <td>NaN</td>\n",
       "      <td>0.0</td>\n",
       "      <td>NaN</td>\n",
       "      <td>155.0</td>\n",
       "    </tr>\n",
       "    <tr>\n",
       "      <th>7</th>\n",
       "      <td>5</td>\n",
       "      <td>7915000.0</td>\n",
       "      <td>71.60</td>\n",
       "      <td>2019-04-18T00:00:00</td>\n",
       "      <td>2</td>\n",
       "      <td>2.7000</td>\n",
       "      <td>24.0</td>\n",
       "      <td>40.874585</td>\n",
       "      <td>22</td>\n",
       "      <td>False</td>\n",
       "      <td>...</td>\n",
       "      <td>18.90</td>\n",
       "      <td>2.0</td>\n",
       "      <td>Санкт-Петербург</td>\n",
       "      <td>23982.0</td>\n",
       "      <td>11634.0</td>\n",
       "      <td>0.0</td>\n",
       "      <td>NaN</td>\n",
       "      <td>0.0</td>\n",
       "      <td>NaN</td>\n",
       "      <td>NaN</td>\n",
       "    </tr>\n",
       "    <tr>\n",
       "      <th>8</th>\n",
       "      <td>20</td>\n",
       "      <td>2900000.0</td>\n",
       "      <td>33.16</td>\n",
       "      <td>2018-05-23T00:00:00</td>\n",
       "      <td>1</td>\n",
       "      <td>2.7000</td>\n",
       "      <td>27.0</td>\n",
       "      <td>15.430000</td>\n",
       "      <td>26</td>\n",
       "      <td>False</td>\n",
       "      <td>...</td>\n",
       "      <td>8.81</td>\n",
       "      <td>0.0</td>\n",
       "      <td>посёлок Мурино</td>\n",
       "      <td>NaN</td>\n",
       "      <td>NaN</td>\n",
       "      <td>NaN</td>\n",
       "      <td>NaN</td>\n",
       "      <td>NaN</td>\n",
       "      <td>NaN</td>\n",
       "      <td>189.0</td>\n",
       "    </tr>\n",
       "    <tr>\n",
       "      <th>9</th>\n",
       "      <td>18</td>\n",
       "      <td>5400000.0</td>\n",
       "      <td>61.00</td>\n",
       "      <td>2017-02-26T00:00:00</td>\n",
       "      <td>3</td>\n",
       "      <td>2.5000</td>\n",
       "      <td>9.0</td>\n",
       "      <td>43.600000</td>\n",
       "      <td>7</td>\n",
       "      <td>False</td>\n",
       "      <td>...</td>\n",
       "      <td>6.50</td>\n",
       "      <td>2.0</td>\n",
       "      <td>Санкт-Петербург</td>\n",
       "      <td>50898.0</td>\n",
       "      <td>15008.0</td>\n",
       "      <td>0.0</td>\n",
       "      <td>NaN</td>\n",
       "      <td>0.0</td>\n",
       "      <td>NaN</td>\n",
       "      <td>289.0</td>\n",
       "    </tr>\n",
       "    <tr>\n",
       "      <th>10</th>\n",
       "      <td>5</td>\n",
       "      <td>5050000.0</td>\n",
       "      <td>39.60</td>\n",
       "      <td>2017-11-16T00:00:00</td>\n",
       "      <td>1</td>\n",
       "      <td>2.6700</td>\n",
       "      <td>12.0</td>\n",
       "      <td>20.300000</td>\n",
       "      <td>3</td>\n",
       "      <td>False</td>\n",
       "      <td>...</td>\n",
       "      <td>8.50</td>\n",
       "      <td>0.0</td>\n",
       "      <td>Санкт-Петербург</td>\n",
       "      <td>38357.0</td>\n",
       "      <td>13878.0</td>\n",
       "      <td>1.0</td>\n",
       "      <td>310.0</td>\n",
       "      <td>2.0</td>\n",
       "      <td>553.0</td>\n",
       "      <td>137.0</td>\n",
       "    </tr>\n",
       "  </tbody>\n",
       "</table>\n",
       "<p>10 rows × 22 columns</p>\n",
       "</div>"
      ],
      "text/plain": [
       "    total_images  last_price  total_area first_day_exposition  rooms  \\\n",
       "0             20  13000000.0      108.00  2019-03-07T00:00:00      3   \n",
       "1              7   3350000.0       40.40  2018-12-04T00:00:00      1   \n",
       "2             10   5196000.0       56.00  2015-08-20T00:00:00      2   \n",
       "3              0  64900000.0      159.00  2015-07-24T00:00:00      3   \n",
       "5             10   2890000.0       30.40  2018-09-10T00:00:00      1   \n",
       "6              6   3700000.0       37.30  2017-11-02T00:00:00      1   \n",
       "7              5   7915000.0       71.60  2019-04-18T00:00:00      2   \n",
       "8             20   2900000.0       33.16  2018-05-23T00:00:00      1   \n",
       "9             18   5400000.0       61.00  2017-02-26T00:00:00      3   \n",
       "10             5   5050000.0       39.60  2017-11-16T00:00:00      1   \n",
       "\n",
       "    ceiling_height  floors_total  living_area  floor  is_apartment  ...  \\\n",
       "0           2.7000          16.0    51.000000      8         False  ...   \n",
       "1           2.6075          11.0    18.600000      1         False  ...   \n",
       "2           2.7000           5.0    34.300000      4         False  ...   \n",
       "3           2.7000          14.0    90.768980      9         False  ...   \n",
       "5           2.6000          12.0    14.400000      5         False  ...   \n",
       "6           2.6400          26.0    10.600000      6         False  ...   \n",
       "7           2.7000          24.0    40.874585     22         False  ...   \n",
       "8           2.7000          27.0    15.430000     26         False  ...   \n",
       "9           2.5000           9.0    43.600000      7         False  ...   \n",
       "10          2.6700          12.0    20.300000      3         False  ...   \n",
       "\n",
       "    kitchen_area  balcony              locality_name  airports_nearest  \\\n",
       "0          25.00      0.0            Санкт-Петербург           18863.0   \n",
       "1          11.00      2.0             посёлок Шушары           12817.0   \n",
       "2           8.30      0.0            Санкт-Петербург           21741.0   \n",
       "3           9.00      0.0            Санкт-Петербург           28098.0   \n",
       "5           9.10      0.0  городской посёлок Янино-1               NaN   \n",
       "6          14.40      1.0          посёлок Парголово           52996.0   \n",
       "7          18.90      2.0            Санкт-Петербург           23982.0   \n",
       "8           8.81      0.0             посёлок Мурино               NaN   \n",
       "9           6.50      2.0            Санкт-Петербург           50898.0   \n",
       "10          8.50      0.0            Санкт-Петербург           38357.0   \n",
       "\n",
       "   cityCenters_nearest  parks_around3000  parks_nearest  ponds_around3000  \\\n",
       "0              16028.0               1.0          482.0               2.0   \n",
       "1              18603.0               0.0            NaN               0.0   \n",
       "2              13933.0               1.0           90.0               2.0   \n",
       "3               6800.0               2.0           84.0               3.0   \n",
       "5                  NaN               NaN            NaN               NaN   \n",
       "6              19143.0               0.0            NaN               0.0   \n",
       "7              11634.0               0.0            NaN               0.0   \n",
       "8                  NaN               NaN            NaN               NaN   \n",
       "9              15008.0               0.0            NaN               0.0   \n",
       "10             13878.0               1.0          310.0               2.0   \n",
       "\n",
       "    ponds_nearest  days_exposition  \n",
       "0           755.0              NaN  \n",
       "1             NaN             81.0  \n",
       "2           574.0            558.0  \n",
       "3           234.0            424.0  \n",
       "5             NaN             55.0  \n",
       "6             NaN            155.0  \n",
       "7             NaN              NaN  \n",
       "8             NaN            189.0  \n",
       "9             NaN            289.0  \n",
       "10          553.0            137.0  \n",
       "\n",
       "[10 rows x 22 columns]"
      ]
     },
     "execution_count": 74,
     "metadata": {},
     "output_type": "execute_result"
    }
   ],
   "source": [
    "# чтобы проверить первую гипотезу, выведем первые 10 строк датафрейа и проверим пропуски по датам размещения объявления\n",
    "data.head(10)"
   ]
  },
  {
   "cell_type": "markdown",
   "id": "6734bde4",
   "metadata": {},
   "source": [
    "Первая гипотеза отпадает точно, так как пропуски встречаются и в 2016 и в 2018 годах, они явно не зависят от даты. Проверим вторую.\n",
    "Для этого узнаем, существуют ли наседенные пункты, в которых есть и пропуски и заполненные растояния одновременно. "
   ]
  },
  {
   "cell_type": "code",
   "execution_count": 75,
   "id": "b4342bd6",
   "metadata": {
    "scrolled": false
   },
   "outputs": [
    {
     "data": {
      "text/plain": [
       "{'Колпино',\n",
       " 'Красное Село',\n",
       " 'Кронштадт',\n",
       " 'Ломоносов',\n",
       " 'Санкт-Петербург',\n",
       " 'посёлок Шушары'}"
      ]
     },
     "execution_count": 75,
     "metadata": {},
     "output_type": "execute_result"
    }
   ],
   "source": [
    " # выведем пересечение двух множеств\n",
    "set(data.loc[data['airports_nearest'].isna(), 'locality_name']) & \\\n",
    "set(data.loc[~data['airports_nearest'].isna(), 'locality_name'])\n",
    "    "
   ]
  },
  {
   "cell_type": "markdown",
   "id": "2aec01fa",
   "metadata": {},
   "source": [
    "И вторая гипотеза оказалась несостоятельной. В Питере и Кронштадте не проблема определить расстояние до аэропорта или ближайшего парка. Значит у пропускав в этих столбцах иная, не совсем понятная причина. Такие пропуски не стоит заполнять. Лучше сообщить о них команде Яндекс.Недвижимости.\n",
    "Оставляем столбцы `airports_nearest` и `cityCenters_nearest` без изменений."
   ]
  },
  {
   "cell_type": "markdown",
   "id": "6521cee2",
   "metadata": {},
   "source": [
    "### 11. Столбцы `parks_around3000`, `parks_nearest`, `ponds_around3000`, `ponds_nearest`"
   ]
  },
  {
   "cell_type": "markdown",
   "id": "785b9e5a",
   "metadata": {},
   "source": [
    "Это столбцы со значениями, которые также автоматически подгружаются системой. Судя по названию в них хранятся следующие данные: количество парков в радиусе 3 км, расстояние до ближайшего парка, водоемы в радиусе 3 км. и расстояние до ближайшего водоема.\n",
    "Оценим значения в этих столбцах."
   ]
  },
  {
   "cell_type": "code",
   "execution_count": 76,
   "id": "9f17c495",
   "metadata": {},
   "outputs": [
    {
     "data": {
      "text/plain": [
       "<AxesSubplot:>"
      ]
     },
     "execution_count": 76,
     "metadata": {},
     "output_type": "execute_result"
    },
    {
     "data": {
      "image/png": "[encoded data removed]",
      "text/plain": [
       "<Figure size 432x288 with 1 Axes>"
      ]
     },
     "metadata": {
      "needs_background": "light"
     },
     "output_type": "display_data"
    }
   ],
   "source": [
    "data['parks_around3000'].hist()"
   ]
  },
  {
   "cell_type": "code",
   "execution_count": 77,
   "id": "278632ed",
   "metadata": {},
   "outputs": [
    {
     "data": {
      "text/plain": [
       "<AxesSubplot:>"
      ]
     },
     "execution_count": 77,
     "metadata": {},
     "output_type": "execute_result"
    },
    {
     "data": {
      "image/png": "[encoded data removed]",
      "text/plain": [
       "<Figure size 432x288 with 1 Axes>"
      ]
     },
     "metadata": {
      "needs_background": "light"
     },
     "output_type": "display_data"
    }
   ],
   "source": [
    "data['parks_nearest'].hist()"
   ]
  },
  {
   "cell_type": "code",
   "execution_count": 78,
   "id": "891853ab",
   "metadata": {},
   "outputs": [
    {
     "data": {
      "text/plain": [
       "5402"
      ]
     },
     "execution_count": 78,
     "metadata": {},
     "output_type": "execute_result"
    }
   ],
   "source": [
    "data['parks_around3000'].isna().sum()"
   ]
  },
  {
   "cell_type": "code",
   "execution_count": 79,
   "id": "e3715898",
   "metadata": {},
   "outputs": [
    {
     "data": {
      "text/plain": [
       "15174"
      ]
     },
     "execution_count": 79,
     "metadata": {},
     "output_type": "execute_result"
    }
   ],
   "source": [
    "data['parks_nearest'].isna().sum()"
   ]
  },
  {
   "cell_type": "markdown",
   "id": "b0cab0ca",
   "metadata": {},
   "source": [
    "По паркам видим следующую тенденцию: у большинста объявлений система не нашла ни одного парка в радиусе 3 км, у четверти квартир только 1 парк поблизости, и очень редко встречаются варианты с 2-3 парками в доступе. Незаполненых значений примерно 20-25%, что опять указывает на то, что система подтягивает картографические данные не идеально.\n",
    "\n",
    "Расстояние до парка оказалось определено только у 40% объявлений, что подтверждает, проблемы с автоматическим сбором данных. Даже в части тех объявлениий, где количество парков было определено, система не определила растояние.\n",
    "\n",
    "Проделаем аналогичные действия с данными о водоемах."
   ]
  },
  {
   "cell_type": "code",
   "execution_count": 80,
   "id": "bf12c6d1",
   "metadata": {},
   "outputs": [
    {
     "data": {
      "text/plain": [
       "<AxesSubplot:>"
      ]
     },
     "execution_count": 80,
     "metadata": {},
     "output_type": "execute_result"
    },
    {
     "data": {
      "image/png": "[encoded data removed]",
      "text/plain": [
       "<Figure size 432x288 with 1 Axes>"
      ]
     },
     "metadata": {
      "needs_background": "light"
     },
     "output_type": "display_data"
    }
   ],
   "source": [
    "data['ponds_around3000'].hist()"
   ]
  },
  {
   "cell_type": "code",
   "execution_count": 81,
   "id": "ec10c248",
   "metadata": {},
   "outputs": [
    {
     "data": {
      "text/plain": [
       "<AxesSubplot:>"
      ]
     },
     "execution_count": 81,
     "metadata": {},
     "output_type": "execute_result"
    },
    {
     "data": {
      "image/png": "[encoded data removed]",
      "text/plain": [
       "<Figure size 432x288 with 1 Axes>"
      ]
     },
     "metadata": {
      "needs_background": "light"
     },
     "output_type": "display_data"
    }
   ],
   "source": [
    "data['ponds_nearest'].hist()"
   ]
  },
  {
   "cell_type": "code",
   "execution_count": 82,
   "id": "7bec95d6",
   "metadata": {},
   "outputs": [
    {
     "data": {
      "text/plain": [
       "5402"
      ]
     },
     "execution_count": 82,
     "metadata": {},
     "output_type": "execute_result"
    }
   ],
   "source": [
    "data['ponds_around3000'].isna().sum()"
   ]
  },
  {
   "cell_type": "code",
   "execution_count": 83,
   "id": "527367f4",
   "metadata": {},
   "outputs": [
    {
     "data": {
      "text/plain": [
       "14219"
      ]
     },
     "execution_count": 83,
     "metadata": {},
     "output_type": "execute_result"
    }
   ],
   "source": [
    "data['ponds_nearest'].isna().sum()"
   ]
  },
  {
   "cell_type": "markdown",
   "id": "0ef0375d",
   "metadata": {},
   "source": [
    "Ситуация с парками и водоемами практически идентична. Если оценивать имеющиеся картографические данные, то они выглядят реалистично. Большинство объектов недвижимости не имеют рядом парка или водоема, примерно 20-30% продают квартиру рядом с парком/водоемом и гораздо реже встречаются варианты с 2мя и более местами отдыха. Растояние до них тоже выглядит правдоподобно.\n",
    "Но большое количество пропусков указывает на то, что даные часто не подгружаются. Не будем исправлять значения в этих столбцах тоже, оставим в неизменном виде, чтобы команда Яндекс.Недвижимости владела реалистичной картиной и мы проводилли исследование на более объективных данных."
   ]
  },
  {
   "cell_type": "code",
   "execution_count": 84,
   "id": "db8a216c",
   "metadata": {
    "scrolled": true
   },
   "outputs": [
    {
     "data": {
      "text/plain": [
       "array([ 1.,  0.,  2., nan,  3.])"
      ]
     },
     "execution_count": 84,
     "metadata": {},
     "output_type": "execute_result"
    }
   ],
   "source": [
    "data['parks_around3000'].unique()"
   ]
  },
  {
   "cell_type": "markdown",
   "id": "8ff2f5f9",
   "metadata": {},
   "source": [
    "### 12. Столбец `days_exposition`"
   ]
  },
  {
   "cell_type": "markdown",
   "id": "296bc24c",
   "metadata": {},
   "source": [
    "В этом столбце должны храниться данные о количестве дней, пока квартира продавалась (сколько объявление было размещено на сатйе Яндекс.Недвижимость)"
   ]
  },
  {
   "cell_type": "code",
   "execution_count": 85,
   "id": "7c50b7b6",
   "metadata": {},
   "outputs": [
    {
     "data": {
      "text/plain": [
       "count    19831.000000\n",
       "mean       179.365841\n",
       "std        217.654871\n",
       "min          1.000000\n",
       "25%         45.000000\n",
       "50%         95.000000\n",
       "75%        229.000000\n",
       "max       1580.000000\n",
       "Name: days_exposition, dtype: float64"
      ]
     },
     "execution_count": 85,
     "metadata": {},
     "output_type": "execute_result"
    }
   ],
   "source": [
    "data['days_exposition'].describe()"
   ]
  },
  {
   "cell_type": "markdown",
   "id": "fbcfc733",
   "metadata": {},
   "source": [
    "Видим, что среднее и медиана очень сильно различаются. Это связано с аномальными выбросами - некоторые квартиры \"висели\" на сайте годами. \n",
    "Посторим гистограмму ограничив ее годом."
   ]
  },
  {
   "cell_type": "code",
   "execution_count": 86,
   "id": "c074ec09",
   "metadata": {
    "scrolled": true
   },
   "outputs": [
    {
     "data": {
      "text/plain": [
       "<AxesSubplot:>"
      ]
     },
     "execution_count": 86,
     "metadata": {},
     "output_type": "execute_result"
    },
    {
     "data": {
      "image/png": "[encoded data removed]",
      "text/plain": [
       "<Figure size 432x288 with 1 Axes>"
      ]
     },
     "metadata": {
      "needs_background": "light"
     },
     "output_type": "display_data"
    }
   ],
   "source": [
    "data['days_exposition'].hist(range=(0,365))"
   ]
  },
  {
   "cell_type": "markdown",
   "id": "6cbeff30",
   "metadata": {},
   "source": [
    "Заметно, что большинство квартир размещаются 1-2 месяца. Причем пик в 1 месяц не обязательно подтвержает, что квартиру за месяц продали, возможно есть другие причины, что объявление сняли с публикации (например, что со второго месяца, размещение становится платным). Чтобы точнее оценить динамику по снятию объявлений, стоит проконсультироваться с коллегами из Яндекс.Недвижимости, каковы у них условия размещения объявлений.\n",
    "Но предварительно можно сказать, что обычно квартира продается за 1-3 месяца. \n",
    "Минимум  в 1 день - скорее всего случайный выброс. И объявления, которые были размещены больше года, мало похожи на \"живые\" варианты, скорее какие-то сомнительные объявления или специфические \"заманки\" риэлтеров.\n",
    "\n",
    "За крайние значения лучше взять следующие:\n",
    "- 7 дней - необычайно быстрая продажа квартиры\n",
    "- 365 дней - крайне долгая продажа"
   ]
  },
  {
   "cell_type": "code",
   "execution_count": 87,
   "id": "cc99330a",
   "metadata": {
    "scrolled": false
   },
   "outputs": [
    {
     "data": {
      "text/plain": [
       "<AxesSubplot:>"
      ]
     },
     "execution_count": 87,
     "metadata": {},
     "output_type": "execute_result"
    },
    {
     "data": {
      "image/png": "[encoded data removed]",
      "text/plain": [
       "<Figure size 432x288 with 1 Axes>"
      ]
     },
     "metadata": {
      "needs_background": "light"
     },
     "output_type": "display_data"
    }
   ],
   "source": [
    "data['days_exposition'].hist(range=(0,100))"
   ]
  },
  {
   "cell_type": "code",
   "execution_count": 88,
   "id": "6a817327",
   "metadata": {},
   "outputs": [
    {
     "data": {
      "text/plain": [
       "3031"
      ]
     },
     "execution_count": 88,
     "metadata": {},
     "output_type": "execute_result"
    }
   ],
   "source": [
    "data['days_exposition'].isna().sum()"
   ]
  },
  {
   "cell_type": "markdown",
   "id": "31ce4757",
   "metadata": {},
   "source": [
    "Так как этот столбец тоже должен заполняться автоматом, странно видеть здесь столько пустых значений. Однозначно стоит и об этом сообщить в Яндекс.Недвижимость. Заполнять пропуски не будем."
   ]
  },
  {
   "cell_type": "markdown",
   "id": "07c66612",
   "metadata": {},
   "source": [
    "## Изменение типов данных"
   ]
  },
  {
   "cell_type": "markdown",
   "id": "18b6f4d9",
   "metadata": {},
   "source": [
    "Еще в самом начале исследования мы определили в каких столбцах необходимо изменить типы данных:\n",
    "- 3   `first_day_exposition`   object  ->  *datetime*  - тк это дата и время размещения объявления\n",
    "- 6   `floors_total`           float64  ->  *int*      - тк это количество этажей в здании\n",
    "- 9   `is_apartment`           object   ->  *bool*     - тк возможны только значения True/False\n",
    "- 13  `balcony`                float64  ->  *int*      - тк количество балконов\n",
    "- 17  `parks_around3000`       float64  ->  *int*      - тк количество парков на расстоянии 3 км\n",
    "- 19  `ponds_around3000`       float64  ->  *int*      - тк количество водоемов на расстоянии 3 км\n",
    "- 21  `days_exposition`        float64  ->  *int*      - тк количество дней экспозиции\n"
   ]
  },
  {
   "cell_type": "code",
   "execution_count": 89,
   "id": "c59c0e4b",
   "metadata": {
    "scrolled": true
   },
   "outputs": [
    {
     "data": {
      "text/plain": [
       "total_images                     int64\n",
       "last_price                     float64\n",
       "total_area                     float64\n",
       "first_day_exposition    datetime64[ns]\n",
       "rooms                            int64\n",
       "ceiling_height                 float64\n",
       "floors_total                     int64\n",
       "living_area                    float64\n",
       "floor                            int64\n",
       "is_apartment                      bool\n",
       "studio                            bool\n",
       "open_plan                         bool\n",
       "kitchen_area                   float64\n",
       "balcony                          int64\n",
       "locality_name                   object\n",
       "airports_nearest               float64\n",
       "cityCenters_nearest            float64\n",
       "parks_around3000               float64\n",
       "parks_nearest                  float64\n",
       "ponds_around3000               float64\n",
       "ponds_nearest                  float64\n",
       "days_exposition                float64\n",
       "dtype: object"
      ]
     },
     "execution_count": 89,
     "metadata": {},
     "output_type": "execute_result"
    }
   ],
   "source": [
    "# оставлю закомментированными те строки, по котрым замена типа не прошла. Вышла ошибка, что Nan нельзя преобразовать в тип int\n",
    "\n",
    "data['floors_total'] = data['floors_total'].astype('int')\n",
    "data['balcony'] = data['balcony'].astype('int')\n",
    "data['is_apartment'] = data['is_apartment'].astype('bool')\n",
    "data['first_day_exposition'] = pd.to_datetime(data['first_day_exposition'], format='%Y.%m.%d %H:%M:%S')\n",
    "\n",
    "data.dtypes"
   ]
  },
  {
   "cell_type": "markdown",
   "id": "fe7941f8",
   "metadata": {},
   "source": [
    "## Устранение дубликатов"
   ]
  },
  {
   "cell_type": "markdown",
   "id": "ce5927b2",
   "metadata": {},
   "source": [
    "Сначало проверим датафрейм на наличие явных дубликатов"
   ]
  },
  {
   "cell_type": "code",
   "execution_count": 90,
   "id": "cdbf23ad",
   "metadata": {},
   "outputs": [
    {
     "data": {
      "text/plain": [
       "0"
      ]
     },
     "execution_count": 90,
     "metadata": {},
     "output_type": "execute_result"
    }
   ],
   "source": [
    "data.duplicated().sum()"
   ]
  },
  {
   "cell_type": "markdown",
   "id": "79584322",
   "metadata": {},
   "source": [
    "Отлично! Явных дубликатов не обнаружено, теперь разберемся с неявными дубликатами в единственном строковом столбце `locality_name`.\n",
    "Выведем уникальные значения в этом столбце."
   ]
  },
  {
   "cell_type": "code",
   "execution_count": 91,
   "id": "a2527760",
   "metadata": {
    "scrolled": false
   },
   "outputs": [
    {
     "data": {
      "text/plain": [
       "['Бокситогорск',\n",
       " 'Волосово',\n",
       " 'Волхов',\n",
       " 'Всеволожск',\n",
       " 'Выборг',\n",
       " 'Высоцк',\n",
       " 'Гатчина',\n",
       " 'Зеленогорск',\n",
       " 'Ивангород',\n",
       " 'Каменногорск',\n",
       " 'Кингисепп',\n",
       " 'Кириши',\n",
       " 'Кировск',\n",
       " 'Колпино',\n",
       " 'Коммунар',\n",
       " 'Красное Село',\n",
       " 'Кронштадт',\n",
       " 'Кудрово',\n",
       " 'Лодейное Поле',\n",
       " 'Ломоносов',\n",
       " 'Луга',\n",
       " 'Любань',\n",
       " 'Мурино',\n",
       " 'Никольское',\n",
       " 'Новая Ладога',\n",
       " 'Отрадное',\n",
       " 'Павловск',\n",
       " 'Петергоф',\n",
       " 'Пикалёво',\n",
       " 'Подпорожье',\n",
       " 'Приморск',\n",
       " 'Приозерск',\n",
       " 'Пушкин',\n",
       " 'Санкт-Петербург',\n",
       " 'Светогорск',\n",
       " 'Сертолово',\n",
       " 'Сестрорецк',\n",
       " 'Сланцы',\n",
       " 'Сосновый Бор',\n",
       " 'Сясьстрой',\n",
       " 'Тихвин',\n",
       " 'Тосно',\n",
       " 'Шлиссельбург',\n",
       " 'городской поселок Большая Ижора',\n",
       " 'городской поселок Янино-1',\n",
       " 'городской посёлок Будогощь',\n",
       " 'городской посёлок Виллози',\n",
       " 'городской посёлок Лесогорский',\n",
       " 'городской посёлок Мга',\n",
       " 'городской посёлок Назия',\n",
       " 'городской посёлок Новоселье',\n",
       " 'городской посёлок Павлово',\n",
       " 'городской посёлок Рощино',\n",
       " 'городской посёлок Свирьстрой',\n",
       " 'городской посёлок Советский',\n",
       " 'городской посёлок Фёдоровское',\n",
       " 'городской посёлок Янино-1',\n",
       " 'деревня Агалатово',\n",
       " 'деревня Аро',\n",
       " 'деревня Батово',\n",
       " 'деревня Бегуницы',\n",
       " 'деревня Белогорка',\n",
       " 'деревня Большая Вруда',\n",
       " 'деревня Большая Пустомержа',\n",
       " 'деревня Большие Колпаны',\n",
       " 'деревня Большое Рейзино',\n",
       " 'деревня Большой Сабск',\n",
       " 'деревня Бор',\n",
       " 'деревня Борисова Грива',\n",
       " 'деревня Ваганово',\n",
       " 'деревня Вартемяги',\n",
       " 'деревня Вахнова Кара',\n",
       " 'деревня Выскатка',\n",
       " 'деревня Гарболово',\n",
       " 'деревня Глинка',\n",
       " 'деревня Горбунки',\n",
       " 'деревня Гостилицы',\n",
       " 'деревня Заклинье',\n",
       " 'деревня Заневка',\n",
       " 'деревня Зимитицы',\n",
       " 'деревня Извара',\n",
       " 'деревня Иссад',\n",
       " 'деревня Калитино',\n",
       " 'деревня Кальтино',\n",
       " 'деревня Камышовка',\n",
       " 'деревня Каськово',\n",
       " 'деревня Келози',\n",
       " 'деревня Кипень',\n",
       " 'деревня Кисельня',\n",
       " 'деревня Колтуши',\n",
       " 'деревня Коркино',\n",
       " 'деревня Котлы',\n",
       " 'деревня Кривко',\n",
       " 'деревня Кудрово',\n",
       " 'деревня Кузьмолово',\n",
       " 'деревня Курковицы',\n",
       " 'деревня Куровицы',\n",
       " 'деревня Куттузи',\n",
       " 'деревня Лаврики',\n",
       " 'деревня Лаголово',\n",
       " 'деревня Лампово',\n",
       " 'деревня Лесколово',\n",
       " 'деревня Лопухинка',\n",
       " 'деревня Лупполово',\n",
       " 'деревня Малая Романовка',\n",
       " 'деревня Малое Верево',\n",
       " 'деревня Малое Карлино',\n",
       " 'деревня Малые Колпаны',\n",
       " 'деревня Мануйлово',\n",
       " 'деревня Меньково',\n",
       " 'деревня Мины',\n",
       " 'деревня Мистолово',\n",
       " 'деревня Ненимяки',\n",
       " 'деревня Нижние Осельки',\n",
       " 'деревня Нижняя',\n",
       " 'деревня Низино',\n",
       " 'деревня Новое Девяткино',\n",
       " 'деревня Новолисино',\n",
       " 'деревня Нурма',\n",
       " 'деревня Оржицы',\n",
       " 'деревня Парицы',\n",
       " 'деревня Пельгора',\n",
       " 'деревня Пеники',\n",
       " 'деревня Пижма',\n",
       " 'деревня Пикколово',\n",
       " 'деревня Пудомяги',\n",
       " 'деревня Пустынка',\n",
       " 'деревня Пчева',\n",
       " 'деревня Рабитицы',\n",
       " 'деревня Разбегаево',\n",
       " 'деревня Раздолье',\n",
       " 'деревня Разметелево',\n",
       " 'деревня Рапполово',\n",
       " 'деревня Реброво',\n",
       " 'деревня Русско',\n",
       " 'деревня Сижно',\n",
       " 'деревня Снегирёвка',\n",
       " 'деревня Старая',\n",
       " 'деревня Старая Пустошь',\n",
       " 'деревня Старое Хинколово',\n",
       " 'деревня Старополье',\n",
       " 'деревня Старосиверская',\n",
       " 'деревня Старые Бегуницы',\n",
       " 'деревня Суоранда',\n",
       " 'деревня Сяськелево',\n",
       " 'деревня Тарасово',\n",
       " 'деревня Терпилицы',\n",
       " 'деревня Тихковицы',\n",
       " 'деревня Тойворово',\n",
       " 'деревня Торосово',\n",
       " 'деревня Торошковичи',\n",
       " 'деревня Трубников Бор',\n",
       " 'деревня Фалилеево',\n",
       " 'деревня Фёдоровское',\n",
       " 'деревня Хапо-Ое',\n",
       " 'деревня Чудской Бор',\n",
       " 'деревня Шпаньково',\n",
       " 'деревня Щеглово',\n",
       " 'деревня Юкки',\n",
       " 'деревня Ялгино',\n",
       " 'деревня Яльгелево',\n",
       " 'деревня Ям-Тесово',\n",
       " 'коттеджный поселок Кивеннапа Север',\n",
       " 'коттеджный поселок Счастье',\n",
       " 'коттеджный посёлок Лесное',\n",
       " 'поселок Аннино',\n",
       " 'поселок Барышево',\n",
       " 'поселок Бугры',\n",
       " 'поселок Возрождение',\n",
       " 'поселок Войсковицы',\n",
       " 'поселок Володарское',\n",
       " 'поселок Гаврилово',\n",
       " 'поселок Гарболово',\n",
       " 'поселок Гладкое',\n",
       " 'поселок Глажево',\n",
       " 'поселок Глебычево',\n",
       " 'поселок Гончарово',\n",
       " 'поселок Громово',\n",
       " 'поселок Дружноселье',\n",
       " 'поселок Елизаветино',\n",
       " 'поселок Жилгородок',\n",
       " 'поселок Жилпосёлок',\n",
       " 'поселок Житково',\n",
       " 'поселок Заводской',\n",
       " 'поселок Запорожское',\n",
       " 'поселок Зимитицы',\n",
       " 'поселок Ильичёво',\n",
       " 'поселок Калитино',\n",
       " 'поселок Каложицы',\n",
       " 'поселок Кингисеппский',\n",
       " 'поселок Кирпичное',\n",
       " 'поселок Кобралово',\n",
       " 'поселок Кобринское',\n",
       " 'поселок Коммунары',\n",
       " 'поселок Коробицыно',\n",
       " 'поселок Котельский',\n",
       " 'поселок Красная Долина',\n",
       " 'поселок Красносельское',\n",
       " 'поселок Лесное',\n",
       " 'поселок Лисий Нос',\n",
       " 'поселок Лукаши',\n",
       " 'поселок Любань',\n",
       " 'поселок Мельниково',\n",
       " 'поселок Мичуринское',\n",
       " 'поселок Молодцово',\n",
       " 'поселок Мурино',\n",
       " 'поселок Новый Свет',\n",
       " 'поселок Новый Учхоз',\n",
       " 'поселок Оредеж',\n",
       " 'поселок Пансионат Зелёный Бор',\n",
       " 'поселок Первомайское',\n",
       " 'поселок Перово',\n",
       " 'поселок Петровское',\n",
       " 'поселок Победа',\n",
       " 'поселок Поляны',\n",
       " 'поселок Почап',\n",
       " 'поселок Починок',\n",
       " 'поселок Пушное',\n",
       " 'поселок Пчевжа',\n",
       " 'поселок Рабитицы',\n",
       " 'поселок Романовка',\n",
       " 'поселок Ромашки',\n",
       " 'поселок Рябово',\n",
       " 'поселок Севастьяново',\n",
       " 'поселок Селезнёво',\n",
       " 'поселок Сельцо',\n",
       " 'поселок Семиозерье',\n",
       " 'поселок Семрино',\n",
       " 'поселок Серебрянский',\n",
       " 'поселок Совхозный',\n",
       " 'поселок Старая Малукса',\n",
       " 'поселок Стеклянный',\n",
       " 'поселок Сумино',\n",
       " 'поселок Суходолье',\n",
       " 'поселок Тельмана',\n",
       " 'поселок Терволово',\n",
       " 'поселок Торковичи',\n",
       " 'поселок Тёсово-4',\n",
       " 'поселок Углово',\n",
       " 'поселок Усть-Луга',\n",
       " 'поселок Ушаки',\n",
       " 'поселок Цвелодубово',\n",
       " 'поселок Цвылёво',\n",
       " 'поселок городского типа Большая Ижора',\n",
       " 'поселок городского типа Вырица',\n",
       " 'поселок городского типа Дружная Горка',\n",
       " 'поселок городского типа Дубровка',\n",
       " 'поселок городского типа Ефимовский',\n",
       " 'поселок городского типа Кондратьево',\n",
       " 'поселок городского типа Красный Бор',\n",
       " 'поселок городского типа Кузьмоловский',\n",
       " 'поселок городского типа Лебяжье',\n",
       " 'поселок городского типа Лесогорский',\n",
       " 'поселок городского типа Назия',\n",
       " 'поселок городского типа Никольский',\n",
       " 'поселок городского типа Приладожский',\n",
       " 'поселок городского типа Рахья',\n",
       " 'поселок городского типа Рощино',\n",
       " 'поселок городского типа Рябово',\n",
       " 'поселок городского типа Синявино',\n",
       " 'поселок городского типа Советский',\n",
       " 'поселок городского типа Токсово',\n",
       " 'поселок городского типа Форносово',\n",
       " 'поселок городского типа имени Свердлова',\n",
       " 'поселок станции Вещево',\n",
       " 'поселок станции Лужайка',\n",
       " 'поселок станции Приветнинское',\n",
       " 'посёлок Александровская',\n",
       " 'посёлок Алексеевка',\n",
       " 'посёлок Аннино',\n",
       " 'посёлок Белоостров',\n",
       " 'посёлок Бугры',\n",
       " 'посёлок Возрождение',\n",
       " 'посёлок Войскорово',\n",
       " 'посёлок Высокоключевой',\n",
       " 'посёлок Гаврилово',\n",
       " 'посёлок Дзержинского',\n",
       " 'посёлок Жилгородок',\n",
       " 'посёлок Ильичёво',\n",
       " 'посёлок Кикерино',\n",
       " 'посёлок Кобралово',\n",
       " 'посёлок Коробицыно',\n",
       " 'посёлок Левашово',\n",
       " 'посёлок Ленинское',\n",
       " 'посёлок Лисий Нос',\n",
       " 'посёлок Мельниково',\n",
       " 'посёлок Металлострой',\n",
       " 'посёлок Мичуринское',\n",
       " 'посёлок Молодёжное',\n",
       " 'посёлок Мурино',\n",
       " 'посёлок Мыза-Ивановка',\n",
       " 'посёлок Новогорелово',\n",
       " 'посёлок Новый Свет',\n",
       " 'посёлок Пансионат Зелёный Бор',\n",
       " 'посёлок Парголово',\n",
       " 'посёлок Перово',\n",
       " 'посёлок Песочный',\n",
       " 'посёлок Петровское',\n",
       " 'посёлок Платформа 69-й километр',\n",
       " 'посёлок Плодовое',\n",
       " 'посёлок Плоское',\n",
       " 'посёлок Победа',\n",
       " 'посёлок Поляны',\n",
       " 'посёлок Понтонный',\n",
       " 'посёлок Пригородный',\n",
       " 'посёлок Пудость',\n",
       " 'посёлок Репино',\n",
       " 'посёлок Ропша',\n",
       " 'посёлок Сапёрное',\n",
       " 'посёлок Сапёрный',\n",
       " 'посёлок Сосново',\n",
       " 'посёлок Старая Малукса',\n",
       " 'посёлок Стеклянный',\n",
       " 'посёлок Стрельна',\n",
       " 'посёлок Суйда',\n",
       " 'посёлок Сумино',\n",
       " 'посёлок Тельмана',\n",
       " 'посёлок Терволово',\n",
       " 'посёлок Торфяное',\n",
       " 'посёлок Усть-Ижора',\n",
       " 'посёлок Усть-Луга',\n",
       " 'посёлок Форт Красная Горка',\n",
       " 'посёлок Шугозеро',\n",
       " 'посёлок Шушары',\n",
       " 'посёлок Щеглово',\n",
       " 'посёлок городского типа Важины',\n",
       " 'посёлок городского типа Вознесенье',\n",
       " 'посёлок городского типа Вырица',\n",
       " 'посёлок городского типа Красный Бор',\n",
       " 'посёлок городского типа Кузнечное',\n",
       " 'посёлок городского типа Кузьмоловский',\n",
       " 'посёлок городского типа Лебяжье',\n",
       " 'посёлок городского типа Мга',\n",
       " 'посёлок городского типа Павлово',\n",
       " 'посёлок городского типа Рощино',\n",
       " 'посёлок городского типа Рябово',\n",
       " 'посёлок городского типа Сиверский',\n",
       " 'посёлок городского типа Тайцы',\n",
       " 'посёлок городского типа Токсово',\n",
       " 'посёлок городского типа Ульяновка',\n",
       " 'посёлок городского типа Форносово',\n",
       " 'посёлок городского типа имени Морозова',\n",
       " 'посёлок городского типа имени Свердлова',\n",
       " 'посёлок при железнодорожной станции Вещево',\n",
       " 'посёлок при железнодорожной станции Приветнинское',\n",
       " 'посёлок станции Громово',\n",
       " 'посёлок станции Свирь',\n",
       " 'садоводческое некоммерческое товарищество Лесная Поляна',\n",
       " 'садовое товарищество Новая Ропша',\n",
       " 'садовое товарищество Приладожский',\n",
       " 'садовое товарищество Рахья',\n",
       " 'садовое товарищество Садко',\n",
       " 'село Копорье',\n",
       " 'село Никольское',\n",
       " 'село Павлово',\n",
       " 'село Паша',\n",
       " 'село Путилово',\n",
       " 'село Рождествено',\n",
       " 'село Русско-Высоцкое',\n",
       " 'село Старая Ладога',\n",
       " 'село Шум']"
      ]
     },
     "execution_count": 91,
     "metadata": {},
     "output_type": "execute_result"
    }
   ],
   "source": [
    "sorted(data['locality_name'].unique())"
   ]
  },
  {
   "cell_type": "markdown",
   "id": "d81c0455",
   "metadata": {},
   "source": [
    "Изучим данные и найдем, где еще могут быть спрятаны дубликаты.\n",
    "\n",
    "Большинство задвоейний происходит, из-за того, что пишут \"посЕлок\" и \"посЁлок\". Так же есть две вариации на тему \"поселок городского типа\". Встречаются также названия без обозначения к какому населенному пункту они относятся.\n",
    " - дубликаты: `'поселок Мурино' 'посёлок Мурино''Мурино' 'Кудрово' 'деревня Кудрово''посёлок Бугры', 'поселок Бугры' 'поселок Новый Свет' 'посёлок Новый Свет' 'поселок городского типа Рощино' посёлок городского типа Рощино' 'посёлок городского типа имени Свердлова', 'городской посёлок Виллози'` и тд\n",
    "\n",
    "Отредактируем названия населенных пунктов. Сначала исправим все \"посЁлоки\" на \"посЕлоки\", затем унифицируем все поселки городского типа, а также исключим дублирования названий \"Мурино\" и \"Любань\"."
   ]
  },
  {
   "cell_type": "code",
   "execution_count": 115,
   "id": "d8cf5ecd",
   "metadata": {
    "scrolled": true
   },
   "outputs": [
    {
     "data": {
      "text/plain": [
       "0"
      ]
     },
     "execution_count": 115,
     "metadata": {},
     "output_type": "execute_result"
    }
   ],
   "source": [
    "# заменим везде букву \"ё\" на \"е\"\n",
    "data['locality_name'] = data['locality_name'].str.replace('ё', 'е')\n",
    "\n",
    "# заменим \"городской поселок\" на \"поселок городского типа\"\n",
    "data['locality_name'] = data['locality_name'].str.replace('городской поселок', 'поселок городского типа')\n",
    "my_list = ['Любань']\n",
    "# заменим дубликаты в названиях Любань и Мурино\n",
    "data['locality_name'] = data['locality_name'].str.replace('Любань', 'поселок Любань')\n",
    "data['locality_name'] = data['locality_name'].str.replace('Мурино', 'поселок Мурино')\n",
    "\n",
    "data['locality_name'] = data['locality_name'].str.replace('поселок поселок Любань', 'поселок Любань')\n",
    "data['locality_name'] = data['locality_name'].str.replace('поселок поселок Мурино', 'поселок Мурино')\n",
    "\n",
    "sorted(data['locality_name'].unique())\n",
    "\n",
    "# еще раз проверим не появились ли явные дубликаты\n",
    "data.duplicated().sum()"
   ]
  },
  {
   "cell_type": "markdown",
   "id": "df4a1463",
   "metadata": {},
   "source": [
    "## Категоризация данных и расчет дополнительных значений"
   ]
  },
  {
   "cell_type": "markdown",
   "id": "3c502aa9",
   "metadata": {},
   "source": [
    "### Цена за квадратный метр"
   ]
  },
  {
   "cell_type": "code",
   "execution_count": 94,
   "id": "9f3623de",
   "metadata": {},
   "outputs": [
    {
     "data": {
      "text/html": [
       "<div>\n",
       "<style scoped>\n",
       "    .dataframe tbody tr th:only-of-type {\n",
       "        vertical-align: middle;\n",
       "    }\n",
       "\n",
       "    .dataframe tbody tr th {\n",
       "        vertical-align: top;\n",
       "    }\n",
       "\n",
       "    .dataframe thead th {\n",
       "        text-align: right;\n",
       "    }\n",
       "</style>\n",
       "<table border=\"1\" class=\"dataframe\">\n",
       "  <thead>\n",
       "    <tr style=\"text-align: right;\">\n",
       "      <th></th>\n",
       "      <th>total_images</th>\n",
       "      <th>last_price</th>\n",
       "      <th>total_area</th>\n",
       "      <th>first_day_exposition</th>\n",
       "      <th>rooms</th>\n",
       "      <th>ceiling_height</th>\n",
       "      <th>floors_total</th>\n",
       "      <th>living_area</th>\n",
       "      <th>floor</th>\n",
       "      <th>is_apartment</th>\n",
       "      <th>...</th>\n",
       "      <th>balcony</th>\n",
       "      <th>locality_name</th>\n",
       "      <th>airports_nearest</th>\n",
       "      <th>cityCenters_nearest</th>\n",
       "      <th>parks_around3000</th>\n",
       "      <th>parks_nearest</th>\n",
       "      <th>ponds_around3000</th>\n",
       "      <th>ponds_nearest</th>\n",
       "      <th>days_exposition</th>\n",
       "      <th>price_sq_meter</th>\n",
       "    </tr>\n",
       "  </thead>\n",
       "  <tbody>\n",
       "    <tr>\n",
       "      <th>0</th>\n",
       "      <td>20</td>\n",
       "      <td>13000000.0</td>\n",
       "      <td>108.0</td>\n",
       "      <td>2019-03-07</td>\n",
       "      <td>3</td>\n",
       "      <td>2.7000</td>\n",
       "      <td>16</td>\n",
       "      <td>51.00000</td>\n",
       "      <td>8</td>\n",
       "      <td>False</td>\n",
       "      <td>...</td>\n",
       "      <td>0</td>\n",
       "      <td>Санкт-Петербург</td>\n",
       "      <td>18863.0</td>\n",
       "      <td>16028.0</td>\n",
       "      <td>1.0</td>\n",
       "      <td>482.0</td>\n",
       "      <td>2.0</td>\n",
       "      <td>755.0</td>\n",
       "      <td>NaN</td>\n",
       "      <td>120370.370370</td>\n",
       "    </tr>\n",
       "    <tr>\n",
       "      <th>1</th>\n",
       "      <td>7</td>\n",
       "      <td>3350000.0</td>\n",
       "      <td>40.4</td>\n",
       "      <td>2018-12-04</td>\n",
       "      <td>1</td>\n",
       "      <td>2.6075</td>\n",
       "      <td>11</td>\n",
       "      <td>18.60000</td>\n",
       "      <td>1</td>\n",
       "      <td>False</td>\n",
       "      <td>...</td>\n",
       "      <td>2</td>\n",
       "      <td>поселок Шушары</td>\n",
       "      <td>12817.0</td>\n",
       "      <td>18603.0</td>\n",
       "      <td>0.0</td>\n",
       "      <td>NaN</td>\n",
       "      <td>0.0</td>\n",
       "      <td>NaN</td>\n",
       "      <td>81.0</td>\n",
       "      <td>82920.792079</td>\n",
       "    </tr>\n",
       "    <tr>\n",
       "      <th>2</th>\n",
       "      <td>10</td>\n",
       "      <td>5196000.0</td>\n",
       "      <td>56.0</td>\n",
       "      <td>2015-08-20</td>\n",
       "      <td>2</td>\n",
       "      <td>2.7000</td>\n",
       "      <td>5</td>\n",
       "      <td>34.30000</td>\n",
       "      <td>4</td>\n",
       "      <td>False</td>\n",
       "      <td>...</td>\n",
       "      <td>0</td>\n",
       "      <td>Санкт-Петербург</td>\n",
       "      <td>21741.0</td>\n",
       "      <td>13933.0</td>\n",
       "      <td>1.0</td>\n",
       "      <td>90.0</td>\n",
       "      <td>2.0</td>\n",
       "      <td>574.0</td>\n",
       "      <td>558.0</td>\n",
       "      <td>92785.714286</td>\n",
       "    </tr>\n",
       "    <tr>\n",
       "      <th>3</th>\n",
       "      <td>0</td>\n",
       "      <td>64900000.0</td>\n",
       "      <td>159.0</td>\n",
       "      <td>2015-07-24</td>\n",
       "      <td>3</td>\n",
       "      <td>2.7000</td>\n",
       "      <td>14</td>\n",
       "      <td>90.76898</td>\n",
       "      <td>9</td>\n",
       "      <td>False</td>\n",
       "      <td>...</td>\n",
       "      <td>0</td>\n",
       "      <td>Санкт-Петербург</td>\n",
       "      <td>28098.0</td>\n",
       "      <td>6800.0</td>\n",
       "      <td>2.0</td>\n",
       "      <td>84.0</td>\n",
       "      <td>3.0</td>\n",
       "      <td>234.0</td>\n",
       "      <td>424.0</td>\n",
       "      <td>408176.100629</td>\n",
       "    </tr>\n",
       "    <tr>\n",
       "      <th>5</th>\n",
       "      <td>10</td>\n",
       "      <td>2890000.0</td>\n",
       "      <td>30.4</td>\n",
       "      <td>2018-09-10</td>\n",
       "      <td>1</td>\n",
       "      <td>2.6000</td>\n",
       "      <td>12</td>\n",
       "      <td>14.40000</td>\n",
       "      <td>5</td>\n",
       "      <td>False</td>\n",
       "      <td>...</td>\n",
       "      <td>0</td>\n",
       "      <td>поселок городского типа Янино-1</td>\n",
       "      <td>NaN</td>\n",
       "      <td>NaN</td>\n",
       "      <td>NaN</td>\n",
       "      <td>NaN</td>\n",
       "      <td>NaN</td>\n",
       "      <td>NaN</td>\n",
       "      <td>55.0</td>\n",
       "      <td>95065.789474</td>\n",
       "    </tr>\n",
       "  </tbody>\n",
       "</table>\n",
       "<p>5 rows × 23 columns</p>\n",
       "</div>"
      ],
      "text/plain": [
       "   total_images  last_price  total_area first_day_exposition  rooms  \\\n",
       "0            20  13000000.0       108.0           2019-03-07      3   \n",
       "1             7   3350000.0        40.4           2018-12-04      1   \n",
       "2            10   5196000.0        56.0           2015-08-20      2   \n",
       "3             0  64900000.0       159.0           2015-07-24      3   \n",
       "5            10   2890000.0        30.4           2018-09-10      1   \n",
       "\n",
       "   ceiling_height  floors_total  living_area  floor  is_apartment  ...  \\\n",
       "0          2.7000            16     51.00000      8         False  ...   \n",
       "1          2.6075            11     18.60000      1         False  ...   \n",
       "2          2.7000             5     34.30000      4         False  ...   \n",
       "3          2.7000            14     90.76898      9         False  ...   \n",
       "5          2.6000            12     14.40000      5         False  ...   \n",
       "\n",
       "   balcony                    locality_name  airports_nearest  \\\n",
       "0        0                  Санкт-Петербург           18863.0   \n",
       "1        2                   поселок Шушары           12817.0   \n",
       "2        0                  Санкт-Петербург           21741.0   \n",
       "3        0                  Санкт-Петербург           28098.0   \n",
       "5        0  поселок городского типа Янино-1               NaN   \n",
       "\n",
       "   cityCenters_nearest parks_around3000  parks_nearest  ponds_around3000  \\\n",
       "0              16028.0              1.0          482.0               2.0   \n",
       "1              18603.0              0.0            NaN               0.0   \n",
       "2              13933.0              1.0           90.0               2.0   \n",
       "3               6800.0              2.0           84.0               3.0   \n",
       "5                  NaN              NaN            NaN               NaN   \n",
       "\n",
       "   ponds_nearest  days_exposition  price_sq_meter  \n",
       "0          755.0              NaN   120370.370370  \n",
       "1            NaN             81.0    82920.792079  \n",
       "2          574.0            558.0    92785.714286  \n",
       "3          234.0            424.0   408176.100629  \n",
       "5            NaN             55.0    95065.789474  \n",
       "\n",
       "[5 rows x 23 columns]"
      ]
     },
     "execution_count": 94,
     "metadata": {},
     "output_type": "execute_result"
    }
   ],
   "source": [
    "# добавим в датафрейм цену за 1 кв.м\n",
    "data['price_sq_meter'] = data['last_price']/data['total_area']\n",
    "data.head()"
   ]
  },
  {
   "cell_type": "code",
   "execution_count": 95,
   "id": "ffa1fa2b",
   "metadata": {},
   "outputs": [
    {
     "data": {
      "text/plain": [
       "count     22862.000000\n",
       "mean      97461.373374\n",
       "std       41203.192934\n",
       "min        7962.962963\n",
       "25%       76136.363636\n",
       "50%       94540.084609\n",
       "75%      113333.333333\n",
       "max      848484.848485\n",
       "Name: price_sq_meter, dtype: float64"
      ]
     },
     "execution_count": 95,
     "metadata": {},
     "output_type": "execute_result"
    }
   ],
   "source": [
    "data['price_sq_meter'].describe()"
   ]
  },
  {
   "cell_type": "code",
   "execution_count": 96,
   "id": "15025d67",
   "metadata": {
    "scrolled": true
   },
   "outputs": [
    {
     "data": {
      "text/plain": [
       "<AxesSubplot:>"
      ]
     },
     "execution_count": 96,
     "metadata": {},
     "output_type": "execute_result"
    },
    {
     "data": {
      "image/png": "[encoded data removed]",
      "text/plain": [
       "<Figure size 432x288 with 1 Axes>"
      ]
     },
     "metadata": {
      "needs_background": "light"
     },
     "output_type": "display_data"
    }
   ],
   "source": [
    "data['price_sq_meter'].hist(bins=50, range=(50000, 400000))"
   ]
  },
  {
   "cell_type": "markdown",
   "id": "98155fda",
   "metadata": {},
   "source": [
    "Гистограмма напоминает нормальное распределение, среднее и медиана достаточно близки (благодаря скорректированным ранее выбросам). Самый частотный интервал значений от 76 тр до 113 тр за кв.м. Далее нужно понять с данными за какой период мы имеем дело. На сегоднящний день цена кажется низкой для Питера и ЛО.  "
   ]
  },
  {
   "cell_type": "markdown",
   "id": "674ccb54",
   "metadata": {},
   "source": [
    "### Добавим дополнительные столбцы с параметрами даты публикации и расстояния до центра"
   ]
  },
  {
   "cell_type": "code",
   "execution_count": 97,
   "id": "376d2724",
   "metadata": {},
   "outputs": [],
   "source": [
    "# Добавим столбцы с днями недели, месяц, год\n",
    "data['weekday'] = data['first_day_exposition'].dt.weekday\n",
    "data['month'] = data['first_day_exposition'].dt.month\n",
    "data['year'] = data['first_day_exposition'].dt.year\n"
   ]
  },
  {
   "cell_type": "markdown",
   "id": "034b1a3e",
   "metadata": {},
   "source": [
    "Добавили столбцы: день недели, месяц и год, когда было размещено объявление.\n",
    "Теперь напишем функцию, которая переведет растояние от центра в километры."
   ]
  },
  {
   "cell_type": "code",
   "execution_count": 98,
   "id": "9c38884c",
   "metadata": {},
   "outputs": [
    {
     "data": {
      "text/html": [
       "<div>\n",
       "<style scoped>\n",
       "    .dataframe tbody tr th:only-of-type {\n",
       "        vertical-align: middle;\n",
       "    }\n",
       "\n",
       "    .dataframe tbody tr th {\n",
       "        vertical-align: top;\n",
       "    }\n",
       "\n",
       "    .dataframe thead th {\n",
       "        text-align: right;\n",
       "    }\n",
       "</style>\n",
       "<table border=\"1\" class=\"dataframe\">\n",
       "  <thead>\n",
       "    <tr style=\"text-align: right;\">\n",
       "      <th></th>\n",
       "      <th>total_images</th>\n",
       "      <th>last_price</th>\n",
       "      <th>total_area</th>\n",
       "      <th>first_day_exposition</th>\n",
       "      <th>rooms</th>\n",
       "      <th>ceiling_height</th>\n",
       "      <th>floors_total</th>\n",
       "      <th>living_area</th>\n",
       "      <th>floor</th>\n",
       "      <th>is_apartment</th>\n",
       "      <th>...</th>\n",
       "      <th>parks_around3000</th>\n",
       "      <th>parks_nearest</th>\n",
       "      <th>ponds_around3000</th>\n",
       "      <th>ponds_nearest</th>\n",
       "      <th>days_exposition</th>\n",
       "      <th>price_sq_meter</th>\n",
       "      <th>weekday</th>\n",
       "      <th>month</th>\n",
       "      <th>year</th>\n",
       "      <th>cityCenters_nearest_km</th>\n",
       "    </tr>\n",
       "  </thead>\n",
       "  <tbody>\n",
       "    <tr>\n",
       "      <th>0</th>\n",
       "      <td>20</td>\n",
       "      <td>13000000.0</td>\n",
       "      <td>108.0</td>\n",
       "      <td>2019-03-07</td>\n",
       "      <td>3</td>\n",
       "      <td>2.7000</td>\n",
       "      <td>16</td>\n",
       "      <td>51.00000</td>\n",
       "      <td>8</td>\n",
       "      <td>False</td>\n",
       "      <td>...</td>\n",
       "      <td>1.0</td>\n",
       "      <td>482.0</td>\n",
       "      <td>2.0</td>\n",
       "      <td>755.0</td>\n",
       "      <td>NaN</td>\n",
       "      <td>120370.370370</td>\n",
       "      <td>3</td>\n",
       "      <td>3</td>\n",
       "      <td>2019</td>\n",
       "      <td>16.0</td>\n",
       "    </tr>\n",
       "    <tr>\n",
       "      <th>1</th>\n",
       "      <td>7</td>\n",
       "      <td>3350000.0</td>\n",
       "      <td>40.4</td>\n",
       "      <td>2018-12-04</td>\n",
       "      <td>1</td>\n",
       "      <td>2.6075</td>\n",
       "      <td>11</td>\n",
       "      <td>18.60000</td>\n",
       "      <td>1</td>\n",
       "      <td>False</td>\n",
       "      <td>...</td>\n",
       "      <td>0.0</td>\n",
       "      <td>NaN</td>\n",
       "      <td>0.0</td>\n",
       "      <td>NaN</td>\n",
       "      <td>81.0</td>\n",
       "      <td>82920.792079</td>\n",
       "      <td>1</td>\n",
       "      <td>12</td>\n",
       "      <td>2018</td>\n",
       "      <td>19.0</td>\n",
       "    </tr>\n",
       "    <tr>\n",
       "      <th>2</th>\n",
       "      <td>10</td>\n",
       "      <td>5196000.0</td>\n",
       "      <td>56.0</td>\n",
       "      <td>2015-08-20</td>\n",
       "      <td>2</td>\n",
       "      <td>2.7000</td>\n",
       "      <td>5</td>\n",
       "      <td>34.30000</td>\n",
       "      <td>4</td>\n",
       "      <td>False</td>\n",
       "      <td>...</td>\n",
       "      <td>1.0</td>\n",
       "      <td>90.0</td>\n",
       "      <td>2.0</td>\n",
       "      <td>574.0</td>\n",
       "      <td>558.0</td>\n",
       "      <td>92785.714286</td>\n",
       "      <td>3</td>\n",
       "      <td>8</td>\n",
       "      <td>2015</td>\n",
       "      <td>14.0</td>\n",
       "    </tr>\n",
       "    <tr>\n",
       "      <th>3</th>\n",
       "      <td>0</td>\n",
       "      <td>64900000.0</td>\n",
       "      <td>159.0</td>\n",
       "      <td>2015-07-24</td>\n",
       "      <td>3</td>\n",
       "      <td>2.7000</td>\n",
       "      <td>14</td>\n",
       "      <td>90.76898</td>\n",
       "      <td>9</td>\n",
       "      <td>False</td>\n",
       "      <td>...</td>\n",
       "      <td>2.0</td>\n",
       "      <td>84.0</td>\n",
       "      <td>3.0</td>\n",
       "      <td>234.0</td>\n",
       "      <td>424.0</td>\n",
       "      <td>408176.100629</td>\n",
       "      <td>4</td>\n",
       "      <td>7</td>\n",
       "      <td>2015</td>\n",
       "      <td>7.0</td>\n",
       "    </tr>\n",
       "    <tr>\n",
       "      <th>5</th>\n",
       "      <td>10</td>\n",
       "      <td>2890000.0</td>\n",
       "      <td>30.4</td>\n",
       "      <td>2018-09-10</td>\n",
       "      <td>1</td>\n",
       "      <td>2.6000</td>\n",
       "      <td>12</td>\n",
       "      <td>14.40000</td>\n",
       "      <td>5</td>\n",
       "      <td>False</td>\n",
       "      <td>...</td>\n",
       "      <td>NaN</td>\n",
       "      <td>NaN</td>\n",
       "      <td>NaN</td>\n",
       "      <td>NaN</td>\n",
       "      <td>55.0</td>\n",
       "      <td>95065.789474</td>\n",
       "      <td>0</td>\n",
       "      <td>9</td>\n",
       "      <td>2018</td>\n",
       "      <td>NaN</td>\n",
       "    </tr>\n",
       "  </tbody>\n",
       "</table>\n",
       "<p>5 rows × 27 columns</p>\n",
       "</div>"
      ],
      "text/plain": [
       "   total_images  last_price  total_area first_day_exposition  rooms  \\\n",
       "0            20  13000000.0       108.0           2019-03-07      3   \n",
       "1             7   3350000.0        40.4           2018-12-04      1   \n",
       "2            10   5196000.0        56.0           2015-08-20      2   \n",
       "3             0  64900000.0       159.0           2015-07-24      3   \n",
       "5            10   2890000.0        30.4           2018-09-10      1   \n",
       "\n",
       "   ceiling_height  floors_total  living_area  floor  is_apartment  ...  \\\n",
       "0          2.7000            16     51.00000      8         False  ...   \n",
       "1          2.6075            11     18.60000      1         False  ...   \n",
       "2          2.7000             5     34.30000      4         False  ...   \n",
       "3          2.7000            14     90.76898      9         False  ...   \n",
       "5          2.6000            12     14.40000      5         False  ...   \n",
       "\n",
       "   parks_around3000  parks_nearest  ponds_around3000  ponds_nearest  \\\n",
       "0               1.0          482.0               2.0          755.0   \n",
       "1               0.0            NaN               0.0            NaN   \n",
       "2               1.0           90.0               2.0          574.0   \n",
       "3               2.0           84.0               3.0          234.0   \n",
       "5               NaN            NaN               NaN            NaN   \n",
       "\n",
       "  days_exposition  price_sq_meter  weekday  month  year  \\\n",
       "0             NaN   120370.370370        3      3  2019   \n",
       "1            81.0    82920.792079        1     12  2018   \n",
       "2           558.0    92785.714286        3      8  2015   \n",
       "3           424.0   408176.100629        4      7  2015   \n",
       "5            55.0    95065.789474        0      9  2018   \n",
       "\n",
       "   cityCenters_nearest_km  \n",
       "0                    16.0  \n",
       "1                    19.0  \n",
       "2                    14.0  \n",
       "3                     7.0  \n",
       "5                     NaN  \n",
       "\n",
       "[5 rows x 27 columns]"
      ]
     },
     "execution_count": 98,
     "metadata": {},
     "output_type": "execute_result"
    }
   ],
   "source": [
    "# функция возвращает расстояние в км\n",
    "def get_km(value):\n",
    "    try:\n",
    "        return round(value/1000)\n",
    "    except:\n",
    "        pass\n",
    "# заносим значения в новый столбец    \n",
    "data['cityCenters_nearest_km'] = data['cityCenters_nearest'].apply(get_km)\n",
    "\n",
    "data.head()"
   ]
  },
  {
   "cell_type": "code",
   "execution_count": 99,
   "id": "d587c7cb",
   "metadata": {},
   "outputs": [
    {
     "data": {
      "text/html": [
       "<div>\n",
       "<style scoped>\n",
       "    .dataframe tbody tr th:only-of-type {\n",
       "        vertical-align: middle;\n",
       "    }\n",
       "\n",
       "    .dataframe tbody tr th {\n",
       "        vertical-align: top;\n",
       "    }\n",
       "\n",
       "    .dataframe thead th {\n",
       "        text-align: right;\n",
       "    }\n",
       "</style>\n",
       "<table border=\"1\" class=\"dataframe\">\n",
       "  <thead>\n",
       "    <tr style=\"text-align: right;\">\n",
       "      <th></th>\n",
       "      <th>total_images</th>\n",
       "      <th>last_price</th>\n",
       "      <th>total_area</th>\n",
       "      <th>first_day_exposition</th>\n",
       "      <th>rooms</th>\n",
       "      <th>ceiling_height</th>\n",
       "      <th>floors_total</th>\n",
       "      <th>living_area</th>\n",
       "      <th>floor</th>\n",
       "      <th>is_apartment</th>\n",
       "      <th>...</th>\n",
       "      <th>parks_nearest</th>\n",
       "      <th>ponds_around3000</th>\n",
       "      <th>ponds_nearest</th>\n",
       "      <th>days_exposition</th>\n",
       "      <th>price_sq_meter</th>\n",
       "      <th>weekday</th>\n",
       "      <th>month</th>\n",
       "      <th>year</th>\n",
       "      <th>cityCenters_nearest_km</th>\n",
       "      <th>kind_floor</th>\n",
       "    </tr>\n",
       "  </thead>\n",
       "  <tbody>\n",
       "    <tr>\n",
       "      <th>0</th>\n",
       "      <td>20</td>\n",
       "      <td>13000000.0</td>\n",
       "      <td>108.00</td>\n",
       "      <td>2019-03-07</td>\n",
       "      <td>3</td>\n",
       "      <td>2.7000</td>\n",
       "      <td>16</td>\n",
       "      <td>51.000000</td>\n",
       "      <td>8</td>\n",
       "      <td>False</td>\n",
       "      <td>...</td>\n",
       "      <td>482.0</td>\n",
       "      <td>2.0</td>\n",
       "      <td>755.0</td>\n",
       "      <td>NaN</td>\n",
       "      <td>120370.370370</td>\n",
       "      <td>3</td>\n",
       "      <td>3</td>\n",
       "      <td>2019</td>\n",
       "      <td>16.0</td>\n",
       "      <td>Другой</td>\n",
       "    </tr>\n",
       "    <tr>\n",
       "      <th>1</th>\n",
       "      <td>7</td>\n",
       "      <td>3350000.0</td>\n",
       "      <td>40.40</td>\n",
       "      <td>2018-12-04</td>\n",
       "      <td>1</td>\n",
       "      <td>2.6075</td>\n",
       "      <td>11</td>\n",
       "      <td>18.600000</td>\n",
       "      <td>1</td>\n",
       "      <td>False</td>\n",
       "      <td>...</td>\n",
       "      <td>NaN</td>\n",
       "      <td>0.0</td>\n",
       "      <td>NaN</td>\n",
       "      <td>81.0</td>\n",
       "      <td>82920.792079</td>\n",
       "      <td>1</td>\n",
       "      <td>12</td>\n",
       "      <td>2018</td>\n",
       "      <td>19.0</td>\n",
       "      <td>Первый</td>\n",
       "    </tr>\n",
       "    <tr>\n",
       "      <th>2</th>\n",
       "      <td>10</td>\n",
       "      <td>5196000.0</td>\n",
       "      <td>56.00</td>\n",
       "      <td>2015-08-20</td>\n",
       "      <td>2</td>\n",
       "      <td>2.7000</td>\n",
       "      <td>5</td>\n",
       "      <td>34.300000</td>\n",
       "      <td>4</td>\n",
       "      <td>False</td>\n",
       "      <td>...</td>\n",
       "      <td>90.0</td>\n",
       "      <td>2.0</td>\n",
       "      <td>574.0</td>\n",
       "      <td>558.0</td>\n",
       "      <td>92785.714286</td>\n",
       "      <td>3</td>\n",
       "      <td>8</td>\n",
       "      <td>2015</td>\n",
       "      <td>14.0</td>\n",
       "      <td>Другой</td>\n",
       "    </tr>\n",
       "    <tr>\n",
       "      <th>3</th>\n",
       "      <td>0</td>\n",
       "      <td>64900000.0</td>\n",
       "      <td>159.00</td>\n",
       "      <td>2015-07-24</td>\n",
       "      <td>3</td>\n",
       "      <td>2.7000</td>\n",
       "      <td>14</td>\n",
       "      <td>90.768980</td>\n",
       "      <td>9</td>\n",
       "      <td>False</td>\n",
       "      <td>...</td>\n",
       "      <td>84.0</td>\n",
       "      <td>3.0</td>\n",
       "      <td>234.0</td>\n",
       "      <td>424.0</td>\n",
       "      <td>408176.100629</td>\n",
       "      <td>4</td>\n",
       "      <td>7</td>\n",
       "      <td>2015</td>\n",
       "      <td>7.0</td>\n",
       "      <td>Другой</td>\n",
       "    </tr>\n",
       "    <tr>\n",
       "      <th>5</th>\n",
       "      <td>10</td>\n",
       "      <td>2890000.0</td>\n",
       "      <td>30.40</td>\n",
       "      <td>2018-09-10</td>\n",
       "      <td>1</td>\n",
       "      <td>2.6000</td>\n",
       "      <td>12</td>\n",
       "      <td>14.400000</td>\n",
       "      <td>5</td>\n",
       "      <td>False</td>\n",
       "      <td>...</td>\n",
       "      <td>NaN</td>\n",
       "      <td>NaN</td>\n",
       "      <td>NaN</td>\n",
       "      <td>55.0</td>\n",
       "      <td>95065.789474</td>\n",
       "      <td>0</td>\n",
       "      <td>9</td>\n",
       "      <td>2018</td>\n",
       "      <td>NaN</td>\n",
       "      <td>Другой</td>\n",
       "    </tr>\n",
       "    <tr>\n",
       "      <th>6</th>\n",
       "      <td>6</td>\n",
       "      <td>3700000.0</td>\n",
       "      <td>37.30</td>\n",
       "      <td>2017-11-02</td>\n",
       "      <td>1</td>\n",
       "      <td>2.6400</td>\n",
       "      <td>26</td>\n",
       "      <td>10.600000</td>\n",
       "      <td>6</td>\n",
       "      <td>False</td>\n",
       "      <td>...</td>\n",
       "      <td>NaN</td>\n",
       "      <td>0.0</td>\n",
       "      <td>NaN</td>\n",
       "      <td>155.0</td>\n",
       "      <td>99195.710456</td>\n",
       "      <td>3</td>\n",
       "      <td>11</td>\n",
       "      <td>2017</td>\n",
       "      <td>19.0</td>\n",
       "      <td>Другой</td>\n",
       "    </tr>\n",
       "    <tr>\n",
       "      <th>7</th>\n",
       "      <td>5</td>\n",
       "      <td>7915000.0</td>\n",
       "      <td>71.60</td>\n",
       "      <td>2019-04-18</td>\n",
       "      <td>2</td>\n",
       "      <td>2.7000</td>\n",
       "      <td>24</td>\n",
       "      <td>40.874585</td>\n",
       "      <td>22</td>\n",
       "      <td>False</td>\n",
       "      <td>...</td>\n",
       "      <td>NaN</td>\n",
       "      <td>0.0</td>\n",
       "      <td>NaN</td>\n",
       "      <td>NaN</td>\n",
       "      <td>110544.692737</td>\n",
       "      <td>3</td>\n",
       "      <td>4</td>\n",
       "      <td>2019</td>\n",
       "      <td>12.0</td>\n",
       "      <td>Другой</td>\n",
       "    </tr>\n",
       "    <tr>\n",
       "      <th>8</th>\n",
       "      <td>20</td>\n",
       "      <td>2900000.0</td>\n",
       "      <td>33.16</td>\n",
       "      <td>2018-05-23</td>\n",
       "      <td>1</td>\n",
       "      <td>2.7000</td>\n",
       "      <td>27</td>\n",
       "      <td>15.430000</td>\n",
       "      <td>26</td>\n",
       "      <td>False</td>\n",
       "      <td>...</td>\n",
       "      <td>NaN</td>\n",
       "      <td>NaN</td>\n",
       "      <td>NaN</td>\n",
       "      <td>189.0</td>\n",
       "      <td>87454.764777</td>\n",
       "      <td>2</td>\n",
       "      <td>5</td>\n",
       "      <td>2018</td>\n",
       "      <td>NaN</td>\n",
       "      <td>Другой</td>\n",
       "    </tr>\n",
       "    <tr>\n",
       "      <th>9</th>\n",
       "      <td>18</td>\n",
       "      <td>5400000.0</td>\n",
       "      <td>61.00</td>\n",
       "      <td>2017-02-26</td>\n",
       "      <td>3</td>\n",
       "      <td>2.5000</td>\n",
       "      <td>9</td>\n",
       "      <td>43.600000</td>\n",
       "      <td>7</td>\n",
       "      <td>False</td>\n",
       "      <td>...</td>\n",
       "      <td>NaN</td>\n",
       "      <td>0.0</td>\n",
       "      <td>NaN</td>\n",
       "      <td>289.0</td>\n",
       "      <td>88524.590164</td>\n",
       "      <td>6</td>\n",
       "      <td>2</td>\n",
       "      <td>2017</td>\n",
       "      <td>15.0</td>\n",
       "      <td>Другой</td>\n",
       "    </tr>\n",
       "    <tr>\n",
       "      <th>10</th>\n",
       "      <td>5</td>\n",
       "      <td>5050000.0</td>\n",
       "      <td>39.60</td>\n",
       "      <td>2017-11-16</td>\n",
       "      <td>1</td>\n",
       "      <td>2.6700</td>\n",
       "      <td>12</td>\n",
       "      <td>20.300000</td>\n",
       "      <td>3</td>\n",
       "      <td>False</td>\n",
       "      <td>...</td>\n",
       "      <td>310.0</td>\n",
       "      <td>2.0</td>\n",
       "      <td>553.0</td>\n",
       "      <td>137.0</td>\n",
       "      <td>127525.252525</td>\n",
       "      <td>3</td>\n",
       "      <td>11</td>\n",
       "      <td>2017</td>\n",
       "      <td>14.0</td>\n",
       "      <td>Другой</td>\n",
       "    </tr>\n",
       "  </tbody>\n",
       "</table>\n",
       "<p>10 rows × 28 columns</p>\n",
       "</div>"
      ],
      "text/plain": [
       "    total_images  last_price  total_area first_day_exposition  rooms  \\\n",
       "0             20  13000000.0      108.00           2019-03-07      3   \n",
       "1              7   3350000.0       40.40           2018-12-04      1   \n",
       "2             10   5196000.0       56.00           2015-08-20      2   \n",
       "3              0  64900000.0      159.00           2015-07-24      3   \n",
       "5             10   2890000.0       30.40           2018-09-10      1   \n",
       "6              6   3700000.0       37.30           2017-11-02      1   \n",
       "7              5   7915000.0       71.60           2019-04-18      2   \n",
       "8             20   2900000.0       33.16           2018-05-23      1   \n",
       "9             18   5400000.0       61.00           2017-02-26      3   \n",
       "10             5   5050000.0       39.60           2017-11-16      1   \n",
       "\n",
       "    ceiling_height  floors_total  living_area  floor  is_apartment  ...  \\\n",
       "0           2.7000            16    51.000000      8         False  ...   \n",
       "1           2.6075            11    18.600000      1         False  ...   \n",
       "2           2.7000             5    34.300000      4         False  ...   \n",
       "3           2.7000            14    90.768980      9         False  ...   \n",
       "5           2.6000            12    14.400000      5         False  ...   \n",
       "6           2.6400            26    10.600000      6         False  ...   \n",
       "7           2.7000            24    40.874585     22         False  ...   \n",
       "8           2.7000            27    15.430000     26         False  ...   \n",
       "9           2.5000             9    43.600000      7         False  ...   \n",
       "10          2.6700            12    20.300000      3         False  ...   \n",
       "\n",
       "    parks_nearest  ponds_around3000  ponds_nearest  days_exposition  \\\n",
       "0           482.0               2.0          755.0              NaN   \n",
       "1             NaN               0.0            NaN             81.0   \n",
       "2            90.0               2.0          574.0            558.0   \n",
       "3            84.0               3.0          234.0            424.0   \n",
       "5             NaN               NaN            NaN             55.0   \n",
       "6             NaN               0.0            NaN            155.0   \n",
       "7             NaN               0.0            NaN              NaN   \n",
       "8             NaN               NaN            NaN            189.0   \n",
       "9             NaN               0.0            NaN            289.0   \n",
       "10          310.0               2.0          553.0            137.0   \n",
       "\n",
       "   price_sq_meter  weekday  month  year  cityCenters_nearest_km  kind_floor  \n",
       "0   120370.370370        3      3  2019                    16.0      Другой  \n",
       "1    82920.792079        1     12  2018                    19.0      Первый  \n",
       "2    92785.714286        3      8  2015                    14.0      Другой  \n",
       "3   408176.100629        4      7  2015                     7.0      Другой  \n",
       "5    95065.789474        0      9  2018                     NaN      Другой  \n",
       "6    99195.710456        3     11  2017                    19.0      Другой  \n",
       "7   110544.692737        3      4  2019                    12.0      Другой  \n",
       "8    87454.764777        2      5  2018                     NaN      Другой  \n",
       "9    88524.590164        6      2  2017                    15.0      Другой  \n",
       "10  127525.252525        3     11  2017                    14.0      Другой  \n",
       "\n",
       "[10 rows x 28 columns]"
      ]
     },
     "execution_count": 99,
     "metadata": {},
     "output_type": "execute_result"
    }
   ],
   "source": [
    "# добавляем в датафрейм категории этажей\n",
    "data.loc[data['floor']==1,'kind_floor'] = 'Первый'\n",
    "data.loc[data['floor']==data['floors_total'],'kind_floor'] = 'Последний'\n",
    "data['kind_floor'] = data['kind_floor'].fillna('Другой')\n",
    "data.head(10)"
   ]
  },
  {
   "cell_type": "markdown",
   "id": "872c5adf",
   "metadata": {},
   "source": [
    "Посмотрим, как различаются цены всей квартиры и одного квадратного метра в зависимости от категории этажа."
   ]
  },
  {
   "cell_type": "code",
   "execution_count": 100,
   "id": "2869eb73",
   "metadata": {
    "scrolled": false
   },
   "outputs": [
    {
     "data": {
      "text/html": [
       "<div>\n",
       "<style scoped>\n",
       "    .dataframe tbody tr th:only-of-type {\n",
       "        vertical-align: middle;\n",
       "    }\n",
       "\n",
       "    .dataframe tbody tr th {\n",
       "        vertical-align: top;\n",
       "    }\n",
       "\n",
       "    .dataframe thead th {\n",
       "        text-align: right;\n",
       "    }\n",
       "</style>\n",
       "<table border=\"1\" class=\"dataframe\">\n",
       "  <thead>\n",
       "    <tr style=\"text-align: right;\">\n",
       "      <th></th>\n",
       "      <th>min</th>\n",
       "      <th>max</th>\n",
       "      <th>mean</th>\n",
       "    </tr>\n",
       "    <tr>\n",
       "      <th>kind_floor</th>\n",
       "      <th></th>\n",
       "      <th></th>\n",
       "      <th></th>\n",
       "    </tr>\n",
       "  </thead>\n",
       "  <tbody>\n",
       "    <tr>\n",
       "      <th>Другой</th>\n",
       "      <td>450000.0</td>\n",
       "      <td>98000000.0</td>\n",
       "      <td>6.108461e+06</td>\n",
       "    </tr>\n",
       "    <tr>\n",
       "      <th>Первый</th>\n",
       "      <td>430000.0</td>\n",
       "      <td>51000000.0</td>\n",
       "      <td>4.531348e+06</td>\n",
       "    </tr>\n",
       "    <tr>\n",
       "      <th>Последний</th>\n",
       "      <td>430000.0</td>\n",
       "      <td>85000000.0</td>\n",
       "      <td>5.459853e+06</td>\n",
       "    </tr>\n",
       "  </tbody>\n",
       "</table>\n",
       "</div>"
      ],
      "text/plain": [
       "                 min         max          mean\n",
       "kind_floor                                    \n",
       "Другой      450000.0  98000000.0  6.108461e+06\n",
       "Первый      430000.0  51000000.0  4.531348e+06\n",
       "Последний   430000.0  85000000.0  5.459853e+06"
      ]
     },
     "execution_count": 100,
     "metadata": {},
     "output_type": "execute_result"
    }
   ],
   "source": [
    "# группируем цену квартиры по категориям этажа и выводим MIN, MAX, MEAN\n",
    "data.groupby('kind_floor')['last_price'].agg([\"min\", \"max\", \"mean\"])"
   ]
  },
  {
   "cell_type": "code",
   "execution_count": 101,
   "id": "4b0e75bd",
   "metadata": {},
   "outputs": [
    {
     "data": {
      "text/html": [
       "<div>\n",
       "<style scoped>\n",
       "    .dataframe tbody tr th:only-of-type {\n",
       "        vertical-align: middle;\n",
       "    }\n",
       "\n",
       "    .dataframe tbody tr th {\n",
       "        vertical-align: top;\n",
       "    }\n",
       "\n",
       "    .dataframe thead th {\n",
       "        text-align: right;\n",
       "    }\n",
       "</style>\n",
       "<table border=\"1\" class=\"dataframe\">\n",
       "  <thead>\n",
       "    <tr style=\"text-align: right;\">\n",
       "      <th></th>\n",
       "      <th>min</th>\n",
       "      <th>max</th>\n",
       "      <th>mean</th>\n",
       "    </tr>\n",
       "    <tr>\n",
       "      <th>kind_floor</th>\n",
       "      <th></th>\n",
       "      <th></th>\n",
       "      <th></th>\n",
       "    </tr>\n",
       "  </thead>\n",
       "  <tbody>\n",
       "    <tr>\n",
       "      <th>Другой</th>\n",
       "      <td>10368.663594</td>\n",
       "      <td>848484.848485</td>\n",
       "      <td>101836.488961</td>\n",
       "    </tr>\n",
       "    <tr>\n",
       "      <th>Первый</th>\n",
       "      <td>9615.384615</td>\n",
       "      <td>440000.000000</td>\n",
       "      <td>81225.319746</td>\n",
       "    </tr>\n",
       "    <tr>\n",
       "      <th>Последний</th>\n",
       "      <td>7962.962963</td>\n",
       "      <td>600000.000000</td>\n",
       "      <td>88798.995116</td>\n",
       "    </tr>\n",
       "  </tbody>\n",
       "</table>\n",
       "</div>"
      ],
      "text/plain": [
       "                     min            max           mean\n",
       "kind_floor                                            \n",
       "Другой      10368.663594  848484.848485  101836.488961\n",
       "Первый       9615.384615  440000.000000   81225.319746\n",
       "Последний    7962.962963  600000.000000   88798.995116"
      ]
     },
     "execution_count": 101,
     "metadata": {},
     "output_type": "execute_result"
    }
   ],
   "source": [
    "# группируем цену кв. метра по категориям этажа и выводим MIN, MAX, MEAN\n",
    "data.groupby('kind_floor')['price_sq_meter'].agg([\"min\", \"max\", \"mean\"])"
   ]
  },
  {
   "cell_type": "markdown",
   "id": "f55a2b58",
   "metadata": {},
   "source": [
    "У дешовой недвижимости цена не так зависит от этажности, но с ростом конечной стоимости объекта (и квадратного метра) разница становится более существенной. У элитной (дорогой) недвижимости цена за \"Первый\" и \"Другой\" этажи может отличаться в два раза. \n",
    "\n",
    "Сымае предпочтительные этажи для покупателя относятся к категории \"Другой\" - цена на них выше, на втором месте \"Последние этажи\" - они в среднем дешевле на 10%."
   ]
  },
  {
   "cell_type": "markdown",
   "id": "e0f6bff2",
   "metadata": {},
   "source": [
    "### Анали даты размещения объявления"
   ]
  },
  {
   "cell_type": "code",
   "execution_count": 102,
   "id": "cbc0d1a8",
   "metadata": {
    "scrolled": true
   },
   "outputs": [
    {
     "data": {
      "text/plain": [
       "<AxesSubplot:>"
      ]
     },
     "execution_count": 102,
     "metadata": {},
     "output_type": "execute_result"
    },
    {
     "data": {
      "image/png": "[encoded data removed]",
      "text/plain": [
       "<Figure size 432x288 with 1 Axes>"
      ]
     },
     "metadata": {
      "needs_background": "light"
     },
     "output_type": "display_data"
    }
   ],
   "source": [
    "data['weekday'].hist(bins=7)"
   ]
  },
  {
   "cell_type": "markdown",
   "id": "a0611a58",
   "metadata": {},
   "source": [
    "В будни дни объявления размещают в двое чаще, чем на выходных. Это объяснимо, ведь большинство квартир сейчас продаются через агентства, и риэлторы добавляют объявления по будням. "
   ]
  },
  {
   "cell_type": "code",
   "execution_count": 103,
   "id": "7eee6ea8",
   "metadata": {},
   "outputs": [
    {
     "data": {
      "text/plain": [
       "<AxesSubplot:>"
      ]
     },
     "execution_count": 103,
     "metadata": {},
     "output_type": "execute_result"
    },
    {
     "data": {
      "image/png": "[encoded data removed]",
      "text/plain": [
       "<Figure size 432x288 with 1 Axes>"
      ]
     },
     "metadata": {
      "needs_background": "light"
     },
     "output_type": "display_data"
    }
   ],
   "source": [
    "data['month'].hist(bins=12)"
   ]
  },
  {
   "cell_type": "markdown",
   "id": "b8509254",
   "metadata": {},
   "source": [
    "Можно отметить сезонность в увеличении объявлений. Ожидаемый рост числа объявлений с февраля по май, затем спад на летний период (отпуска/дачи), осенью снова увеличение количества вариантов, а декабрь и январь очередной спад из-за Новогодней суеты и каникул."
   ]
  },
  {
   "cell_type": "code",
   "execution_count": 104,
   "id": "8f3fd09c",
   "metadata": {
    "scrolled": false
   },
   "outputs": [
    {
     "data": {
      "text/plain": [
       "<AxesSubplot:>"
      ]
     },
     "execution_count": 104,
     "metadata": {},
     "output_type": "execute_result"
    },
    {
     "data": {
      "image/png": "[encoded data removed]",
      "text/plain": [
       "<Figure size 432x288 with 1 Axes>"
      ]
     },
     "metadata": {
      "needs_background": "light"
     },
     "output_type": "display_data"
    }
   ],
   "source": [
    "data['year'].hist(bins=6)"
   ]
  },
  {
   "cell_type": "code",
   "execution_count": 105,
   "id": "85ef56f4",
   "metadata": {
    "scrolled": true
   },
   "outputs": [
    {
     "data": {
      "text/plain": [
       "Timestamp('2019-05-03 00:00:00')"
      ]
     },
     "execution_count": 105,
     "metadata": {},
     "output_type": "execute_result"
    }
   ],
   "source": [
    "# определим каким числом сохранено последнее объявление в датафрейме\n",
    "data['first_day_exposition'].max()"
   ]
  },
  {
   "cell_type": "markdown",
   "id": "bb438157",
   "metadata": {},
   "source": [
    "C 2014 года ресурс Яндекс.Недвижимость начал разывитие и до 2017 года имел хороший прирост (самый большой скачек в 3 раза наблюдался в 2016-2017 гг), затем была стогнация 2017-2018.\n",
    "Данные по 2019 году только за 5 месяцев, поэтому дальнейшую динамику сложно точно оценить."
   ]
  },
  {
   "cell_type": "markdown",
   "id": "340c2f9f",
   "metadata": {},
   "source": [
    "Нарисуем тепловую диаграмму и определим от каких параметров зависит конечная стоимость объектов недвижимости."
   ]
  },
  {
   "cell_type": "markdown",
   "id": "3e930c05",
   "metadata": {},
   "source": [
    "### Влияние различных параметров на конечную стоимость недвижимости"
   ]
  },
  {
   "cell_type": "code",
   "execution_count": 106,
   "id": "24fdf97b",
   "metadata": {
    "scrolled": true
   },
   "outputs": [
    {
     "data": {
      "text/plain": [
       "<AxesSubplot:xlabel='weekday', ylabel='last_price'>"
      ]
     },
     "execution_count": 106,
     "metadata": {},
     "output_type": "execute_result"
    },
    {
     "data": {
      "image/png": "[encoded data removed]",
      "text/plain": [
       "<Figure size 432x288 with 1 Axes>"
      ]
     },
     "metadata": {
      "needs_background": "light"
     },
     "output_type": "display_data"
    }
   ],
   "source": [
    "import seaborn as sns\n",
    "sns.barplot(data=data, x='weekday', y='last_price')"
   ]
  },
  {
   "cell_type": "code",
   "execution_count": 107,
   "id": "21d12746",
   "metadata": {
    "scrolled": true
   },
   "outputs": [
    {
     "data": {
      "text/plain": [
       "<AxesSubplot:xlabel='month', ylabel='last_price'>"
      ]
     },
     "execution_count": 107,
     "metadata": {},
     "output_type": "execute_result"
    },
    {
     "data": {
      "image/png": "[encoded data removed]",
      "text/plain": [
       "<Figure size 432x288 with 1 Axes>"
      ]
     },
     "metadata": {
      "needs_background": "light"
     },
     "output_type": "display_data"
    }
   ],
   "source": [
    "sns.barplot(data=data, x='month', y='last_price')"
   ]
  },
  {
   "cell_type": "code",
   "execution_count": 108,
   "id": "d121c1dd",
   "metadata": {
    "scrolled": false
   },
   "outputs": [
    {
     "data": {
      "text/plain": [
       "<AxesSubplot:xlabel='year', ylabel='last_price'>"
      ]
     },
     "execution_count": 108,
     "metadata": {},
     "output_type": "execute_result"
    },
    {
     "data": {
      "image/png": "[encoded data removed]",
      "text/plain": [
       "<Figure size 432x288 with 1 Axes>"
      ]
     },
     "metadata": {
      "needs_background": "light"
     },
     "output_type": "display_data"
    }
   ],
   "source": [
    "sns.barplot(data=data, x='year', y='last_price')"
   ]
  },
  {
   "cell_type": "markdown",
   "id": "58bb236b",
   "metadata": {},
   "source": [
    "### Средняя цена квадратного метра в зависимости от населенного пункта"
   ]
  },
  {
   "cell_type": "code",
   "execution_count": 109,
   "id": "de75e473",
   "metadata": {
    "scrolled": false
   },
   "outputs": [
    {
     "data": {
      "text/plain": [
       "Index(['Санкт-Петербург', 'поселок Мурино', 'поселок Шушары', 'Всеволожск',\n",
       "       'Пушкин', 'Колпино', 'поселок Парголово', 'Гатчина', 'деревня Кудрово',\n",
       "       'Выборг'],\n",
       "      dtype='object')"
      ]
     },
     "execution_count": 109,
     "metadata": {},
     "output_type": "execute_result"
    }
   ],
   "source": [
    "# создадим список ТОП-10 из населенных пунктов, в которых размещено больше всего объявлений\n",
    "data_top_10 = data['locality_name'].value_counts().head(10).index\n",
    "data_top_10.unique()"
   ]
  },
  {
   "cell_type": "code",
   "execution_count": 110,
   "id": "217e0e7e",
   "metadata": {
    "scrolled": true
   },
   "outputs": [
    {
     "data": {
      "text/plain": [
       "locality_name\n",
       "Всеволожск            68646.448530\n",
       "Выборг                58075.893731\n",
       "Гатчина               68746.146763\n",
       "Колпино               75333.295801\n",
       "Пушкин               102869.768340\n",
       "Санкт-Петербург      112412.973834\n",
       "деревня Кудрово       92297.218847\n",
       "поселок Мурино        85465.667556\n",
       "поселок Парголово     90448.423806\n",
       "поселок Шушары        78303.212578\n",
       "Name: price_sq_meter, dtype: float64"
      ]
     },
     "execution_count": 110,
     "metadata": {},
     "output_type": "execute_result"
    }
   ],
   "source": [
    "# расчитаем среднюю цену квадратного метра, в каждом из выбранных населенных пунктов\n",
    "data_filtred = data.query('locality_name in @data_top_10').groupby('locality_name')['price_sq_meter'].agg('mean')\n",
    "data_filtred"
   ]
  },
  {
   "cell_type": "code",
   "execution_count": 111,
   "id": "af65d231",
   "metadata": {
    "scrolled": true
   },
   "outputs": [
    {
     "data": {
      "text/plain": [
       "locality_name\n",
       "Зеленогорск              117810.585243\n",
       "Санкт-Петербург          112412.973834\n",
       "поселок Репино           104238.614786\n",
       "Пушкин                   102869.768340\n",
       "Сестрорецк               102107.818481\n",
       "                             ...      \n",
       "поселок Совхозный         12629.129129\n",
       "деревня Выскатка          12335.480902\n",
       "деревня Вахнова Кара      11688.311688\n",
       "поселок станции Свирь     11481.481481\n",
       "деревня Старополье        11206.221198\n",
       "Name: price_sq_meter, Length: 318, dtype: float64"
      ]
     },
     "execution_count": 111,
     "metadata": {},
     "output_type": "execute_result"
    }
   ],
   "source": [
    "# расчитаем среднюю цену в каждом регионе Ленинской области, результат отсортируем по убыванию\n",
    "data.groupby('locality_name')['price_sq_meter'].agg('mean').sort_values(ascending=False)"
   ]
  },
  {
   "cell_type": "markdown",
   "id": "0725c830",
   "metadata": {},
   "source": [
    "Как и ожидалось из списака ТОП-10, наиболее дорогой квадратный метр жилья в Питере - 112 тр, наименьшая стоимость квадратного метра в Выборге - около 58 тр.\n",
    "\n",
    "Но если смотреть по всей Ленинградской области, то жилье в Спб на втором месте. А лидер по стоимости за квадрат - Зеленогорск. \n",
    "Судя по данным в интернете - это курортный городок в Ленинградской области, поэтому не удивтельно, что там не так много предложений и выше всего цена.\n",
    "\n",
    "Минимальные цены на жилье в небольших удаленных деревеньках - от 11 тр за квадрат.\n",
    "Например, по данным из Википедии, деревня Старополье находится в 50 км от районного центра и в ней на 2017 год проживало около 800 человек."
   ]
  },
  {
   "cell_type": "markdown",
   "id": "3ae35bc3",
   "metadata": {},
   "source": [
    "### Цена одного километра удаленного от центра Питера"
   ]
  },
  {
   "cell_type": "code",
   "execution_count": 112,
   "id": "862ddaec",
   "metadata": {
    "scrolled": true
   },
   "outputs": [
    {
     "data": {
      "text/html": [
       "<div>\n",
       "<style scoped>\n",
       "    .dataframe tbody tr th:only-of-type {\n",
       "        vertical-align: middle;\n",
       "    }\n",
       "\n",
       "    .dataframe tbody tr th {\n",
       "        vertical-align: top;\n",
       "    }\n",
       "\n",
       "    .dataframe thead th {\n",
       "        text-align: right;\n",
       "    }\n",
       "</style>\n",
       "<table border=\"1\" class=\"dataframe\">\n",
       "  <thead>\n",
       "    <tr style=\"text-align: right;\">\n",
       "      <th></th>\n",
       "      <th>total_images</th>\n",
       "      <th>last_price</th>\n",
       "      <th>total_area</th>\n",
       "      <th>first_day_exposition</th>\n",
       "      <th>rooms</th>\n",
       "      <th>ceiling_height</th>\n",
       "      <th>floors_total</th>\n",
       "      <th>living_area</th>\n",
       "      <th>floor</th>\n",
       "      <th>is_apartment</th>\n",
       "      <th>...</th>\n",
       "      <th>ponds_around3000</th>\n",
       "      <th>ponds_nearest</th>\n",
       "      <th>days_exposition</th>\n",
       "      <th>price_sq_meter</th>\n",
       "      <th>weekday</th>\n",
       "      <th>month</th>\n",
       "      <th>year</th>\n",
       "      <th>cityCenters_nearest_km</th>\n",
       "      <th>kind_floor</th>\n",
       "      <th>price_one_km</th>\n",
       "    </tr>\n",
       "  </thead>\n",
       "  <tbody>\n",
       "    <tr>\n",
       "      <th>0</th>\n",
       "      <td>20</td>\n",
       "      <td>13000000.0</td>\n",
       "      <td>108.00</td>\n",
       "      <td>2019-03-07</td>\n",
       "      <td>3</td>\n",
       "      <td>2.7000</td>\n",
       "      <td>16</td>\n",
       "      <td>51.000000</td>\n",
       "      <td>8</td>\n",
       "      <td>False</td>\n",
       "      <td>...</td>\n",
       "      <td>2.0</td>\n",
       "      <td>755.0</td>\n",
       "      <td>NaN</td>\n",
       "      <td>120370.370370</td>\n",
       "      <td>3</td>\n",
       "      <td>3</td>\n",
       "      <td>2019</td>\n",
       "      <td>16.0</td>\n",
       "      <td>Другой</td>\n",
       "      <td>8.125000e+05</td>\n",
       "    </tr>\n",
       "    <tr>\n",
       "      <th>1</th>\n",
       "      <td>7</td>\n",
       "      <td>3350000.0</td>\n",
       "      <td>40.40</td>\n",
       "      <td>2018-12-04</td>\n",
       "      <td>1</td>\n",
       "      <td>2.6075</td>\n",
       "      <td>11</td>\n",
       "      <td>18.600000</td>\n",
       "      <td>1</td>\n",
       "      <td>False</td>\n",
       "      <td>...</td>\n",
       "      <td>0.0</td>\n",
       "      <td>NaN</td>\n",
       "      <td>81.0</td>\n",
       "      <td>82920.792079</td>\n",
       "      <td>1</td>\n",
       "      <td>12</td>\n",
       "      <td>2018</td>\n",
       "      <td>19.0</td>\n",
       "      <td>Первый</td>\n",
       "      <td>NaN</td>\n",
       "    </tr>\n",
       "    <tr>\n",
       "      <th>2</th>\n",
       "      <td>10</td>\n",
       "      <td>5196000.0</td>\n",
       "      <td>56.00</td>\n",
       "      <td>2015-08-20</td>\n",
       "      <td>2</td>\n",
       "      <td>2.7000</td>\n",
       "      <td>5</td>\n",
       "      <td>34.300000</td>\n",
       "      <td>4</td>\n",
       "      <td>False</td>\n",
       "      <td>...</td>\n",
       "      <td>2.0</td>\n",
       "      <td>574.0</td>\n",
       "      <td>558.0</td>\n",
       "      <td>92785.714286</td>\n",
       "      <td>3</td>\n",
       "      <td>8</td>\n",
       "      <td>2015</td>\n",
       "      <td>14.0</td>\n",
       "      <td>Другой</td>\n",
       "      <td>3.711429e+05</td>\n",
       "    </tr>\n",
       "    <tr>\n",
       "      <th>3</th>\n",
       "      <td>0</td>\n",
       "      <td>64900000.0</td>\n",
       "      <td>159.00</td>\n",
       "      <td>2015-07-24</td>\n",
       "      <td>3</td>\n",
       "      <td>2.7000</td>\n",
       "      <td>14</td>\n",
       "      <td>90.768980</td>\n",
       "      <td>9</td>\n",
       "      <td>False</td>\n",
       "      <td>...</td>\n",
       "      <td>3.0</td>\n",
       "      <td>234.0</td>\n",
       "      <td>424.0</td>\n",
       "      <td>408176.100629</td>\n",
       "      <td>4</td>\n",
       "      <td>7</td>\n",
       "      <td>2015</td>\n",
       "      <td>7.0</td>\n",
       "      <td>Другой</td>\n",
       "      <td>9.271429e+06</td>\n",
       "    </tr>\n",
       "    <tr>\n",
       "      <th>5</th>\n",
       "      <td>10</td>\n",
       "      <td>2890000.0</td>\n",
       "      <td>30.40</td>\n",
       "      <td>2018-09-10</td>\n",
       "      <td>1</td>\n",
       "      <td>2.6000</td>\n",
       "      <td>12</td>\n",
       "      <td>14.400000</td>\n",
       "      <td>5</td>\n",
       "      <td>False</td>\n",
       "      <td>...</td>\n",
       "      <td>NaN</td>\n",
       "      <td>NaN</td>\n",
       "      <td>55.0</td>\n",
       "      <td>95065.789474</td>\n",
       "      <td>0</td>\n",
       "      <td>9</td>\n",
       "      <td>2018</td>\n",
       "      <td>NaN</td>\n",
       "      <td>Другой</td>\n",
       "      <td>NaN</td>\n",
       "    </tr>\n",
       "    <tr>\n",
       "      <th>6</th>\n",
       "      <td>6</td>\n",
       "      <td>3700000.0</td>\n",
       "      <td>37.30</td>\n",
       "      <td>2017-11-02</td>\n",
       "      <td>1</td>\n",
       "      <td>2.6400</td>\n",
       "      <td>26</td>\n",
       "      <td>10.600000</td>\n",
       "      <td>6</td>\n",
       "      <td>False</td>\n",
       "      <td>...</td>\n",
       "      <td>0.0</td>\n",
       "      <td>NaN</td>\n",
       "      <td>155.0</td>\n",
       "      <td>99195.710456</td>\n",
       "      <td>3</td>\n",
       "      <td>11</td>\n",
       "      <td>2017</td>\n",
       "      <td>19.0</td>\n",
       "      <td>Другой</td>\n",
       "      <td>NaN</td>\n",
       "    </tr>\n",
       "    <tr>\n",
       "      <th>7</th>\n",
       "      <td>5</td>\n",
       "      <td>7915000.0</td>\n",
       "      <td>71.60</td>\n",
       "      <td>2019-04-18</td>\n",
       "      <td>2</td>\n",
       "      <td>2.7000</td>\n",
       "      <td>24</td>\n",
       "      <td>40.874585</td>\n",
       "      <td>22</td>\n",
       "      <td>False</td>\n",
       "      <td>...</td>\n",
       "      <td>0.0</td>\n",
       "      <td>NaN</td>\n",
       "      <td>NaN</td>\n",
       "      <td>110544.692737</td>\n",
       "      <td>3</td>\n",
       "      <td>4</td>\n",
       "      <td>2019</td>\n",
       "      <td>12.0</td>\n",
       "      <td>Другой</td>\n",
       "      <td>6.595833e+05</td>\n",
       "    </tr>\n",
       "    <tr>\n",
       "      <th>8</th>\n",
       "      <td>20</td>\n",
       "      <td>2900000.0</td>\n",
       "      <td>33.16</td>\n",
       "      <td>2018-05-23</td>\n",
       "      <td>1</td>\n",
       "      <td>2.7000</td>\n",
       "      <td>27</td>\n",
       "      <td>15.430000</td>\n",
       "      <td>26</td>\n",
       "      <td>False</td>\n",
       "      <td>...</td>\n",
       "      <td>NaN</td>\n",
       "      <td>NaN</td>\n",
       "      <td>189.0</td>\n",
       "      <td>87454.764777</td>\n",
       "      <td>2</td>\n",
       "      <td>5</td>\n",
       "      <td>2018</td>\n",
       "      <td>NaN</td>\n",
       "      <td>Другой</td>\n",
       "      <td>NaN</td>\n",
       "    </tr>\n",
       "    <tr>\n",
       "      <th>9</th>\n",
       "      <td>18</td>\n",
       "      <td>5400000.0</td>\n",
       "      <td>61.00</td>\n",
       "      <td>2017-02-26</td>\n",
       "      <td>3</td>\n",
       "      <td>2.5000</td>\n",
       "      <td>9</td>\n",
       "      <td>43.600000</td>\n",
       "      <td>7</td>\n",
       "      <td>False</td>\n",
       "      <td>...</td>\n",
       "      <td>0.0</td>\n",
       "      <td>NaN</td>\n",
       "      <td>289.0</td>\n",
       "      <td>88524.590164</td>\n",
       "      <td>6</td>\n",
       "      <td>2</td>\n",
       "      <td>2017</td>\n",
       "      <td>15.0</td>\n",
       "      <td>Другой</td>\n",
       "      <td>3.600000e+05</td>\n",
       "    </tr>\n",
       "    <tr>\n",
       "      <th>10</th>\n",
       "      <td>5</td>\n",
       "      <td>5050000.0</td>\n",
       "      <td>39.60</td>\n",
       "      <td>2017-11-16</td>\n",
       "      <td>1</td>\n",
       "      <td>2.6700</td>\n",
       "      <td>12</td>\n",
       "      <td>20.300000</td>\n",
       "      <td>3</td>\n",
       "      <td>False</td>\n",
       "      <td>...</td>\n",
       "      <td>2.0</td>\n",
       "      <td>553.0</td>\n",
       "      <td>137.0</td>\n",
       "      <td>127525.252525</td>\n",
       "      <td>3</td>\n",
       "      <td>11</td>\n",
       "      <td>2017</td>\n",
       "      <td>14.0</td>\n",
       "      <td>Другой</td>\n",
       "      <td>3.607143e+05</td>\n",
       "    </tr>\n",
       "  </tbody>\n",
       "</table>\n",
       "<p>10 rows × 29 columns</p>\n",
       "</div>"
      ],
      "text/plain": [
       "    total_images  last_price  total_area first_day_exposition  rooms  \\\n",
       "0             20  13000000.0      108.00           2019-03-07      3   \n",
       "1              7   3350000.0       40.40           2018-12-04      1   \n",
       "2             10   5196000.0       56.00           2015-08-20      2   \n",
       "3              0  64900000.0      159.00           2015-07-24      3   \n",
       "5             10   2890000.0       30.40           2018-09-10      1   \n",
       "6              6   3700000.0       37.30           2017-11-02      1   \n",
       "7              5   7915000.0       71.60           2019-04-18      2   \n",
       "8             20   2900000.0       33.16           2018-05-23      1   \n",
       "9             18   5400000.0       61.00           2017-02-26      3   \n",
       "10             5   5050000.0       39.60           2017-11-16      1   \n",
       "\n",
       "    ceiling_height  floors_total  living_area  floor  is_apartment  ...  \\\n",
       "0           2.7000            16    51.000000      8         False  ...   \n",
       "1           2.6075            11    18.600000      1         False  ...   \n",
       "2           2.7000             5    34.300000      4         False  ...   \n",
       "3           2.7000            14    90.768980      9         False  ...   \n",
       "5           2.6000            12    14.400000      5         False  ...   \n",
       "6           2.6400            26    10.600000      6         False  ...   \n",
       "7           2.7000            24    40.874585     22         False  ...   \n",
       "8           2.7000            27    15.430000     26         False  ...   \n",
       "9           2.5000             9    43.600000      7         False  ...   \n",
       "10          2.6700            12    20.300000      3         False  ...   \n",
       "\n",
       "    ponds_around3000  ponds_nearest  days_exposition  price_sq_meter weekday  \\\n",
       "0                2.0          755.0              NaN   120370.370370       3   \n",
       "1                0.0            NaN             81.0    82920.792079       1   \n",
       "2                2.0          574.0            558.0    92785.714286       3   \n",
       "3                3.0          234.0            424.0   408176.100629       4   \n",
       "5                NaN            NaN             55.0    95065.789474       0   \n",
       "6                0.0            NaN            155.0    99195.710456       3   \n",
       "7                0.0            NaN              NaN   110544.692737       3   \n",
       "8                NaN            NaN            189.0    87454.764777       2   \n",
       "9                0.0            NaN            289.0    88524.590164       6   \n",
       "10               2.0          553.0            137.0   127525.252525       3   \n",
       "\n",
       "    month  year  cityCenters_nearest_km  kind_floor  price_one_km  \n",
       "0       3  2019                    16.0      Другой  8.125000e+05  \n",
       "1      12  2018                    19.0      Первый           NaN  \n",
       "2       8  2015                    14.0      Другой  3.711429e+05  \n",
       "3       7  2015                     7.0      Другой  9.271429e+06  \n",
       "5       9  2018                     NaN      Другой           NaN  \n",
       "6      11  2017                    19.0      Другой           NaN  \n",
       "7       4  2019                    12.0      Другой  6.595833e+05  \n",
       "8       5  2018                     NaN      Другой           NaN  \n",
       "9       2  2017                    15.0      Другой  3.600000e+05  \n",
       "10     11  2017                    14.0      Другой  3.607143e+05  \n",
       "\n",
       "[10 rows x 29 columns]"
      ]
     },
     "execution_count": 112,
     "metadata": {},
     "output_type": "execute_result"
    }
   ],
   "source": [
    "# создаем новый столбец 'price_one_km' и заносим туда цену одного километра (удаленного от центра города) в Спб\n",
    "# поделим конечную цену тех питерских квартир, в котрых известно расстояние до центра на само это расстояние в километрах\n",
    "data['price_one_km'] = data.loc[(data['locality_name'] == \"Санкт-Петербург\")&(data['cityCenters_nearest_km'].notna())]['last_price']\\\n",
    "/data.loc[(data['locality_name'] == \"Санкт-Петербург\")&(data['cityCenters_nearest_km'].notna())]['cityCenters_nearest_km']\n",
    "\n",
    "# проверим, что столбец расчитался правильно\n",
    "data.head(10)"
   ]
  },
  {
   "cell_type": "code",
   "execution_count": 113,
   "id": "dcc58877",
   "metadata": {
    "scrolled": false
   },
   "outputs": [
    {
     "data": {
      "text/plain": [
       "<AxesSubplot:xlabel='cityCenters_nearest_km'>"
      ]
     },
     "execution_count": 113,
     "metadata": {},
     "output_type": "execute_result"
    },
    {
     "data": {
      "image/png": "[encoded data removed]",
      "text/plain": [
       "<Figure size 432x288 with 1 Axes>"
      ]
     },
     "metadata": {
      "needs_background": "light"
     },
     "output_type": "display_data"
    }
   ],
   "source": [
    "data.plot(x='cityCenters_nearest_km', y='price_one_km', style='o')"
   ]
  },
  {
   "cell_type": "code",
   "execution_count": 114,
   "id": "005523a6",
   "metadata": {},
   "outputs": [
    {
     "data": {
      "text/plain": [
       "count    1.501900e+04\n",
       "mean              inf\n",
       "std               NaN\n",
       "min      8.333333e+04\n",
       "25%      3.076154e+05\n",
       "50%      4.400000e+05\n",
       "75%      9.074825e+05\n",
       "max               inf\n",
       "Name: price_one_km, dtype: float64"
      ]
     },
     "execution_count": 114,
     "metadata": {},
     "output_type": "execute_result"
    }
   ],
   "source": [
    "data['price_one_km'].describe()"
   ]
  },
  {
   "cell_type": "markdown",
   "id": "2b989cc2",
   "metadata": {},
   "source": [
    "На графике наглядно видно, что чем ближе квартира расположена к центру Питера, тем шире диапазон цены за каждый киллометр. Есть цены соответствующие средним по всему городу, а есть и в 4-5 раз дороже. В целом самыми дорогими квартирами за 1 километр, можно считать квартиры расположенные в 7 километровой зоне от центра города.\n",
    "\n",
    "Если квартира расположена более, чем на 10 км от центра, то цена последующего километра не так сильно отличается и составляет около 300-400 тр за км."
   ]
  },
  {
   "cell_type": "markdown",
   "id": "a2e0fd28",
   "metadata": {},
   "source": [
    "# Выводы"
   ]
  },
  {
   "cell_type": "markdown",
   "id": "bedcb2d1",
   "metadata": {},
   "source": [
    "При первичном знакомстве с данными во входном файле, стало понятно, что требуется предварительная обработка данных, чтобы можно было в дальнейшем использовать их для анализа.\n",
    "\n",
    "обнаруженные проблемы в качестве данных:\n",
    "- имелись пустые значения в столбцах: ceiling_height, floors_total, living_area, floor, is_apartment, ponds_around3000\tponds_nearest, days_exposition, kitchen_area, balcony, airports_neares, cityCenters_nearest, parks_around3000, parks_neares\n",
    "- в столбцах имелось несоотвествие типов тем данным, которые эти столбцы предполагают\n",
    "- некоторые названия населеных пунктов имели неявные дублированные значения\n",
    "- наблюдалась явная проблема с автоматически подгружаемыми картографическими данными. Примерно честверть значений была незаполнена. На корретность работы этой функции стоит обратить отдельное внимание.\n",
    "\n",
    "что было сделано при предобработке данных:\n",
    "- проанализирована причина пропущеных значений, выбрано оптимально решение по обработке этих пропусков. Часть значений была заменена подходящими по значению данными, вторую часть пропусков оставили без изменений.\n",
    "- устранены все неявные дубликаты в базе\n",
    "- где это было возможно, заменили тип данных на соответствующий значениям\n",
    "- удалены все аномальные выбросы по всем столбца датафрейма\n",
    "\n",
    "рекомендации по улучшению качества хранимых данных:\n",
    "- в столбцах, где предполагается булевы значения, поставить значение \"по умолчанию\" - False, чтобы в дальнейм избежать пропусков\n",
    "- в столбце с количеством балконов, конкретно указать, что требуется ввести именно КОЛИЧЕСТВО, а не площадь\n",
    "- проверить типы столбцов на соотвествие хранимым данным\n",
    "- унифицировать названия населенных пунктов, чтобы избежать возникновения дубликатов\n",
    "- проверить корректность занесения картографических данных\n",
    "\n",
    "\n",
    "В результате проведенного исследования можно сделать следующие выводы:\n",
    "- Конечная цена квартиры зависит в первую очередь от общей и жилой площадей. От этажа, площади кухни или дня размещения эта величина практически не зависит\n",
    "- На рынке недвижимости сущетсвует определенная сезонность. В межсезонье весна/осень - на рынке появляется больше вариантов продаваемых квартир\n",
    "- Самые дорогие квартиры расположены в Спб, близко к центру, паркам, каналам и имеют не крайний этаж. Но есть варианты в курортных городках ЛО, где цена за кв метр превосходит Питерские.\n",
    "- Чем ближе квартира расположена к центру Питера, тем дороже может быть 1 километр. Самые эксклюзивные варианты имеют цену одного километра около 50 млн руб.\n",
    "- Этажность влияет на стоимость, при чем это влияние тем больше, чем дороже общая цена квартиры. У дешевых вариантов квартир, роль категории этажа не так значительна.\n",
    "- В среднем квартира продается за 1-3 месяца, но встречаются варианты, которые \"улетают\" за неделю и \"висяки\", которые продаются больше года.\n",
    "- Средняя цена на квартиры остается стабильной в течение всего года, колебаний стоимости до дням и месяцам не наблюдалось\n",
    "- Средняя годовая стоимость квартир за 2016-2018 гг была практически неизменной, не смотря на рост количества предложений на рынке\n",
    "    "
   ]
  },
  {
   "cell_type": "code",
   "execution_count": null,
   "id": "f4f85686",
   "metadata": {},
   "outputs": [],
   "source": []
  }
 ],
 "metadata": {
  "ExecuteTimeLog": [
   {
    "duration": 528,
    "start_time": "2022-10-02T17:52:00.030Z"
   },
   {
    "duration": 158,
    "start_time": "2022-10-02T17:52:00.560Z"
   },
   {
    "duration": 14,
    "start_time": "2022-10-02T17:52:00.720Z"
   },
   {
    "duration": 2202,
    "start_time": "2022-10-02T17:52:00.736Z"
   },
   {
    "duration": 46,
    "start_time": "2022-10-02T17:52:02.940Z"
   },
   {
    "duration": 17,
    "start_time": "2022-10-02T17:52:03.005Z"
   },
   {
    "duration": 12,
    "start_time": "2022-10-02T17:52:03.023Z"
   },
   {
    "duration": 12,
    "start_time": "2022-10-02T17:52:03.037Z"
   },
   {
    "duration": 8,
    "start_time": "2022-10-02T17:52:03.051Z"
   },
   {
    "duration": 7,
    "start_time": "2022-10-02T17:52:03.062Z"
   },
   {
    "duration": 30,
    "start_time": "2022-10-02T17:52:03.071Z"
   },
   {
    "duration": 161,
    "start_time": "2022-10-02T17:52:03.103Z"
   },
   {
    "duration": 5,
    "start_time": "2022-10-02T17:52:03.266Z"
   },
   {
    "duration": 10,
    "start_time": "2022-10-02T17:52:03.273Z"
   },
   {
    "duration": 177,
    "start_time": "2022-10-02T17:52:03.285Z"
   },
   {
    "duration": 18,
    "start_time": "2022-10-02T17:52:03.463Z"
   },
   {
    "duration": 2646,
    "start_time": "2022-10-02T17:52:03.483Z"
   },
   {
    "duration": 25,
    "start_time": "2022-10-02T17:52:06.131Z"
   },
   {
    "duration": 10,
    "start_time": "2022-10-02T17:52:06.158Z"
   },
   {
    "duration": 6,
    "start_time": "2022-10-02T17:52:06.170Z"
   },
   {
    "duration": 32,
    "start_time": "2022-10-02T17:52:06.177Z"
   },
   {
    "duration": 135,
    "start_time": "2022-10-02T17:52:06.213Z"
   },
   {
    "duration": 9,
    "start_time": "2022-10-02T17:52:06.350Z"
   },
   {
    "duration": 148,
    "start_time": "2022-10-02T17:52:06.360Z"
   },
   {
    "duration": 12,
    "start_time": "2022-10-02T17:52:06.516Z"
   },
   {
    "duration": 9,
    "start_time": "2022-10-02T17:52:06.529Z"
   },
   {
    "duration": 316,
    "start_time": "2022-10-02T17:52:06.539Z"
   },
   {
    "duration": 5,
    "start_time": "2022-10-02T17:52:06.859Z"
   },
   {
    "duration": 11,
    "start_time": "2022-10-02T17:52:06.865Z"
   },
   {
    "duration": 9,
    "start_time": "2022-10-02T17:52:06.878Z"
   },
   {
    "duration": 21,
    "start_time": "2022-10-02T17:52:06.888Z"
   },
   {
    "duration": 34,
    "start_time": "2022-10-02T17:52:06.911Z"
   },
   {
    "duration": 6,
    "start_time": "2022-10-02T17:52:06.947Z"
   },
   {
    "duration": 43,
    "start_time": "2022-10-02T17:52:06.955Z"
   },
   {
    "duration": 15,
    "start_time": "2022-10-02T17:52:06.999Z"
   },
   {
    "duration": 11,
    "start_time": "2022-10-02T17:52:07.017Z"
   },
   {
    "duration": 7,
    "start_time": "2022-10-02T17:52:07.030Z"
   },
   {
    "duration": 9,
    "start_time": "2022-10-02T17:52:07.038Z"
   },
   {
    "duration": 4,
    "start_time": "2022-10-02T17:52:07.048Z"
   },
   {
    "duration": 9,
    "start_time": "2022-10-02T17:52:07.054Z"
   },
   {
    "duration": 255,
    "start_time": "2022-10-02T17:52:07.064Z"
   },
   {
    "duration": 5,
    "start_time": "2022-10-02T17:52:07.321Z"
   },
   {
    "duration": 15,
    "start_time": "2022-10-02T17:52:07.327Z"
   },
   {
    "duration": 9,
    "start_time": "2022-10-02T17:52:07.343Z"
   },
   {
    "duration": 9,
    "start_time": "2022-10-02T17:52:07.353Z"
   },
   {
    "duration": 7,
    "start_time": "2022-10-02T17:52:07.364Z"
   },
   {
    "duration": 5,
    "start_time": "2022-10-02T17:52:07.372Z"
   },
   {
    "duration": 31,
    "start_time": "2022-10-02T17:52:07.378Z"
   },
   {
    "duration": 9,
    "start_time": "2022-10-02T17:52:07.410Z"
   },
   {
    "duration": 6,
    "start_time": "2022-10-02T17:52:07.420Z"
   },
   {
    "duration": 138,
    "start_time": "2022-10-02T17:52:07.428Z"
   },
   {
    "duration": 49,
    "start_time": "2022-10-02T17:52:07.568Z"
   },
   {
    "duration": 5,
    "start_time": "2022-10-02T17:52:07.619Z"
   },
   {
    "duration": 18,
    "start_time": "2022-10-02T17:52:07.625Z"
   },
   {
    "duration": 229,
    "start_time": "2022-10-02T17:52:07.644Z"
   },
   {
    "duration": 5,
    "start_time": "2022-10-02T17:52:07.874Z"
   },
   {
    "duration": 9,
    "start_time": "2022-10-02T17:52:07.880Z"
   },
   {
    "duration": 15,
    "start_time": "2022-10-02T17:52:07.903Z"
   },
   {
    "duration": 9,
    "start_time": "2022-10-02T17:52:07.920Z"
   },
   {
    "duration": 242,
    "start_time": "2022-10-02T17:52:07.930Z"
   },
   {
    "duration": 37,
    "start_time": "2022-10-02T17:52:08.173Z"
   },
   {
    "duration": 34,
    "start_time": "2022-10-02T17:52:08.215Z"
   },
   {
    "duration": 9,
    "start_time": "2022-10-02T17:52:08.250Z"
   },
   {
    "duration": 5,
    "start_time": "2022-10-02T17:52:08.261Z"
   },
   {
    "duration": 5,
    "start_time": "2022-10-02T17:52:08.268Z"
   },
   {
    "duration": 10,
    "start_time": "2022-10-02T17:52:08.274Z"
   },
   {
    "duration": 22,
    "start_time": "2022-10-02T17:52:08.285Z"
   },
   {
    "duration": 10,
    "start_time": "2022-10-02T17:52:08.315Z"
   },
   {
    "duration": 7,
    "start_time": "2022-10-02T17:52:08.327Z"
   },
   {
    "duration": 115,
    "start_time": "2022-10-02T17:52:08.335Z"
   },
   {
    "duration": 135,
    "start_time": "2022-10-02T17:52:08.451Z"
   },
   {
    "duration": 22,
    "start_time": "2022-10-02T17:52:08.588Z"
   },
   {
    "duration": 8,
    "start_time": "2022-10-02T17:52:08.616Z"
   },
   {
    "duration": 36,
    "start_time": "2022-10-02T17:52:08.626Z"
   },
   {
    "duration": 21,
    "start_time": "2022-10-02T17:52:08.663Z"
   },
   {
    "duration": 122,
    "start_time": "2022-10-02T17:52:08.685Z"
   },
   {
    "duration": 216,
    "start_time": "2022-10-02T17:52:08.812Z"
   },
   {
    "duration": 5,
    "start_time": "2022-10-02T17:52:09.029Z"
   },
   {
    "duration": 12,
    "start_time": "2022-10-02T17:52:09.036Z"
   },
   {
    "duration": 120,
    "start_time": "2022-10-02T17:52:09.050Z"
   },
   {
    "duration": 147,
    "start_time": "2022-10-02T17:52:09.171Z"
   },
   {
    "duration": 5,
    "start_time": "2022-10-02T17:52:09.324Z"
   },
   {
    "duration": 7,
    "start_time": "2022-10-02T17:52:09.330Z"
   },
   {
    "duration": 6,
    "start_time": "2022-10-02T17:52:09.338Z"
   },
   {
    "duration": 14,
    "start_time": "2022-10-02T17:52:09.345Z"
   },
   {
    "duration": 174,
    "start_time": "2022-10-02T17:52:09.361Z"
   },
   {
    "duration": 4,
    "start_time": "2022-10-02T17:52:09.537Z"
   },
   {
    "duration": 17,
    "start_time": "2022-10-02T17:52:09.542Z"
   },
   {
    "duration": 20,
    "start_time": "2022-10-02T17:52:09.561Z"
   },
   {
    "duration": 16,
    "start_time": "2022-10-02T17:52:09.601Z"
   },
   {
    "duration": 48,
    "start_time": "2022-10-02T17:52:09.619Z"
   },
   {
    "duration": 41,
    "start_time": "2022-10-02T17:52:09.668Z"
   },
   {
    "duration": 19,
    "start_time": "2022-10-02T17:52:09.710Z"
   },
   {
    "duration": 23,
    "start_time": "2022-10-02T17:52:09.731Z"
   },
   {
    "duration": 8,
    "start_time": "2022-10-02T17:52:09.755Z"
   },
   {
    "duration": 199,
    "start_time": "2022-10-02T17:52:09.764Z"
   },
   {
    "duration": 11,
    "start_time": "2022-10-02T17:52:09.964Z"
   },
   {
    "duration": 49,
    "start_time": "2022-10-02T17:52:09.977Z"
   },
   {
    "duration": 42,
    "start_time": "2022-10-02T17:52:10.027Z"
   },
   {
    "duration": 38,
    "start_time": "2022-10-02T17:52:10.071Z"
   },
   {
    "duration": 12,
    "start_time": "2022-10-02T17:52:10.111Z"
   },
   {
    "duration": 138,
    "start_time": "2022-10-02T17:52:10.125Z"
   },
   {
    "duration": 128,
    "start_time": "2022-10-02T17:52:10.265Z"
   },
   {
    "duration": 136,
    "start_time": "2022-10-02T17:52:10.395Z"
   },
   {
    "duration": 4,
    "start_time": "2022-10-02T17:52:10.533Z"
   },
   {
    "duration": 930,
    "start_time": "2022-10-02T17:52:10.538Z"
   },
   {
    "duration": 20,
    "start_time": "2022-10-02T17:52:11.470Z"
   },
   {
    "duration": 9,
    "start_time": "2022-10-02T17:52:11.500Z"
   },
   {
    "duration": 24,
    "start_time": "2022-10-02T17:52:11.511Z"
   },
   {
    "duration": 8,
    "start_time": "2022-10-02T17:52:11.536Z"
   },
   {
    "duration": 35,
    "start_time": "2022-10-02T17:52:11.545Z"
   },
   {
    "duration": 179,
    "start_time": "2022-10-02T17:52:11.600Z"
   },
   {
    "duration": 25,
    "start_time": "2022-10-02T17:52:11.782Z"
   },
   {
    "duration": 521,
    "start_time": "2022-10-02T17:53:28.272Z"
   },
   {
    "duration": 163,
    "start_time": "2022-10-02T17:53:28.795Z"
   },
   {
    "duration": 12,
    "start_time": "2022-10-02T17:53:28.960Z"
   },
   {
    "duration": 2226,
    "start_time": "2022-10-02T17:53:28.974Z"
   },
   {
    "duration": 57,
    "start_time": "2022-10-02T17:53:31.203Z"
   },
   {
    "duration": 12,
    "start_time": "2022-10-02T17:53:31.262Z"
   },
   {
    "duration": 11,
    "start_time": "2022-10-02T17:53:31.276Z"
   },
   {
    "duration": 27,
    "start_time": "2022-10-02T17:53:31.288Z"
   },
   {
    "duration": 11,
    "start_time": "2022-10-02T17:53:31.316Z"
   },
   {
    "duration": 30,
    "start_time": "2022-10-02T17:53:31.329Z"
   },
   {
    "duration": 9,
    "start_time": "2022-10-02T17:53:31.361Z"
   },
   {
    "duration": 170,
    "start_time": "2022-10-02T17:53:31.371Z"
   },
   {
    "duration": 4,
    "start_time": "2022-10-02T17:53:31.542Z"
   },
   {
    "duration": 11,
    "start_time": "2022-10-02T17:53:31.547Z"
   },
   {
    "duration": 167,
    "start_time": "2022-10-02T17:53:31.559Z"
   },
   {
    "duration": 8,
    "start_time": "2022-10-02T17:53:31.727Z"
   },
   {
    "duration": 2531,
    "start_time": "2022-10-02T17:53:31.737Z"
   },
   {
    "duration": 36,
    "start_time": "2022-10-02T17:53:34.270Z"
   },
   {
    "duration": 11,
    "start_time": "2022-10-02T17:53:34.312Z"
   },
   {
    "duration": 7,
    "start_time": "2022-10-02T17:53:34.324Z"
   },
   {
    "duration": 4,
    "start_time": "2022-10-02T17:53:34.333Z"
   },
   {
    "duration": 171,
    "start_time": "2022-10-02T17:53:34.338Z"
   },
   {
    "duration": 11,
    "start_time": "2022-10-02T17:53:34.512Z"
   },
   {
    "duration": 162,
    "start_time": "2022-10-02T17:53:34.525Z"
   },
   {
    "duration": 18,
    "start_time": "2022-10-02T17:53:34.689Z"
   },
   {
    "duration": 26,
    "start_time": "2022-10-02T17:53:34.708Z"
   },
   {
    "duration": 298,
    "start_time": "2022-10-02T17:53:34.735Z"
   },
   {
    "duration": 4,
    "start_time": "2022-10-02T17:53:35.037Z"
   },
   {
    "duration": 44,
    "start_time": "2022-10-02T17:53:35.042Z"
   },
   {
    "duration": 10,
    "start_time": "2022-10-02T17:53:35.087Z"
   },
   {
    "duration": 18,
    "start_time": "2022-10-02T17:53:35.099Z"
   },
   {
    "duration": 27,
    "start_time": "2022-10-02T17:53:35.119Z"
   },
   {
    "duration": 6,
    "start_time": "2022-10-02T17:53:35.147Z"
   },
   {
    "duration": 27,
    "start_time": "2022-10-02T17:53:35.155Z"
   },
   {
    "duration": 27,
    "start_time": "2022-10-02T17:53:35.183Z"
   },
   {
    "duration": 8,
    "start_time": "2022-10-02T17:53:35.212Z"
   },
   {
    "duration": 8,
    "start_time": "2022-10-02T17:53:35.222Z"
   },
   {
    "duration": 7,
    "start_time": "2022-10-02T17:53:35.231Z"
   },
   {
    "duration": 4,
    "start_time": "2022-10-02T17:53:35.240Z"
   },
   {
    "duration": 9,
    "start_time": "2022-10-02T17:53:35.245Z"
   },
   {
    "duration": 265,
    "start_time": "2022-10-02T17:53:35.255Z"
   },
   {
    "duration": 5,
    "start_time": "2022-10-02T17:53:35.522Z"
   },
   {
    "duration": 7,
    "start_time": "2022-10-02T17:53:35.528Z"
   },
   {
    "duration": 6,
    "start_time": "2022-10-02T17:53:35.537Z"
   },
   {
    "duration": 13,
    "start_time": "2022-10-02T17:53:35.545Z"
   },
   {
    "duration": 9,
    "start_time": "2022-10-02T17:53:35.559Z"
   },
   {
    "duration": 5,
    "start_time": "2022-10-02T17:53:35.570Z"
   },
   {
    "duration": 49,
    "start_time": "2022-10-02T17:53:35.577Z"
   },
   {
    "duration": 5,
    "start_time": "2022-10-02T17:53:35.627Z"
   },
   {
    "duration": 7,
    "start_time": "2022-10-02T17:53:35.634Z"
   },
   {
    "duration": 132,
    "start_time": "2022-10-02T17:53:35.643Z"
   },
   {
    "duration": 48,
    "start_time": "2022-10-02T17:53:35.777Z"
   },
   {
    "duration": 4,
    "start_time": "2022-10-02T17:53:35.827Z"
   },
   {
    "duration": 9,
    "start_time": "2022-10-02T17:53:35.833Z"
   },
   {
    "duration": 237,
    "start_time": "2022-10-02T17:53:35.843Z"
   },
   {
    "duration": 4,
    "start_time": "2022-10-02T17:53:36.082Z"
   },
   {
    "duration": 17,
    "start_time": "2022-10-02T17:53:36.087Z"
   },
   {
    "duration": 22,
    "start_time": "2022-10-02T17:53:36.106Z"
   },
   {
    "duration": 7,
    "start_time": "2022-10-02T17:53:36.129Z"
   },
   {
    "duration": 226,
    "start_time": "2022-10-02T17:53:36.138Z"
   },
   {
    "duration": 26,
    "start_time": "2022-10-02T17:53:36.365Z"
   },
   {
    "duration": 29,
    "start_time": "2022-10-02T17:53:36.400Z"
   },
   {
    "duration": 8,
    "start_time": "2022-10-02T17:53:36.430Z"
   },
   {
    "duration": 4,
    "start_time": "2022-10-02T17:53:36.439Z"
   },
   {
    "duration": 5,
    "start_time": "2022-10-02T17:53:36.445Z"
   },
   {
    "duration": 7,
    "start_time": "2022-10-02T17:53:36.451Z"
   },
   {
    "duration": 7,
    "start_time": "2022-10-02T17:53:36.459Z"
   },
   {
    "duration": 44,
    "start_time": "2022-10-02T17:53:36.467Z"
   },
   {
    "duration": 8,
    "start_time": "2022-10-02T17:53:36.513Z"
   },
   {
    "duration": 102,
    "start_time": "2022-10-02T17:53:36.522Z"
   },
   {
    "duration": 126,
    "start_time": "2022-10-02T17:53:36.626Z"
   },
   {
    "duration": 4,
    "start_time": "2022-10-02T17:53:36.753Z"
   },
   {
    "duration": 8,
    "start_time": "2022-10-02T17:53:36.759Z"
   },
   {
    "duration": 51,
    "start_time": "2022-10-02T17:53:36.769Z"
   },
   {
    "duration": 9,
    "start_time": "2022-10-02T17:53:36.822Z"
   },
   {
    "duration": 130,
    "start_time": "2022-10-02T17:53:36.833Z"
   },
   {
    "duration": 225,
    "start_time": "2022-10-02T17:53:36.964Z"
   },
   {
    "duration": 24,
    "start_time": "2022-10-02T17:53:37.191Z"
   },
   {
    "duration": 7,
    "start_time": "2022-10-02T17:53:37.216Z"
   },
   {
    "duration": 113,
    "start_time": "2022-10-02T17:53:37.224Z"
   },
   {
    "duration": 142,
    "start_time": "2022-10-02T17:53:37.338Z"
   },
   {
    "duration": 4,
    "start_time": "2022-10-02T17:53:37.485Z"
   },
   {
    "duration": 13,
    "start_time": "2022-10-02T17:53:37.500Z"
   },
   {
    "duration": 5,
    "start_time": "2022-10-02T17:53:37.515Z"
   },
   {
    "duration": 8,
    "start_time": "2022-10-02T17:53:37.521Z"
   },
   {
    "duration": 136,
    "start_time": "2022-10-02T17:53:37.531Z"
   },
   {
    "duration": 4,
    "start_time": "2022-10-02T17:53:37.669Z"
   },
   {
    "duration": 36,
    "start_time": "2022-10-02T17:53:37.675Z"
   },
   {
    "duration": 19,
    "start_time": "2022-10-02T17:53:37.713Z"
   },
   {
    "duration": 7,
    "start_time": "2022-10-02T17:53:37.734Z"
   },
   {
    "duration": 45,
    "start_time": "2022-10-02T17:53:37.743Z"
   },
   {
    "duration": 36,
    "start_time": "2022-10-02T17:53:37.805Z"
   },
   {
    "duration": 18,
    "start_time": "2022-10-02T17:53:37.842Z"
   },
   {
    "duration": 23,
    "start_time": "2022-10-02T17:53:37.862Z"
   },
   {
    "duration": 13,
    "start_time": "2022-10-02T17:53:37.900Z"
   },
   {
    "duration": 180,
    "start_time": "2022-10-02T17:53:37.915Z"
   },
   {
    "duration": 17,
    "start_time": "2022-10-02T17:53:38.097Z"
   },
   {
    "duration": 32,
    "start_time": "2022-10-02T17:53:38.116Z"
   },
   {
    "duration": 32,
    "start_time": "2022-10-02T17:53:38.150Z"
   },
   {
    "duration": 29,
    "start_time": "2022-10-02T17:53:38.183Z"
   },
   {
    "duration": 24,
    "start_time": "2022-10-02T17:53:38.214Z"
   },
   {
    "duration": 143,
    "start_time": "2022-10-02T17:53:38.240Z"
   },
   {
    "duration": 132,
    "start_time": "2022-10-02T17:53:38.384Z"
   },
   {
    "duration": 130,
    "start_time": "2022-10-02T17:53:38.518Z"
   },
   {
    "duration": 4,
    "start_time": "2022-10-02T17:53:38.649Z"
   },
   {
    "duration": 926,
    "start_time": "2022-10-02T17:53:38.655Z"
   },
   {
    "duration": 34,
    "start_time": "2022-10-02T17:53:39.582Z"
   },
   {
    "duration": 6,
    "start_time": "2022-10-02T17:53:39.621Z"
   },
   {
    "duration": 14,
    "start_time": "2022-10-02T17:53:39.628Z"
   },
   {
    "duration": 7,
    "start_time": "2022-10-02T17:53:39.643Z"
   },
   {
    "duration": 43,
    "start_time": "2022-10-02T17:53:39.652Z"
   },
   {
    "duration": 162,
    "start_time": "2022-10-02T17:53:39.705Z"
   },
   {
    "duration": 9,
    "start_time": "2022-10-02T17:53:39.868Z"
   },
   {
    "duration": 7,
    "start_time": "2022-10-02T18:30:01.643Z"
   },
   {
    "duration": 18,
    "start_time": "2022-10-02T18:30:35.793Z"
   },
   {
    "duration": 93,
    "start_time": "2022-10-02T18:30:41.223Z"
   },
   {
    "duration": 6,
    "start_time": "2022-10-02T18:32:05.503Z"
   },
   {
    "duration": 16,
    "start_time": "2022-10-02T18:32:37.129Z"
   },
   {
    "duration": 6,
    "start_time": "2022-10-02T19:00:54.699Z"
   },
   {
    "duration": 24,
    "start_time": "2022-10-02T19:04:11.980Z"
   },
   {
    "duration": 64,
    "start_time": "2022-10-03T07:08:21.142Z"
   },
   {
    "duration": 6,
    "start_time": "2022-10-03T07:08:26.558Z"
   },
   {
    "duration": 550,
    "start_time": "2022-10-03T10:06:48.020Z"
   },
   {
    "duration": 287,
    "start_time": "2022-10-03T10:06:48.573Z"
   },
   {
    "duration": 16,
    "start_time": "2022-10-03T10:06:48.861Z"
   },
   {
    "duration": 2402,
    "start_time": "2022-10-03T10:06:48.879Z"
   },
   {
    "duration": 53,
    "start_time": "2022-10-03T10:06:51.283Z"
   },
   {
    "duration": 15,
    "start_time": "2022-10-03T10:06:51.338Z"
   },
   {
    "duration": 27,
    "start_time": "2022-10-03T10:06:51.355Z"
   },
   {
    "duration": 17,
    "start_time": "2022-10-03T10:06:51.385Z"
   },
   {
    "duration": 8,
    "start_time": "2022-10-03T10:06:51.404Z"
   },
   {
    "duration": 9,
    "start_time": "2022-10-03T10:06:51.414Z"
   },
   {
    "duration": 7,
    "start_time": "2022-10-03T10:06:51.425Z"
   },
   {
    "duration": 211,
    "start_time": "2022-10-03T10:06:51.434Z"
   },
   {
    "duration": 5,
    "start_time": "2022-10-03T10:06:51.647Z"
   },
   {
    "duration": 16,
    "start_time": "2022-10-03T10:06:51.653Z"
   },
   {
    "duration": 186,
    "start_time": "2022-10-03T10:06:51.670Z"
   },
   {
    "duration": 8,
    "start_time": "2022-10-03T10:06:51.858Z"
   },
   {
    "duration": 2615,
    "start_time": "2022-10-03T10:06:51.877Z"
   },
   {
    "duration": 28,
    "start_time": "2022-10-03T10:06:54.493Z"
   },
   {
    "duration": 13,
    "start_time": "2022-10-03T10:06:54.523Z"
   },
   {
    "duration": 7,
    "start_time": "2022-10-03T10:06:54.538Z"
   },
   {
    "duration": 8,
    "start_time": "2022-10-03T10:06:54.547Z"
   },
   {
    "duration": 167,
    "start_time": "2022-10-03T10:06:54.577Z"
   },
   {
    "duration": 12,
    "start_time": "2022-10-03T10:06:54.746Z"
   },
   {
    "duration": 170,
    "start_time": "2022-10-03T10:06:54.760Z"
   },
   {
    "duration": 13,
    "start_time": "2022-10-03T10:06:54.932Z"
   },
   {
    "duration": 12,
    "start_time": "2022-10-03T10:06:54.946Z"
   },
   {
    "duration": 371,
    "start_time": "2022-10-03T10:06:54.977Z"
   },
   {
    "duration": 6,
    "start_time": "2022-10-03T10:06:55.354Z"
   },
   {
    "duration": 23,
    "start_time": "2022-10-03T10:06:55.361Z"
   },
   {
    "duration": 15,
    "start_time": "2022-10-03T10:06:55.386Z"
   },
   {
    "duration": 14,
    "start_time": "2022-10-03T10:06:55.403Z"
   },
   {
    "duration": 34,
    "start_time": "2022-10-03T10:06:55.419Z"
   },
   {
    "duration": 7,
    "start_time": "2022-10-03T10:06:55.455Z"
   },
   {
    "duration": 41,
    "start_time": "2022-10-03T10:06:55.463Z"
   },
   {
    "duration": 8,
    "start_time": "2022-10-03T10:06:55.505Z"
   },
   {
    "duration": 11,
    "start_time": "2022-10-03T10:06:55.515Z"
   },
   {
    "duration": 10,
    "start_time": "2022-10-03T10:06:55.527Z"
   },
   {
    "duration": 9,
    "start_time": "2022-10-03T10:06:55.538Z"
   },
   {
    "duration": 29,
    "start_time": "2022-10-03T10:06:55.549Z"
   },
   {
    "duration": 9,
    "start_time": "2022-10-03T10:06:55.579Z"
   },
   {
    "duration": 254,
    "start_time": "2022-10-03T10:06:55.590Z"
   },
   {
    "duration": 6,
    "start_time": "2022-10-03T10:06:55.845Z"
   },
   {
    "duration": 12,
    "start_time": "2022-10-03T10:06:55.852Z"
   },
   {
    "duration": 14,
    "start_time": "2022-10-03T10:06:55.866Z"
   },
   {
    "duration": 24,
    "start_time": "2022-10-03T10:06:55.881Z"
   },
   {
    "duration": 9,
    "start_time": "2022-10-03T10:06:55.906Z"
   },
   {
    "duration": 8,
    "start_time": "2022-10-03T10:06:55.916Z"
   },
   {
    "duration": 11,
    "start_time": "2022-10-03T10:06:55.926Z"
   },
   {
    "duration": 28,
    "start_time": "2022-10-03T10:06:55.939Z"
   },
   {
    "duration": 6,
    "start_time": "2022-10-03T10:06:55.969Z"
   },
   {
    "duration": 152,
    "start_time": "2022-10-03T10:06:55.977Z"
   },
   {
    "duration": 50,
    "start_time": "2022-10-03T10:06:56.130Z"
   },
   {
    "duration": 6,
    "start_time": "2022-10-03T10:06:56.182Z"
   },
   {
    "duration": 11,
    "start_time": "2022-10-03T10:06:56.189Z"
   },
   {
    "duration": 281,
    "start_time": "2022-10-03T10:06:56.202Z"
   },
   {
    "duration": 5,
    "start_time": "2022-10-03T10:06:56.484Z"
   },
   {
    "duration": 11,
    "start_time": "2022-10-03T10:06:56.491Z"
   },
   {
    "duration": 15,
    "start_time": "2022-10-03T10:06:56.504Z"
   },
   {
    "duration": 9,
    "start_time": "2022-10-03T10:06:56.520Z"
   },
   {
    "duration": 296,
    "start_time": "2022-10-03T10:06:56.530Z"
   },
   {
    "duration": 31,
    "start_time": "2022-10-03T10:06:56.828Z"
   },
   {
    "duration": 46,
    "start_time": "2022-10-03T10:06:56.860Z"
   },
   {
    "duration": 9,
    "start_time": "2022-10-03T10:06:56.908Z"
   },
   {
    "duration": 12,
    "start_time": "2022-10-03T10:06:56.919Z"
   },
   {
    "duration": 6,
    "start_time": "2022-10-03T10:06:56.933Z"
   },
   {
    "duration": 11,
    "start_time": "2022-10-03T10:06:56.941Z"
   },
   {
    "duration": 42,
    "start_time": "2022-10-03T10:06:56.954Z"
   },
   {
    "duration": 30,
    "start_time": "2022-10-03T10:06:56.998Z"
   },
   {
    "duration": 10,
    "start_time": "2022-10-03T10:06:57.030Z"
   },
   {
    "duration": 137,
    "start_time": "2022-10-03T10:06:57.041Z"
   },
   {
    "duration": 150,
    "start_time": "2022-10-03T10:06:57.180Z"
   },
   {
    "duration": 5,
    "start_time": "2022-10-03T10:06:57.331Z"
   },
   {
    "duration": 9,
    "start_time": "2022-10-03T10:06:57.338Z"
   },
   {
    "duration": 42,
    "start_time": "2022-10-03T10:06:57.349Z"
   },
   {
    "duration": 9,
    "start_time": "2022-10-03T10:06:57.392Z"
   },
   {
    "duration": 257,
    "start_time": "2022-10-03T10:06:57.403Z"
   },
   {
    "duration": 156,
    "start_time": "2022-10-03T10:06:57.662Z"
   },
   {
    "duration": 5,
    "start_time": "2022-10-03T10:06:57.820Z"
   },
   {
    "duration": 7,
    "start_time": "2022-10-03T10:06:57.826Z"
   },
   {
    "duration": 151,
    "start_time": "2022-10-03T10:06:57.835Z"
   },
   {
    "duration": 163,
    "start_time": "2022-10-03T10:06:57.988Z"
   },
   {
    "duration": 5,
    "start_time": "2022-10-03T10:06:58.157Z"
   },
   {
    "duration": 19,
    "start_time": "2022-10-03T10:06:58.163Z"
   },
   {
    "duration": 5,
    "start_time": "2022-10-03T10:06:58.185Z"
   },
   {
    "duration": 11,
    "start_time": "2022-10-03T10:06:58.192Z"
   },
   {
    "duration": 175,
    "start_time": "2022-10-03T10:06:58.205Z"
   },
   {
    "duration": 5,
    "start_time": "2022-10-03T10:06:58.382Z"
   },
   {
    "duration": 31,
    "start_time": "2022-10-03T10:06:58.389Z"
   },
   {
    "duration": 40,
    "start_time": "2022-10-03T10:06:58.423Z"
   },
   {
    "duration": 14,
    "start_time": "2022-10-03T10:06:58.465Z"
   },
   {
    "duration": 99,
    "start_time": "2022-10-03T10:06:58.481Z"
   },
   {
    "duration": 34,
    "start_time": "2022-10-03T10:06:58.582Z"
   },
   {
    "duration": 26,
    "start_time": "2022-10-03T10:06:58.618Z"
   },
   {
    "duration": 47,
    "start_time": "2022-10-03T10:06:58.646Z"
   },
   {
    "duration": 28,
    "start_time": "2022-10-03T10:06:58.694Z"
   },
   {
    "duration": 230,
    "start_time": "2022-10-03T10:06:58.724Z"
   },
   {
    "duration": 22,
    "start_time": "2022-10-03T10:06:58.956Z"
   },
   {
    "duration": 37,
    "start_time": "2022-10-03T10:06:58.980Z"
   },
   {
    "duration": 55,
    "start_time": "2022-10-03T10:06:59.019Z"
   },
   {
    "duration": 12,
    "start_time": "2022-10-03T10:06:59.076Z"
   },
   {
    "duration": 28,
    "start_time": "2022-10-03T10:06:59.090Z"
   },
   {
    "duration": 151,
    "start_time": "2022-10-03T10:06:59.120Z"
   },
   {
    "duration": 135,
    "start_time": "2022-10-03T10:06:59.273Z"
   },
   {
    "duration": 152,
    "start_time": "2022-10-03T10:06:59.410Z"
   },
   {
    "duration": 4,
    "start_time": "2022-10-03T10:06:59.564Z"
   },
   {
    "duration": 197,
    "start_time": "2022-10-03T10:06:59.576Z"
   },
   {
    "duration": 8,
    "start_time": "2022-10-03T10:06:59.776Z"
   },
   {
    "duration": 28,
    "start_time": "2022-10-03T10:06:59.786Z"
   },
   {
    "duration": 21,
    "start_time": "2022-10-03T10:06:59.815Z"
   },
   {
    "duration": 46,
    "start_time": "2022-10-03T10:06:59.838Z"
   },
   {
    "duration": 188,
    "start_time": "2022-10-03T10:06:59.886Z"
   },
   {
    "duration": 10,
    "start_time": "2022-10-03T10:07:00.076Z"
   },
   {
    "duration": 72,
    "start_time": "2022-10-03T10:07:50.839Z"
   },
   {
    "duration": 8,
    "start_time": "2022-10-03T10:09:40.478Z"
   },
   {
    "duration": 1011,
    "start_time": "2022-10-03T10:10:18.171Z"
   },
   {
    "duration": 376,
    "start_time": "2022-10-03T10:11:02.961Z"
   },
   {
    "duration": 483,
    "start_time": "2022-10-03T10:11:39.142Z"
   },
   {
    "duration": 364,
    "start_time": "2022-10-03T10:12:00.035Z"
   },
   {
    "duration": 55,
    "start_time": "2022-10-03T10:14:59.114Z"
   },
   {
    "duration": 111,
    "start_time": "2022-10-03T10:15:01.668Z"
   },
   {
    "duration": 66,
    "start_time": "2022-10-03T10:16:47.750Z"
   },
   {
    "duration": 2959,
    "start_time": "2022-10-03T10:18:50.440Z"
   },
   {
    "duration": 568,
    "start_time": "2022-10-03T10:19:21.454Z"
   },
   {
    "duration": 155,
    "start_time": "2022-10-03T10:19:22.024Z"
   },
   {
    "duration": 14,
    "start_time": "2022-10-03T10:19:22.181Z"
   },
   {
    "duration": 2244,
    "start_time": "2022-10-03T10:19:22.197Z"
   },
   {
    "duration": 57,
    "start_time": "2022-10-03T10:19:24.442Z"
   },
   {
    "duration": 14,
    "start_time": "2022-10-03T10:19:24.501Z"
   },
   {
    "duration": 7,
    "start_time": "2022-10-03T10:19:24.516Z"
   },
   {
    "duration": 14,
    "start_time": "2022-10-03T10:19:24.525Z"
   },
   {
    "duration": 9,
    "start_time": "2022-10-03T10:19:24.541Z"
   },
   {
    "duration": 9,
    "start_time": "2022-10-03T10:19:24.579Z"
   },
   {
    "duration": 15,
    "start_time": "2022-10-03T10:19:24.590Z"
   },
   {
    "duration": 202,
    "start_time": "2022-10-03T10:19:24.606Z"
   },
   {
    "duration": 5,
    "start_time": "2022-10-03T10:19:24.809Z"
   },
   {
    "duration": 13,
    "start_time": "2022-10-03T10:19:24.816Z"
   },
   {
    "duration": 183,
    "start_time": "2022-10-03T10:19:24.831Z"
   },
   {
    "duration": 9,
    "start_time": "2022-10-03T10:19:25.016Z"
   },
   {
    "duration": 2782,
    "start_time": "2022-10-03T10:19:25.026Z"
   },
   {
    "duration": 31,
    "start_time": "2022-10-03T10:19:27.809Z"
   },
   {
    "duration": 11,
    "start_time": "2022-10-03T10:19:27.841Z"
   },
   {
    "duration": 32,
    "start_time": "2022-10-03T10:19:27.853Z"
   },
   {
    "duration": 8,
    "start_time": "2022-10-03T10:19:27.887Z"
   },
   {
    "duration": 162,
    "start_time": "2022-10-03T10:19:27.897Z"
   },
   {
    "duration": 17,
    "start_time": "2022-10-03T10:19:28.060Z"
   },
   {
    "duration": 145,
    "start_time": "2022-10-03T10:19:28.079Z"
   },
   {
    "duration": 11,
    "start_time": "2022-10-03T10:19:28.226Z"
   },
   {
    "duration": 11,
    "start_time": "2022-10-03T10:19:28.239Z"
   },
   {
    "duration": 356,
    "start_time": "2022-10-03T10:19:28.251Z"
   },
   {
    "duration": 5,
    "start_time": "2022-10-03T10:19:28.612Z"
   },
   {
    "duration": 10,
    "start_time": "2022-10-03T10:19:28.619Z"
   },
   {
    "duration": 16,
    "start_time": "2022-10-03T10:19:28.630Z"
   },
   {
    "duration": 12,
    "start_time": "2022-10-03T10:19:28.647Z"
   },
   {
    "duration": 48,
    "start_time": "2022-10-03T10:19:28.661Z"
   },
   {
    "duration": 7,
    "start_time": "2022-10-03T10:19:28.711Z"
   },
   {
    "duration": 31,
    "start_time": "2022-10-03T10:19:28.719Z"
   },
   {
    "duration": 26,
    "start_time": "2022-10-03T10:19:28.752Z"
   },
   {
    "duration": 7,
    "start_time": "2022-10-03T10:19:28.780Z"
   },
   {
    "duration": 12,
    "start_time": "2022-10-03T10:19:28.789Z"
   },
   {
    "duration": 11,
    "start_time": "2022-10-03T10:19:28.802Z"
   },
   {
    "duration": 7,
    "start_time": "2022-10-03T10:19:28.814Z"
   },
   {
    "duration": 11,
    "start_time": "2022-10-03T10:19:28.822Z"
   },
   {
    "duration": 267,
    "start_time": "2022-10-03T10:19:28.834Z"
   },
   {
    "duration": 5,
    "start_time": "2022-10-03T10:19:29.103Z"
   },
   {
    "duration": 13,
    "start_time": "2022-10-03T10:19:29.110Z"
   },
   {
    "duration": 6,
    "start_time": "2022-10-03T10:19:29.125Z"
   },
   {
    "duration": 13,
    "start_time": "2022-10-03T10:19:29.133Z"
   },
   {
    "duration": 19,
    "start_time": "2022-10-03T10:19:29.148Z"
   },
   {
    "duration": 10,
    "start_time": "2022-10-03T10:19:29.169Z"
   },
   {
    "duration": 9,
    "start_time": "2022-10-03T10:19:29.181Z"
   },
   {
    "duration": 4,
    "start_time": "2022-10-03T10:19:29.192Z"
   },
   {
    "duration": 6,
    "start_time": "2022-10-03T10:19:29.198Z"
   },
   {
    "duration": 164,
    "start_time": "2022-10-03T10:19:29.206Z"
   },
   {
    "duration": 42,
    "start_time": "2022-10-03T10:19:29.376Z"
   },
   {
    "duration": 6,
    "start_time": "2022-10-03T10:19:29.420Z"
   },
   {
    "duration": 9,
    "start_time": "2022-10-03T10:19:29.428Z"
   },
   {
    "duration": 271,
    "start_time": "2022-10-03T10:19:29.439Z"
   },
   {
    "duration": 6,
    "start_time": "2022-10-03T10:19:29.712Z"
   },
   {
    "duration": 11,
    "start_time": "2022-10-03T10:19:29.719Z"
   },
   {
    "duration": 14,
    "start_time": "2022-10-03T10:19:29.732Z"
   },
   {
    "duration": 29,
    "start_time": "2022-10-03T10:19:29.748Z"
   },
   {
    "duration": 250,
    "start_time": "2022-10-03T10:19:29.779Z"
   },
   {
    "duration": 30,
    "start_time": "2022-10-03T10:19:30.031Z"
   },
   {
    "duration": 51,
    "start_time": "2022-10-03T10:19:30.076Z"
   },
   {
    "duration": 29,
    "start_time": "2022-10-03T10:19:30.129Z"
   },
   {
    "duration": 31,
    "start_time": "2022-10-03T10:19:30.160Z"
   },
   {
    "duration": 20,
    "start_time": "2022-10-03T10:19:30.192Z"
   },
   {
    "duration": 24,
    "start_time": "2022-10-03T10:19:30.214Z"
   },
   {
    "duration": 23,
    "start_time": "2022-10-03T10:19:30.240Z"
   },
   {
    "duration": 41,
    "start_time": "2022-10-03T10:19:30.265Z"
   },
   {
    "duration": 31,
    "start_time": "2022-10-03T10:19:30.308Z"
   },
   {
    "duration": 127,
    "start_time": "2022-10-03T10:19:30.341Z"
   },
   {
    "duration": 161,
    "start_time": "2022-10-03T10:19:30.470Z"
   },
   {
    "duration": 5,
    "start_time": "2022-10-03T10:19:30.633Z"
   },
   {
    "duration": 46,
    "start_time": "2022-10-03T10:19:30.639Z"
   },
   {
    "duration": 40,
    "start_time": "2022-10-03T10:19:30.687Z"
   },
   {
    "duration": 8,
    "start_time": "2022-10-03T10:19:30.729Z"
   },
   {
    "duration": 133,
    "start_time": "2022-10-03T10:19:30.738Z"
   },
   {
    "duration": 216,
    "start_time": "2022-10-03T10:19:30.876Z"
   },
   {
    "duration": 6,
    "start_time": "2022-10-03T10:19:31.093Z"
   },
   {
    "duration": 21,
    "start_time": "2022-10-03T10:19:31.100Z"
   },
   {
    "duration": 135,
    "start_time": "2022-10-03T10:19:31.122Z"
   },
   {
    "duration": 152,
    "start_time": "2022-10-03T10:19:31.258Z"
   },
   {
    "duration": 4,
    "start_time": "2022-10-03T10:19:31.416Z"
   },
   {
    "duration": 51,
    "start_time": "2022-10-03T10:19:31.422Z"
   },
   {
    "duration": 35,
    "start_time": "2022-10-03T10:19:31.474Z"
   },
   {
    "duration": 36,
    "start_time": "2022-10-03T10:19:31.510Z"
   },
   {
    "duration": 171,
    "start_time": "2022-10-03T10:19:31.548Z"
   },
   {
    "duration": 4,
    "start_time": "2022-10-03T10:19:31.721Z"
   },
   {
    "duration": 35,
    "start_time": "2022-10-03T10:19:31.727Z"
   },
   {
    "duration": 31,
    "start_time": "2022-10-03T10:19:31.764Z"
   },
   {
    "duration": 21,
    "start_time": "2022-10-03T10:19:31.797Z"
   },
   {
    "duration": 67,
    "start_time": "2022-10-03T10:19:31.820Z"
   },
   {
    "duration": 33,
    "start_time": "2022-10-03T10:19:31.889Z"
   },
   {
    "duration": 40,
    "start_time": "2022-10-03T10:19:31.924Z"
   },
   {
    "duration": 29,
    "start_time": "2022-10-03T10:19:31.966Z"
   },
   {
    "duration": 19,
    "start_time": "2022-10-03T10:19:31.997Z"
   },
   {
    "duration": 211,
    "start_time": "2022-10-03T10:19:32.018Z"
   },
   {
    "duration": 12,
    "start_time": "2022-10-03T10:19:32.230Z"
   },
   {
    "duration": 46,
    "start_time": "2022-10-03T10:19:32.243Z"
   },
   {
    "duration": 37,
    "start_time": "2022-10-03T10:19:32.290Z"
   },
   {
    "duration": 12,
    "start_time": "2022-10-03T10:19:32.329Z"
   },
   {
    "duration": 30,
    "start_time": "2022-10-03T10:19:32.342Z"
   },
   {
    "duration": 143,
    "start_time": "2022-10-03T10:19:32.374Z"
   },
   {
    "duration": 136,
    "start_time": "2022-10-03T10:19:32.518Z"
   },
   {
    "duration": 149,
    "start_time": "2022-10-03T10:19:32.656Z"
   },
   {
    "duration": 5,
    "start_time": "2022-10-03T10:19:32.807Z"
   },
   {
    "duration": 900,
    "start_time": "2022-10-03T10:19:32.814Z"
   },
   {
    "duration": 492,
    "start_time": "2022-10-03T10:19:33.716Z"
   },
   {
    "duration": 361,
    "start_time": "2022-10-03T10:19:34.210Z"
   },
   {
    "duration": 8,
    "start_time": "2022-10-03T10:19:34.576Z"
   },
   {
    "duration": 24,
    "start_time": "2022-10-03T10:19:34.585Z"
   },
   {
    "duration": 9,
    "start_time": "2022-10-03T10:19:34.611Z"
   },
   {
    "duration": 56,
    "start_time": "2022-10-03T10:19:34.621Z"
   },
   {
    "duration": 180,
    "start_time": "2022-10-03T10:19:34.679Z"
   },
   {
    "duration": 18,
    "start_time": "2022-10-03T10:19:34.861Z"
   },
   {
    "duration": 136,
    "start_time": "2022-10-03T10:23:01.613Z"
   },
   {
    "duration": 139,
    "start_time": "2022-10-03T10:23:43.628Z"
   },
   {
    "duration": 155,
    "start_time": "2022-10-03T10:24:02.481Z"
   },
   {
    "duration": 132,
    "start_time": "2022-10-03T10:24:23.617Z"
   },
   {
    "duration": 147,
    "start_time": "2022-10-03T10:26:18.641Z"
   },
   {
    "duration": 133,
    "start_time": "2022-10-03T10:29:24.750Z"
   },
   {
    "duration": 497,
    "start_time": "2022-10-03T10:33:59.955Z"
   },
   {
    "duration": 476,
    "start_time": "2022-10-03T10:34:26.520Z"
   },
   {
    "duration": 333,
    "start_time": "2022-10-03T10:34:48.925Z"
   },
   {
    "duration": 356,
    "start_time": "2022-10-03T10:35:45.939Z"
   },
   {
    "duration": 591,
    "start_time": "2022-10-03T11:40:03.175Z"
   },
   {
    "duration": 214,
    "start_time": "2022-10-03T11:40:03.768Z"
   },
   {
    "duration": 16,
    "start_time": "2022-10-03T11:40:03.984Z"
   },
   {
    "duration": 2315,
    "start_time": "2022-10-03T11:40:04.002Z"
   },
   {
    "duration": 58,
    "start_time": "2022-10-03T11:40:06.318Z"
   },
   {
    "duration": 15,
    "start_time": "2022-10-03T11:40:06.378Z"
   },
   {
    "duration": 8,
    "start_time": "2022-10-03T11:40:06.394Z"
   },
   {
    "duration": 13,
    "start_time": "2022-10-03T11:40:06.404Z"
   },
   {
    "duration": 8,
    "start_time": "2022-10-03T11:40:06.419Z"
   },
   {
    "duration": 8,
    "start_time": "2022-10-03T11:40:06.429Z"
   },
   {
    "duration": 43,
    "start_time": "2022-10-03T11:40:06.438Z"
   },
   {
    "duration": 183,
    "start_time": "2022-10-03T11:40:06.482Z"
   },
   {
    "duration": 12,
    "start_time": "2022-10-03T11:40:06.667Z"
   },
   {
    "duration": 16,
    "start_time": "2022-10-03T11:40:06.681Z"
   },
   {
    "duration": 172,
    "start_time": "2022-10-03T11:40:06.699Z"
   },
   {
    "duration": 10,
    "start_time": "2022-10-03T11:40:06.872Z"
   },
   {
    "duration": 2644,
    "start_time": "2022-10-03T11:40:06.884Z"
   },
   {
    "duration": 31,
    "start_time": "2022-10-03T11:40:09.530Z"
   },
   {
    "duration": 10,
    "start_time": "2022-10-03T11:40:09.576Z"
   },
   {
    "duration": 6,
    "start_time": "2022-10-03T11:40:09.588Z"
   },
   {
    "duration": 5,
    "start_time": "2022-10-03T11:40:09.596Z"
   },
   {
    "duration": 174,
    "start_time": "2022-10-03T11:40:09.602Z"
   },
   {
    "duration": 12,
    "start_time": "2022-10-03T11:40:09.778Z"
   },
   {
    "duration": 146,
    "start_time": "2022-10-03T11:40:09.791Z"
   },
   {
    "duration": 11,
    "start_time": "2022-10-03T11:40:09.939Z"
   },
   {
    "duration": 16,
    "start_time": "2022-10-03T11:40:09.951Z"
   },
   {
    "duration": 330,
    "start_time": "2022-10-03T11:40:19.318Z"
   },
   {
    "duration": 4,
    "start_time": "2022-10-03T11:40:19.650Z"
   },
   {
    "duration": 41,
    "start_time": "2022-10-03T11:40:19.656Z"
   },
   {
    "duration": 36,
    "start_time": "2022-10-03T11:40:19.699Z"
   },
   {
    "duration": 62,
    "start_time": "2022-10-03T11:40:19.737Z"
   },
   {
    "duration": 62,
    "start_time": "2022-10-03T11:40:19.800Z"
   },
   {
    "duration": 10,
    "start_time": "2022-10-03T11:40:19.863Z"
   },
   {
    "duration": 30,
    "start_time": "2022-10-03T11:40:20.202Z"
   },
   {
    "duration": 29,
    "start_time": "2022-10-03T11:40:20.233Z"
   },
   {
    "duration": 29,
    "start_time": "2022-10-03T11:40:20.264Z"
   },
   {
    "duration": 41,
    "start_time": "2022-10-03T11:40:20.294Z"
   },
   {
    "duration": 45,
    "start_time": "2022-10-03T11:40:20.337Z"
   },
   {
    "duration": 23,
    "start_time": "2022-10-03T11:40:20.384Z"
   },
   {
    "duration": 38,
    "start_time": "2022-10-03T11:40:20.408Z"
   },
   {
    "duration": 235,
    "start_time": "2022-10-03T11:40:24.143Z"
   },
   {
    "duration": 5,
    "start_time": "2022-10-03T11:40:24.380Z"
   },
   {
    "duration": 7,
    "start_time": "2022-10-03T11:40:24.386Z"
   },
   {
    "duration": 5,
    "start_time": "2022-10-03T11:40:24.394Z"
   },
   {
    "duration": 10,
    "start_time": "2022-10-03T11:40:24.401Z"
   },
   {
    "duration": 8,
    "start_time": "2022-10-03T11:40:24.412Z"
   },
   {
    "duration": 5,
    "start_time": "2022-10-03T11:40:24.421Z"
   },
   {
    "duration": 10,
    "start_time": "2022-10-03T11:40:24.428Z"
   },
   {
    "duration": 39,
    "start_time": "2022-10-03T11:40:24.439Z"
   },
   {
    "duration": 8,
    "start_time": "2022-10-03T11:40:24.479Z"
   },
   {
    "duration": 167,
    "start_time": "2022-10-03T11:40:24.488Z"
   },
   {
    "duration": 49,
    "start_time": "2022-10-03T11:40:24.657Z"
   },
   {
    "duration": 6,
    "start_time": "2022-10-03T11:40:24.707Z"
   },
   {
    "duration": 11,
    "start_time": "2022-10-03T11:40:24.716Z"
   },
   {
    "duration": 263,
    "start_time": "2022-10-03T11:40:24.728Z"
   },
   {
    "duration": 5,
    "start_time": "2022-10-03T11:40:24.993Z"
   },
   {
    "duration": 11,
    "start_time": "2022-10-03T11:40:24.999Z"
   },
   {
    "duration": 17,
    "start_time": "2022-10-03T11:40:25.011Z"
   },
   {
    "duration": 8,
    "start_time": "2022-10-03T11:40:25.030Z"
   },
   {
    "duration": 306,
    "start_time": "2022-10-03T11:40:25.040Z"
   },
   {
    "duration": 51,
    "start_time": "2022-10-03T11:40:25.348Z"
   },
   {
    "duration": 39,
    "start_time": "2022-10-03T11:40:25.401Z"
   },
   {
    "duration": 8,
    "start_time": "2022-10-03T11:40:25.442Z"
   },
   {
    "duration": 28,
    "start_time": "2022-10-03T11:40:25.452Z"
   },
   {
    "duration": 6,
    "start_time": "2022-10-03T11:40:25.481Z"
   },
   {
    "duration": 10,
    "start_time": "2022-10-03T11:40:25.489Z"
   },
   {
    "duration": 13,
    "start_time": "2022-10-03T11:40:25.501Z"
   },
   {
    "duration": 12,
    "start_time": "2022-10-03T11:40:25.516Z"
   },
   {
    "duration": 9,
    "start_time": "2022-10-03T11:40:25.529Z"
   },
   {
    "duration": 139,
    "start_time": "2022-10-03T11:40:25.539Z"
   },
   {
    "duration": 136,
    "start_time": "2022-10-03T11:40:25.680Z"
   },
   {
    "duration": 5,
    "start_time": "2022-10-03T11:40:25.817Z"
   },
   {
    "duration": 5,
    "start_time": "2022-10-03T11:40:27.724Z"
   },
   {
    "duration": 36,
    "start_time": "2022-10-03T11:40:27.731Z"
   },
   {
    "duration": 7,
    "start_time": "2022-10-03T11:40:27.768Z"
   },
   {
    "duration": 132,
    "start_time": "2022-10-03T11:40:27.777Z"
   },
   {
    "duration": 211,
    "start_time": "2022-10-03T11:40:27.911Z"
   },
   {
    "duration": 5,
    "start_time": "2022-10-03T11:40:28.124Z"
   },
   {
    "duration": 10,
    "start_time": "2022-10-03T11:40:28.130Z"
   },
   {
    "duration": 140,
    "start_time": "2022-10-03T11:40:28.141Z"
   },
   {
    "duration": 144,
    "start_time": "2022-10-03T11:40:28.283Z"
   },
   {
    "duration": 4,
    "start_time": "2022-10-03T11:40:28.429Z"
   },
   {
    "duration": 9,
    "start_time": "2022-10-03T11:40:28.435Z"
   },
   {
    "duration": 11,
    "start_time": "2022-10-03T11:40:28.445Z"
   },
   {
    "duration": 23,
    "start_time": "2022-10-03T11:40:28.458Z"
   },
   {
    "duration": 168,
    "start_time": "2022-10-03T11:40:28.484Z"
   },
   {
    "duration": 151,
    "start_time": "2022-10-03T11:40:28.654Z"
   },
   {
    "duration": 5,
    "start_time": "2022-10-03T11:40:28.807Z"
   },
   {
    "duration": 17,
    "start_time": "2022-10-03T11:40:28.813Z"
   },
   {
    "duration": 21,
    "start_time": "2022-10-03T11:40:28.831Z"
   },
   {
    "duration": 30,
    "start_time": "2022-10-03T11:40:28.854Z"
   },
   {
    "duration": 51,
    "start_time": "2022-10-03T11:40:28.886Z"
   },
   {
    "duration": 53,
    "start_time": "2022-10-03T11:40:28.939Z"
   },
   {
    "duration": 19,
    "start_time": "2022-10-03T11:40:28.994Z"
   },
   {
    "duration": 25,
    "start_time": "2022-10-03T11:40:29.015Z"
   },
   {
    "duration": 8,
    "start_time": "2022-10-03T11:40:29.041Z"
   },
   {
    "duration": 208,
    "start_time": "2022-10-03T11:40:29.051Z"
   },
   {
    "duration": 17,
    "start_time": "2022-10-03T11:40:29.261Z"
   },
   {
    "duration": 33,
    "start_time": "2022-10-03T11:40:29.279Z"
   },
   {
    "duration": 33,
    "start_time": "2022-10-03T11:40:29.314Z"
   },
   {
    "duration": 28,
    "start_time": "2022-10-03T11:40:29.349Z"
   },
   {
    "duration": 12,
    "start_time": "2022-10-03T11:40:29.379Z"
   },
   {
    "duration": 154,
    "start_time": "2022-10-03T11:40:29.392Z"
   },
   {
    "duration": 139,
    "start_time": "2022-10-03T11:40:29.548Z"
   },
   {
    "duration": 140,
    "start_time": "2022-10-03T11:40:29.688Z"
   },
   {
    "duration": 5,
    "start_time": "2022-10-03T11:40:29.829Z"
   },
   {
    "duration": 943,
    "start_time": "2022-10-03T11:40:29.835Z"
   },
   {
    "duration": 484,
    "start_time": "2022-10-03T11:40:30.780Z"
   },
   {
    "duration": 360,
    "start_time": "2022-10-03T11:40:31.266Z"
   },
   {
    "duration": 7,
    "start_time": "2022-10-03T11:40:31.628Z"
   },
   {
    "duration": 37,
    "start_time": "2022-10-03T11:40:31.637Z"
   },
   {
    "duration": 8,
    "start_time": "2022-10-03T11:40:31.676Z"
   },
   {
    "duration": 40,
    "start_time": "2022-10-03T11:40:31.688Z"
   },
   {
    "duration": 206,
    "start_time": "2022-10-03T11:40:31.729Z"
   },
   {
    "duration": 9,
    "start_time": "2022-10-03T11:40:31.937Z"
   }
  ],
  "kernelspec": {
   "display_name": "Python 3 (ipykernel)",
   "language": "python",
   "name": "python3"
  },
  "language_info": {
   "codemirror_mode": {
    "name": "ipython",
    "version": 3
   },
   "file_extension": ".py",
   "mimetype": "text/x-python",
   "name": "python",
   "nbconvert_exporter": "python",
   "pygments_lexer": "ipython3",
   "version": "3.9.12"
  },
  "toc": {
   "base_numbering": 1,
   "nav_menu": {},
   "number_sections": true,
   "sideBar": true,
   "skip_h1_title": true,
   "title_cell": "Table of Contents",
   "title_sidebar": "Contents",
   "toc_cell": false,
   "toc_position": {},
   "toc_section_display": true,
   "toc_window_display": false
  }
 },
 "nbformat": 4,
 "nbformat_minor": 5
}
