{
 "cells": [
  {
   "cell_type": "markdown",
   "id": "7a97666f",
   "metadata": {},
   "source": [
    "# Проектная работа"
   ]
  },
  {
   "cell_type": "markdown",
   "id": "620e9714",
   "metadata": {},
   "source": [
    " ## Тема: Принятие решений в бизнесе на основе А/В-тестов"
   ]
  },
  {
   "cell_type": "markdown",
   "id": "6d51abe5",
   "metadata": {},
   "source": [
    "### Цели проекта:\n",
    "- подготовить список гипотез для увеличения выручки интернет-магазина\n",
    "- приоритизировать полученные гипотезы\n",
    "- запустить A/B-тест и проанализировать результаты"
   ]
  },
  {
   "cell_type": "markdown",
   "id": "d060d156",
   "metadata": {},
   "source": [
    "### Описание проекта:\n",
    "### Часть 1: \n",
    " - Нам доступен файл `hypothesis.csv` с 9 гипотезами по увеличению выручки интернет-магазина с указанными параметрами Reach, Impact, Confidence, Effort, которые хотим проверить на А/В тестах\n",
    " - Используя фраймворки ICE и RICE приоритизируем эти гипотезы\n",
    " \n",
    "### Часть 2:\n",
    " - После проведения А/В-теста данные о заказах и визитах пользователей из обоих групп собрали в два файла `orders.csv` и `visitors.csv`\n",
    " - Проведем анализ данных, изучим статистическую значимость изменений среднего чека и количества заказов в группе В относительно группы А\n",
    " - Примем решение о результате А/В-таста и сформулируем итоговые выводы\n",
    " \n",
    " "
   ]
  },
  {
   "cell_type": "code",
   "execution_count": 1,
   "id": "7db5fd75",
   "metadata": {},
   "outputs": [],
   "source": [
    "# импортируем библиотеки, которые могут быть использованы в дальнейшем анализе\n",
    "import pandas as pd\n",
    "import numpy as np\n",
    "import os\n",
    "import matplotlib.pyplot as plt\n",
    "from scipy import stats as st\n",
    "import datetime as dt\n",
    "from pandas.plotting import register_matplotlib_converters\n",
    "import warnings\n",
    "# конвертеры, которые позволяют использовать типы pandas в matplotlib  \n",
    "register_matplotlib_converters()"
   ]
  },
  {
   "cell_type": "markdown",
   "id": "b9561010",
   "metadata": {},
   "source": [
    "# Часть 1"
   ]
  },
  {
   "cell_type": "markdown",
   "id": "9bfbee0d",
   "metadata": {},
   "source": [
    "### 1. Откроем файлы с данными и изучим общую информацию"
   ]
  },
  {
   "cell_type": "code",
   "execution_count": 2,
   "id": "ff5e3bc7",
   "metadata": {},
   "outputs": [],
   "source": [
    "# функция, которая выдает основную информацию о датафрейме\n",
    "def info_df(data):\n",
    "    display(\n",
    "          data.info(),  \n",
    "          data.isna().sum(), \n",
    "          data.duplicated().sum()\n",
    "         ) "
   ]
  },
  {
   "cell_type": "code",
   "execution_count": 3,
   "id": "97b63485",
   "metadata": {
    "scrolled": false
   },
   "outputs": [
    {
     "data": {
      "text/html": [
       "<div>\n",
       "<style scoped>\n",
       "    .dataframe tbody tr th:only-of-type {\n",
       "        vertical-align: middle;\n",
       "    }\n",
       "\n",
       "    .dataframe tbody tr th {\n",
       "        vertical-align: top;\n",
       "    }\n",
       "\n",
       "    .dataframe thead th {\n",
       "        text-align: right;\n",
       "    }\n",
       "</style>\n",
       "<table border=\"1\" class=\"dataframe\">\n",
       "  <thead>\n",
       "    <tr style=\"text-align: right;\">\n",
       "      <th></th>\n",
       "      <th>Hypothesis</th>\n",
       "      <th>Reach</th>\n",
       "      <th>Impact</th>\n",
       "      <th>Confidence</th>\n",
       "      <th>Efforts</th>\n",
       "    </tr>\n",
       "  </thead>\n",
       "  <tbody>\n",
       "    <tr>\n",
       "      <th>0</th>\n",
       "      <td>Добавить два новых канала привлечения трафика,...</td>\n",
       "      <td>3</td>\n",
       "      <td>10</td>\n",
       "      <td>8</td>\n",
       "      <td>6</td>\n",
       "    </tr>\n",
       "    <tr>\n",
       "      <th>1</th>\n",
       "      <td>Запустить собственную службу доставки, что сок...</td>\n",
       "      <td>2</td>\n",
       "      <td>5</td>\n",
       "      <td>4</td>\n",
       "      <td>10</td>\n",
       "    </tr>\n",
       "    <tr>\n",
       "      <th>2</th>\n",
       "      <td>Добавить блоки рекомендаций товаров на сайт ин...</td>\n",
       "      <td>8</td>\n",
       "      <td>3</td>\n",
       "      <td>7</td>\n",
       "      <td>3</td>\n",
       "    </tr>\n",
       "    <tr>\n",
       "      <th>3</th>\n",
       "      <td>Изменить структура категорий, что увеличит кон...</td>\n",
       "      <td>8</td>\n",
       "      <td>3</td>\n",
       "      <td>3</td>\n",
       "      <td>8</td>\n",
       "    </tr>\n",
       "    <tr>\n",
       "      <th>4</th>\n",
       "      <td>Изменить цвет фона главной страницы, чтобы уве...</td>\n",
       "      <td>3</td>\n",
       "      <td>1</td>\n",
       "      <td>1</td>\n",
       "      <td>1</td>\n",
       "    </tr>\n",
       "    <tr>\n",
       "      <th>5</th>\n",
       "      <td>Добавить страницу отзывов клиентов о магазине,...</td>\n",
       "      <td>3</td>\n",
       "      <td>2</td>\n",
       "      <td>2</td>\n",
       "      <td>3</td>\n",
       "    </tr>\n",
       "    <tr>\n",
       "      <th>6</th>\n",
       "      <td>Показать на главной странице баннеры с актуаль...</td>\n",
       "      <td>5</td>\n",
       "      <td>3</td>\n",
       "      <td>8</td>\n",
       "      <td>3</td>\n",
       "    </tr>\n",
       "    <tr>\n",
       "      <th>7</th>\n",
       "      <td>Добавить форму подписки на все основные страни...</td>\n",
       "      <td>10</td>\n",
       "      <td>7</td>\n",
       "      <td>8</td>\n",
       "      <td>5</td>\n",
       "    </tr>\n",
       "    <tr>\n",
       "      <th>8</th>\n",
       "      <td>Запустить акцию, дающую скидку на товар в день...</td>\n",
       "      <td>1</td>\n",
       "      <td>9</td>\n",
       "      <td>9</td>\n",
       "      <td>5</td>\n",
       "    </tr>\n",
       "  </tbody>\n",
       "</table>\n",
       "</div>"
      ],
      "text/plain": [
       "                                          Hypothesis  Reach  Impact  \\\n",
       "0  Добавить два новых канала привлечения трафика,...      3      10   \n",
       "1  Запустить собственную службу доставки, что сок...      2       5   \n",
       "2  Добавить блоки рекомендаций товаров на сайт ин...      8       3   \n",
       "3  Изменить структура категорий, что увеличит кон...      8       3   \n",
       "4  Изменить цвет фона главной страницы, чтобы уве...      3       1   \n",
       "5  Добавить страницу отзывов клиентов о магазине,...      3       2   \n",
       "6  Показать на главной странице баннеры с актуаль...      5       3   \n",
       "7  Добавить форму подписки на все основные страни...     10       7   \n",
       "8  Запустить акцию, дающую скидку на товар в день...      1       9   \n",
       "\n",
       "   Confidence  Efforts  \n",
       "0           8        6  \n",
       "1           4       10  \n",
       "2           7        3  \n",
       "3           3        8  \n",
       "4           1        1  \n",
       "5           2        3  \n",
       "6           8        3  \n",
       "7           8        5  \n",
       "8           9        5  "
      ]
     },
     "metadata": {},
     "output_type": "display_data"
    },
    {
     "name": "stdout",
     "output_type": "stream",
     "text": [
      "<class 'pandas.core.frame.DataFrame'>\n",
      "RangeIndex: 9 entries, 0 to 8\n",
      "Data columns (total 5 columns):\n",
      " #   Column      Non-Null Count  Dtype \n",
      "---  ------      --------------  ----- \n",
      " 0   Hypothesis  9 non-null      object\n",
      " 1   Reach       9 non-null      int64 \n",
      " 2   Impact      9 non-null      int64 \n",
      " 3   Confidence  9 non-null      int64 \n",
      " 4   Efforts     9 non-null      int64 \n",
      "dtypes: int64(4), object(1)\n",
      "memory usage: 488.0+ bytes\n"
     ]
    },
    {
     "data": {
      "text/plain": [
       "None"
      ]
     },
     "metadata": {},
     "output_type": "display_data"
    },
    {
     "data": {
      "text/plain": [
       "Hypothesis    0\n",
       "Reach         0\n",
       "Impact        0\n",
       "Confidence    0\n",
       "Efforts       0\n",
       "dtype: int64"
      ]
     },
     "metadata": {},
     "output_type": "display_data"
    },
    {
     "data": {
      "text/plain": [
       "0"
      ]
     },
     "metadata": {},
     "output_type": "display_data"
    }
   ],
   "source": [
    "# данные о гипотезах сохраним в ДФ hypothesis\n",
    "hypothesis = pd.read_csv('/Users/uliabubnova/Downloads/hypothesis.csv')\n",
    "\n",
    "# выведем ДФ\n",
    "display(hypothesis)\n",
    "\n",
    "# выведем общую информацию о ДФ, наличие пропусков и дубликатов\n",
    "info_df(hypothesis)"
   ]
  },
  {
   "cell_type": "code",
   "execution_count": 5,
   "id": "96a0e20c",
   "metadata": {
    "scrolled": false
   },
   "outputs": [],
   "source": [
    "# приведем все названия столбцов к нижнему регистру\n",
    "hypothesis.columns = hypothesis.columns.str.lower()        "
   ]
  },
  {
   "cell_type": "code",
   "execution_count": 6,
   "id": "61e730aa",
   "metadata": {
    "scrolled": true
   },
   "outputs": [
    {
     "data": {
      "text/plain": [
       "array(['Добавить два новых канала привлечения трафика, что позволит привлекать на 30% больше пользователей',\n",
       "       'Запустить собственную службу доставки, что сократит срок доставки заказов',\n",
       "       'Добавить блоки рекомендаций товаров на сайт интернет магазина, чтобы повысить конверсию и средний чек заказа',\n",
       "       'Изменить структура категорий, что увеличит конверсию, т.к. пользователи быстрее найдут нужный товар',\n",
       "       'Изменить цвет фона главной страницы, чтобы увеличить вовлеченность пользователей',\n",
       "       'Добавить страницу отзывов клиентов о магазине, что позволит увеличить количество заказов',\n",
       "       'Показать на главной странице баннеры с актуальными акциями и распродажами, чтобы увеличить конверсию',\n",
       "       'Добавить форму подписки на все основные страницы, чтобы собрать базу клиентов для email-рассылок',\n",
       "       'Запустить акцию, дающую скидку на товар в день рождения'],\n",
       "      dtype=object)"
      ]
     },
     "execution_count": 6,
     "metadata": {},
     "output_type": "execute_result"
    }
   ],
   "source": [
    "# выведем все гипотезы, чтобы видеть точные формулировки\n",
    "hypothesis['hypothesis'].unique()"
   ]
  },
  {
   "cell_type": "markdown",
   "id": "3c0ec628",
   "metadata": {},
   "source": [
    "### 2. Применим фреймворк ICE для приоритизации гипотез. Отсортируем их по убыванию приоритета."
   ]
  },
  {
   "cell_type": "code",
   "execution_count": 7,
   "id": "8f92805c",
   "metadata": {
    "scrolled": true
   },
   "outputs": [
    {
     "data": {
      "text/html": [
       "<div>\n",
       "<style scoped>\n",
       "    .dataframe tbody tr th:only-of-type {\n",
       "        vertical-align: middle;\n",
       "    }\n",
       "\n",
       "    .dataframe tbody tr th {\n",
       "        vertical-align: top;\n",
       "    }\n",
       "\n",
       "    .dataframe thead th {\n",
       "        text-align: right;\n",
       "    }\n",
       "</style>\n",
       "<table border=\"1\" class=\"dataframe\">\n",
       "  <thead>\n",
       "    <tr style=\"text-align: right;\">\n",
       "      <th></th>\n",
       "      <th>hypothesis</th>\n",
       "      <th>ICE</th>\n",
       "    </tr>\n",
       "  </thead>\n",
       "  <tbody>\n",
       "    <tr>\n",
       "      <th>8</th>\n",
       "      <td>Запустить акцию, дающую скидку на товар в день...</td>\n",
       "      <td>16.200000</td>\n",
       "    </tr>\n",
       "    <tr>\n",
       "      <th>0</th>\n",
       "      <td>Добавить два новых канала привлечения трафика,...</td>\n",
       "      <td>13.333333</td>\n",
       "    </tr>\n",
       "    <tr>\n",
       "      <th>7</th>\n",
       "      <td>Добавить форму подписки на все основные страни...</td>\n",
       "      <td>11.200000</td>\n",
       "    </tr>\n",
       "    <tr>\n",
       "      <th>6</th>\n",
       "      <td>Показать на главной странице баннеры с актуаль...</td>\n",
       "      <td>8.000000</td>\n",
       "    </tr>\n",
       "    <tr>\n",
       "      <th>2</th>\n",
       "      <td>Добавить блоки рекомендаций товаров на сайт ин...</td>\n",
       "      <td>7.000000</td>\n",
       "    </tr>\n",
       "    <tr>\n",
       "      <th>1</th>\n",
       "      <td>Запустить собственную службу доставки, что сок...</td>\n",
       "      <td>2.000000</td>\n",
       "    </tr>\n",
       "    <tr>\n",
       "      <th>5</th>\n",
       "      <td>Добавить страницу отзывов клиентов о магазине,...</td>\n",
       "      <td>1.333333</td>\n",
       "    </tr>\n",
       "    <tr>\n",
       "      <th>3</th>\n",
       "      <td>Изменить структура категорий, что увеличит кон...</td>\n",
       "      <td>1.125000</td>\n",
       "    </tr>\n",
       "    <tr>\n",
       "      <th>4</th>\n",
       "      <td>Изменить цвет фона главной страницы, чтобы уве...</td>\n",
       "      <td>1.000000</td>\n",
       "    </tr>\n",
       "  </tbody>\n",
       "</table>\n",
       "</div>"
      ],
      "text/plain": [
       "                                          hypothesis        ICE\n",
       "8  Запустить акцию, дающую скидку на товар в день...  16.200000\n",
       "0  Добавить два новых канала привлечения трафика,...  13.333333\n",
       "7  Добавить форму подписки на все основные страни...  11.200000\n",
       "6  Показать на главной странице баннеры с актуаль...   8.000000\n",
       "2  Добавить блоки рекомендаций товаров на сайт ин...   7.000000\n",
       "1  Запустить собственную службу доставки, что сок...   2.000000\n",
       "5  Добавить страницу отзывов клиентов о магазине,...   1.333333\n",
       "3  Изменить структура категорий, что увеличит кон...   1.125000\n",
       "4  Изменить цвет фона главной страницы, чтобы уве...   1.000000"
      ]
     },
     "metadata": {},
     "output_type": "display_data"
    }
   ],
   "source": [
    "# расчитаем показатель ICE и отсортируем ДФ по убывавнию\n",
    "hypothesis['ICE'] = hypothesis['impact']*hypothesis['confidence']/hypothesis['efforts']\n",
    "hypothesis_sort = hypothesis[['hypothesis','ICE']].sort_values(by='ICE', ascending = False)\n",
    "display(hypothesis_sort)"
   ]
  },
  {
   "cell_type": "markdown",
   "id": "2de4bcc1",
   "metadata": {},
   "source": [
    "Первый метод ICE выделил наиболее перспективными 3 гипотезы: 8, 0 и 7.\n",
    "Действительно при средних трудозатратах на внедрение, скидка на день рождения является сущетсвенным аргументом для совершения покупки. Неудивительно, что по ICE эта гипотиза самая приоритетная"
   ]
  },
  {
   "cell_type": "markdown",
   "id": "6eea880b",
   "metadata": {},
   "source": [
    "### 3. Применим фреймворк RICE для приоритизации гипотез. Отсортируем их по убыванию приоритета."
   ]
  },
  {
   "cell_type": "code",
   "execution_count": 8,
   "id": "3bb083cf",
   "metadata": {
    "scrolled": true
   },
   "outputs": [
    {
     "data": {
      "text/html": [
       "<div>\n",
       "<style scoped>\n",
       "    .dataframe tbody tr th:only-of-type {\n",
       "        vertical-align: middle;\n",
       "    }\n",
       "\n",
       "    .dataframe tbody tr th {\n",
       "        vertical-align: top;\n",
       "    }\n",
       "\n",
       "    .dataframe thead th {\n",
       "        text-align: right;\n",
       "    }\n",
       "</style>\n",
       "<table border=\"1\" class=\"dataframe\">\n",
       "  <thead>\n",
       "    <tr style=\"text-align: right;\">\n",
       "      <th></th>\n",
       "      <th>hypothesis</th>\n",
       "      <th>RICE</th>\n",
       "    </tr>\n",
       "  </thead>\n",
       "  <tbody>\n",
       "    <tr>\n",
       "      <th>7</th>\n",
       "      <td>Добавить форму подписки на все основные страницы, чтобы собрать базу клиентов для email-рассылок</td>\n",
       "      <td>112.0</td>\n",
       "    </tr>\n",
       "    <tr>\n",
       "      <th>2</th>\n",
       "      <td>Добавить блоки рекомендаций товаров на сайт интернет магазина, чтобы повысить конверсию и средний чек заказа</td>\n",
       "      <td>56.0</td>\n",
       "    </tr>\n",
       "    <tr>\n",
       "      <th>0</th>\n",
       "      <td>Добавить два новых канала привлечения трафика, что позволит привлекать на 30% больше пользователей</td>\n",
       "      <td>40.0</td>\n",
       "    </tr>\n",
       "    <tr>\n",
       "      <th>6</th>\n",
       "      <td>Показать на главной странице баннеры с актуальными акциями и распродажами, чтобы увеличить конверсию</td>\n",
       "      <td>40.0</td>\n",
       "    </tr>\n",
       "    <tr>\n",
       "      <th>8</th>\n",
       "      <td>Запустить акцию, дающую скидку на товар в день рождения</td>\n",
       "      <td>16.2</td>\n",
       "    </tr>\n",
       "    <tr>\n",
       "      <th>3</th>\n",
       "      <td>Изменить структура категорий, что увеличит конверсию, т.к. пользователи быстрее найдут нужный товар</td>\n",
       "      <td>9.0</td>\n",
       "    </tr>\n",
       "    <tr>\n",
       "      <th>1</th>\n",
       "      <td>Запустить собственную службу доставки, что сократит срок доставки заказов</td>\n",
       "      <td>4.0</td>\n",
       "    </tr>\n",
       "    <tr>\n",
       "      <th>5</th>\n",
       "      <td>Добавить страницу отзывов клиентов о магазине, что позволит увеличить количество заказов</td>\n",
       "      <td>4.0</td>\n",
       "    </tr>\n",
       "    <tr>\n",
       "      <th>4</th>\n",
       "      <td>Изменить цвет фона главной страницы, чтобы увеличить вовлеченность пользователей</td>\n",
       "      <td>3.0</td>\n",
       "    </tr>\n",
       "  </tbody>\n",
       "</table>\n",
       "</div>"
      ],
      "text/plain": [
       "                                                                                                     hypothesis  \\\n",
       "7  Добавить форму подписки на все основные страницы, чтобы собрать базу клиентов для email-рассылок               \n",
       "2  Добавить блоки рекомендаций товаров на сайт интернет магазина, чтобы повысить конверсию и средний чек заказа   \n",
       "0  Добавить два новых канала привлечения трафика, что позволит привлекать на 30% больше пользователей             \n",
       "6  Показать на главной странице баннеры с актуальными акциями и распродажами, чтобы увеличить конверсию           \n",
       "8  Запустить акцию, дающую скидку на товар в день рождения                                                        \n",
       "3  Изменить структура категорий, что увеличит конверсию, т.к. пользователи быстрее найдут нужный товар            \n",
       "1  Запустить собственную службу доставки, что сократит срок доставки заказов                                      \n",
       "5  Добавить страницу отзывов клиентов о магазине, что позволит увеличить количество заказов                       \n",
       "4  Изменить цвет фона главной страницы, чтобы увеличить вовлеченность пользователей                               \n",
       "\n",
       "    RICE  \n",
       "7  112.0  \n",
       "2  56.0   \n",
       "0  40.0   \n",
       "6  40.0   \n",
       "8  16.2   \n",
       "3  9.0    \n",
       "1  4.0    \n",
       "5  4.0    \n",
       "4  3.0    "
      ]
     },
     "metadata": {},
     "output_type": "display_data"
    }
   ],
   "source": [
    "# расчитаем показатель RICE и отсортируем ДФ по убывавнию\n",
    "hypothesis['RICE'] = hypothesis['reach']*hypothesis['impact']*hypothesis['confidence']/hypothesis['efforts']\n",
    "hypothesis_sort = hypothesis[['hypothesis','RICE']].sort_values(by='RICE', ascending = False)\n",
    "pd.set_option('display.max_colwidth', 0)\n",
    "display(hypothesis_sort)"
   ]
  },
  {
   "cell_type": "markdown",
   "id": "a93bf474",
   "metadata": {},
   "source": [
    "Второй метод RICE выделил перспективными 4 гипотезы, но приоритеты сменились: 7, 2, 0 и 6, так как теперь мы учитываем охват аудитории"
   ]
  },
  {
   "cell_type": "code",
   "execution_count": 9,
   "id": "59ef22e8",
   "metadata": {
    "scrolled": true
   },
   "outputs": [
    {
     "data": {
      "text/html": [
       "<div>\n",
       "<style scoped>\n",
       "    .dataframe tbody tr th:only-of-type {\n",
       "        vertical-align: middle;\n",
       "    }\n",
       "\n",
       "    .dataframe tbody tr th {\n",
       "        vertical-align: top;\n",
       "    }\n",
       "\n",
       "    .dataframe thead th {\n",
       "        text-align: right;\n",
       "    }\n",
       "</style>\n",
       "<table border=\"1\" class=\"dataframe\">\n",
       "  <thead>\n",
       "    <tr style=\"text-align: right;\">\n",
       "      <th></th>\n",
       "      <th>hypothesis</th>\n",
       "      <th>reach</th>\n",
       "      <th>impact</th>\n",
       "      <th>confidence</th>\n",
       "      <th>efforts</th>\n",
       "      <th>ICE</th>\n",
       "      <th>RICE</th>\n",
       "    </tr>\n",
       "  </thead>\n",
       "  <tbody>\n",
       "    <tr>\n",
       "      <th>7</th>\n",
       "      <td>Добавить форму подписки на все основные страницы, чтобы собрать базу клиентов для email-рассылок</td>\n",
       "      <td>10</td>\n",
       "      <td>7</td>\n",
       "      <td>8</td>\n",
       "      <td>5</td>\n",
       "      <td>11.200000</td>\n",
       "      <td>112.0</td>\n",
       "    </tr>\n",
       "    <tr>\n",
       "      <th>2</th>\n",
       "      <td>Добавить блоки рекомендаций товаров на сайт интернет магазина, чтобы повысить конверсию и средний чек заказа</td>\n",
       "      <td>8</td>\n",
       "      <td>3</td>\n",
       "      <td>7</td>\n",
       "      <td>3</td>\n",
       "      <td>7.000000</td>\n",
       "      <td>56.0</td>\n",
       "    </tr>\n",
       "    <tr>\n",
       "      <th>0</th>\n",
       "      <td>Добавить два новых канала привлечения трафика, что позволит привлекать на 30% больше пользователей</td>\n",
       "      <td>3</td>\n",
       "      <td>10</td>\n",
       "      <td>8</td>\n",
       "      <td>6</td>\n",
       "      <td>13.333333</td>\n",
       "      <td>40.0</td>\n",
       "    </tr>\n",
       "    <tr>\n",
       "      <th>6</th>\n",
       "      <td>Показать на главной странице баннеры с актуальными акциями и распродажами, чтобы увеличить конверсию</td>\n",
       "      <td>5</td>\n",
       "      <td>3</td>\n",
       "      <td>8</td>\n",
       "      <td>3</td>\n",
       "      <td>8.000000</td>\n",
       "      <td>40.0</td>\n",
       "    </tr>\n",
       "    <tr>\n",
       "      <th>8</th>\n",
       "      <td>Запустить акцию, дающую скидку на товар в день рождения</td>\n",
       "      <td>1</td>\n",
       "      <td>9</td>\n",
       "      <td>9</td>\n",
       "      <td>5</td>\n",
       "      <td>16.200000</td>\n",
       "      <td>16.2</td>\n",
       "    </tr>\n",
       "    <tr>\n",
       "      <th>3</th>\n",
       "      <td>Изменить структура категорий, что увеличит конверсию, т.к. пользователи быстрее найдут нужный товар</td>\n",
       "      <td>8</td>\n",
       "      <td>3</td>\n",
       "      <td>3</td>\n",
       "      <td>8</td>\n",
       "      <td>1.125000</td>\n",
       "      <td>9.0</td>\n",
       "    </tr>\n",
       "    <tr>\n",
       "      <th>1</th>\n",
       "      <td>Запустить собственную службу доставки, что сократит срок доставки заказов</td>\n",
       "      <td>2</td>\n",
       "      <td>5</td>\n",
       "      <td>4</td>\n",
       "      <td>10</td>\n",
       "      <td>2.000000</td>\n",
       "      <td>4.0</td>\n",
       "    </tr>\n",
       "    <tr>\n",
       "      <th>5</th>\n",
       "      <td>Добавить страницу отзывов клиентов о магазине, что позволит увеличить количество заказов</td>\n",
       "      <td>3</td>\n",
       "      <td>2</td>\n",
       "      <td>2</td>\n",
       "      <td>3</td>\n",
       "      <td>1.333333</td>\n",
       "      <td>4.0</td>\n",
       "    </tr>\n",
       "    <tr>\n",
       "      <th>4</th>\n",
       "      <td>Изменить цвет фона главной страницы, чтобы увеличить вовлеченность пользователей</td>\n",
       "      <td>3</td>\n",
       "      <td>1</td>\n",
       "      <td>1</td>\n",
       "      <td>1</td>\n",
       "      <td>1.000000</td>\n",
       "      <td>3.0</td>\n",
       "    </tr>\n",
       "  </tbody>\n",
       "</table>\n",
       "</div>"
      ],
      "text/plain": [
       "                                                                                                     hypothesis  \\\n",
       "7  Добавить форму подписки на все основные страницы, чтобы собрать базу клиентов для email-рассылок               \n",
       "2  Добавить блоки рекомендаций товаров на сайт интернет магазина, чтобы повысить конверсию и средний чек заказа   \n",
       "0  Добавить два новых канала привлечения трафика, что позволит привлекать на 30% больше пользователей             \n",
       "6  Показать на главной странице баннеры с актуальными акциями и распродажами, чтобы увеличить конверсию           \n",
       "8  Запустить акцию, дающую скидку на товар в день рождения                                                        \n",
       "3  Изменить структура категорий, что увеличит конверсию, т.к. пользователи быстрее найдут нужный товар            \n",
       "1  Запустить собственную службу доставки, что сократит срок доставки заказов                                      \n",
       "5  Добавить страницу отзывов клиентов о магазине, что позволит увеличить количество заказов                       \n",
       "4  Изменить цвет фона главной страницы, чтобы увеличить вовлеченность пользователей                               \n",
       "\n",
       "   reach  impact  confidence  efforts        ICE   RICE  \n",
       "7  10     7       8           5        11.200000  112.0  \n",
       "2  8      3       7           3        7.000000   56.0   \n",
       "0  3      10      8           6        13.333333  40.0   \n",
       "6  5      3       8           3        8.000000   40.0   \n",
       "8  1      9       9           5        16.200000  16.2   \n",
       "3  8      3       3           8        1.125000   9.0    \n",
       "1  2      5       4           10       2.000000   4.0    \n",
       "5  3      2       2           3        1.333333   4.0    \n",
       "4  3      1       1           1        1.000000   3.0    "
      ]
     },
     "metadata": {},
     "output_type": "display_data"
    }
   ],
   "source": [
    "display(hypothesis.sort_values(by='RICE', ascending = False))"
   ]
  },
  {
   "cell_type": "markdown",
   "id": "c1a2332f",
   "metadata": {},
   "source": [
    "## Вывод Часть 1:"
   ]
  },
  {
   "cell_type": "markdown",
   "id": "6c31ea60",
   "metadata": {},
   "source": [
    " - Оба фраймворка ICE и  RICE выделили примерно одинаковые наиболее приоритетные гипотезы. Но их приоретет меняется в зависимости от выбранного метода оценки, ведь при расчете RICE мы еще учитываем охват аудитории на которую повлияет нововведения\n",
    " - По методу RICE первостепенной стала гипотеза `Добавить форму подписки на все основные страницы....`, именно так мы можем охватить максимальоне количество пользователей и пополнить базу клиентов при средних вложениях. Эта гипотиза первая по приоритету.\n",
    " - Самой приоритетной гипотезой по ICE является гипотиза `Скидка именнинику...`, хоть на конкретного клиента она влияет достаточно сильно, но охват аудитории при этом совсем небольшой (RICE у нее ближе к нижней границе).\n",
    " - `Добавление блоков рекомендаций на сайт..` тоже охватывает большее количество посетителей, поэтому RICE достаточно высок, но влияние на пользователей не столь сильно. Ее нет смысла тестировать в первую очередь тоже.\n",
    " - `Два новых канала привлечения клиентов...` требует вложения значительных ресурсов и охватит дополнительно 30% потенциальных клиентов - RICE и ICE достаточно высоки, но все же не максимальны\n",
    " - `Добавить актуальные акции на сайт...` несложно, примерно половина пользователей обратят на них в нимание, но только части из них это будет полезно. Охват и влияние не очень большие, следовательно RICE средний\n",
    " \n",
    "  "
   ]
  },
  {
   "cell_type": "markdown",
   "id": "2b242c82",
   "metadata": {},
   "source": [
    "# Часть 2"
   ]
  },
  {
   "cell_type": "markdown",
   "id": "795e758f",
   "metadata": {},
   "source": [
    "### 1. Загрузим и проанализируем данные и количестве пользователей и заказах, полученные во время А/В-теста"
   ]
  },
  {
   "cell_type": "code",
   "execution_count": 10,
   "id": "ff27dac8",
   "metadata": {},
   "outputs": [
    {
     "data": {
      "text/html": [
       "<div>\n",
       "<style scoped>\n",
       "    .dataframe tbody tr th:only-of-type {\n",
       "        vertical-align: middle;\n",
       "    }\n",
       "\n",
       "    .dataframe tbody tr th {\n",
       "        vertical-align: top;\n",
       "    }\n",
       "\n",
       "    .dataframe thead th {\n",
       "        text-align: right;\n",
       "    }\n",
       "</style>\n",
       "<table border=\"1\" class=\"dataframe\">\n",
       "  <thead>\n",
       "    <tr style=\"text-align: right;\">\n",
       "      <th></th>\n",
       "      <th>transactionId</th>\n",
       "      <th>visitorId</th>\n",
       "      <th>date</th>\n",
       "      <th>revenue</th>\n",
       "      <th>group</th>\n",
       "    </tr>\n",
       "  </thead>\n",
       "  <tbody>\n",
       "    <tr>\n",
       "      <th>0</th>\n",
       "      <td>3667963787</td>\n",
       "      <td>3312258926</td>\n",
       "      <td>2019-08-15</td>\n",
       "      <td>1650</td>\n",
       "      <td>B</td>\n",
       "    </tr>\n",
       "    <tr>\n",
       "      <th>1</th>\n",
       "      <td>2804400009</td>\n",
       "      <td>3642806036</td>\n",
       "      <td>2019-08-15</td>\n",
       "      <td>730</td>\n",
       "      <td>B</td>\n",
       "    </tr>\n",
       "    <tr>\n",
       "      <th>2</th>\n",
       "      <td>2961555356</td>\n",
       "      <td>4069496402</td>\n",
       "      <td>2019-08-15</td>\n",
       "      <td>400</td>\n",
       "      <td>A</td>\n",
       "    </tr>\n",
       "    <tr>\n",
       "      <th>3</th>\n",
       "      <td>3797467345</td>\n",
       "      <td>1196621759</td>\n",
       "      <td>2019-08-15</td>\n",
       "      <td>9759</td>\n",
       "      <td>B</td>\n",
       "    </tr>\n",
       "    <tr>\n",
       "      <th>4</th>\n",
       "      <td>2282983706</td>\n",
       "      <td>2322279887</td>\n",
       "      <td>2019-08-15</td>\n",
       "      <td>2308</td>\n",
       "      <td>B</td>\n",
       "    </tr>\n",
       "  </tbody>\n",
       "</table>\n",
       "</div>"
      ],
      "text/plain": [
       "   transactionId   visitorId        date  revenue group\n",
       "0  3667963787     3312258926  2019-08-15  1650     B   \n",
       "1  2804400009     3642806036  2019-08-15  730      B   \n",
       "2  2961555356     4069496402  2019-08-15  400      A   \n",
       "3  3797467345     1196621759  2019-08-15  9759     B   \n",
       "4  2282983706     2322279887  2019-08-15  2308     B   "
      ]
     },
     "metadata": {},
     "output_type": "display_data"
    },
    {
     "name": "stdout",
     "output_type": "stream",
     "text": [
      "<class 'pandas.core.frame.DataFrame'>\n",
      "RangeIndex: 1197 entries, 0 to 1196\n",
      "Data columns (total 5 columns):\n",
      " #   Column         Non-Null Count  Dtype \n",
      "---  ------         --------------  ----- \n",
      " 0   transactionId  1197 non-null   int64 \n",
      " 1   visitorId      1197 non-null   int64 \n",
      " 2   date           1197 non-null   object\n",
      " 3   revenue        1197 non-null   int64 \n",
      " 4   group          1197 non-null   object\n",
      "dtypes: int64(3), object(2)\n",
      "memory usage: 46.9+ KB\n"
     ]
    },
    {
     "data": {
      "text/plain": [
       "None"
      ]
     },
     "metadata": {},
     "output_type": "display_data"
    },
    {
     "data": {
      "text/plain": [
       "transactionId    0\n",
       "visitorId        0\n",
       "date             0\n",
       "revenue          0\n",
       "group            0\n",
       "dtype: int64"
      ]
     },
     "metadata": {},
     "output_type": "display_data"
    },
    {
     "data": {
      "text/plain": [
       "0"
      ]
     },
     "metadata": {},
     "output_type": "display_data"
    }
   ],
   "source": [
    "# данные о заказах сохраним в ДФ orders\n",
    "try:\n",
    "    orders = pd.read_csv('/Users/uliabubnova/Downloads/orders.csv')\n",
    "except:\n",
    "    orders = pd.read_csv('https://code.s3.yandex.net/datasets/orders.csv')\n",
    "# выведем первые 5 строк ДФ\n",
    "display(orders.head())\n",
    "\n",
    "# выведем общую информацию о ДФ, наличие пропусков и дубликатов\n",
    "info_df(orders)"
   ]
  },
  {
   "cell_type": "markdown",
   "id": "d5d745f7",
   "metadata": {},
   "source": [
    "- В файле 1197 записей о заказах, дубликатов и пропусков нет\n",
    "- Привести все названия столбцов к нижнему регистру\n",
    "- Необходимо изменить тип данных столбца `date`\n",
    "- Также необходимо проверить нет ли пользователей, которые случайно попали в обе группы"
   ]
  },
  {
   "cell_type": "code",
   "execution_count": 11,
   "id": "76438baf",
   "metadata": {},
   "outputs": [
    {
     "data": {
      "text/plain": [
       "58"
      ]
     },
     "execution_count": 11,
     "metadata": {},
     "output_type": "execute_result"
    }
   ],
   "source": [
    "orders = orders.rename(columns = {'transactionId': 'transaction_id', 'visitorId': 'visitor_id'})\n",
    "\n",
    "# сгруппируем ДФ по пользователю и найдем количество уникальных групп у каждого\n",
    "orders_grouped = orders.groupby('visitor_id').agg({'group':'nunique'})\n",
    "\n",
    "# узнаем сколько пользователей имеют несколько групп одновременно\n",
    "users_id_wrong = orders_grouped.query('group >1').index\n",
    "len(users_id_wrong)"
   ]
  },
  {
   "cell_type": "markdown",
   "id": "5826ef8d",
   "metadata": {},
   "source": [
    "Таких пользователей около 0.5% - их легко можно удалить, это не повлияет на информативность данных"
   ]
  },
  {
   "cell_type": "code",
   "execution_count": 12,
   "id": "143b7002",
   "metadata": {},
   "outputs": [],
   "source": [
    "orders = orders.query('visitor_id not in @users_id_wrong')"
   ]
  },
  {
   "cell_type": "code",
   "execution_count": 13,
   "id": "e43b2de6",
   "metadata": {
    "scrolled": true
   },
   "outputs": [
    {
     "data": {
      "text/plain": [
       "(1016, 5)"
      ]
     },
     "execution_count": 13,
     "metadata": {},
     "output_type": "execute_result"
    }
   ],
   "source": [
    "orders.shape"
   ]
  },
  {
   "cell_type": "code",
   "execution_count": 14,
   "id": "08312f1c",
   "metadata": {
    "scrolled": true
   },
   "outputs": [
    {
     "data": {
      "text/html": [
       "<div>\n",
       "<style scoped>\n",
       "    .dataframe tbody tr th:only-of-type {\n",
       "        vertical-align: middle;\n",
       "    }\n",
       "\n",
       "    .dataframe tbody tr th {\n",
       "        vertical-align: top;\n",
       "    }\n",
       "\n",
       "    .dataframe thead th {\n",
       "        text-align: right;\n",
       "    }\n",
       "</style>\n",
       "<table border=\"1\" class=\"dataframe\">\n",
       "  <thead>\n",
       "    <tr style=\"text-align: right;\">\n",
       "      <th></th>\n",
       "      <th>date</th>\n",
       "      <th>group</th>\n",
       "      <th>visitors</th>\n",
       "    </tr>\n",
       "  </thead>\n",
       "  <tbody>\n",
       "    <tr>\n",
       "      <th>0</th>\n",
       "      <td>2019-08-01</td>\n",
       "      <td>A</td>\n",
       "      <td>719</td>\n",
       "    </tr>\n",
       "    <tr>\n",
       "      <th>1</th>\n",
       "      <td>2019-08-02</td>\n",
       "      <td>A</td>\n",
       "      <td>619</td>\n",
       "    </tr>\n",
       "    <tr>\n",
       "      <th>2</th>\n",
       "      <td>2019-08-03</td>\n",
       "      <td>A</td>\n",
       "      <td>507</td>\n",
       "    </tr>\n",
       "    <tr>\n",
       "      <th>3</th>\n",
       "      <td>2019-08-04</td>\n",
       "      <td>A</td>\n",
       "      <td>717</td>\n",
       "    </tr>\n",
       "    <tr>\n",
       "      <th>4</th>\n",
       "      <td>2019-08-05</td>\n",
       "      <td>A</td>\n",
       "      <td>756</td>\n",
       "    </tr>\n",
       "  </tbody>\n",
       "</table>\n",
       "</div>"
      ],
      "text/plain": [
       "         date group  visitors\n",
       "0  2019-08-01  A     719     \n",
       "1  2019-08-02  A     619     \n",
       "2  2019-08-03  A     507     \n",
       "3  2019-08-04  A     717     \n",
       "4  2019-08-05  A     756     "
      ]
     },
     "metadata": {},
     "output_type": "display_data"
    },
    {
     "name": "stdout",
     "output_type": "stream",
     "text": [
      "<class 'pandas.core.frame.DataFrame'>\n",
      "RangeIndex: 62 entries, 0 to 61\n",
      "Data columns (total 3 columns):\n",
      " #   Column    Non-Null Count  Dtype \n",
      "---  ------    --------------  ----- \n",
      " 0   date      62 non-null     object\n",
      " 1   group     62 non-null     object\n",
      " 2   visitors  62 non-null     int64 \n",
      "dtypes: int64(1), object(2)\n",
      "memory usage: 1.6+ KB\n"
     ]
    },
    {
     "data": {
      "text/plain": [
       "None"
      ]
     },
     "metadata": {},
     "output_type": "display_data"
    },
    {
     "data": {
      "text/plain": [
       "date        0\n",
       "group       0\n",
       "visitors    0\n",
       "dtype: int64"
      ]
     },
     "metadata": {},
     "output_type": "display_data"
    },
    {
     "data": {
      "text/plain": [
       "0"
      ]
     },
     "metadata": {},
     "output_type": "display_data"
    }
   ],
   "source": [
    "# данные о ежедневном количестве пользователей сохраним в ДФ visitors\n",
    "try:\n",
    "    visitors = pd.read_csv('/Users/uliabubnova/Downloads/visitors.csv')\n",
    "except:\n",
    "    visitors = pd.read_csv('https://code.s3.yandex.net/datasets/visitors.csv')\n",
    "# выведем первые 5 строк ДФ\n",
    "display(visitors.head())\n",
    "\n",
    "# выведем общую информацию о ДФ, наличие пропусков и дубликатов\n",
    "info_df(visitors)"
   ]
  },
  {
   "cell_type": "markdown",
   "id": "8f36960f",
   "metadata": {},
   "source": [
    "- В ДФ 62 строки, то есть тест проводили на протяжении месяца\n",
    "- Необходимо поменять тип данных столбца `date`\n",
    "- Стоит проверить сколько дней тестировали каждую гипотезу, чтобы убедиться, что данные за все дни сохранены, для каждой группы"
   ]
  },
  {
   "cell_type": "code",
   "execution_count": 15,
   "id": "d714063a",
   "metadata": {
    "scrolled": true
   },
   "outputs": [
    {
     "name": "stdout",
     "output_type": "stream",
     "text": [
      "['A' 'B']\n"
     ]
    },
    {
     "data": {
      "text/plain": [
       "31"
      ]
     },
     "execution_count": 15,
     "metadata": {},
     "output_type": "execute_result"
    }
   ],
   "source": [
    "print(visitors['group'].unique())\n",
    "visitors.query('group == \"A\"')['group'].count()"
   ]
  },
  {
   "cell_type": "markdown",
   "id": "4cf84161",
   "metadata": {},
   "source": [
    "Видим, что данные корректны, имеются сведения за весь месяц по обеим гипотезам\n",
    "\n",
    "Теперь изменим тип данных `date` в обоих ДФ"
   ]
  },
  {
   "cell_type": "code",
   "execution_count": 16,
   "id": "cea7666c",
   "metadata": {
    "scrolled": false
   },
   "outputs": [],
   "source": [
    "orders['date'] = orders['date'].map(lambda x: dt.datetime.strptime(x, '%Y-%m-%d'))\n",
    "\n",
    "visitors['date'] = visitors['date'].map(lambda x: dt.datetime.strptime(x, '%Y-%m-%d'))"
   ]
  },
  {
   "cell_type": "markdown",
   "id": "607d163b",
   "metadata": {},
   "source": [
    "### 2. Построим график кумулятивной выручки по группам"
   ]
  },
  {
   "cell_type": "code",
   "execution_count": 17,
   "id": "ca75a643",
   "metadata": {},
   "outputs": [
    {
     "data": {
      "image/png": "[encoded data removed]",
      "text/plain": [
       "<Figure size 1080x576 with 1 Axes>"
      ]
     },
     "metadata": {
      "needs_background": "light"
     },
     "output_type": "display_data"
    }
   ],
   "source": [
    "datesGroups = orders[['date', 'group']].drop_duplicates()\n",
    "\n",
    "ordersAggregated = datesGroups.apply(\n",
    "    lambda x: orders[\n",
    "        np.logical_and(\n",
    "            orders['date'] <= x['date'], orders['group'] == x['group']\n",
    "        )\n",
    "    ].agg(\n",
    "        {\n",
    "            'date': 'max',\n",
    "            'group': 'max',\n",
    "            'transaction_id': 'nunique',\n",
    "            'visitor_id': 'nunique',\n",
    "            'revenue': 'sum',\n",
    "        }\n",
    "    ),\n",
    "    axis=1,\n",
    ").sort_values(by=['date', 'group'])\n",
    "\n",
    "visitorsAggregated = datesGroups.apply(\n",
    "    lambda x: visitors[\n",
    "        np.logical_and(\n",
    "            visitors['date'] <= x['date'], visitors['group'] == x['group']\n",
    "        )\n",
    "    ].agg({'date': 'max', 'group': 'max', 'visitors': 'sum'}),\n",
    "    axis=1,\n",
    ").sort_values(by=['date', 'group'])\n",
    "\n",
    "cumulativeData = ordersAggregated.merge(\n",
    "    visitorsAggregated, left_on=['date', 'group'], right_on=['date', 'group']\n",
    ")\n",
    "cumulativeData.columns = [\n",
    "    'date',\n",
    "    'group',\n",
    "    'orders',\n",
    "    'buyers',\n",
    "    'revenue',\n",
    "    'visitors',\n",
    "]\n",
    "\n",
    "cumulativeRevenueA = cumulativeData[cumulativeData['group']=='A'][['date','revenue', 'orders']]\n",
    "\n",
    "# датафрейм с кумулятивным количеством заказов и кумулятивной выручкой по дням в группе B\n",
    "cumulativeRevenueB = cumulativeData[cumulativeData['group']=='B'][['date','revenue', 'orders']]\n",
    "\n",
    "\n",
    "plt.figure(figsize = (15, 8))\n",
    "# Строим график выручки группы А\n",
    "plt.plot(cumulativeRevenueA['date'], cumulativeRevenueA['revenue'], label='A')\n",
    "\n",
    "# Строим график выручки группы B\n",
    "plt.plot(cumulativeRevenueB['date'], cumulativeRevenueB['revenue'], label='B')\n",
    "plt.xticks(rotation = 45)\n",
    "plt.title('График кумулятивной выручки по группам', fontsize=18, fontweight=\"bold\")\n",
    "plt.xlabel(\"Дата\", fontsize=14, fontweight=\"bold\")\n",
    "plt.ylabel(\"Выручка\", fontsize=14, fontweight=\"bold\")\n",
    "plt.grid()\n",
    "plt.legend();"
   ]
  },
  {
   "cell_type": "markdown",
   "id": "ed204dcc",
   "metadata": {},
   "source": [
    " - 17 дней обе группы показывали прммерно одинаковые суммы выручки (выручка росла линейно день ото дня), периодически немного лидировала группа В\n",
    " - На 18 день был резкий скачок в группе В, и затем это лидерство сохранилось до конца эксперимента. Скорее всего в этот день были какие-то аномально высокие продажи (если это так, то в дальнейшем необходимо будет избавиться от аномалий и оценить результат теста без них)"
   ]
  },
  {
   "cell_type": "markdown",
   "id": "6aae94e7",
   "metadata": {},
   "source": [
    "### 3. Построим график кумулятивного среднего чека по группам. "
   ]
  },
  {
   "cell_type": "code",
   "execution_count": 18,
   "id": "ae6171b2",
   "metadata": {},
   "outputs": [
    {
     "data": {
      "image/png": "[encoded data removed]",
      "text/plain": [
       "<Figure size 1080x576 with 1 Axes>"
      ]
     },
     "metadata": {
      "needs_background": "light"
     },
     "output_type": "display_data"
    }
   ],
   "source": [
    "plt.figure(figsize = (15, 8))\n",
    "plt.plot(cumulativeRevenueA['date'], cumulativeRevenueA['revenue']/cumulativeRevenueA['orders'], label='A')\n",
    "plt.plot(cumulativeRevenueB['date'], cumulativeRevenueB['revenue']/cumulativeRevenueB['orders'], label='B')\n",
    "plt.xticks(rotation = 45)\n",
    "plt.title('График кумулятивного среднего чека по группам', fontsize=18, fontweight=\"bold\")\n",
    "plt.xlabel(\"Дата\", fontsize=14, fontweight=\"bold\")\n",
    "plt.ylabel(\"Сумма среднего чека\", fontsize=14, fontweight=\"bold\")\n",
    "plt.grid()\n",
    "plt.legend();"
   ]
  },
  {
   "cell_type": "markdown",
   "id": "5ba1a564",
   "metadata": {},
   "source": [
    "- Первые пару дней эксперимента кумулятивные средние чеки в обеих группах колебались\n",
    "- Примерно через 2 недели в группе А средний чек стабилизировался в районе 7000 руб\n",
    "- В группе В на 18 день был резкий скачок среднего чека, который сильно повлиял на метрику. Кумулятивный средний чек с 7 тр за один день резко подскачил на 50%. Это еще раз подтверждает мысль, что в этот день был сверхдорогой заказ (аномалный выброс в данных)"
   ]
  },
  {
   "cell_type": "markdown",
   "id": "018df0fa",
   "metadata": {},
   "source": [
    "### 4. Построим график относительного изменения кумулятивного среднего чека группы B к группе A"
   ]
  },
  {
   "cell_type": "code",
   "execution_count": 19,
   "id": "870df276",
   "metadata": {
    "scrolled": true
   },
   "outputs": [
    {
     "data": {
      "image/png": "[encoded data removed]",
      "text/plain": [
       "<Figure size 1080x576 with 1 Axes>"
      ]
     },
     "metadata": {
      "needs_background": "light"
     },
     "output_type": "display_data"
    }
   ],
   "source": [
    "mergedCumulativeRevenue = cumulativeRevenueA.\\\n",
    "                          merge(cumulativeRevenueB, left_on='date', right_on='date', how='left', suffixes=['A', 'B'])\n",
    "\n",
    "plt.figure(figsize = (15,8))\n",
    "plt.plot(mergedCumulativeRevenue['date'], \\\n",
    "         (mergedCumulativeRevenue['revenueB']/mergedCumulativeRevenue['ordersB'])\\\n",
    "         /(mergedCumulativeRevenue['revenueA']/mergedCumulativeRevenue['ordersA'])-1)\n",
    "\n",
    "# добавляем ось X\n",
    "plt.axhline(y=0, color='black', linestyle='--') \n",
    "plt.xticks(rotation = 45)\n",
    "plt.title('График относительного изменения кумулятивного среднего чека группы B к группе A', fontsize=14, fontweight=\"bold\")\n",
    "plt.xlabel(\"Дата\", fontsize=14, fontweight=\"bold\")\n",
    "plt.ylabel(\"Относительное изменение кумулятивного среднего чека\", fontsize=10, fontweight=\"bold\")\n",
    "plt.grid()\n",
    "plt.show();"
   ]
  },
  {
   "cell_type": "markdown",
   "id": "5639f130",
   "metadata": {},
   "source": [
    "- Кумулятивный средний чек в группе В колебался относительно кумулятивного среднего чека группы А (но на протяжении всего эксперемента все же чаще бы больше)\n",
    "- Максимальный скачок был в день, когда была аномально большая выручка"
   ]
  },
  {
   "cell_type": "markdown",
   "id": "9403a297",
   "metadata": {},
   "source": [
    "### 5. Построим график кумулятивного среднего количества заказов на посетителя по группам"
   ]
  },
  {
   "cell_type": "code",
   "execution_count": 20,
   "id": "675c1812",
   "metadata": {
    "scrolled": true
   },
   "outputs": [
    {
     "data": {
      "image/png": "[encoded data removed]",
      "text/plain": [
       "<Figure size 1080x576 with 1 Axes>"
      ]
     },
     "metadata": {
      "needs_background": "light"
     },
     "output_type": "display_data"
    }
   ],
   "source": [
    "cumulativeData['conversion'] = cumulativeData['orders']/cumulativeData['visitors']\n",
    "\n",
    "# отделяем данные по группе A\n",
    "cumulativeDataA = cumulativeData[cumulativeData['group']=='A']\n",
    "\n",
    "# отделяем данные по группе B\n",
    "cumulativeDataB = cumulativeData[cumulativeData['group']=='B']\n",
    "\n",
    "# строим графики\n",
    "plt.figure(figsize = (15, 8))\n",
    "plt.plot(cumulativeDataA['date'], cumulativeDataA['conversion'], label='A')\n",
    "plt.plot(cumulativeDataB['date'], cumulativeDataB['conversion'], label='B')\n",
    "plt.legend()\n",
    "plt.axis([dt.datetime(2019, 7, 31), dt.datetime(2019, 9, 1), 0, 0.05])\n",
    "plt.xticks(rotation = 45)\n",
    "plt.title('График кумулятивного среднего количества заказов на посетителя по группам', fontsize=14, fontweight=\"bold\")\n",
    "plt.xlabel(\"Дата\", fontsize=14, fontweight=\"bold\")\n",
    "plt.ylabel(\"Среднее количество заказов на посетителя\", fontsize=14, fontweight=\"bold\")\n",
    "plt.grid()\n",
    "plt.show();"
   ]
  },
  {
   "cell_type": "markdown",
   "id": "06b63f6b",
   "metadata": {},
   "source": [
    "- Среднее количество заказов на посетителя в группе В первые 5 дней была немного ниже, чем в группе А, но в дальнейшем оно повысиллсь на пол процента и до конца теста оставалось а районе 3%\n",
    "- Среднее количество заказов на посетителя в группе А наоборот немного снизаилось (с 3-3.5% до 2.5%) и стабилизировалось на отметке в 2.5%\n",
    "- Можно сказать, что по результатам эксмеримента в группе В среднее количество заказов на посетителя больше в сравнении с группой А"
   ]
  },
  {
   "cell_type": "markdown",
   "id": "25f48959",
   "metadata": {},
   "source": [
    "### 6. Построим график относительного изменения кумулятивного среднего количества заказов на посетителя группы B к группе A"
   ]
  },
  {
   "cell_type": "code",
   "execution_count": 21,
   "id": "ee646c9c",
   "metadata": {},
   "outputs": [
    {
     "data": {
      "image/png": "[encoded data removed]",
      "text/plain": [
       "<Figure size 1080x576 with 1 Axes>"
      ]
     },
     "metadata": {
      "needs_background": "light"
     },
     "output_type": "display_data"
    }
   ],
   "source": [
    "mergedCumulativeConversions = cumulativeDataA[['date','conversion']]\\\n",
    ".merge(cumulativeDataB[['date','conversion']], left_on='date', right_on='date', how='left', suffixes=['A', 'B'])\n",
    "\n",
    "plt.figure(figsize = (15, 8))\n",
    "\n",
    "plt.plot(mergedCumulativeConversions['date'], \\\n",
    "         mergedCumulativeConversions['conversionB']/mergedCumulativeConversions['conversionA']-1)\n",
    "\n",
    "plt.axhline(y=0, color='black', linestyle='--')\n",
    "plt.axhline(y=0.2, color='grey', linestyle='--')\n",
    "plt.axis([\"2019-07-31\", '2019-09-01', -0.5, 0.5])\n",
    "plt.xticks(rotation = 45)\n",
    "plt.title('График относительного изменения кумулятивного среднего количества заказов на посетителя группы B к группе A', fontweight=\"bold\")\n",
    "plt.xlabel(\"Дата\", fontsize=14, fontweight=\"bold\")\n",
    "plt.ylabel(\"Отношение количества заказов на посетителя группы В к группе А\", fontsize=10, fontweight=\"bold\")\n",
    "plt.show();\n"
   ]
  },
  {
   "cell_type": "markdown",
   "id": "000f3543",
   "metadata": {},
   "source": [
    "- Через 10 дней после начала эксперемента конверсия в группе В стала на 18% больше, чем в группе А\n",
    "- Далее график вибрирует, колеблется в районе 18%-20% и к окончаснию тестирования имеем положительный прирост конверсии в районе 17%-18%"
   ]
  },
  {
   "cell_type": "markdown",
   "id": "c818b360",
   "metadata": {},
   "source": [
    " ### 7. Построим точечный график количества заказов по пользователям"
   ]
  },
  {
   "cell_type": "code",
   "execution_count": 22,
   "id": "5bd5bfc4",
   "metadata": {
    "scrolled": false
   },
   "outputs": [
    {
     "data": {
      "image/png": "[encoded data removed]",
      "text/plain": [
       "<Figure size 432x288 with 1 Axes>"
      ]
     },
     "metadata": {
      "needs_background": "light"
     },
     "output_type": "display_data"
    }
   ],
   "source": [
    "ordersByUsers = (\n",
    "    orders.groupby('visitor_id', as_index=False)\n",
    "    .agg({'transaction_id': 'nunique'})\n",
    ")\n",
    "ordersByUsers.columns = ['userId', 'orders']\n",
    "\n",
    "# серия из чисел от 0 до количества наблюдений в ordersByUsers\n",
    "x_values = pd.Series(range(0, len(ordersByUsers)))\n",
    "\n",
    "plt.scatter(x_values, ordersByUsers['orders']) \n",
    "plt.title('График раcсеяния количества заказов по пользователям')\n",
    "plt.xlabel(\"Пользователи\", fontsize=14)\n",
    "plt.ylabel(\"Количество заказов\", fontsize=14)\n",
    "plt.show();"
   ]
  },
  {
   "cell_type": "markdown",
   "id": "2e10e982",
   "metadata": {},
   "source": [
    "- Большинство пользователей сделали 1 заказ за месяц\n",
    "- Небольшое количество офрмили 2 заказа\n",
    "- Буквально единицы совершили 3 покупки"
   ]
  },
  {
   "cell_type": "markdown",
   "id": "1fbb63b8",
   "metadata": {},
   "source": [
    "### 8. Посчитаем 95-й и 99-й перцентили количества заказов на пользователя."
   ]
  },
  {
   "cell_type": "code",
   "execution_count": 23,
   "id": "ccbf5258",
   "metadata": {
    "scrolled": false
   },
   "outputs": [
    {
     "data": {
      "text/plain": [
       "array([1., 2.])"
      ]
     },
     "execution_count": 23,
     "metadata": {},
     "output_type": "execute_result"
    }
   ],
   "source": [
    "np.percentile(ordersByUsers['orders'], [95, 99]) "
   ]
  },
  {
   "cell_type": "markdown",
   "id": "c9ef41e3",
   "metadata": {},
   "source": [
    "- Только 1% пользователей совершили более 1 заказа\n",
    "- Анамалией болем считать 2 и более заказов"
   ]
  },
  {
   "cell_type": "markdown",
   "id": "264ca317",
   "metadata": {},
   "source": [
    "### 9. Построим точечный график стоимостей заказов"
   ]
  },
  {
   "cell_type": "code",
   "execution_count": 24,
   "id": "55417bfd",
   "metadata": {},
   "outputs": [
    {
     "data": {
      "image/png": "[encoded data removed]",
      "text/plain": [
       "<Figure size 432x288 with 1 Axes>"
      ]
     },
     "metadata": {
      "needs_background": "light"
     },
     "output_type": "display_data"
    }
   ],
   "source": [
    "x_values = pd.Series(range(0, len(orders['revenue'])))\n",
    "\n",
    "plt.scatter(x_values, orders['revenue'])\n",
    "plt.title('График раcсеяния стоимости заказов')\n",
    "plt.xlabel(\"Пользователи\", fontsize=14)\n",
    "plt.ylabel(\"Стоимость заказа\", fontsize=14)\n",
    "plt.show();"
   ]
  },
  {
   "cell_type": "markdown",
   "id": "96bd0a98",
   "metadata": {},
   "source": [
    "- Вот и нашелся выброс, который дал скачок в кумулятивных метриках на 18-й день. Кто-то сделал один заказ на более, чем 1.2 млн руб\n",
    "- В районе 200 000 руб виден еще один небольшой выброс - он скорее всего соответствует подъему на 5-6 день"
   ]
  },
  {
   "cell_type": "code",
   "execution_count": 31,
   "id": "0da2fe92",
   "metadata": {},
   "outputs": [
    {
     "data": {
      "image/png": "[encoded data removed]",
      "text/plain": [
       "<Figure size 432x288 with 1 Axes>"
      ]
     },
     "metadata": {
      "needs_background": "light"
     },
     "output_type": "display_data"
    }
   ],
   "source": [
    "# построим график рассеяния без этих выбросов, то есть отберем заказы меньше 200 000 руб\n",
    "orders_filtred  = orders.query('revenue < 200000')\n",
    "x_values = pd.Series(range(0, len(orders_filtred['revenue'])))\n",
    "\n",
    "plt.scatter(x_values, orders_filtred['revenue'])\n",
    "plt.title('График раcсеяния стоимости заказов без выбросов')\n",
    "plt.xlabel(\"Пользователи\", fontsize=14)\n",
    "plt.ylabel(\"Стоимость заказа\", fontsize=14)\n",
    "plt.show();"
   ]
  },
  {
   "cell_type": "markdown",
   "id": "f79f3e53",
   "metadata": {},
   "source": [
    "- видим, что большинство заказов не превышали 20 000 руб\n",
    "- есть небольшое количество от 20 000 до 40 000 руб\n",
    "- и единичные заказы свыше 40 000 руб"
   ]
  },
  {
   "cell_type": "markdown",
   "id": "d4efe632",
   "metadata": {},
   "source": [
    "### 10. Посчитаем 95-й и 99-й перцентили стоимости заказов"
   ]
  },
  {
   "cell_type": "code",
   "execution_count": 26,
   "id": "5eb57a73",
   "metadata": {
    "scrolled": true
   },
   "outputs": [
    {
     "data": {
      "text/plain": [
       "array([26785., 53904.])"
      ]
     },
     "execution_count": 26,
     "metadata": {},
     "output_type": "execute_result"
    }
   ],
   "source": [
    "np.percentile(orders['revenue'], [95, 99])"
   ]
  },
  {
   "cell_type": "markdown",
   "id": "9802712d",
   "metadata": {},
   "source": [
    " - Только 5% заказов привышали по стоимости 26785 руб\n",
    " - Всего 1% заказов были дороже 53904 руб"
   ]
  },
  {
   "cell_type": "markdown",
   "id": "08e092ee",
   "metadata": {},
   "source": [
    "### 11. Посчитаем статистическую значимость различий в среднем количестве заказов на посетителя между группами по «сырым» данным"
   ]
  },
  {
   "cell_type": "markdown",
   "id": "5b09a534",
   "metadata": {},
   "source": [
    "Сформулируем две гипотезы для сырых данных:\n",
    "- Н0: Средние количество заказав на пользователя в группах А и В одинаковы\n",
    "- Н1: Средние количество заказав на пользователя в группах А и В различны\n",
    "\n",
    "Уровень статитстической значимости для этого теста установим в 5%"
   ]
  },
  {
   "cell_type": "code",
   "execution_count": 27,
   "id": "451313c2",
   "metadata": {
    "scrolled": false
   },
   "outputs": [
    {
     "name": "stdout",
     "output_type": "stream",
     "text": [
      "p-value = 0.011\n",
      "Среднее количество заказоа на посетителя группы В выше на 16%, чем у группы А\n"
     ]
    }
   ],
   "source": [
    "visitorsADaily = visitors[visitors['group'] == 'A'][['date', 'visitors']]\n",
    "visitorsADaily.columns = ['date', 'visitorsPerDateA']\n",
    "\n",
    "visitorsACummulative = visitorsADaily.apply(\n",
    "    lambda x: visitorsADaily[visitorsADaily['date'] <= x['date']].agg(\n",
    "        {'date': 'max', 'visitorsPerDateA': 'sum'}\n",
    "    ),\n",
    "    axis=1,\n",
    ")\n",
    "visitorsACummulative.columns = ['date', 'visitorsCummulativeA']\n",
    "\n",
    "visitorsBDaily = visitors[visitors['group'] == 'B'][['date', 'visitors']]\n",
    "visitorsBDaily.columns = ['date', 'visitorsPerDateB']\n",
    "\n",
    "visitorsBCummulative = visitorsBDaily.apply(\n",
    "    lambda x: visitorsBDaily[visitorsBDaily['date'] <= x['date']].agg(\n",
    "        {'date': 'max', 'visitorsPerDateB': 'sum'}\n",
    "    ),\n",
    "    axis=1,\n",
    ")\n",
    "visitorsBCummulative.columns = ['date', 'visitorsCummulativeB']\n",
    "\n",
    "ordersADaily = (\n",
    "    orders[orders['group'] == 'A'][['date', 'transaction_id', 'visitor_id', 'revenue']]\n",
    "    .groupby('date', as_index=False)\n",
    "    .agg({'transaction_id': pd.Series.nunique, 'revenue': 'sum'})\n",
    ")\n",
    "ordersADaily.columns = ['date', 'ordersPerDateA', 'revenuePerDateA']\n",
    "\n",
    "ordersACummulative = ordersADaily.apply(\n",
    "    lambda x: ordersADaily[ordersADaily['date'] <= x['date']].agg(\n",
    "        {'date': 'max', 'ordersPerDateA': 'sum', 'revenuePerDateA': 'sum'}\n",
    "    ),\n",
    "    axis=1,\n",
    ").sort_values(by=['date'])\n",
    "ordersACummulative.columns = [\n",
    "    'date',\n",
    "    'ordersCummulativeA',\n",
    "    'revenueCummulativeA',\n",
    "]\n",
    "\n",
    "ordersBDaily = (\n",
    "    orders[orders['group'] == 'B'][['date', 'transaction_id', 'visitor_id', 'revenue']]\n",
    "    .groupby('date', as_index=False)\n",
    "    .agg({'transaction_id': pd.Series.nunique, 'revenue': 'sum'})\n",
    ")\n",
    "ordersBDaily.columns = ['date', 'ordersPerDateB', 'revenuePerDateB']\n",
    "\n",
    "ordersBCummulative = ordersBDaily.apply(\n",
    "    lambda x: ordersBDaily[ordersBDaily['date'] <= x['date']].agg(\n",
    "        {'date': 'max', 'ordersPerDateB': 'sum', 'revenuePerDateB': 'sum'}\n",
    "    ),\n",
    "    axis=1,\n",
    ").sort_values(by=['date'])\n",
    "ordersBCummulative.columns = [\n",
    "    'date',\n",
    "    'ordersCummulativeB',\n",
    "    'revenueCummulativeB',\n",
    "]\n",
    "\n",
    "data = (\n",
    "    ordersADaily.merge(\n",
    "        ordersBDaily, left_on='date', right_on='date', how='left'\n",
    "    )\n",
    "    .merge(ordersACummulative, left_on='date', right_on='date', how='left')\n",
    "    .merge(ordersBCummulative, left_on='date', right_on='date', how='left')\n",
    "    .merge(visitorsADaily, left_on='date', right_on='date', how='left')\n",
    "    .merge(visitorsBDaily, left_on='date', right_on='date', how='left')\n",
    "    .merge(visitorsACummulative, left_on='date', right_on='date', how='left')\n",
    "    .merge(visitorsBCummulative, left_on='date', right_on='date', how='left')\n",
    ")\n",
    "\n",
    "ordersByUsersA = (\n",
    "    orders[orders['group'] == 'A']\n",
    "    .groupby('visitor_id', as_index=False)\n",
    "    .agg({'transaction_id': pd.Series.nunique})\n",
    ")\n",
    "ordersByUsersA.columns = ['userId', 'orders']\n",
    "\n",
    "ordersByUsersB = (\n",
    "    orders[orders['group'] == 'B']\n",
    "    .groupby('visitor_id', as_index=False)\n",
    "    .agg({'transaction_id': pd.Series.nunique})\n",
    ")\n",
    "ordersByUsersB.columns = ['userId', 'orders'] \n",
    "\n",
    "sampleA = pd.concat(\n",
    "    [\n",
    "        ordersByUsersA['orders'],\n",
    "        pd.Series(\n",
    "            0,\n",
    "            index=np.arange(\n",
    "                data['visitorsPerDateA'].sum() - len(ordersByUsersA['orders'])\n",
    "            ),\n",
    "            name='orders',\n",
    "        ),\n",
    "    ],\n",
    "    axis=0,\n",
    ")\n",
    "\n",
    "sampleB = pd.concat(\n",
    "    [\n",
    "        ordersByUsersB['orders'],\n",
    "        pd.Series(\n",
    "            0,\n",
    "            index=np.arange(\n",
    "                data['visitorsPerDateB'].sum() - len(ordersByUsersB['orders'])\n",
    "            ),\n",
    "            name='orders',\n",
    "        ),\n",
    "    ],\n",
    "    axis=0,\n",
    ")\n",
    "\n",
    "print(\"p-value = {0:.3f}\".format(st.mannwhitneyu(sampleA, sampleB)[1]))\n",
    "\n",
    "print(\"Среднее количество заказоа на посетителя группы В выше на {0:.0%}, чем у группы А\".format(sampleB.mean() / sampleA.mean() - 1))\n",
    " "
   ]
  },
  {
   "cell_type": "markdown",
   "id": "f26f6d82",
   "metadata": {},
   "source": [
    "p-value около 1%, что меньше нашего принятого допуска в 5%. Значит у нас есть все основания отвергнуть нулевую гипотезу Н0.\n",
    "\n",
    "Вывод: мы получили статистичеки значивмые различия в 16% между конверсиями групп В и А"
   ]
  },
  {
   "cell_type": "markdown",
   "id": "f8710980",
   "metadata": {},
   "source": [
    "### 12.  Посчитаем статистическую значимость различий в среднем чеке заказа между группами по «сырым» данным"
   ]
  },
  {
   "cell_type": "markdown",
   "id": "43be6650",
   "metadata": {},
   "source": [
    "Сформулируем две гипотезы для сырых данных:\n",
    "- Н0: Средние чеки в группах А и В одинаковые\n",
    "- Н1: Средние чеки в группах А и В различны\n",
    "\n",
    "Уровень статитстической значимости для этого теста установим в 5%"
   ]
  },
  {
   "cell_type": "code",
   "execution_count": 28,
   "id": "17535634",
   "metadata": {
    "scrolled": true
   },
   "outputs": [
    {
     "name": "stdout",
     "output_type": "stream",
     "text": [
      "p-value = 0.829\n",
      "Средний чек в группе В выше на 28.7%, чем в группе А\n"
     ]
    }
   ],
   "source": [
    "print('p-value = {0:.3f}'.format(st.mannwhitneyu(orders[orders['group']=='A']['revenue'], orders[orders['group']=='B']['revenue'])[1]))\n",
    "print('Средний чек в группе В выше на {0:.1%}, чем в группе А'.format(orders[orders['group']=='B']['revenue'].mean()/orders[orders['group']=='A']['revenue'].mean()-1)) \n"
   ]
  },
  {
   "cell_type": "markdown",
   "id": "bdaf780b",
   "metadata": {},
   "source": [
    "p-value во много раз превышает принятый нами порог в 5%. То есть у нас нет оснований, чтобы отвергнуть нулевую гипотезу Н0.\n",
    "\n",
    "Вывод: не смотря, на то, что средний чек в группе В больше почти на треть, но тест не показал статичтически значимых различий"
   ]
  },
  {
   "cell_type": "markdown",
   "id": "560697d1",
   "metadata": {},
   "source": [
    "### 13. Посчитаем статистическую значимость различий в среднем количестве заказов на посетителя между группами по «очищенным» данным."
   ]
  },
  {
   "cell_type": "markdown",
   "id": "c379ab08",
   "metadata": {},
   "source": [
    "Чтобы очистить данные, избавимся от аномалий.\n",
    "Так как мы знаем, что не более 1% пользователей сделали больше одного заказа и эти заказы в 95% были дешевле 26700 руб, а 99% были дешевле 54000 руб.\n",
    "\n",
    "Поэтому примем за аномальные выбросы следующие значения:\n",
    "- 2 и более заказа\n",
    "- чек заказа больше 50 000 руб"
   ]
  },
  {
   "cell_type": "markdown",
   "id": "3525b6bb",
   "metadata": {},
   "source": [
    "Сформулируем две гипотезы для очищенных данных:\n",
    "\n",
    "- Н0: При очищенных данных средние количества заказав на пользователя в группах А и В одинаковы \n",
    "- Н1: При очищенных данных средние количества заказав на пользователя в группах А и В различны\n",
    "\n",
    "Уровень статитстической значимости для этого теста установим в 5%"
   ]
  },
  {
   "cell_type": "code",
   "execution_count": 29,
   "id": "000f33b9",
   "metadata": {
    "scrolled": true
   },
   "outputs": [
    {
     "name": "stdout",
     "output_type": "stream",
     "text": [
      "p-value = 0.00728\n",
      "Среднее количество заказоа на посетителя группы В выше на 19%, чем у группы А\n"
     ]
    }
   ],
   "source": [
    "usersWithManyOrders = pd.concat(\n",
    "    [\n",
    "        ordersByUsersA[ordersByUsersA['orders'] > 1]['userId'],\n",
    "        ordersByUsersB[ordersByUsersB['orders'] > 1]['userId'],\n",
    "    ],\n",
    "    axis=0,\n",
    ")\n",
    "usersWithExpensiveOrders = orders[orders['revenue'] > 50000]['visitor_id']\n",
    "abnormalUsers = (\n",
    "    pd.concat([usersWithManyOrders, usersWithExpensiveOrders], axis=0)\n",
    "    .drop_duplicates()\n",
    "    .sort_values()\n",
    ")\n",
    "\n",
    "sampleAFiltered = pd.concat(\n",
    "    [\n",
    "        ordersByUsersA[\n",
    "            np.logical_not(ordersByUsersA['userId'].isin(abnormalUsers))\n",
    "        ]['orders'],\n",
    "        pd.Series(\n",
    "            0,\n",
    "            index=np.arange(\n",
    "                data['visitorsPerDateA'].sum() - len(ordersByUsersA['orders'])\n",
    "            ),\n",
    "            name='orders',\n",
    "        ),\n",
    "    ],\n",
    "    axis=0,\n",
    ")\n",
    "\n",
    "sampleBFiltered = pd.concat(\n",
    "    [\n",
    "        ordersByUsersB[\n",
    "            np.logical_not(ordersByUsersB['userId'].isin(abnormalUsers))\n",
    "        ]['orders'],\n",
    "        pd.Series(\n",
    "            0,\n",
    "            index=np.arange(\n",
    "                data['visitorsPerDateB'].sum() - len(ordersByUsersB['orders'])\n",
    "            ),\n",
    "            name='orders',\n",
    "        ),\n",
    "    ],\n",
    "    axis=0,\n",
    ") \n",
    "\n",
    "print('p-value = {0:.5f}'.format(st.mannwhitneyu(sampleAFiltered, sampleBFiltered)[1]))\n",
    "print('Среднее количество заказоа на посетителя группы В выше на {0:.0%}, чем у группы А'.format(sampleBFiltered.mean()/sampleAFiltered.mean()-1)) "
   ]
  },
  {
   "cell_type": "markdown",
   "id": "99b16e8a",
   "metadata": {},
   "source": [
    "На очищенных данных опять получили статистически значимые различия в среднем количестве заказов на посетителя. Есть все основания отвергнуть нулевую гипотезу Н0."
   ]
  },
  {
   "cell_type": "markdown",
   "id": "dd67f354",
   "metadata": {},
   "source": [
    "### 14.  Посчитаем статистическую значимость различий в среднем чеке заказа между группами по «очищенным» данным"
   ]
  },
  {
   "cell_type": "markdown",
   "id": "41337bfc",
   "metadata": {},
   "source": [
    "Сформулируем две гипотезы для очищенных данных:\n",
    "\n",
    "- Н0: Средние чеки в группах А и В при очищенных данных одинаковые\n",
    "- Н1: Средние чеки в группах А и В при очищенных данных различны\n",
    "\n",
    "Уровень статитстической значимости для этого теста установим в 5%"
   ]
  },
  {
   "cell_type": "code",
   "execution_count": 30,
   "id": "7b540c51",
   "metadata": {},
   "outputs": [
    {
     "name": "stdout",
     "output_type": "stream",
     "text": [
      "p-value = 0.964\n",
      "Средний чек в группе В выше на 2.8%, чем в группе А\n"
     ]
    }
   ],
   "source": [
    "print(\n",
    "    'p-value = {0:.3f}'.format(\n",
    "        st.mannwhitneyu(\n",
    "            orders[\n",
    "                np.logical_and(\n",
    "                    orders['group'] == 'A',\n",
    "                    np.logical_not(orders['visitor_id'].isin(abnormalUsers)),\n",
    "                )\n",
    "            ]['revenue'],\n",
    "            orders[\n",
    "                np.logical_and(\n",
    "                    orders['group'] == 'B',\n",
    "                    np.logical_not(orders['visitor_id'].isin(abnormalUsers)),\n",
    "                )\n",
    "            ]['revenue'],\n",
    "        )[1]\n",
    "    )\n",
    ")\n",
    "\n",
    "print(\n",
    "    \"Средний чек в группе В выше на {0:.1%}, чем в группе А\".format(\n",
    "        orders[\n",
    "            np.logical_and(\n",
    "                orders['group'] == 'B',\n",
    "                np.logical_not(orders['visitor_id'].isin(abnormalUsers)),\n",
    "            )\n",
    "        ]['revenue'].mean()\n",
    "        / orders[\n",
    "            np.logical_and(\n",
    "                orders['group'] == 'A',\n",
    "                np.logical_not(orders['visitor_id'].isin(abnormalUsers)),\n",
    "            )\n",
    "        ]['revenue'].mean()\n",
    "        - 1\n",
    "    )\n",
    ") "
   ]
  },
  {
   "cell_type": "markdown",
   "id": "a7d93033",
   "metadata": {},
   "source": [
    "А вот разность средних чеков опять не подтвердилась, оставляем Н0. Средний чек группы В при удалении выбросов всего на 2.8% больше."
   ]
  },
  {
   "cell_type": "markdown",
   "id": "83c2a7f3",
   "metadata": {},
   "source": [
    "# Выводы:\n",
    "\n",
    "- График различия среднего чека колеблется, есть момент резкого скачка, котрый указывает на возможное наличие аномалий в данных.\n",
    "- График различия среднее количества заказов на посетителя между группами А и В показывает, что в группе В этот показатель выше на протяжение всего теста и стабилизировлся на уровне 18-19%\n",
    "- Мы получили статистически значимое различие по среднему количеству заказов на посетителя между группами А и В как по сырым, так и очищенным данным. Среднее количество заказоа на посетителя группы В больше на 19%\n",
    "- Статистически значимого различия по среднему чеку между группами А и В нет как с аномалиями, так и без них. После удаления выбросовов, средний чек групы В больше всего на 2.8%\n",
    "\n",
    "## Итоговое решение:\n",
    "Тест останавливаем и считаем его успешным. Гипотеза В позволила увеличить среднее количество заказоа на посетителя примерно на 19%, при сохранение суммы среднего чека, как в группе А"
   ]
  },
  {
   "cell_type": "code",
   "execution_count": null,
   "id": "359d6d7a",
   "metadata": {},
   "outputs": [],
   "source": []
  }
 ],
 "metadata": {
  "ExecuteTimeLog": [
   {
    "duration": 1218,
    "start_time": "2022-12-21T15:33:17.562Z"
   },
   {
    "duration": 3,
    "start_time": "2022-12-21T15:33:18.782Z"
   },
   {
    "duration": 111,
    "start_time": "2022-12-21T15:33:18.787Z"
   },
   {
    "duration": 2,
    "start_time": "2022-12-21T15:33:18.900Z"
   },
   {
    "duration": 6,
    "start_time": "2022-12-21T15:33:18.906Z"
   },
   {
    "duration": 10,
    "start_time": "2022-12-21T15:33:18.914Z"
   },
   {
    "duration": 12,
    "start_time": "2022-12-21T15:33:18.926Z"
   },
   {
    "duration": 9,
    "start_time": "2022-12-21T15:33:18.940Z"
   },
   {
    "duration": 16,
    "start_time": "2022-12-21T15:33:18.951Z"
   },
   {
    "duration": 111,
    "start_time": "2022-12-21T15:33:18.969Z"
   },
   {
    "duration": 12,
    "start_time": "2022-12-21T15:33:19.082Z"
   },
   {
    "duration": 6,
    "start_time": "2022-12-21T15:33:19.096Z"
   },
   {
    "duration": 80,
    "start_time": "2022-12-21T15:33:19.104Z"
   },
   {
    "duration": 10,
    "start_time": "2022-12-21T15:33:19.187Z"
   },
   {
    "duration": 18,
    "start_time": "2022-12-21T15:33:19.199Z"
   },
   {
    "duration": 14,
    "start_time": "2022-12-21T15:33:19.219Z"
   },
   {
    "duration": 588,
    "start_time": "2022-12-21T15:33:19.235Z"
   },
   {
    "duration": 250,
    "start_time": "2022-12-21T15:33:19.824Z"
   },
   {
    "duration": 388,
    "start_time": "2022-12-21T15:33:20.077Z"
   },
   {
    "duration": 242,
    "start_time": "2022-12-21T15:33:20.468Z"
   },
   {
    "duration": 349,
    "start_time": "2022-12-21T15:33:20.712Z"
   },
   {
    "duration": 140,
    "start_time": "2022-12-21T15:33:21.062Z"
   },
   {
    "duration": 5,
    "start_time": "2022-12-21T15:33:21.203Z"
   },
   {
    "duration": 142,
    "start_time": "2022-12-21T15:33:21.210Z"
   },
   {
    "duration": 4,
    "start_time": "2022-12-21T15:33:21.354Z"
   },
   {
    "duration": 373,
    "start_time": "2022-12-21T15:33:21.360Z"
   },
   {
    "duration": 10,
    "start_time": "2022-12-21T15:33:21.735Z"
   },
   {
    "duration": 35,
    "start_time": "2022-12-21T15:33:21.747Z"
   },
   {
    "duration": 39,
    "start_time": "2022-12-21T15:33:21.784Z"
   },
   {
    "duration": 1112,
    "start_time": "2022-12-21T15:35:31.005Z"
   },
   {
    "duration": 73,
    "start_time": "2022-12-21T15:36:00.250Z"
   },
   {
    "duration": 40,
    "start_time": "2022-12-21T15:36:13.993Z"
   },
   {
    "duration": 46,
    "start_time": "2022-12-21T15:36:58.732Z"
   },
   {
    "duration": 78,
    "start_time": "2022-12-21T15:38:18.183Z"
   },
   {
    "duration": 39,
    "start_time": "2022-12-21T15:38:25.784Z"
   },
   {
    "duration": 89,
    "start_time": "2022-12-21T15:38:33.607Z"
   },
   {
    "duration": 82,
    "start_time": "2022-12-21T15:38:59.757Z"
   },
   {
    "duration": 72,
    "start_time": "2022-12-21T15:43:19.252Z"
   },
   {
    "duration": 40,
    "start_time": "2022-12-21T15:43:42.117Z"
   },
   {
    "duration": 54,
    "start_time": "2022-12-21T15:50:03.605Z"
   },
   {
    "duration": 51,
    "start_time": "2022-12-21T15:50:20.404Z"
   },
   {
    "duration": 73,
    "start_time": "2022-12-21T15:50:37.444Z"
   },
   {
    "duration": 14,
    "start_time": "2022-12-21T15:50:41.587Z"
   },
   {
    "duration": 46,
    "start_time": "2022-12-21T15:51:19.748Z"
   },
   {
    "duration": 72,
    "start_time": "2022-12-21T15:51:56.565Z"
   },
   {
    "duration": 29,
    "start_time": "2022-12-21T15:52:01.107Z"
   },
   {
    "duration": 8,
    "start_time": "2022-12-21T15:52:03.087Z"
   },
   {
    "duration": 1156,
    "start_time": "2022-12-21T15:52:19.023Z"
   },
   {
    "duration": 30,
    "start_time": "2022-12-21T15:52:26.638Z"
   },
   {
    "duration": 11,
    "start_time": "2022-12-21T15:52:28.671Z"
   },
   {
    "duration": 28,
    "start_time": "2022-12-21T15:52:44.703Z"
   },
   {
    "duration": 8,
    "start_time": "2022-12-21T15:52:46.638Z"
   },
   {
    "duration": 29,
    "start_time": "2022-12-21T16:00:07.211Z"
   },
   {
    "duration": 8,
    "start_time": "2022-12-21T16:00:09.884Z"
   },
   {
    "duration": 41,
    "start_time": "2022-12-21T16:00:29.025Z"
   },
   {
    "duration": 37,
    "start_time": "2022-12-21T16:04:42.896Z"
   },
   {
    "duration": 27,
    "start_time": "2022-12-21T16:05:03.133Z"
   },
   {
    "duration": 62,
    "start_time": "2022-12-21T16:05:53.226Z"
   },
   {
    "duration": 8,
    "start_time": "2022-12-21T16:05:55.714Z"
   },
   {
    "duration": 1133,
    "start_time": "2022-12-21T16:06:19.644Z"
   },
   {
    "duration": 3,
    "start_time": "2022-12-21T16:06:20.779Z"
   },
   {
    "duration": 86,
    "start_time": "2022-12-21T16:06:20.783Z"
   },
   {
    "duration": 2,
    "start_time": "2022-12-21T16:06:20.871Z"
   },
   {
    "duration": 24,
    "start_time": "2022-12-21T16:06:20.875Z"
   },
   {
    "duration": 17,
    "start_time": "2022-12-21T16:06:20.901Z"
   },
   {
    "duration": 22,
    "start_time": "2022-12-21T16:06:20.920Z"
   },
   {
    "duration": 17,
    "start_time": "2022-12-21T16:06:20.944Z"
   },
   {
    "duration": 17,
    "start_time": "2022-12-21T16:06:20.963Z"
   },
   {
    "duration": 72,
    "start_time": "2022-12-21T16:06:20.983Z"
   },
   {
    "duration": 9,
    "start_time": "2022-12-21T16:06:21.057Z"
   },
   {
    "duration": 23,
    "start_time": "2022-12-21T16:06:21.068Z"
   },
   {
    "duration": 55,
    "start_time": "2022-12-21T16:06:21.093Z"
   },
   {
    "duration": 11,
    "start_time": "2022-12-21T16:06:21.149Z"
   },
   {
    "duration": 20,
    "start_time": "2022-12-21T16:06:21.161Z"
   },
   {
    "duration": 29,
    "start_time": "2022-12-21T16:06:21.183Z"
   },
   {
    "duration": 603,
    "start_time": "2022-12-21T16:06:21.214Z"
   },
   {
    "duration": 249,
    "start_time": "2022-12-21T16:06:21.823Z"
   },
   {
    "duration": 380,
    "start_time": "2022-12-21T16:06:22.074Z"
   },
   {
    "duration": 240,
    "start_time": "2022-12-21T16:06:22.457Z"
   },
   {
    "duration": 367,
    "start_time": "2022-12-21T16:06:22.698Z"
   },
   {
    "duration": 146,
    "start_time": "2022-12-21T16:06:23.067Z"
   },
   {
    "duration": 5,
    "start_time": "2022-12-21T16:06:23.221Z"
   },
   {
    "duration": 136,
    "start_time": "2022-12-21T16:06:23.228Z"
   },
   {
    "duration": 6,
    "start_time": "2022-12-21T16:06:23.366Z"
   },
   {
    "duration": 387,
    "start_time": "2022-12-21T16:06:23.374Z"
   },
   {
    "duration": 11,
    "start_time": "2022-12-21T16:06:23.763Z"
   },
   {
    "duration": 49,
    "start_time": "2022-12-21T16:06:23.777Z"
   },
   {
    "duration": 21,
    "start_time": "2022-12-21T16:06:23.828Z"
   },
   {
    "duration": 78,
    "start_time": "2022-12-22T07:59:00.942Z"
   },
   {
    "duration": 1521,
    "start_time": "2022-12-22T07:59:12.125Z"
   },
   {
    "duration": 3,
    "start_time": "2022-12-22T07:59:13.649Z"
   },
   {
    "duration": 115,
    "start_time": "2022-12-22T07:59:13.653Z"
   },
   {
    "duration": 3,
    "start_time": "2022-12-22T07:59:13.770Z"
   },
   {
    "duration": 31,
    "start_time": "2022-12-22T07:59:13.774Z"
   },
   {
    "duration": 37,
    "start_time": "2022-12-22T07:59:13.807Z"
   },
   {
    "duration": 39,
    "start_time": "2022-12-22T07:59:13.846Z"
   },
   {
    "duration": 9,
    "start_time": "2022-12-22T07:59:13.886Z"
   },
   {
    "duration": 29,
    "start_time": "2022-12-22T07:59:13.897Z"
   },
   {
    "duration": 198,
    "start_time": "2022-12-22T07:59:13.929Z"
   },
   {
    "duration": 10,
    "start_time": "2022-12-22T07:59:14.129Z"
   },
   {
    "duration": 24,
    "start_time": "2022-12-22T07:59:14.140Z"
   },
   {
    "duration": 134,
    "start_time": "2022-12-22T07:59:14.165Z"
   },
   {
    "duration": 10,
    "start_time": "2022-12-22T07:59:14.301Z"
   },
   {
    "duration": 13,
    "start_time": "2022-12-22T07:59:14.313Z"
   },
   {
    "duration": 20,
    "start_time": "2022-12-22T07:59:14.327Z"
   },
   {
    "duration": 603,
    "start_time": "2022-12-22T07:59:14.349Z"
   },
   {
    "duration": 283,
    "start_time": "2022-12-22T07:59:14.953Z"
   },
   {
    "duration": 406,
    "start_time": "2022-12-22T07:59:15.240Z"
   },
   {
    "duration": 267,
    "start_time": "2022-12-22T07:59:15.648Z"
   },
   {
    "duration": 344,
    "start_time": "2022-12-22T07:59:15.917Z"
   },
   {
    "duration": 146,
    "start_time": "2022-12-22T07:59:16.262Z"
   },
   {
    "duration": 5,
    "start_time": "2022-12-22T07:59:16.412Z"
   },
   {
    "duration": 130,
    "start_time": "2022-12-22T07:59:16.419Z"
   },
   {
    "duration": 6,
    "start_time": "2022-12-22T07:59:16.550Z"
   },
   {
    "duration": 349,
    "start_time": "2022-12-22T07:59:16.558Z"
   },
   {
    "duration": 12,
    "start_time": "2022-12-22T07:59:16.909Z"
   },
   {
    "duration": 38,
    "start_time": "2022-12-22T07:59:16.925Z"
   },
   {
    "duration": 16,
    "start_time": "2022-12-22T07:59:16.965Z"
   },
   {
    "duration": 16,
    "start_time": "2022-12-22T08:00:49.453Z"
   },
   {
    "duration": 90,
    "start_time": "2022-12-22T08:12:57.766Z"
   },
   {
    "duration": 4,
    "start_time": "2022-12-22T08:13:05.512Z"
   },
   {
    "duration": 518,
    "start_time": "2022-12-22T08:30:24.302Z"
   },
   {
    "duration": 449,
    "start_time": "2022-12-22T08:30:43.023Z"
   },
   {
    "duration": 449,
    "start_time": "2022-12-22T08:31:36.057Z"
   },
   {
    "duration": 457,
    "start_time": "2022-12-22T08:32:22.149Z"
   },
   {
    "duration": 491,
    "start_time": "2022-12-22T08:32:30.430Z"
   },
   {
    "duration": 455,
    "start_time": "2022-12-22T08:32:40.799Z"
   },
   {
    "duration": 516,
    "start_time": "2022-12-22T08:33:50.364Z"
   },
   {
    "duration": 497,
    "start_time": "2022-12-22T08:35:14.355Z"
   },
   {
    "duration": 459,
    "start_time": "2022-12-22T08:35:28.005Z"
   },
   {
    "duration": 472,
    "start_time": "2022-12-22T08:35:54.281Z"
   },
   {
    "duration": 216,
    "start_time": "2022-12-22T08:37:15.788Z"
   },
   {
    "duration": 4,
    "start_time": "2022-12-22T08:51:59.359Z"
   },
   {
    "duration": 385,
    "start_time": "2022-12-22T08:52:07.494Z"
   },
   {
    "duration": 328,
    "start_time": "2022-12-22T08:52:16.406Z"
   },
   {
    "duration": 380,
    "start_time": "2022-12-22T08:52:31.425Z"
   },
   {
    "duration": 334,
    "start_time": "2022-12-22T08:52:37.686Z"
   },
   {
    "duration": 292,
    "start_time": "2022-12-22T08:52:44.377Z"
   },
   {
    "duration": 288,
    "start_time": "2022-12-22T08:52:52.543Z"
   },
   {
    "duration": 310,
    "start_time": "2022-12-22T08:53:06.929Z"
   },
   {
    "duration": 216,
    "start_time": "2022-12-22T08:54:47.441Z"
   },
   {
    "duration": 226,
    "start_time": "2022-12-22T08:54:56.563Z"
   },
   {
    "duration": 366,
    "start_time": "2022-12-22T08:59:10.387Z"
   },
   {
    "duration": 151,
    "start_time": "2022-12-22T09:00:24.976Z"
   },
   {
    "duration": 215,
    "start_time": "2022-12-22T09:00:38.244Z"
   },
   {
    "duration": 133,
    "start_time": "2022-12-22T09:04:31.856Z"
   },
   {
    "duration": 127,
    "start_time": "2022-12-22T09:04:48.507Z"
   },
   {
    "duration": 129,
    "start_time": "2022-12-22T09:08:08.849Z"
   },
   {
    "duration": 78,
    "start_time": "2022-12-22T09:24:28.447Z"
   },
   {
    "duration": 1132,
    "start_time": "2022-12-22T09:24:50.836Z"
   },
   {
    "duration": 6,
    "start_time": "2022-12-22T09:24:51.970Z"
   },
   {
    "duration": 110,
    "start_time": "2022-12-22T09:24:51.977Z"
   },
   {
    "duration": 2,
    "start_time": "2022-12-22T09:24:52.089Z"
   },
   {
    "duration": 22,
    "start_time": "2022-12-22T09:24:52.093Z"
   },
   {
    "duration": 23,
    "start_time": "2022-12-22T09:24:52.117Z"
   },
   {
    "duration": 16,
    "start_time": "2022-12-22T09:24:52.141Z"
   },
   {
    "duration": 11,
    "start_time": "2022-12-22T09:24:52.158Z"
   },
   {
    "duration": 13,
    "start_time": "2022-12-22T09:24:52.171Z"
   },
   {
    "duration": 169,
    "start_time": "2022-12-22T09:24:52.186Z"
   },
   {
    "duration": 9,
    "start_time": "2022-12-22T09:24:52.357Z"
   },
   {
    "duration": 10,
    "start_time": "2022-12-22T09:24:52.368Z"
   },
   {
    "duration": 9,
    "start_time": "2022-12-22T09:24:52.380Z"
   },
   {
    "duration": 112,
    "start_time": "2022-12-22T09:24:52.390Z"
   },
   {
    "duration": 6,
    "start_time": "2022-12-22T09:24:52.503Z"
   },
   {
    "duration": 32,
    "start_time": "2022-12-22T09:24:52.511Z"
   },
   {
    "duration": 637,
    "start_time": "2022-12-22T09:24:52.547Z"
   },
   {
    "duration": 240,
    "start_time": "2022-12-22T09:24:53.186Z"
   },
   {
    "duration": 336,
    "start_time": "2022-12-22T09:24:53.428Z"
   },
   {
    "duration": 265,
    "start_time": "2022-12-22T09:24:53.766Z"
   },
   {
    "duration": 351,
    "start_time": "2022-12-22T09:24:54.033Z"
   },
   {
    "duration": 164,
    "start_time": "2022-12-22T09:24:54.385Z"
   },
   {
    "duration": 5,
    "start_time": "2022-12-22T09:24:54.550Z"
   },
   {
    "duration": 160,
    "start_time": "2022-12-22T09:24:54.556Z"
   },
   {
    "duration": 127,
    "start_time": "2022-12-22T09:24:54.720Z"
   },
   {
    "duration": 5,
    "start_time": "2022-12-22T09:24:54.849Z"
   },
   {
    "duration": 426,
    "start_time": "2022-12-22T09:24:54.855Z"
   },
   {
    "duration": 10,
    "start_time": "2022-12-22T09:24:55.285Z"
   },
   {
    "duration": 47,
    "start_time": "2022-12-22T09:24:55.297Z"
   },
   {
    "duration": 12,
    "start_time": "2022-12-22T09:24:55.345Z"
   },
   {
    "duration": 120,
    "start_time": "2022-12-22T09:30:17.749Z"
   },
   {
    "duration": 50,
    "start_time": "2022-12-24T07:29:35.393Z"
   }
  ],
  "kernelspec": {
   "display_name": "Python 3 (ipykernel)",
   "language": "python",
   "name": "python3"
  },
  "language_info": {
   "codemirror_mode": {
    "name": "ipython",
    "version": 3
   },
   "file_extension": ".py",
   "mimetype": "text/x-python",
   "name": "python",
   "nbconvert_exporter": "python",
   "pygments_lexer": "ipython3",
   "version": "3.9.12"
  },
  "toc": {
   "base_numbering": 1,
   "nav_menu": {},
   "number_sections": true,
   "sideBar": true,
   "skip_h1_title": true,
   "title_cell": "Table of Contents",
   "title_sidebar": "Contents",
   "toc_cell": false,
   "toc_position": {},
   "toc_section_display": true,
   "toc_window_display": false
  }
 },
 "nbformat": 4,
 "nbformat_minor": 5
}
